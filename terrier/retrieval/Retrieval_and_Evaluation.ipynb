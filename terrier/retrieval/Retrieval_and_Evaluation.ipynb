{
 "cells": [
  {
   "cell_type": "markdown",
   "metadata": {
    "id": "OrfB2Z3LfT33"
   },
   "source": [
    "# Preparation"
   ]
  },
  {
   "cell_type": "code",
   "execution_count": 1,
   "metadata": {
    "colab": {
     "base_uri": "https://localhost:8080/",
     "height": 765
    },
    "id": "0m5M7WiZfNfk",
    "outputId": "7999e253-721f-4eaa-d1eb-cd9ca1ee8c82"
   },
   "outputs": [
    {
     "name": "stdout",
     "output_type": "stream",
     "text": [
      "Collecting python-terrier\n",
      "  Using cached python-terrier-0.6.0.tar.gz (86 kB)\n",
      "Requirement already satisfied: numpy in /Users/alp/opt/anaconda3/lib/python3.8/site-packages (from python-terrier) (1.20.2)\n",
      "Collecting pandas>=0.25.0\n",
      "  Downloading pandas-1.2.5-cp38-cp38-macosx_10_9_x86_64.whl (10.5 MB)\n",
      "\u001B[K     |████████████████████████████████| 10.5 MB 1.0 MB/s eta 0:00:01\n",
      "\u001B[?25hCollecting wget\n",
      "  Using cached wget-3.2.zip (10 kB)\n",
      "Requirement already satisfied: tqdm in /Users/alp/opt/anaconda3/lib/python3.8/site-packages (from python-terrier) (4.61.1)\n",
      "Collecting pyjnius~=1.3.0\n",
      "  Downloading pyjnius-1.3.0-cp38-cp38-macosx_10_13_x86_64.whl (284 kB)\n",
      "\u001B[K     |████████████████████████████████| 284 kB 798 kB/s eta 0:00:01\n",
      "\u001B[?25hCollecting matchpy\n",
      "  Using cached matchpy-0.5.4-py3-none-any.whl (69 kB)\n",
      "Collecting sklearn\n",
      "  Using cached sklearn-0.0.tar.gz (1.1 kB)\n",
      "Collecting deprecation\n",
      "  Using cached deprecation-2.1.0-py2.py3-none-any.whl (11 kB)\n",
      "Collecting chest\n",
      "  Using cached chest-0.2.3.tar.gz (9.6 kB)\n",
      "Collecting scipy\n",
      "  Downloading scipy-1.7.0-cp38-cp38-macosx_10_9_x86_64.whl (31.9 MB)\n",
      "\u001B[K     |████████████████████████████████| 31.9 MB 806 kB/s eta 0:00:01\n",
      "\u001B[?25hRequirement already satisfied: requests in /Users/alp/opt/anaconda3/lib/python3.8/site-packages (from python-terrier) (2.25.1)\n",
      "Collecting joblib\n",
      "  Using cached joblib-1.0.1-py3-none-any.whl (303 kB)\n",
      "Collecting nptyping\n",
      "  Using cached nptyping-1.4.2-py3-none-any.whl (31 kB)\n",
      "Collecting more_itertools\n",
      "  Using cached more_itertools-8.8.0-py3-none-any.whl (48 kB)\n",
      "Collecting ir_datasets>=0.3.2\n",
      "  Using cached ir_datasets-0.4.0-py3-none-any.whl (206 kB)\n",
      "Requirement already satisfied: jinja2 in /Users/alp/.local/lib/python3.8/site-packages (from python-terrier) (3.0.1)\n",
      "Collecting statsmodels\n",
      "  Downloading statsmodels-0.12.2-cp38-cp38-macosx_10_15_x86_64.whl (9.5 MB)\n",
      "\u001B[K     |████████████████████████████████| 9.5 MB 938 kB/s eta 0:00:01\n",
      "\u001B[?25hCollecting ir_measures>=0.1.4\n",
      "  Using cached ir_measures-0.1.4.tar.gz (32 kB)\n",
      "Requirement already satisfied: beautifulsoup4>=4.4.1 in /Users/alp/opt/anaconda3/lib/python3.8/site-packages (from ir_datasets>=0.3.2->python-terrier) (4.9.3)\n",
      "Collecting trec-car-tools>=2.5.4\n",
      "  Using cached trec_car_tools-2.5.4-py3-none-any.whl (8.1 kB)\n",
      "Collecting ijson>=3.1.3\n",
      "  Downloading ijson-3.1.4-cp38-cp38-macosx_10_9_x86_64.whl (52 kB)\n",
      "\u001B[K     |████████████████████████████████| 52 kB 665 kB/s eta 0:00:01\n",
      "\u001B[?25hCollecting warc3-wet-clueweb09>=0.2.5\n",
      "  Using cached warc3-wet-clueweb09-0.2.5.tar.gz (17 kB)\n",
      "Collecting lz4>=3.1.1\n",
      "  Downloading lz4-3.1.3-cp38-cp38-macosx_10_9_x86_64.whl (261 kB)\n",
      "\u001B[K     |████████████████████████████████| 261 kB 1.2 MB/s eta 0:00:01     |██████████████████▊             | 153 kB 1.2 MB/s eta 0:00:01\n",
      "\u001B[?25hCollecting lxml>=4.5.2\n",
      "  Downloading lxml-4.6.3-cp38-cp38-macosx_10_9_x86_64.whl (4.6 MB)\n",
      "\u001B[K     |████████████████████████████████| 4.6 MB 780 kB/s eta 0:00:01     |█▎                              | 184 kB 582 kB/s eta 0:00:08\n",
      "\u001B[?25hCollecting warc3-wet>=0.2.3\n",
      "  Using cached warc3_wet-0.2.3-py3-none-any.whl (13 kB)\n",
      "Collecting zlib-state>=0.1.3\n",
      "  Using cached zlib-state-0.1.3.tar.gz (8.9 kB)\n",
      "Requirement already satisfied: pyyaml>=5.3.1 in /Users/alp/opt/anaconda3/lib/python3.8/site-packages (from ir_datasets>=0.3.2->python-terrier) (5.4.1)\n",
      "Requirement already satisfied: soupsieve>1.2 in /Users/alp/opt/anaconda3/lib/python3.8/site-packages (from beautifulsoup4>=4.4.1->ir_datasets>=0.3.2->python-terrier) (2.2.1)\n",
      "Collecting pytrec-eval-terrier==0.5.1\n",
      "  Downloading pytrec_eval_terrier-0.5.1-cp38-cp38-macosx_10_14_x86_64.whl (71 kB)\n",
      "\u001B[K     |████████████████████████████████| 71 kB 807 kB/s eta 0:00:01\n",
      "\u001B[?25hRequirement already satisfied: pytz>=2017.3 in /Users/alp/opt/anaconda3/lib/python3.8/site-packages (from pandas>=0.25.0->python-terrier) (2021.1)\n",
      "Requirement already satisfied: python-dateutil>=2.7.3 in /Users/alp/.local/lib/python3.8/site-packages (from pandas>=0.25.0->python-terrier) (2.8.1)\n",
      "Requirement already satisfied: six>=1.7.0 in /Users/alp/.local/lib/python3.8/site-packages (from pyjnius~=1.3.0->python-terrier) (1.16.0)\n",
      "Collecting cython\n",
      "  Downloading Cython-0.29.23-cp38-cp38-macosx_10_9_x86_64.whl (1.9 MB)\n",
      "\u001B[K     |████████████████████████████████| 1.9 MB 61 kB/s eta 0:00:01\n",
      "\u001B[?25hRequirement already satisfied: idna<3,>=2.5 in /Users/alp/opt/anaconda3/lib/python3.8/site-packages (from requests->python-terrier) (2.10)\n",
      "Requirement already satisfied: urllib3<1.27,>=1.21.1 in /Users/alp/opt/anaconda3/lib/python3.8/site-packages (from requests->python-terrier) (1.26.6)\n",
      "Requirement already satisfied: chardet<5,>=3.0.2 in /Users/alp/opt/anaconda3/lib/python3.8/site-packages (from requests->python-terrier) (4.0.0)\n",
      "Requirement already satisfied: certifi>=2017.4.17 in /Users/alp/opt/anaconda3/lib/python3.8/site-packages (from requests->python-terrier) (2021.5.30)\n",
      "Collecting cbor>=1.0.0\n",
      "  Using cached cbor-1.0.0.tar.gz (20 kB)\n",
      "Collecting heapdict\n",
      "  Using cached HeapDict-1.0.1-py3-none-any.whl (3.9 kB)\n",
      "Requirement already satisfied: packaging in /Users/alp/.local/lib/python3.8/site-packages (from deprecation->python-terrier) (20.9)\n",
      "Requirement already satisfied: MarkupSafe>=2.0 in /Users/alp/.local/lib/python3.8/site-packages (from jinja2->python-terrier) (2.0.1)\n",
      "Collecting multiset<3.0,>=2.0\n",
      "  Using cached multiset-2.1.1-py2.py3-none-any.whl (8.8 kB)\n",
      "Collecting typish>=1.7.0\n",
      "  Using cached typish-1.9.2-py3-none-any.whl (45 kB)\n",
      "Requirement already satisfied: pyparsing>=2.0.2 in /Users/alp/.local/lib/python3.8/site-packages (from packaging->deprecation->python-terrier) (2.4.7)\n",
      "Collecting scikit-learn\n",
      "  Downloading scikit_learn-0.24.2-cp38-cp38-macosx_10_13_x86_64.whl (7.2 MB)\n",
      "\u001B[K     |████████████████████████████████| 7.2 MB 2.2 MB/s eta 0:00:01     |███████████                     | 2.5 MB 573 kB/s eta 0:00:09     |█████████████████               | 3.8 MB 1.4 MB/s eta 0:00:03\n",
      "\u001B[?25hCollecting threadpoolctl>=2.0.0\n",
      "  Using cached threadpoolctl-2.1.0-py3-none-any.whl (12 kB)\n",
      "Collecting patsy>=0.5\n",
      "  Using cached patsy-0.5.1-py2.py3-none-any.whl (231 kB)\n",
      "Building wheels for collected packages: python-terrier, ir-measures, cbor, warc3-wet-clueweb09, zlib-state, chest, sklearn, wget\n",
      "  Building wheel for python-terrier (setup.py) ... \u001B[?25ldone\n",
      "\u001B[?25h  Created wheel for python-terrier: filename=python_terrier-0.6.0-py3-none-any.whl size=93214 sha256=49f712f5390a2a3399cd7651badae5695696fa647030ab7f77a0965dc8c34d3f\n",
      "  Stored in directory: /Users/alp/Library/Caches/pip/wheels/46/46/1c/28cd24403a42e676f9de3f3da7d17a29237843bdc8e5d402e6\n",
      "  Building wheel for ir-measures (setup.py) ... \u001B[?25ldone\n",
      "\u001B[?25h  Created wheel for ir-measures: filename=ir_measures-0.1.4-py3-none-any.whl size=40000 sha256=4dfa28fb7fab6ab3ea1d7883da3467eca268cba9d3e1e9f6380c24015f1d2597\n",
      "  Stored in directory: /Users/alp/Library/Caches/pip/wheels/0d/9c/f3/869df3c292af4d5575224c37f170415c454baaf13d4471ddc9\n",
      "  Building wheel for cbor (setup.py) ... \u001B[?25ldone\n",
      "\u001B[?25h  Created wheel for cbor: filename=cbor-1.0.0-cp38-cp38-macosx_10_9_x86_64.whl size=21198 sha256=cd21ce5e094acb3067a96391a7515c911f0791c3a35366c37d1a848bef06576a\n",
      "  Stored in directory: /Users/alp/Library/Caches/pip/wheels/31/3a/8a/9d1a5e6f83f620826578089812b8ac236b86eaf4fbc3b36384\n",
      "  Building wheel for warc3-wet-clueweb09 (setup.py) ... \u001B[?25ldone\n",
      "\u001B[?25h  Created wheel for warc3-wet-clueweb09: filename=warc3_wet_clueweb09-0.2.5-py3-none-any.whl size=18920 sha256=3d52561a7f8c72afa76cc23490e0ec8a1ca425c786c72f96e6f47e0661a10412\n",
      "  Stored in directory: /Users/alp/Library/Caches/pip/wheels/2f/81/96/219c1a4ebbcb766834ccef089c56481b761c26d8ed235e21dc\n",
      "  Building wheel for zlib-state (setup.py) ... \u001B[?25ldone\n",
      "\u001B[?25h  Created wheel for zlib-state: filename=zlib_state-0.1.3-cp38-cp38-macosx_10_9_x86_64.whl size=8850 sha256=d5f4c916acb009671bd3c53c7fd368446fd4ec1a12441fbafa82f86cee6b198f\n",
      "  Stored in directory: /Users/alp/Library/Caches/pip/wheels/5a/e9/d1/bb1b76571a3f7cac8c12570d46a1ea41c0a1d9a637dedfcf97\n",
      "  Building wheel for chest (setup.py) ... \u001B[?25ldone\n",
      "\u001B[?25h  Created wheel for chest: filename=chest-0.2.3-py3-none-any.whl size=7634 sha256=1056859c1035a21e96662fdd66ad800158c7eff8c4deed02c3477ae1086eabfa\n",
      "  Stored in directory: /Users/alp/Library/Caches/pip/wheels/a3/10/0c/3c77925ea9d4deccf5e0a06a27a2c4cea4464bb57d68015eba\n"
     ]
    },
    {
     "name": "stdout",
     "output_type": "stream",
     "text": [
      "  Building wheel for sklearn (setup.py) ... \u001B[?25ldone\n",
      "\u001B[?25h  Created wheel for sklearn: filename=sklearn-0.0-py2.py3-none-any.whl size=1309 sha256=6c8736fb9a8ae81e4f141b6b0786922562c8da5d4d0687d5e104902297283f3b\n",
      "  Stored in directory: /Users/alp/Library/Caches/pip/wheels/22/0b/40/fd3f795caaa1fb4c6cb738bc1f56100be1e57da95849bfc897\n",
      "  Building wheel for wget (setup.py) ... \u001B[?25ldone\n",
      "\u001B[?25h  Created wheel for wget: filename=wget-3.2-py3-none-any.whl size=9673 sha256=0feb8b1c10d6e935b28d27d7edb0c45aaeffbf6eecaf7ebd4ada870764bb042d\n",
      "  Stored in directory: /Users/alp/Library/Caches/pip/wheels/bd/a8/c3/3cf2c14a1837a4e04bd98631724e81f33f462d86a1d895fae0\n",
      "Successfully built python-terrier ir-measures cbor warc3-wet-clueweb09 zlib-state chest sklearn wget\n",
      "Installing collected packages: threadpoolctl, scipy, joblib, cbor, zlib-state, warc3-wet-clueweb09, warc3-wet, typish, trec-car-tools, scikit-learn, pytrec-eval-terrier, patsy, pandas, multiset, lz4, lxml, ijson, heapdict, cython, wget, statsmodels, sklearn, pyjnius, nptyping, more-itertools, matchpy, ir-measures, ir-datasets, deprecation, chest, python-terrier\n",
      "Successfully installed cbor-1.0.0 chest-0.2.3 cython-0.29.23 deprecation-2.1.0 heapdict-1.0.1 ijson-3.1.4 ir-datasets-0.4.0 ir-measures-0.1.4 joblib-1.0.1 lxml-4.6.3 lz4-3.1.3 matchpy-0.5.4 more-itertools-8.8.0 multiset-2.1.1 nptyping-1.4.2 pandas-1.2.5 patsy-0.5.1 pyjnius-1.3.0 python-terrier-0.6.0 pytrec-eval-terrier-0.5.1 scikit-learn-0.24.2 scipy-1.7.0 sklearn-0.0 statsmodels-0.12.2 threadpoolctl-2.1.0 trec-car-tools-2.5.4 typish-1.9.2 warc3-wet-0.2.3 warc3-wet-clueweb09-0.2.5 wget-3.2 zlib-state-0.1.3\n"
     ]
    }
   ],
   "source": [
    "#!pip install --upgrade git+https://github.com/terrier-org/pyterrier.git#egg=python-terrier\n",
    "!pip install python-terrier"
   ]
  },
  {
   "cell_type": "markdown",
   "metadata": {
    "id": "E8avEGFTczuu"
   },
   "source": [
    "# Init \n",
    "\n",
    "You must run `pt.init()` before other pyterrier functions and classes\n",
    "\n",
    "Arguments:    \n",
    " - `version` - terrier IR version e.g. \"5.2\"    \n",
    " - `mem` - megabytes allocated to java e.g. \"4096\"      \n"
   ]
  },
  {
   "cell_type": "code",
   "execution_count": 2,
   "metadata": {
    "colab": {
     "base_uri": "https://localhost:8080/",
     "height": 85
    },
    "id": "pEJSTrbdfdK8",
    "outputId": "fd413a1a-09d2-4e5e-c5a3-c32a9821f14c"
   },
   "outputs": [
    {
     "name": "stdout",
     "output_type": "stream",
     "text": [
      "PyTerrier 0.6.0 has loaded Terrier 5.5 (built by craigmacdonald on 2021-05-20 13:12)\n"
     ]
    }
   ],
   "source": [
    "import pyterrier as pt\n",
    "if not pt.started():\n",
    "  pt.init()"
   ]
  },
  {
   "cell_type": "markdown",
   "metadata": {
    "id": "eseqUHlf2V-2"
   },
   "source": [
    "# Vaswani_NPL\n",
    "\n",
    "We're going to use a very old IR test collection called [Vaswani_NPL](http://ir.dcs.gla.ac.uk/resources/test_collections/npl/). This is included with Terrier, but we provide access here to pre-made indices, along with the topics and qrels:\n",
    " "
   ]
  },
  {
   "cell_type": "code",
   "execution_count": 3,
   "metadata": {
    "id": "r6tA_Y2325Cw"
   },
   "outputs": [],
   "source": [
    "vaswani_dataset = pt.datasets.get_dataset(\"vaswani\")"
   ]
  },
  {
   "cell_type": "markdown",
   "metadata": {
    "id": "IW4bzt40uVKR"
   },
   "source": [
    "# Load an existing index"
   ]
  },
  {
   "cell_type": "code",
   "execution_count": 4,
   "metadata": {
    "colab": {
     "base_uri": "https://localhost:8080/",
     "height": 136
    },
    "id": "SLGyh2OkuaXd",
    "outputId": "8662508d-251c-4e5e-b2f2-a71de781ee24"
   },
   "outputs": [
    {
     "name": "stdout",
     "output_type": "stream",
     "text": [
      "Number of documents: 11429\n",
      "Number of terms: 7756\n",
      "Number of postings: 224573\n",
      "Number of fields: 0\n",
      "Number of tokens: 271581\n",
      "Field names: []\n",
      "Positions:   false\n",
      "\n"
     ]
    }
   ],
   "source": [
    "indexref = vaswani_dataset.get_index()\n",
    "index = pt.IndexFactory.of(indexref)\n",
    "\n",
    "print(index.getCollectionStatistics().toString())"
   ]
  },
  {
   "cell_type": "markdown",
   "metadata": {
    "id": "rzW2v-qchgIF"
   },
   "source": [
    "# Retrieval"
   ]
  },
  {
   "cell_type": "markdown",
   "metadata": {
    "id": "aHWBJ6NXlC1a"
   },
   "source": [
    "Normally, we would use pt.io.read_topics(topics_path) to parse a topics file. \n",
    "``` python\n",
    "topics_path = \"./query-text.trec\"\n",
    "topics = pt.io.read_topics(topics_path)\n",
    "```\n",
    "\n",
    "However, the pt.dataset gives the topics and qrels readily-parsed:\n",
    "\n"
   ]
  },
  {
   "cell_type": "code",
   "execution_count": 5,
   "metadata": {
    "colab": {
     "base_uri": "https://localhost:8080/",
     "height": 221
    },
    "id": "qR5fkwEglDIA",
    "outputId": "0a69c35a-3125-4e35-de45-a72c34ad49d4"
   },
   "outputs": [
    {
     "data": {
      "text/html": [
       "<div>\n",
       "<style scoped>\n",
       "    .dataframe tbody tr th:only-of-type {\n",
       "        vertical-align: middle;\n",
       "    }\n",
       "\n",
       "    .dataframe tbody tr th {\n",
       "        vertical-align: top;\n",
       "    }\n",
       "\n",
       "    .dataframe thead th {\n",
       "        text-align: right;\n",
       "    }\n",
       "</style>\n",
       "<table border=\"1\" class=\"dataframe\">\n",
       "  <thead>\n",
       "    <tr style=\"text-align: right;\">\n",
       "      <th></th>\n",
       "      <th>qid</th>\n",
       "      <th>query</th>\n",
       "    </tr>\n",
       "  </thead>\n",
       "  <tbody>\n",
       "    <tr>\n",
       "      <th>0</th>\n",
       "      <td>1</td>\n",
       "      <td>measurement of dielectric constant of liquids ...</td>\n",
       "    </tr>\n",
       "    <tr>\n",
       "      <th>1</th>\n",
       "      <td>2</td>\n",
       "      <td>mathematical analysis and design details of wa...</td>\n",
       "    </tr>\n",
       "    <tr>\n",
       "      <th>2</th>\n",
       "      <td>3</td>\n",
       "      <td>use of digital computers in the design of band...</td>\n",
       "    </tr>\n",
       "    <tr>\n",
       "      <th>3</th>\n",
       "      <td>4</td>\n",
       "      <td>systems of data coding for information transfer</td>\n",
       "    </tr>\n",
       "    <tr>\n",
       "      <th>4</th>\n",
       "      <td>5</td>\n",
       "      <td>use of programs in engineering testing of comp...</td>\n",
       "    </tr>\n",
       "  </tbody>\n",
       "</table>\n",
       "</div>"
      ],
      "text/plain": [
       "  qid                                              query\n",
       "0   1  measurement of dielectric constant of liquids ...\n",
       "1   2  mathematical analysis and design details of wa...\n",
       "2   3  use of digital computers in the design of band...\n",
       "3   4    systems of data coding for information transfer\n",
       "4   5  use of programs in engineering testing of comp..."
      ]
     },
     "execution_count": 5,
     "metadata": {},
     "output_type": "execute_result"
    }
   ],
   "source": [
    "topics = vaswani_dataset.get_topics()\n",
    "topics.head(5)"
   ]
  },
  {
   "cell_type": "markdown",
   "metadata": {
    "id": "4-fwnGg-lIzM"
   },
   "source": [
    "Create BatchRetrieve object\n",
    "\n",
    "You can optionally set the controls and the properties by passing a dictionary to the 'controls' and 'properties' arguments\n",
    "or by calling setControl or setControls methods on a created object, or use the default controls.\n",
    "\n",
    "Then call the transform method on the created object with the topics as an argument"
   ]
  },
  {
   "cell_type": "code",
   "execution_count": 6,
   "metadata": {
    "id": "wPG8PBwSlCuL"
   },
   "outputs": [],
   "source": [
    "retr = pt.BatchRetrieve(index, controls = {\"wmodel\": \"TF_IDF\"})\n",
    "\n",
    "retr.setControl(\"wmodel\", \"TF_IDF\")\n",
    "retr.setControls({\"wmodel\": \"TF_IDF\"})\n",
    "\n",
    "res=retr.transform(topics)"
   ]
  },
  {
   "cell_type": "code",
   "execution_count": 7,
   "metadata": {
    "colab": {
     "base_uri": "https://localhost:8080/",
     "height": 419
    },
    "id": "uFGQXsJU5E9Q",
    "outputId": "ad84cb83-d249-4081-f12a-713b9bd90e1a"
   },
   "outputs": [
    {
     "data": {
      "text/html": [
       "<div>\n",
       "<style scoped>\n",
       "    .dataframe tbody tr th:only-of-type {\n",
       "        vertical-align: middle;\n",
       "    }\n",
       "\n",
       "    .dataframe tbody tr th {\n",
       "        vertical-align: top;\n",
       "    }\n",
       "\n",
       "    .dataframe thead th {\n",
       "        text-align: right;\n",
       "    }\n",
       "</style>\n",
       "<table border=\"1\" class=\"dataframe\">\n",
       "  <thead>\n",
       "    <tr style=\"text-align: right;\">\n",
       "      <th></th>\n",
       "      <th>qid</th>\n",
       "      <th>docid</th>\n",
       "      <th>docno</th>\n",
       "      <th>rank</th>\n",
       "      <th>score</th>\n",
       "      <th>query</th>\n",
       "    </tr>\n",
       "  </thead>\n",
       "  <tbody>\n",
       "    <tr>\n",
       "      <th>0</th>\n",
       "      <td>1</td>\n",
       "      <td>8171</td>\n",
       "      <td>8172</td>\n",
       "      <td>0</td>\n",
       "      <td>13.746087</td>\n",
       "      <td>measurement of dielectric constant of liquids ...</td>\n",
       "    </tr>\n",
       "    <tr>\n",
       "      <th>1</th>\n",
       "      <td>1</td>\n",
       "      <td>9880</td>\n",
       "      <td>9881</td>\n",
       "      <td>1</td>\n",
       "      <td>12.352666</td>\n",
       "      <td>measurement of dielectric constant of liquids ...</td>\n",
       "    </tr>\n",
       "    <tr>\n",
       "      <th>2</th>\n",
       "      <td>1</td>\n",
       "      <td>5501</td>\n",
       "      <td>5502</td>\n",
       "      <td>2</td>\n",
       "      <td>12.178153</td>\n",
       "      <td>measurement of dielectric constant of liquids ...</td>\n",
       "    </tr>\n",
       "    <tr>\n",
       "      <th>3</th>\n",
       "      <td>1</td>\n",
       "      <td>1501</td>\n",
       "      <td>1502</td>\n",
       "      <td>3</td>\n",
       "      <td>10.993585</td>\n",
       "      <td>measurement of dielectric constant of liquids ...</td>\n",
       "    </tr>\n",
       "    <tr>\n",
       "      <th>4</th>\n",
       "      <td>1</td>\n",
       "      <td>9858</td>\n",
       "      <td>9859</td>\n",
       "      <td>4</td>\n",
       "      <td>10.271452</td>\n",
       "      <td>measurement of dielectric constant of liquids ...</td>\n",
       "    </tr>\n",
       "    <tr>\n",
       "      <th>...</th>\n",
       "      <td>...</td>\n",
       "      <td>...</td>\n",
       "      <td>...</td>\n",
       "      <td>...</td>\n",
       "      <td>...</td>\n",
       "      <td>...</td>\n",
       "    </tr>\n",
       "    <tr>\n",
       "      <th>91925</th>\n",
       "      <td>93</td>\n",
       "      <td>2226</td>\n",
       "      <td>2227</td>\n",
       "      <td>995</td>\n",
       "      <td>4.904950</td>\n",
       "      <td>high frequency oscillators using transistors t...</td>\n",
       "    </tr>\n",
       "    <tr>\n",
       "      <th>91926</th>\n",
       "      <td>93</td>\n",
       "      <td>6898</td>\n",
       "      <td>6899</td>\n",
       "      <td>996</td>\n",
       "      <td>4.899385</td>\n",
       "      <td>high frequency oscillators using transistors t...</td>\n",
       "    </tr>\n",
       "    <tr>\n",
       "      <th>91927</th>\n",
       "      <td>93</td>\n",
       "      <td>3473</td>\n",
       "      <td>3474</td>\n",
       "      <td>997</td>\n",
       "      <td>4.898796</td>\n",
       "      <td>high frequency oscillators using transistors t...</td>\n",
       "    </tr>\n",
       "    <tr>\n",
       "      <th>91928</th>\n",
       "      <td>93</td>\n",
       "      <td>3187</td>\n",
       "      <td>3188</td>\n",
       "      <td>998</td>\n",
       "      <td>4.893073</td>\n",
       "      <td>high frequency oscillators using transistors t...</td>\n",
       "    </tr>\n",
       "    <tr>\n",
       "      <th>91929</th>\n",
       "      <td>93</td>\n",
       "      <td>3158</td>\n",
       "      <td>3159</td>\n",
       "      <td>999</td>\n",
       "      <td>4.892029</td>\n",
       "      <td>high frequency oscillators using transistors t...</td>\n",
       "    </tr>\n",
       "  </tbody>\n",
       "</table>\n",
       "<p>91930 rows × 6 columns</p>\n",
       "</div>"
      ],
      "text/plain": [
       "      qid  docid docno  rank      score  \\\n",
       "0       1   8171  8172     0  13.746087   \n",
       "1       1   9880  9881     1  12.352666   \n",
       "2       1   5501  5502     2  12.178153   \n",
       "3       1   1501  1502     3  10.993585   \n",
       "4       1   9858  9859     4  10.271452   \n",
       "...    ..    ...   ...   ...        ...   \n",
       "91925  93   2226  2227   995   4.904950   \n",
       "91926  93   6898  6899   996   4.899385   \n",
       "91927  93   3473  3474   997   4.898796   \n",
       "91928  93   3187  3188   998   4.893073   \n",
       "91929  93   3158  3159   999   4.892029   \n",
       "\n",
       "                                                   query  \n",
       "0      measurement of dielectric constant of liquids ...  \n",
       "1      measurement of dielectric constant of liquids ...  \n",
       "2      measurement of dielectric constant of liquids ...  \n",
       "3      measurement of dielectric constant of liquids ...  \n",
       "4      measurement of dielectric constant of liquids ...  \n",
       "...                                                  ...  \n",
       "91925  high frequency oscillators using transistors t...  \n",
       "91926  high frequency oscillators using transistors t...  \n",
       "91927  high frequency oscillators using transistors t...  \n",
       "91928  high frequency oscillators using transistors t...  \n",
       "91929  high frequency oscillators using transistors t...  \n",
       "\n",
       "[91930 rows x 6 columns]"
      ]
     },
     "execution_count": 7,
     "metadata": {},
     "output_type": "execute_result"
    }
   ],
   "source": [
    "res"
   ]
  },
  {
   "cell_type": "markdown",
   "metadata": {
    "id": "lAdFiXUJmDsc"
   },
   "source": [
    "You can also query simple string."
   ]
  },
  {
   "cell_type": "code",
   "execution_count": 8,
   "metadata": {
    "colab": {
     "base_uri": "https://localhost:8080/",
     "height": 493
    },
    "id": "onRMf1dyWNlO",
    "outputId": "bad927e9-9bec-48a7-83ef-77f8d81b187a"
   },
   "outputs": [
    {
     "data": {
      "text/html": [
       "<div>\n",
       "<style scoped>\n",
       "    .dataframe tbody tr th:only-of-type {\n",
       "        vertical-align: middle;\n",
       "    }\n",
       "\n",
       "    .dataframe tbody tr th {\n",
       "        vertical-align: top;\n",
       "    }\n",
       "\n",
       "    .dataframe thead th {\n",
       "        text-align: right;\n",
       "    }\n",
       "</style>\n",
       "<table border=\"1\" class=\"dataframe\">\n",
       "  <thead>\n",
       "    <tr style=\"text-align: right;\">\n",
       "      <th></th>\n",
       "      <th>qid</th>\n",
       "      <th>docid</th>\n",
       "      <th>docno</th>\n",
       "      <th>rank</th>\n",
       "      <th>score</th>\n",
       "      <th>query</th>\n",
       "    </tr>\n",
       "  </thead>\n",
       "  <tbody>\n",
       "    <tr>\n",
       "      <th>0</th>\n",
       "      <td>1</td>\n",
       "      <td>10808</td>\n",
       "      <td>10809</td>\n",
       "      <td>0</td>\n",
       "      <td>5.537595</td>\n",
       "      <td>Light</td>\n",
       "    </tr>\n",
       "    <tr>\n",
       "      <th>1</th>\n",
       "      <td>1</td>\n",
       "      <td>11231</td>\n",
       "      <td>11232</td>\n",
       "      <td>1</td>\n",
       "      <td>5.535640</td>\n",
       "      <td>Light</td>\n",
       "    </tr>\n",
       "    <tr>\n",
       "      <th>2</th>\n",
       "      <td>1</td>\n",
       "      <td>11066</td>\n",
       "      <td>11067</td>\n",
       "      <td>2</td>\n",
       "      <td>5.497895</td>\n",
       "      <td>Light</td>\n",
       "    </tr>\n",
       "    <tr>\n",
       "      <th>3</th>\n",
       "      <td>1</td>\n",
       "      <td>5995</td>\n",
       "      <td>5996</td>\n",
       "      <td>3</td>\n",
       "      <td>5.486707</td>\n",
       "      <td>Light</td>\n",
       "    </tr>\n",
       "    <tr>\n",
       "      <th>4</th>\n",
       "      <td>1</td>\n",
       "      <td>4460</td>\n",
       "      <td>4461</td>\n",
       "      <td>4</td>\n",
       "      <td>5.464468</td>\n",
       "      <td>Light</td>\n",
       "    </tr>\n",
       "    <tr>\n",
       "      <th>...</th>\n",
       "      <td>...</td>\n",
       "      <td>...</td>\n",
       "      <td>...</td>\n",
       "      <td>...</td>\n",
       "      <td>...</td>\n",
       "      <td>...</td>\n",
       "    </tr>\n",
       "    <tr>\n",
       "      <th>120</th>\n",
       "      <td>1</td>\n",
       "      <td>4820</td>\n",
       "      <td>4821</td>\n",
       "      <td>120</td>\n",
       "      <td>1.964441</td>\n",
       "      <td>Light</td>\n",
       "    </tr>\n",
       "    <tr>\n",
       "      <th>121</th>\n",
       "      <td>1</td>\n",
       "      <td>9836</td>\n",
       "      <td>9837</td>\n",
       "      <td>121</td>\n",
       "      <td>1.927833</td>\n",
       "      <td>Light</td>\n",
       "    </tr>\n",
       "    <tr>\n",
       "      <th>122</th>\n",
       "      <td>1</td>\n",
       "      <td>7213</td>\n",
       "      <td>7214</td>\n",
       "      <td>122</td>\n",
       "      <td>1.910036</td>\n",
       "      <td>Light</td>\n",
       "    </tr>\n",
       "    <tr>\n",
       "      <th>123</th>\n",
       "      <td>1</td>\n",
       "      <td>6177</td>\n",
       "      <td>6178</td>\n",
       "      <td>123</td>\n",
       "      <td>1.892565</td>\n",
       "      <td>Light</td>\n",
       "    </tr>\n",
       "    <tr>\n",
       "      <th>124</th>\n",
       "      <td>1</td>\n",
       "      <td>7777</td>\n",
       "      <td>7778</td>\n",
       "      <td>124</td>\n",
       "      <td>1.251497</td>\n",
       "      <td>Light</td>\n",
       "    </tr>\n",
       "  </tbody>\n",
       "</table>\n",
       "<p>125 rows × 6 columns</p>\n",
       "</div>"
      ],
      "text/plain": [
       "    qid  docid  docno  rank     score  query\n",
       "0     1  10808  10809     0  5.537595  Light\n",
       "1     1  11231  11232     1  5.535640  Light\n",
       "2     1  11066  11067     2  5.497895  Light\n",
       "3     1   5995   5996     3  5.486707  Light\n",
       "4     1   4460   4461     4  5.464468  Light\n",
       "..   ..    ...    ...   ...       ...    ...\n",
       "120   1   4820   4821   120  1.964441  Light\n",
       "121   1   9836   9837   121  1.927833  Light\n",
       "122   1   7213   7214   122  1.910036  Light\n",
       "123   1   6177   6178   123  1.892565  Light\n",
       "124   1   7777   7778   124  1.251497  Light\n",
       "\n",
       "[125 rows x 6 columns]"
      ]
     },
     "execution_count": 8,
     "metadata": {},
     "output_type": "execute_result"
    }
   ],
   "source": [
    "retr.search(\"Light\")"
   ]
  },
  {
   "cell_type": "markdown",
   "metadata": {
    "id": "1k5DvZHQjEhU"
   },
   "source": [
    "You can save the result to a file by using `pt.io.write_results(result, path)`"
   ]
  },
  {
   "cell_type": "code",
   "execution_count": 9,
   "metadata": {
    "id": "g9qGpGSxjOHi"
   },
   "outputs": [],
   "source": [
    "pt.io.write_results(res,\"result1.res\")"
   ]
  },
  {
   "cell_type": "markdown",
   "metadata": {
    "id": "JeNYoPbrj7FN"
   },
   "source": [
    "# Evaluation"
   ]
  },
  {
   "cell_type": "markdown",
   "metadata": {
    "id": "qwYjiURXkXJp"
   },
   "source": [
    "Similarly, if working with a local test collection, we can use pt.Utils.parse_qrels(qrels_path) to parse a qrels file:\n",
    "```python\n",
    "qrels_path=(\"./qrels\")\n",
    "qrels = pt.io.read_qrels(qrels_path)\n",
    "```\n",
    "\n",
    "However, for the Vaswani dataset, the qrels are provided ready-to-do:\n"
   ]
  },
  {
   "cell_type": "code",
   "execution_count": 10,
   "metadata": {
    "colab": {
     "base_uri": "https://localhost:8080/",
     "height": 34
    },
    "id": "uvw_CXrak5MQ",
    "outputId": "5d138c87-20cb-4f94-dac9-92c3eb0b26da"
   },
   "outputs": [],
   "source": [
    "qrels = vaswani_dataset.get_qrels()"
   ]
  },
  {
   "cell_type": "markdown",
   "metadata": {
    "id": "ON8yEcWukIIA"
   },
   "source": [
    "Use `pt.Utils.evaluate(results, qrels)` to evaluate the results    \n",
    "Args:    \n",
    "metrics, `default = [\"map\", ndcg\"]`, select the evaluation metrics    \n",
    "perquery, `default = False`, select whether to show the mean of the metrics or the metrics for each query"
   ]
  },
  {
   "cell_type": "code",
   "execution_count": 11,
   "metadata": {
    "colab": {
     "base_uri": "https://localhost:8080/",
     "height": 34
    },
    "id": "LXfETppwj55p",
    "outputId": "909797b7-791b-46f4-8559-0b286e5bcacb"
   },
   "outputs": [
    {
     "data": {
      "text/plain": [
       "{'map': 0.29090543005529873, 'ndcg': 0.6153667539666847}"
      ]
     },
     "execution_count": 11,
     "metadata": {},
     "output_type": "execute_result"
    }
   ],
   "source": [
    "eval = pt.Utils.evaluate(res,qrels)\n",
    "eval"
   ]
  },
  {
   "cell_type": "markdown",
   "metadata": {
    "id": "TiDVb4iG4EyH"
   },
   "source": [
    "We can also ask for per-query results."
   ]
  },
  {
   "cell_type": "code",
   "execution_count": 12,
   "metadata": {
    "colab": {
     "base_uri": "https://localhost:8080/",
     "height": 1000
    },
    "id": "IhMR2YurnS1Y",
    "outputId": "560159dd-10b8-44ba-a4ae-389faab05ef9"
   },
   "outputs": [
    {
     "data": {
      "text/plain": [
       "defaultdict(dict,\n",
       "            {'1': {'map': 0.2688603632606692},\n",
       "             '2': {'map': 0.056448212440045914},\n",
       "             '3': {'map': 0.23945401361406524},\n",
       "             '4': {'map': 0.4939494140851607},\n",
       "             '5': {'map': 0.0},\n",
       "             '6': {'map': 0.2421600270476016},\n",
       "             '7': {'map': 0.5674516736006812},\n",
       "             '8': {'map': 0.5},\n",
       "             '9': {'map': 0.5222222222222223},\n",
       "             '10': {'map': 0.1214856066519094},\n",
       "             '11': {'map': 0.06799761023743447},\n",
       "             '12': {'map': 0.2093716360982601},\n",
       "             '13': {'map': 0.26945162856284827},\n",
       "             '14': {'map': 0.3164929260069987},\n",
       "             '15': {'map': 0.17479160483981196},\n",
       "             '16': {'map': 0.07376769675516924},\n",
       "             '17': {'map': 0.3965636483508813},\n",
       "             '18': {'map': 0.16354405989238738},\n",
       "             '19': {'map': 0.44669647488527836},\n",
       "             '20': {'map': 0.22061080821325293},\n",
       "             '21': {'map': 0.5395186359625185},\n",
       "             '22': {'map': 0.3874015813665481},\n",
       "             '23': {'map': 0.34623362970302457},\n",
       "             '24': {'map': 0.19184305434732396},\n",
       "             '25': {'map': 0.17181819840273246},\n",
       "             '26': {'map': 0.46224321892311115},\n",
       "             '27': {'map': 0.3332977158611145},\n",
       "             '28': {'map': 0.3248793014207182},\n",
       "             '29': {'map': 0.3678434174356832},\n",
       "             '30': {'map': 0.3740405619725896},\n",
       "             '31': {'map': 0.3659688796052433},\n",
       "             '32': {'map': 0.5449193708233969},\n",
       "             '33': {'map': 0.16758096895311753},\n",
       "             '34': {'map': 0.09475121050961019},\n",
       "             '35': {'map': 0.3161795835811207},\n",
       "             '36': {'map': 0.06240987386368677},\n",
       "             '37': {'map': 0.5629044478591622},\n",
       "             '38': {'map': 0.4638100016959579},\n",
       "             '39': {'map': 0.413195706028076},\n",
       "             '40': {'map': 0.5156482922211466},\n",
       "             '41': {'map': 0.13989156957293147},\n",
       "             '42': {'map': 0.5901172920429301},\n",
       "             '43': {'map': 0.3976663487840697},\n",
       "             '44': {'map': 0.5942519338041726},\n",
       "             '45': {'map': 0.5193686944361203},\n",
       "             '46': {'map': 0.5428678808879653},\n",
       "             '47': {'map': 0.47518054950991434},\n",
       "             '48': {'map': 0.6269841269841269},\n",
       "             '49': {'map': 0.5117016956036146},\n",
       "             '50': {'map': 0.02702702702702703},\n",
       "             '51': {'map': 0.4066181375307124},\n",
       "             '52': {'map': 0.38004411122245385},\n",
       "             '53': {'map': 0.09166387119377388},\n",
       "             '54': {'map': 0.4328492784371206},\n",
       "             '55': {'map': 0.16575528585039312},\n",
       "             '56': {'map': 0.33103980418112827},\n",
       "             '57': {'map': 0.10598901358272976},\n",
       "             '58': {'map': 0.041942795637681884},\n",
       "             '59': {'map': 0.00684931506849315},\n",
       "             '60': {'map': 0.2661290322580645},\n",
       "             '61': {'map': 0.2325178435051701},\n",
       "             '62': {'map': 0.45097069189164174},\n",
       "             '63': {'map': 0.4636814137458281},\n",
       "             '64': {'map': 0.06882148846081122},\n",
       "             '65': {'map': 0.4332906530089628},\n",
       "             '66': {'map': 0.02541169246210568},\n",
       "             '67': {'map': 0.0906611872453528},\n",
       "             '68': {'map': 0.1407544607599312},\n",
       "             '69': {'map': 0.43466511590479573},\n",
       "             '70': {'map': 0.11692282520484829},\n",
       "             '71': {'map': 0.2986642285293222},\n",
       "             '72': {'map': 0.4846427166744158},\n",
       "             '73': {'map': 0.4518459686644996},\n",
       "             '74': {'map': 0.2160902685061814},\n",
       "             '75': {'map': 0.7575150494802282},\n",
       "             '76': {'map': 0.3368632248482061},\n",
       "             '77': {'map': 0.4056841177263038},\n",
       "             '78': {'map': 0.1207974393458629},\n",
       "             '79': {'map': 0.09493367806275874},\n",
       "             '80': {'map': 0.007144142221420812},\n",
       "             '81': {'map': 0.30401935021500237},\n",
       "             '82': {'map': 0.2396311160423612},\n",
       "             '83': {'map': 0.23493235154351588},\n",
       "             '84': {'map': 0.32846055524463724},\n",
       "             '85': {'map': 0.0059122070286004354},\n",
       "             '86': {'map': 0.08178341113533369},\n",
       "             '87': {'map': 0.22253254033872852},\n",
       "             '88': {'map': 0.060998128884790115},\n",
       "             '89': {'map': 0.08737273117424477},\n",
       "             '90': {'map': 0.16870990966976288},\n",
       "             '91': {'map': 0.3564038634257101},\n",
       "             '92': {'map': 0.08935884162889926},\n",
       "             '93': {'map': 0.23046674164654785}})"
      ]
     },
     "execution_count": 12,
     "metadata": {},
     "output_type": "execute_result"
    }
   ],
   "source": [
    "eval = pt.Utils.evaluate(res,qrels,metrics=[\"map\"], perquery=True)\n",
    "eval"
   ]
  },
  {
   "cell_type": "code",
   "execution_count": null,
   "metadata": {
    "id": "N9ZSXTjS3_Z9"
   },
   "outputs": [],
   "source": []
  }
 ],
 "metadata": {
  "colab": {
   "collapsed_sections": [],
   "name": "Retrieval and Evaluation.ipynb",
   "provenance": [],
   "toc_visible": true
  },
  "kernelspec": {
   "display_name": "Python 3",
   "language": "python",
   "name": "python3"
  },
  "language_info": {
   "codemirror_mode": {
    "name": "ipython",
    "version": 3
   },
   "file_extension": ".py",
   "mimetype": "text/x-python",
   "name": "python",
   "nbconvert_exporter": "python",
   "pygments_lexer": "ipython3",
   "version": "3.8.8"
  }
 },
 "nbformat": 4,
 "nbformat_minor": 1
}