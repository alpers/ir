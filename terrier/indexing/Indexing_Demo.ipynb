{
 "cells": [
  {
   "cell_type": "markdown",
   "metadata": {
    "id": "TNdMHD8LS2Bm"
   },
   "source": [
    "# PyTerrier Indexing Demo\n",
    "\n",
    "This notebook takes you through indexing using [PyTerrier](https://github.com/terrier-org/pyterrier)."
   ]
  },
  {
   "cell_type": "markdown",
   "metadata": {
    "id": "pkMrNonZrpEg"
   },
   "source": [
    "## Prerequisites\n",
    "\n",
    "You will need PyTerrier installed. PyTerrier also needs Java to be installed, and will find most installations."
   ]
  },
  {
   "cell_type": "code",
   "execution_count": 1,
   "metadata": {},
   "outputs": [],
   "source": [
    "import os\n",
    "os.environ[\"JAVA_HOME\"] = \"/Library/Java/JavaVirtualMachines/jdk-11.0.11.jdk/Contents/Home\"\n",
    "#!python3 -m pip uninstall pyterrier"
   ]
  },
  {
   "cell_type": "code",
   "execution_count": 2,
   "metadata": {
    "colab": {
     "base_uri": "https://localhost:8080/",
     "height": 765
    },
    "id": "JWLqWXBHeBRc",
    "outputId": "04d8b4fa-7e60-4ccc-ad6b-3b95f0445437"
   },
   "outputs": [
    {
     "name": "stdout",
     "output_type": "stream",
     "text": [
      "Requirement already satisfied: python-terrier in /Users/alp/opt/anaconda3/lib/python3.8/site-packages (0.6.0)\n",
      "Requirement already satisfied: tqdm in /Users/alp/opt/anaconda3/lib/python3.8/site-packages (from python-terrier) (4.61.1)\n",
      "Requirement already satisfied: scipy in /Users/alp/opt/anaconda3/lib/python3.8/site-packages (from python-terrier) (1.7.0)\n",
      "Requirement already satisfied: numpy in /Users/alp/opt/anaconda3/lib/python3.8/site-packages (from python-terrier) (1.20.2)\n",
      "Requirement already satisfied: wget in /Users/alp/opt/anaconda3/lib/python3.8/site-packages (from python-terrier) (3.2)\n",
      "Requirement already satisfied: pandas>=0.25.0 in /Users/alp/opt/anaconda3/lib/python3.8/site-packages (from python-terrier) (1.2.5)\n",
      "Requirement already satisfied: matchpy in /Users/alp/opt/anaconda3/lib/python3.8/site-packages (from python-terrier) (0.5.4)\n",
      "Requirement already satisfied: ir-measures>=0.1.4 in /Users/alp/opt/anaconda3/lib/python3.8/site-packages (from python-terrier) (0.1.4)\n",
      "Requirement already satisfied: statsmodels in /Users/alp/opt/anaconda3/lib/python3.8/site-packages (from python-terrier) (0.12.2)\n",
      "Requirement already satisfied: joblib in /Users/alp/opt/anaconda3/lib/python3.8/site-packages (from python-terrier) (1.0.1)\n",
      "Requirement already satisfied: more-itertools in /Users/alp/opt/anaconda3/lib/python3.8/site-packages (from python-terrier) (8.8.0)\n",
      "Requirement already satisfied: pyjnius~=1.3.0 in /Users/alp/opt/anaconda3/lib/python3.8/site-packages (from python-terrier) (1.3.0)\n",
      "Requirement already satisfied: sklearn in /Users/alp/opt/anaconda3/lib/python3.8/site-packages (from python-terrier) (0.0)\n",
      "Requirement already satisfied: requests in /Users/alp/opt/anaconda3/lib/python3.8/site-packages (from python-terrier) (2.25.1)\n",
      "Requirement already satisfied: nptyping in /Users/alp/opt/anaconda3/lib/python3.8/site-packages (from python-terrier) (1.4.2)\n",
      "Requirement already satisfied: ir-datasets>=0.3.2 in /Users/alp/opt/anaconda3/lib/python3.8/site-packages (from python-terrier) (0.4.0)\n",
      "Requirement already satisfied: deprecation in /Users/alp/opt/anaconda3/lib/python3.8/site-packages (from python-terrier) (2.1.0)\n",
      "Requirement already satisfied: chest in /Users/alp/opt/anaconda3/lib/python3.8/site-packages (from python-terrier) (0.2.3)\n",
      "Requirement already satisfied: jinja2 in /Users/alp/.local/lib/python3.8/site-packages (from python-terrier) (3.0.1)\n",
      "Requirement already satisfied: ijson>=3.1.3 in /Users/alp/opt/anaconda3/lib/python3.8/site-packages (from ir-datasets>=0.3.2->python-terrier) (3.1.4)\n",
      "Requirement already satisfied: warc3-wet>=0.2.3 in /Users/alp/opt/anaconda3/lib/python3.8/site-packages (from ir-datasets>=0.3.2->python-terrier) (0.2.3)\n",
      "Requirement already satisfied: lxml>=4.5.2 in /Users/alp/opt/anaconda3/lib/python3.8/site-packages (from ir-datasets>=0.3.2->python-terrier) (4.6.3)\n",
      "Requirement already satisfied: lz4>=3.1.1 in /Users/alp/opt/anaconda3/lib/python3.8/site-packages (from ir-datasets>=0.3.2->python-terrier) (3.1.3)\n",
      "Requirement already satisfied: pyyaml>=5.3.1 in /Users/alp/opt/anaconda3/lib/python3.8/site-packages (from ir-datasets>=0.3.2->python-terrier) (5.4.1)\n",
      "Requirement already satisfied: trec-car-tools>=2.5.4 in /Users/alp/opt/anaconda3/lib/python3.8/site-packages (from ir-datasets>=0.3.2->python-terrier) (2.5.4)\n",
      "Requirement already satisfied: warc3-wet-clueweb09>=0.2.5 in /Users/alp/opt/anaconda3/lib/python3.8/site-packages (from ir-datasets>=0.3.2->python-terrier) (0.2.5)\n",
      "Requirement already satisfied: zlib-state>=0.1.3 in /Users/alp/opt/anaconda3/lib/python3.8/site-packages (from ir-datasets>=0.3.2->python-terrier) (0.1.3)\n",
      "Requirement already satisfied: beautifulsoup4>=4.4.1 in /Users/alp/opt/anaconda3/lib/python3.8/site-packages (from ir-datasets>=0.3.2->python-terrier) (4.9.3)\n",
      "Requirement already satisfied: soupsieve>1.2 in /Users/alp/opt/anaconda3/lib/python3.8/site-packages (from beautifulsoup4>=4.4.1->ir-datasets>=0.3.2->python-terrier) (2.2.1)\n",
      "Requirement already satisfied: pytrec-eval-terrier==0.5.1 in /Users/alp/opt/anaconda3/lib/python3.8/site-packages (from ir-measures>=0.1.4->python-terrier) (0.5.1)\n",
      "Requirement already satisfied: python-dateutil>=2.7.3 in /Users/alp/.local/lib/python3.8/site-packages (from pandas>=0.25.0->python-terrier) (2.8.1)\n",
      "Requirement already satisfied: pytz>=2017.3 in /Users/alp/opt/anaconda3/lib/python3.8/site-packages (from pandas>=0.25.0->python-terrier) (2021.1)\n",
      "Requirement already satisfied: cython in /Users/alp/opt/anaconda3/lib/python3.8/site-packages (from pyjnius~=1.3.0->python-terrier) (0.29.23)\n",
      "Requirement already satisfied: six>=1.7.0 in /Users/alp/.local/lib/python3.8/site-packages (from pyjnius~=1.3.0->python-terrier) (1.16.0)\n",
      "Requirement already satisfied: certifi>=2017.4.17 in /Users/alp/opt/anaconda3/lib/python3.8/site-packages (from requests->python-terrier) (2021.5.30)\n",
      "Requirement already satisfied: urllib3<1.27,>=1.21.1 in /Users/alp/opt/anaconda3/lib/python3.8/site-packages (from requests->python-terrier) (1.26.6)\n",
      "Requirement already satisfied: idna<3,>=2.5 in /Users/alp/opt/anaconda3/lib/python3.8/site-packages (from requests->python-terrier) (2.10)\n",
      "Requirement already satisfied: chardet<5,>=3.0.2 in /Users/alp/opt/anaconda3/lib/python3.8/site-packages (from requests->python-terrier) (4.0.0)\n",
      "Requirement already satisfied: cbor>=1.0.0 in /Users/alp/opt/anaconda3/lib/python3.8/site-packages (from trec-car-tools>=2.5.4->ir-datasets>=0.3.2->python-terrier) (1.0.0)\n",
      "Requirement already satisfied: heapdict in /Users/alp/opt/anaconda3/lib/python3.8/site-packages (from chest->python-terrier) (1.0.1)\n",
      "Requirement already satisfied: packaging in /Users/alp/.local/lib/python3.8/site-packages (from deprecation->python-terrier) (20.9)\n",
      "Requirement already satisfied: MarkupSafe>=2.0 in /Users/alp/.local/lib/python3.8/site-packages (from jinja2->python-terrier) (2.0.1)\n",
      "Requirement already satisfied: multiset<3.0,>=2.0 in /Users/alp/opt/anaconda3/lib/python3.8/site-packages (from matchpy->python-terrier) (2.1.1)\n",
      "Requirement already satisfied: typish>=1.7.0 in /Users/alp/opt/anaconda3/lib/python3.8/site-packages (from nptyping->python-terrier) (1.9.2)\n",
      "Requirement already satisfied: pyparsing>=2.0.2 in /Users/alp/.local/lib/python3.8/site-packages (from packaging->deprecation->python-terrier) (2.4.7)\n",
      "Requirement already satisfied: scikit-learn in /Users/alp/opt/anaconda3/lib/python3.8/site-packages (from sklearn->python-terrier) (0.24.2)\n",
      "Requirement already satisfied: threadpoolctl>=2.0.0 in /Users/alp/opt/anaconda3/lib/python3.8/site-packages (from scikit-learn->sklearn->python-terrier) (2.1.0)\n",
      "Requirement already satisfied: patsy>=0.5 in /Users/alp/opt/anaconda3/lib/python3.8/site-packages (from statsmodels->python-terrier) (0.5.1)\n",
      "Requirement already satisfied: pyjnius in /Users/alp/opt/anaconda3/lib/python3.8/site-packages (1.3.0)\n",
      "Requirement already satisfied: cython in /Users/alp/opt/anaconda3/lib/python3.8/site-packages (from pyjnius) (0.29.23)\n",
      "Requirement already satisfied: six>=1.7.0 in /Users/alp/.local/lib/python3.8/site-packages (from pyjnius) (1.16.0)\n"
     ]
    }
   ],
   "source": [
    "!python3 -m pip install python-terrier\n",
    "!python3 -m pip install pyjnius\n",
    "#!pip3 install --upgrade git+https://github.com/terrier-org/pyterrier.git#egg=python-terrier"
   ]
  },
  {
   "cell_type": "markdown",
   "metadata": {
    "id": "ixzDjvtTOQbB"
   },
   "source": [
    "## Init \n",
    "\n",
    "You must run `pt.init()` before other pyterrier functions and classes\n",
    "\n",
    "Optional Arguments:    \n",
    " - `version` - terrier IR version e.g. \"5.2\"    \n",
    " - `mem` - megabytes allocated to java e.g. \"4096\"      \n",
    " - `packages` - external java packages for Terrier to load e.g. [\"org.terrier:terrier.prf\"]\n",
    " - `logging` - logging level for Terrier. Defaults to \"WARN\", use \"INFO\" or \"DEBUG\" for more output.\n",
    "\n",
    "NB: PyTerrier needs Java 11 installed. If it cannot find your Java installation, you can set the `JAVA_HOME` environment variable."
   ]
  },
  {
   "cell_type": "code",
   "execution_count": null,
   "metadata": {},
   "outputs": [],
   "source": []
  },
  {
   "cell_type": "code",
   "execution_count": 3,
   "metadata": {
    "colab": {
     "base_uri": "https://localhost:8080/",
     "height": 85
    },
    "id": "k3ltUZ8PgWmz",
    "outputId": "647fe3a9-6171-4ad0-8537-17c90aa03943"
   },
   "outputs": [
    {
     "name": "stdout",
     "output_type": "stream",
     "text": [
      "PyTerrier 0.6.0 has loaded Terrier 5.5 (built by craigmacdonald on 2021-05-20 13:12)\n"
     ]
    }
   ],
   "source": [
    "import pyterrier as pt\n",
    "if not pt.started():\n",
    "    pt.init()"
   ]
  },
  {
   "cell_type": "markdown",
   "metadata": {
    "id": "By5UFYnRLgD0"
   },
   "source": [
    "## TREC Indexing\n",
    "\n",
    "Here, we are going to make use of Pyterrier's dataset API. We will use the [vaswani_npl corpus](http://ir.dcs.gla.ac.uk/resources/test_collections/npl/), a very small information retrieval test collection. "
   ]
  },
  {
   "cell_type": "code",
   "execution_count": 4,
   "metadata": {
    "colab": {
     "base_uri": "https://localhost:8080/",
     "height": 34
    },
    "id": "eRx5kIL9nmsB",
    "outputId": "c63da1f0-8d73-4c36-bc0e-ab8366779840"
   },
   "outputs": [
    {
     "name": "stdout",
     "output_type": "stream",
     "text": [
      "Files in vaswani corpus: ['/Users/alp/.pyterrier/corpora/vaswani/corpus/doc-text.trec'] \n"
     ]
    }
   ],
   "source": [
    "dataset = pt.datasets.get_dataset(\"vaswani\")\n",
    "\n",
    "print(\"Files in vaswani corpus: %s \" % dataset.get_corpus())"
   ]
  },
  {
   "cell_type": "code",
   "execution_count": 5,
   "metadata": {
    "id": "iXq3z6MdgWi4"
   },
   "outputs": [],
   "source": [
    "index_path = \"./index\""
   ]
  },
  {
   "cell_type": "markdown",
   "metadata": {
    "id": "gjsYdSDvOTi_"
   },
   "source": [
    "Create `pt.TRECCollectionIndexer` object    \n",
    "index_path argument specifies where to store the index"
   ]
  },
  {
   "cell_type": "code",
   "execution_count": 6,
   "metadata": {
    "colab": {
     "base_uri": "https://localhost:8080/",
     "height": 51
    },
    "id": "-Va70HfBN7s7",
    "outputId": "c74112c1-acca-488c-bd86-07f278265507"
   },
   "outputs": [],
   "source": [
    "!rm -rf ./index\n",
    "indexer = pt.TRECCollectionIndexer(index_path, blocks=True)"
   ]
  },
  {
   "cell_type": "markdown",
   "metadata": {
    "id": "ak_VGdxfQm0p"
   },
   "source": [
    "Index the files by calling the index method on the TRECCollectionIndexer object"
   ]
  },
  {
   "cell_type": "code",
   "execution_count": 7,
   "metadata": {
    "id": "l3C3NLUwQq0p"
   },
   "outputs": [],
   "source": [
    "indexref = indexer.index(dataset.get_corpus())\n",
    "\n",
    "# indexer method takes either a string or a list of strings with the files names\n",
    "# indexer.index([\"/vaswani_corpus/doc-text.trec\",])\n",
    "# indexer.index(\"/vaswani_corpus/doc-text.trec\")\n"
   ]
  },
  {
   "cell_type": "markdown",
   "metadata": {
    "id": "cYDrBpM6ofW-"
   },
   "source": [
    "Lets see what we got from the indexer.\n",
    "\n",
    "IndexRef is a python object representing a Terrier [IndexRef](http://terrier.org/docs/current/javadoc/org/terrier/querying/IndexRef.html) object. You can think of this like a pointer, or a URI. In this case, it points to the location of the main index file."
   ]
  },
  {
   "cell_type": "code",
   "execution_count": 8,
   "metadata": {
    "colab": {
     "base_uri": "https://localhost:8080/",
     "height": 34
    },
    "id": "hI9iNQdpoegm",
    "outputId": "a34fa4e1-a8de-4843-ab47-4db649c88f5c"
   },
   "outputs": [
    {
     "data": {
      "text/plain": [
       "'./index/data.properties'"
      ]
     },
     "execution_count": 8,
     "metadata": {},
     "output_type": "execute_result"
    }
   ],
   "source": [
    "indexref.toString()"
   ]
  },
  {
   "cell_type": "markdown",
   "metadata": {
    "id": "Hf7hX8xXpN6q"
   },
   "source": [
    "We can use that to get more information about the index. For instance, to see the statistics of the index, lets use `index.getCollectionStatistics().toString()`. You can see that we have indexed 11429 documents, containing a total of 7756 unique words."
   ]
  },
  {
   "cell_type": "code",
   "execution_count": 9,
   "metadata": {
    "colab": {
     "base_uri": "https://localhost:8080/",
     "height": 119
    },
    "id": "_wbIUBzeoqkZ",
    "outputId": "180e7910-274e-4b08-d974-da47033d4e87"
   },
   "outputs": [
    {
     "name": "stdout",
     "output_type": "stream",
     "text": [
      "Number of documents: 11429\n",
      "Number of terms: 7756\n",
      "Number of postings: 224573\n",
      "Number of fields: 0\n",
      "Number of tokens: 271581\n",
      "Field names: []\n",
      "Positions:   true\n",
      "\n"
     ]
    }
   ],
   "source": [
    "index = pt.IndexFactory.of(indexref)\n",
    "print(index.getCollectionStatistics().toString())"
   ]
  },
  {
   "cell_type": "markdown",
   "metadata": {
    "id": "yVjVoDYfTN2z"
   },
   "source": [
    "To index TXT, PDF, Microsoft Word, etc files use pt.FilesIndexer instead of pt.TRECCollectionIndexer"
   ]
  },
  {
   "cell_type": "markdown",
   "metadata": {
    "id": "wGV18JV1P129"
   },
   "source": [
    "## Indexing a Pandas dataframe\n",
    "\n",
    "Sometimes we have the documents that we want to index in memory. Terrier makes it easy to index standard Python data structures, particularly [Pandas dataframes](https://pandas.pydata.org/pandas-docs/stable/reference/api/pandas.DataFrame.html).\n",
    "\n",
    "To do thise, we can use a `pt.DFIndexer()` object"
   ]
  },
  {
   "cell_type": "code",
   "execution_count": 10,
   "metadata": {
    "colab": {
     "base_uri": "https://localhost:8080/",
     "height": 34
    },
    "id": "vw-4NIjlUY16",
    "outputId": "ebc0b75e-3449-4e38-c6e2-01ddd77f5de9"
   },
   "outputs": [],
   "source": [
    "import pandas as pd\n",
    "!rm -rf ./pd_index\n",
    "pd_indexer = pt.DFIndexer(\"./pd_index\")\n",
    "\n",
    "# optionally modify properties\n",
    "# index_properies = {\"block.indexing\":\"true\", \"invertedfile.lexiconscanner\":\"pointers\"}\n",
    "# indexer.setProperties(**index_properies)"
   ]
  },
  {
   "cell_type": "code",
   "execution_count": 11,
   "metadata": {
    "id": "NNkn2SdsPzBQ"
   },
   "outputs": [],
   "source": [
    "df = pd.DataFrame({ \n",
    "'docno':\n",
    "['1', '2', '3'],\n",
    "'url': \n",
    "['url1', 'url2', 'url3'],\n",
    "'text': \n",
    "['He ran out of money, so he had to stop playing',\n",
    "'The waves were crashing on the shore; it was a',\n",
    "'The body may perhaps compensates for the loss']\n",
    "})"
   ]
  },
  {
   "cell_type": "code",
   "execution_count": 12,
   "metadata": {
    "colab": {
     "base_uri": "https://localhost:8080/",
     "height": 142
    },
    "id": "Vn-2M9iFyW9K",
    "outputId": "7375299a-c13d-42fc-d2cd-34aecdbbee4a"
   },
   "outputs": [
    {
     "data": {
      "text/html": [
       "<div>\n",
       "<style scoped>\n",
       "    .dataframe tbody tr th:only-of-type {\n",
       "        vertical-align: middle;\n",
       "    }\n",
       "\n",
       "    .dataframe tbody tr th {\n",
       "        vertical-align: top;\n",
       "    }\n",
       "\n",
       "    .dataframe thead th {\n",
       "        text-align: right;\n",
       "    }\n",
       "</style>\n",
       "<table border=\"1\" class=\"dataframe\">\n",
       "  <thead>\n",
       "    <tr style=\"text-align: right;\">\n",
       "      <th></th>\n",
       "      <th>docno</th>\n",
       "      <th>url</th>\n",
       "      <th>text</th>\n",
       "    </tr>\n",
       "  </thead>\n",
       "  <tbody>\n",
       "    <tr>\n",
       "      <th>0</th>\n",
       "      <td>1</td>\n",
       "      <td>url1</td>\n",
       "      <td>He ran out of money, so he had to stop playing</td>\n",
       "    </tr>\n",
       "    <tr>\n",
       "      <th>1</th>\n",
       "      <td>2</td>\n",
       "      <td>url2</td>\n",
       "      <td>The waves were crashing on the shore; it was a</td>\n",
       "    </tr>\n",
       "    <tr>\n",
       "      <th>2</th>\n",
       "      <td>3</td>\n",
       "      <td>url3</td>\n",
       "      <td>The body may perhaps compensates for the loss</td>\n",
       "    </tr>\n",
       "  </tbody>\n",
       "</table>\n",
       "</div>"
      ],
      "text/plain": [
       "  docno   url                                            text\n",
       "0     1  url1  He ran out of money, so he had to stop playing\n",
       "1     2  url2  The waves were crashing on the shore; it was a\n",
       "2     3  url3   The body may perhaps compensates for the loss"
      ]
     },
     "execution_count": 12,
     "metadata": {},
     "output_type": "execute_result"
    }
   ],
   "source": [
    "df"
   ]
  },
  {
   "cell_type": "markdown",
   "metadata": {
    "id": "K-idBQ5OUV9c"
   },
   "source": [
    "Then there are a number of options to index the dataframe:    \n",
    "The first argument should always a pandas.Series object of Strings, which specifies the body of each document.    \n",
    "Any arguments after that are for specifying metadata.\n"
   ]
  },
  {
   "cell_type": "code",
   "execution_count": 13,
   "metadata": {
    "id": "rBXHWO4yUJT7"
   },
   "outputs": [],
   "source": [
    "# no metadata\n",
    "# pd_indexer.index(df[\"text\"])\n",
    "\n",
    "# Add metadata fields as Pandas.Series objects, with the name of the Series object becoming the name of the meta field.\n",
    "indexref2 = pd_indexer.index(df[\"text\"], df[\"docno\"])\n",
    "# pd_indexer.index(df[\"text\"], df[\"docno\"], df[\"url\"])\n",
    "\n",
    "# Add metadata fields as lists to a keyword arguement\n",
    "# pd_indexer.index(df[\"text\"], docno=[\"1\",\"2\",\"3\"], url=[\"url1\", \"url2\", \"url3\"])\n",
    "\n",
    "# Add the metadata fields with a dictionary\n",
    "# meta_fields={\"docno\":[\"1\",\"2\",\"3\"],\"url\":[\"url1\", \"url2\", \"url3\"]}\n",
    "# pd_indexer.index(df[\"text\"], **meta_fields)\n",
    "\n",
    "# Add the entire dataframe as metadata\n",
    "# pd_indexer.index(df[\"text\"], df)"
   ]
  },
  {
   "cell_type": "markdown",
   "metadata": {
    "id": "zjSUuBcou_L2"
   },
   "source": [
    "## Indexing a iterable, generator, etc.\n",
    "\n",
    "You may not want to load all documents into memory, particularly for large collections. Terrier can index iterable objects (e.g., generators) that yield `dict` objects.\n",
    "\n",
    "To do thise, we can use a `pt.IterDictIndexer()` object. By default, `text` will be indexed and `docno` will be stored in the meta index. These can be configured with the `fields` and `meta` parameters, respectively."
   ]
  },
  {
   "cell_type": "code",
   "execution_count": 14,
   "metadata": {
    "colab": {
     "base_uri": "https://localhost:8080/",
     "height": 1000
    },
    "id": "CBYEKxK4u_uV",
    "outputId": "f1880b9e-495e-44f2-a094-dbbf5ae7d1d9"
   },
   "outputs": [
    {
     "name": "stdout",
     "output_type": "stream",
     "text": [
      "processing document 0\n",
      "00:10:34.760 [ForkJoinPool-1-worker-3] WARN  o.t.structures.indexing.Indexer - Adding an empty document to the index (730691_1) - further warnings are suppressed\n",
      "processing document 100000\n",
      "processing document 200000\n",
      "processing document 300000\n",
      "processing document 400000\n",
      "00:11:50.143 [ForkJoinPool-1-worker-3] WARN  o.t.structures.indexing.Indexer - Indexed 2224 empty documents\n"
     ]
    }
   ],
   "source": [
    "# As an example, we will stream the ANTIQUE collection.\n",
    "# It is formatted as \"[docno] \\t [text] \\n\"\n",
    "import urllib\n",
    "import io\n",
    "def antique_doc_iter():\n",
    "    stream = urllib.request.urlopen('https://ciir.cs.umass.edu/downloads/Antique/antique-collection.txt')\n",
    "    stream = io.TextIOWrapper(stream)\n",
    "    for i, line in enumerate(stream):\n",
    "        if i % 100000 == 0:\n",
    "            print(f'processing document {i}')\n",
    "        docno, text = line.rstrip().split('\\t')\n",
    "        yield {'docno': docno, 'text': text}\n",
    "\n",
    "!rm -rf ./iter_index\n",
    "iter_indexer = pt.IterDictIndexer(\"./iter_index\")\n",
    "\n",
    "doc_iter = antique_doc_iter()\n",
    "indexref3 = iter_indexer.index(doc_iter)\n",
    "\n",
    "# Additional fields can be added in the dict. You can configure which fields are\n",
    "# indexed and which are used as metadata with the fields and meta parameters.\n",
    "# yield {'docno': docno, 'title': title, 'text': text, 'url': url}\n",
    "# iter_indexer.index(doc_iter, fields=['text', 'title'], meta=['docno', 'url'])"
   ]
  },
  {
   "cell_type": "markdown",
   "metadata": {
    "id": "IKrZNyaUXRMg"
   },
   "source": [
    "## Retrieval\n",
    "\n",
    "Lets see how we can use one of these for retrieval. Retrieval takes place using the `BatchRetrieve` object, by invoking `transform()` method for one or more queries. For a quick test, you can give just pass your query to `transform()`. \n",
    "\n",
    "BatchRetrieve will return the results as a Pandas dataframe.\n"
   ]
  },
  {
   "cell_type": "code",
   "execution_count": 16,
   "metadata": {
    "colab": {
     "base_uri": "https://localhost:8080/",
     "height": 419
    },
    "id": "zWj6YnN4Wnsz",
    "outputId": "11b3b274-2921-4663-f91b-9ef711376582"
   },
   "outputs": [
    {
     "data": {
      "text/html": [
       "<div>\n",
       "<style scoped>\n",
       "    .dataframe tbody tr th:only-of-type {\n",
       "        vertical-align: middle;\n",
       "    }\n",
       "\n",
       "    .dataframe tbody tr th {\n",
       "        vertical-align: top;\n",
       "    }\n",
       "\n",
       "    .dataframe thead th {\n",
       "        text-align: right;\n",
       "    }\n",
       "</style>\n",
       "<table border=\"1\" class=\"dataframe\">\n",
       "  <thead>\n",
       "    <tr style=\"text-align: right;\">\n",
       "      <th></th>\n",
       "      <th>qid</th>\n",
       "      <th>docid</th>\n",
       "      <th>docno</th>\n",
       "      <th>rank</th>\n",
       "      <th>score</th>\n",
       "      <th>query</th>\n",
       "    </tr>\n",
       "  </thead>\n",
       "  <tbody>\n",
       "    <tr>\n",
       "      <th>0</th>\n",
       "      <td>1</td>\n",
       "      <td>5040</td>\n",
       "      <td>5041</td>\n",
       "      <td>0</td>\n",
       "      <td>3.566201</td>\n",
       "      <td>mathematical</td>\n",
       "    </tr>\n",
       "    <tr>\n",
       "      <th>1</th>\n",
       "      <td>1</td>\n",
       "      <td>303</td>\n",
       "      <td>304</td>\n",
       "      <td>1</td>\n",
       "      <td>3.566201</td>\n",
       "      <td>mathematical</td>\n",
       "    </tr>\n",
       "    <tr>\n",
       "      <th>2</th>\n",
       "      <td>1</td>\n",
       "      <td>3534</td>\n",
       "      <td>3535</td>\n",
       "      <td>2</td>\n",
       "      <td>3.566201</td>\n",
       "      <td>mathematical</td>\n",
       "    </tr>\n",
       "    <tr>\n",
       "      <th>3</th>\n",
       "      <td>1</td>\n",
       "      <td>2444</td>\n",
       "      <td>2445</td>\n",
       "      <td>3</td>\n",
       "      <td>3.566201</td>\n",
       "      <td>mathematical</td>\n",
       "    </tr>\n",
       "    <tr>\n",
       "      <th>4</th>\n",
       "      <td>1</td>\n",
       "      <td>5011</td>\n",
       "      <td>5012</td>\n",
       "      <td>4</td>\n",
       "      <td>3.564534</td>\n",
       "      <td>mathematical</td>\n",
       "    </tr>\n",
       "    <tr>\n",
       "      <th>...</th>\n",
       "      <td>...</td>\n",
       "      <td>...</td>\n",
       "      <td>...</td>\n",
       "      <td>...</td>\n",
       "      <td>...</td>\n",
       "      <td>...</td>\n",
       "    </tr>\n",
       "    <tr>\n",
       "      <th>147</th>\n",
       "      <td>1</td>\n",
       "      <td>7283</td>\n",
       "      <td>7284</td>\n",
       "      <td>147</td>\n",
       "      <td>2.834784</td>\n",
       "      <td>mathematical</td>\n",
       "    </tr>\n",
       "    <tr>\n",
       "      <th>148</th>\n",
       "      <td>1</td>\n",
       "      <td>6714</td>\n",
       "      <td>6715</td>\n",
       "      <td>148</td>\n",
       "      <td>2.811375</td>\n",
       "      <td>mathematical</td>\n",
       "    </tr>\n",
       "    <tr>\n",
       "      <th>149</th>\n",
       "      <td>1</td>\n",
       "      <td>4746</td>\n",
       "      <td>4747</td>\n",
       "      <td>149</td>\n",
       "      <td>2.790373</td>\n",
       "      <td>mathematical</td>\n",
       "    </tr>\n",
       "    <tr>\n",
       "      <th>150</th>\n",
       "      <td>1</td>\n",
       "      <td>8622</td>\n",
       "      <td>8623</td>\n",
       "      <td>150</td>\n",
       "      <td>2.759409</td>\n",
       "      <td>mathematical</td>\n",
       "    </tr>\n",
       "    <tr>\n",
       "      <th>151</th>\n",
       "      <td>1</td>\n",
       "      <td>9800</td>\n",
       "      <td>9801</td>\n",
       "      <td>151</td>\n",
       "      <td>2.671493</td>\n",
       "      <td>mathematical</td>\n",
       "    </tr>\n",
       "  </tbody>\n",
       "</table>\n",
       "<p>152 rows × 6 columns</p>\n",
       "</div>"
      ],
      "text/plain": [
       "    qid  docid docno  rank     score         query\n",
       "0     1   5040  5041     0  3.566201  mathematical\n",
       "1     1    303   304     1  3.566201  mathematical\n",
       "2     1   3534  3535     2  3.566201  mathematical\n",
       "3     1   2444  2445     3  3.566201  mathematical\n",
       "4     1   5011  5012     4  3.564534  mathematical\n",
       "..   ..    ...   ...   ...       ...           ...\n",
       "147   1   7283  7284   147  2.834784  mathematical\n",
       "148   1   6714  6715   148  2.811375  mathematical\n",
       "149   1   4746  4747   149  2.790373  mathematical\n",
       "150   1   8622  8623   150  2.759409  mathematical\n",
       "151   1   9800  9801   151  2.671493  mathematical\n",
       "\n",
       "[152 rows x 6 columns]"
      ]
     },
     "execution_count": 16,
     "metadata": {},
     "output_type": "execute_result"
    }
   ],
   "source": [
    "pt.BatchRetrieve(indexref).search(\"mathematical\")"
   ]
  },
  {
   "cell_type": "markdown",
   "metadata": {
    "id": "oK_wOzQrqi8t"
   },
   "source": [
    "However, most IR experiments, will use a set of queries. You can pass such a set using a data frame for input."
   ]
  },
  {
   "cell_type": "code",
   "execution_count": 17,
   "metadata": {
    "colab": {
     "base_uri": "https://localhost:8080/",
     "height": 419
    },
    "id": "dgtauIOAXGFY",
    "outputId": "6a4e7e45-eaa4-48a0-d069-b271e3554826"
   },
   "outputs": [
    {
     "data": {
      "text/html": [
       "<div>\n",
       "<style scoped>\n",
       "    .dataframe tbody tr th:only-of-type {\n",
       "        vertical-align: middle;\n",
       "    }\n",
       "\n",
       "    .dataframe tbody tr th {\n",
       "        vertical-align: top;\n",
       "    }\n",
       "\n",
       "    .dataframe thead th {\n",
       "        text-align: right;\n",
       "    }\n",
       "</style>\n",
       "<table border=\"1\" class=\"dataframe\">\n",
       "  <thead>\n",
       "    <tr style=\"text-align: right;\">\n",
       "      <th></th>\n",
       "      <th>qid</th>\n",
       "      <th>docid</th>\n",
       "      <th>docno</th>\n",
       "      <th>rank</th>\n",
       "      <th>score</th>\n",
       "      <th>query</th>\n",
       "    </tr>\n",
       "  </thead>\n",
       "  <tbody>\n",
       "    <tr>\n",
       "      <th>0</th>\n",
       "      <td>2</td>\n",
       "      <td>5040</td>\n",
       "      <td>5041</td>\n",
       "      <td>0</td>\n",
       "      <td>3.566201</td>\n",
       "      <td>mathematical</td>\n",
       "    </tr>\n",
       "    <tr>\n",
       "      <th>1</th>\n",
       "      <td>2</td>\n",
       "      <td>303</td>\n",
       "      <td>304</td>\n",
       "      <td>1</td>\n",
       "      <td>3.566201</td>\n",
       "      <td>mathematical</td>\n",
       "    </tr>\n",
       "    <tr>\n",
       "      <th>2</th>\n",
       "      <td>2</td>\n",
       "      <td>3534</td>\n",
       "      <td>3535</td>\n",
       "      <td>2</td>\n",
       "      <td>3.566201</td>\n",
       "      <td>mathematical</td>\n",
       "    </tr>\n",
       "    <tr>\n",
       "      <th>3</th>\n",
       "      <td>2</td>\n",
       "      <td>2444</td>\n",
       "      <td>2445</td>\n",
       "      <td>3</td>\n",
       "      <td>3.566201</td>\n",
       "      <td>mathematical</td>\n",
       "    </tr>\n",
       "    <tr>\n",
       "      <th>4</th>\n",
       "      <td>2</td>\n",
       "      <td>5011</td>\n",
       "      <td>5012</td>\n",
       "      <td>4</td>\n",
       "      <td>3.564534</td>\n",
       "      <td>mathematical</td>\n",
       "    </tr>\n",
       "    <tr>\n",
       "      <th>...</th>\n",
       "      <td>...</td>\n",
       "      <td>...</td>\n",
       "      <td>...</td>\n",
       "      <td>...</td>\n",
       "      <td>...</td>\n",
       "      <td>...</td>\n",
       "    </tr>\n",
       "    <tr>\n",
       "      <th>147</th>\n",
       "      <td>2</td>\n",
       "      <td>7283</td>\n",
       "      <td>7284</td>\n",
       "      <td>147</td>\n",
       "      <td>2.834784</td>\n",
       "      <td>mathematical</td>\n",
       "    </tr>\n",
       "    <tr>\n",
       "      <th>148</th>\n",
       "      <td>2</td>\n",
       "      <td>6714</td>\n",
       "      <td>6715</td>\n",
       "      <td>148</td>\n",
       "      <td>2.811375</td>\n",
       "      <td>mathematical</td>\n",
       "    </tr>\n",
       "    <tr>\n",
       "      <th>149</th>\n",
       "      <td>2</td>\n",
       "      <td>4746</td>\n",
       "      <td>4747</td>\n",
       "      <td>149</td>\n",
       "      <td>2.790373</td>\n",
       "      <td>mathematical</td>\n",
       "    </tr>\n",
       "    <tr>\n",
       "      <th>150</th>\n",
       "      <td>2</td>\n",
       "      <td>8622</td>\n",
       "      <td>8623</td>\n",
       "      <td>150</td>\n",
       "      <td>2.759409</td>\n",
       "      <td>mathematical</td>\n",
       "    </tr>\n",
       "    <tr>\n",
       "      <th>151</th>\n",
       "      <td>2</td>\n",
       "      <td>9800</td>\n",
       "      <td>9801</td>\n",
       "      <td>151</td>\n",
       "      <td>2.671493</td>\n",
       "      <td>mathematical</td>\n",
       "    </tr>\n",
       "  </tbody>\n",
       "</table>\n",
       "<p>152 rows × 6 columns</p>\n",
       "</div>"
      ],
      "text/plain": [
       "    qid  docid docno  rank     score         query\n",
       "0     2   5040  5041     0  3.566201  mathematical\n",
       "1     2    303   304     1  3.566201  mathematical\n",
       "2     2   3534  3535     2  3.566201  mathematical\n",
       "3     2   2444  2445     3  3.566201  mathematical\n",
       "4     2   5011  5012     4  3.564534  mathematical\n",
       "..   ..    ...   ...   ...       ...           ...\n",
       "147   2   7283  7284   147  2.834784  mathematical\n",
       "148   2   6714  6715   148  2.811375  mathematical\n",
       "149   2   4746  4747   149  2.790373  mathematical\n",
       "150   2   8622  8623   150  2.759409  mathematical\n",
       "151   2   9800  9801   151  2.671493  mathematical\n",
       "\n",
       "[152 rows x 6 columns]"
      ]
     },
     "execution_count": 17,
     "metadata": {},
     "output_type": "execute_result"
    }
   ],
   "source": [
    "import pandas as pd\n",
    "topics = pd.DataFrame([[\"2\", \"mathematical\"]],columns=['qid','query'])\n",
    "pt.BatchRetrieve(indexref).transform(topics)"
   ]
  },
  {
   "cell_type": "markdown",
   "metadata": {
    "id": "XLcNP0XHqwQs"
   },
   "source": [
    "Thats the end of the indexing tutorial - you can continue with other example tutorials."
   ]
  },
  {
   "cell_type": "code",
   "execution_count": null,
   "metadata": {},
   "outputs": [],
   "source": []
  }
 ],
 "metadata": {
  "colab": {
   "collapsed_sections": [],
   "name": "Indexing Demo.ipynb",
   "provenance": [],
   "toc_visible": true
  },
  "kernelspec": {
   "display_name": "Python 3",
   "language": "python",
   "name": "python3"
  },
  "language_info": {
   "codemirror_mode": {
    "name": "ipython",
    "version": 3
   },
   "file_extension": ".py",
   "mimetype": "text/x-python",
   "name": "python",
   "nbconvert_exporter": "python",
   "pygments_lexer": "ipython3",
   "version": "3.8.8"
  }
 },
 "nbformat": 4,
 "nbformat_minor": 1
}
