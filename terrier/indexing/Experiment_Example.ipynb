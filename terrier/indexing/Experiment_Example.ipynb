{
 "cells": [
  {
   "cell_type": "markdown",
   "metadata": {
    "id": "P5kzUfb36WMd"
   },
   "source": [
    "# Pyterrier - Example Experiment\n",
    "\n",
    "# Preparation"
   ]
  },
  {
   "cell_type": "code",
   "execution_count": 1,
   "metadata": {
    "colab": {
     "base_uri": "https://localhost:8080/",
     "height": 765
    },
    "id": "TejY4gN66TCc",
    "outputId": "262dc29e-aa9b-4de6-9014-2887d107417a"
   },
   "outputs": [
    {
     "name": "stdout",
     "output_type": "stream",
     "text": [
      "Requirement already satisfied: python-terrier in /Users/alp/opt/anaconda3/lib/python3.8/site-packages (0.6.0)\n",
      "Requirement already satisfied: scipy in /Users/alp/opt/anaconda3/lib/python3.8/site-packages (from python-terrier) (1.7.0)\n",
      "Requirement already satisfied: jinja2 in /Users/alp/.local/lib/python3.8/site-packages (from python-terrier) (3.0.1)\n",
      "Requirement already satisfied: wget in /Users/alp/opt/anaconda3/lib/python3.8/site-packages (from python-terrier) (3.2)\n",
      "Requirement already satisfied: pandas>=0.25.0 in /Users/alp/opt/anaconda3/lib/python3.8/site-packages (from python-terrier) (1.2.5)\n",
      "Requirement already satisfied: chest in /Users/alp/opt/anaconda3/lib/python3.8/site-packages (from python-terrier) (0.2.3)\n",
      "Requirement already satisfied: ir-datasets>=0.3.2 in /Users/alp/opt/anaconda3/lib/python3.8/site-packages (from python-terrier) (0.4.0)\n",
      "Requirement already satisfied: ir-measures>=0.1.4 in /Users/alp/opt/anaconda3/lib/python3.8/site-packages (from python-terrier) (0.1.4)\n",
      "Requirement already satisfied: sklearn in /Users/alp/opt/anaconda3/lib/python3.8/site-packages (from python-terrier) (0.0)\n",
      "Requirement already satisfied: statsmodels in /Users/alp/opt/anaconda3/lib/python3.8/site-packages (from python-terrier) (0.12.2)\n",
      "Requirement already satisfied: joblib in /Users/alp/opt/anaconda3/lib/python3.8/site-packages (from python-terrier) (1.0.1)\n",
      "Requirement already satisfied: more-itertools in /Users/alp/opt/anaconda3/lib/python3.8/site-packages (from python-terrier) (8.8.0)\n",
      "Requirement already satisfied: tqdm in /Users/alp/opt/anaconda3/lib/python3.8/site-packages (from python-terrier) (4.61.1)\n",
      "Requirement already satisfied: numpy in /Users/alp/opt/anaconda3/lib/python3.8/site-packages (from python-terrier) (1.20.2)\n",
      "Requirement already satisfied: requests in /Users/alp/opt/anaconda3/lib/python3.8/site-packages (from python-terrier) (2.25.1)\n",
      "Requirement already satisfied: pyjnius~=1.3.0 in /Users/alp/opt/anaconda3/lib/python3.8/site-packages (from python-terrier) (1.3.0)\n",
      "Requirement already satisfied: matchpy in /Users/alp/opt/anaconda3/lib/python3.8/site-packages (from python-terrier) (0.5.4)\n",
      "Requirement already satisfied: deprecation in /Users/alp/opt/anaconda3/lib/python3.8/site-packages (from python-terrier) (2.1.0)\n",
      "Requirement already satisfied: nptyping in /Users/alp/opt/anaconda3/lib/python3.8/site-packages (from python-terrier) (1.4.2)\n",
      "Requirement already satisfied: beautifulsoup4>=4.4.1 in /Users/alp/opt/anaconda3/lib/python3.8/site-packages (from ir-datasets>=0.3.2->python-terrier) (4.9.3)\n",
      "Requirement already satisfied: lz4>=3.1.1 in /Users/alp/opt/anaconda3/lib/python3.8/site-packages (from ir-datasets>=0.3.2->python-terrier) (3.1.3)\n",
      "Requirement already satisfied: ijson>=3.1.3 in /Users/alp/opt/anaconda3/lib/python3.8/site-packages (from ir-datasets>=0.3.2->python-terrier) (3.1.4)\n",
      "Requirement already satisfied: pyyaml>=5.3.1 in /Users/alp/opt/anaconda3/lib/python3.8/site-packages (from ir-datasets>=0.3.2->python-terrier) (5.4.1)\n",
      "Requirement already satisfied: trec-car-tools>=2.5.4 in /Users/alp/opt/anaconda3/lib/python3.8/site-packages (from ir-datasets>=0.3.2->python-terrier) (2.5.4)\n",
      "Requirement already satisfied: lxml>=4.5.2 in /Users/alp/opt/anaconda3/lib/python3.8/site-packages (from ir-datasets>=0.3.2->python-terrier) (4.6.3)\n",
      "Requirement already satisfied: warc3-wet>=0.2.3 in /Users/alp/opt/anaconda3/lib/python3.8/site-packages (from ir-datasets>=0.3.2->python-terrier) (0.2.3)\n",
      "Requirement already satisfied: warc3-wet-clueweb09>=0.2.5 in /Users/alp/opt/anaconda3/lib/python3.8/site-packages (from ir-datasets>=0.3.2->python-terrier) (0.2.5)\n",
      "Requirement already satisfied: zlib-state>=0.1.3 in /Users/alp/opt/anaconda3/lib/python3.8/site-packages (from ir-datasets>=0.3.2->python-terrier) (0.1.3)\n",
      "Requirement already satisfied: soupsieve>1.2 in /Users/alp/opt/anaconda3/lib/python3.8/site-packages (from beautifulsoup4>=4.4.1->ir-datasets>=0.3.2->python-terrier) (2.2.1)\n",
      "Requirement already satisfied: pytrec-eval-terrier==0.5.1 in /Users/alp/opt/anaconda3/lib/python3.8/site-packages (from ir-measures>=0.1.4->python-terrier) (0.5.1)\n",
      "Requirement already satisfied: python-dateutil>=2.7.3 in /Users/alp/.local/lib/python3.8/site-packages (from pandas>=0.25.0->python-terrier) (2.8.1)\n",
      "Requirement already satisfied: pytz>=2017.3 in /Users/alp/opt/anaconda3/lib/python3.8/site-packages (from pandas>=0.25.0->python-terrier) (2021.1)\n",
      "Requirement already satisfied: six>=1.7.0 in /Users/alp/.local/lib/python3.8/site-packages (from pyjnius~=1.3.0->python-terrier) (1.16.0)\n",
      "Requirement already satisfied: cython in /Users/alp/opt/anaconda3/lib/python3.8/site-packages (from pyjnius~=1.3.0->python-terrier) (0.29.23)\n",
      "Requirement already satisfied: certifi>=2017.4.17 in /Users/alp/opt/anaconda3/lib/python3.8/site-packages (from requests->python-terrier) (2021.5.30)\n",
      "Requirement already satisfied: idna<3,>=2.5 in /Users/alp/opt/anaconda3/lib/python3.8/site-packages (from requests->python-terrier) (2.10)\n",
      "Requirement already satisfied: urllib3<1.27,>=1.21.1 in /Users/alp/opt/anaconda3/lib/python3.8/site-packages (from requests->python-terrier) (1.26.6)\n",
      "Requirement already satisfied: chardet<5,>=3.0.2 in /Users/alp/opt/anaconda3/lib/python3.8/site-packages (from requests->python-terrier) (4.0.0)\n",
      "Requirement already satisfied: cbor>=1.0.0 in /Users/alp/opt/anaconda3/lib/python3.8/site-packages (from trec-car-tools>=2.5.4->ir-datasets>=0.3.2->python-terrier) (1.0.0)\n",
      "Requirement already satisfied: heapdict in /Users/alp/opt/anaconda3/lib/python3.8/site-packages (from chest->python-terrier) (1.0.1)\n",
      "Requirement already satisfied: packaging in /Users/alp/.local/lib/python3.8/site-packages (from deprecation->python-terrier) (20.9)\n",
      "Requirement already satisfied: MarkupSafe>=2.0 in /Users/alp/.local/lib/python3.8/site-packages (from jinja2->python-terrier) (2.0.1)\n",
      "Requirement already satisfied: multiset<3.0,>=2.0 in /Users/alp/opt/anaconda3/lib/python3.8/site-packages (from matchpy->python-terrier) (2.1.1)\n",
      "Requirement already satisfied: typish>=1.7.0 in /Users/alp/opt/anaconda3/lib/python3.8/site-packages (from nptyping->python-terrier) (1.9.2)\n",
      "Requirement already satisfied: pyparsing>=2.0.2 in /Users/alp/.local/lib/python3.8/site-packages (from packaging->deprecation->python-terrier) (2.4.7)\n",
      "Requirement already satisfied: scikit-learn in /Users/alp/opt/anaconda3/lib/python3.8/site-packages (from sklearn->python-terrier) (0.24.2)\n",
      "Requirement already satisfied: threadpoolctl>=2.0.0 in /Users/alp/opt/anaconda3/lib/python3.8/site-packages (from scikit-learn->sklearn->python-terrier) (2.1.0)\n",
      "Requirement already satisfied: patsy>=0.5 in /Users/alp/opt/anaconda3/lib/python3.8/site-packages (from statsmodels->python-terrier) (0.5.1)\n"
     ]
    }
   ],
   "source": [
    "!pip install python-terrier"
   ]
  },
  {
   "cell_type": "markdown",
   "metadata": {
    "id": "nt9K3eSWc_Zk"
   },
   "source": [
    "# Init \n",
    "\n",
    "You must run `pt.init()` before other pyterrier functions and classes\n",
    "\n",
    "Arguments:\n",
    " - `version` - Terrier platform version e.g. `\"5.2\"`    \n",
    " - `mem` - megabytes allocated to Java e.g. `4096`      \n"
   ]
  },
  {
   "cell_type": "code",
   "execution_count": 2,
   "metadata": {
    "colab": {
     "base_uri": "https://localhost:8080/",
     "height": 85
    },
    "id": "4nt1cgv-6dzf",
    "outputId": "7b801c7d-3964-4980-fc3d-8b0dc23748bb"
   },
   "outputs": [
    {
     "name": "stdout",
     "output_type": "stream",
     "text": [
      "PyTerrier 0.6.0 has loaded Terrier 5.5 (built by craigmacdonald on 2021-05-20 13:12)\n"
     ]
    }
   ],
   "source": [
    "import pyterrier as pt\n",
    "if not pt.started():\n",
    "  pt.init()"
   ]
  },
  {
   "cell_type": "markdown",
   "metadata": {
    "id": "ZfFfllxN6Vnv"
   },
   "source": [
    "Again, we're using the Dataset interface to quickly access a test collection."
   ]
  },
  {
   "cell_type": "code",
   "execution_count": 3,
   "metadata": {
    "id": "LVboB-IY5Joj"
   },
   "outputs": [],
   "source": [
    "vaswani = pt.datasets.get_dataset(\"vaswani\")"
   ]
  },
  {
   "cell_type": "markdown",
   "metadata": {
    "id": "Vxgbi63k64pj"
   },
   "source": [
    "# Experiment\n",
    "\n",
    "Тhe `experiment` function allows you to perform retrieval and evaluation in a declarative fashoin, allowing a simple function call with multiple retrieval systems to be executed using a single function call."
   ]
  },
  {
   "cell_type": "markdown",
   "metadata": {
    "id": "OVmeqAX-67Am"
   },
   "source": [
    "First create the BatchRetrieve objects with the configurartion that you wish to use"
   ]
  },
  {
   "cell_type": "code",
   "execution_count": 4,
   "metadata": {
    "id": "9bMNAVT06j6E"
   },
   "outputs": [],
   "source": [
    "TF_IDF = pt.BatchRetrieve(vaswani.get_index(), wmodel=\"TF_IDF\")\n",
    "BM25 = pt.BatchRetrieve(vaswani.get_index(), wmodel=\"BM25\")\n",
    "PL2 = pt.BatchRetrieve(vaswani.get_index(), wmodel=\"PL2\")"
   ]
  },
  {
   "cell_type": "markdown",
   "metadata": {
    "id": "ozgSUBhD7I6L"
   },
   "source": [
    "Call `pt.Experiment` with the list of retrieval objects, topics, qrels and list of metrics\n",
    "\n",
    "Optional arguments:    \n",
    " - `perquery=False` - Show the results for each query instad of the mean    \n",
    " - `dataframe=True` - Return the result as a dataframe if True, or as a dictionary if False\n",
    " - `round=4` - round all measures to 4 decimal places\n",
    " "
   ]
  },
  {
   "cell_type": "code",
   "execution_count": 5,
   "metadata": {
    "colab": {
     "base_uri": "https://localhost:8080/",
     "height": 142
    },
    "id": "8LCmxPtY6j3Q",
    "outputId": "d8c64099-b122-47f2-a5be-e86768241b8e"
   },
   "outputs": [
    {
     "data": {
      "text/html": [
       "<div>\n",
       "<style scoped>\n",
       "    .dataframe tbody tr th:only-of-type {\n",
       "        vertical-align: middle;\n",
       "    }\n",
       "\n",
       "    .dataframe tbody tr th {\n",
       "        vertical-align: top;\n",
       "    }\n",
       "\n",
       "    .dataframe thead th {\n",
       "        text-align: right;\n",
       "    }\n",
       "</style>\n",
       "<table border=\"1\" class=\"dataframe\">\n",
       "  <thead>\n",
       "    <tr style=\"text-align: right;\">\n",
       "      <th></th>\n",
       "      <th>name</th>\n",
       "      <th>map</th>\n",
       "      <th>ndcg</th>\n",
       "    </tr>\n",
       "  </thead>\n",
       "  <tbody>\n",
       "    <tr>\n",
       "      <th>0</th>\n",
       "      <td>BR(TF_IDF)</td>\n",
       "      <td>0.290905</td>\n",
       "      <td>0.615367</td>\n",
       "    </tr>\n",
       "    <tr>\n",
       "      <th>1</th>\n",
       "      <td>BR(BM25)</td>\n",
       "      <td>0.296517</td>\n",
       "      <td>0.621197</td>\n",
       "    </tr>\n",
       "    <tr>\n",
       "      <th>2</th>\n",
       "      <td>BR(PL2)</td>\n",
       "      <td>0.276264</td>\n",
       "      <td>0.601225</td>\n",
       "    </tr>\n",
       "  </tbody>\n",
       "</table>\n",
       "</div>"
      ],
      "text/plain": [
       "         name       map      ndcg\n",
       "0  BR(TF_IDF)  0.290905  0.615367\n",
       "1    BR(BM25)  0.296517  0.621197\n",
       "2     BR(PL2)  0.276264  0.601225"
      ]
     },
     "execution_count": 5,
     "metadata": {},
     "output_type": "execute_result"
    }
   ],
   "source": [
    "pt.Experiment(\n",
    "    [TF_IDF,BM25,PL2],\n",
    "    vaswani.get_topics(),\n",
    "    vaswani.get_qrels(),\n",
    "    ['map','ndcg'])"
   ]
  },
  {
   "cell_type": "markdown",
   "metadata": {
    "id": "DGirB4fBGZaZ"
   },
   "source": [
    "## Declaring a baseline\n",
    "\n",
    "Use the `baseline=` kwarg to specify which system should be considered the baseline in this experiment. \n",
    "This will enable significance testing (paired t-test), as well as showing the number of queries improved and degraded \n",
    "wrt. the baseline.\n",
    "\n"
   ]
  },
  {
   "cell_type": "code",
   "execution_count": 6,
   "metadata": {
    "id": "e7QNvWKTGZaa",
    "outputId": "5d0bbc19-7066-4e22-8774-ca8200e418c8"
   },
   "outputs": [
    {
     "data": {
      "text/html": [
       "<div>\n",
       "<style scoped>\n",
       "    .dataframe tbody tr th:only-of-type {\n",
       "        vertical-align: middle;\n",
       "    }\n",
       "\n",
       "    .dataframe tbody tr th {\n",
       "        vertical-align: top;\n",
       "    }\n",
       "\n",
       "    .dataframe thead th {\n",
       "        text-align: right;\n",
       "    }\n",
       "</style>\n",
       "<table border=\"1\" class=\"dataframe\">\n",
       "  <thead>\n",
       "    <tr style=\"text-align: right;\">\n",
       "      <th></th>\n",
       "      <th>name</th>\n",
       "      <th>map</th>\n",
       "      <th>ndcg</th>\n",
       "      <th>map +</th>\n",
       "      <th>map -</th>\n",
       "      <th>map p-value</th>\n",
       "      <th>ndcg +</th>\n",
       "      <th>ndcg -</th>\n",
       "      <th>ndcg p-value</th>\n",
       "    </tr>\n",
       "  </thead>\n",
       "  <tbody>\n",
       "    <tr>\n",
       "      <th>0</th>\n",
       "      <td>BR(TF_IDF)</td>\n",
       "      <td>0.290905</td>\n",
       "      <td>0.615367</td>\n",
       "      <td>NaN</td>\n",
       "      <td>NaN</td>\n",
       "      <td>NaN</td>\n",
       "      <td>NaN</td>\n",
       "      <td>NaN</td>\n",
       "      <td>NaN</td>\n",
       "    </tr>\n",
       "    <tr>\n",
       "      <th>1</th>\n",
       "      <td>BR(BM25)</td>\n",
       "      <td>0.296517</td>\n",
       "      <td>0.621197</td>\n",
       "      <td>46.0</td>\n",
       "      <td>45.0</td>\n",
       "      <td>0.237317</td>\n",
       "      <td>45.0</td>\n",
       "      <td>46.0</td>\n",
       "      <td>0.143493</td>\n",
       "    </tr>\n",
       "    <tr>\n",
       "      <th>2</th>\n",
       "      <td>BR(PL2)</td>\n",
       "      <td>0.276264</td>\n",
       "      <td>0.601225</td>\n",
       "      <td>13.0</td>\n",
       "      <td>77.0</td>\n",
       "      <td>0.008827</td>\n",
       "      <td>17.0</td>\n",
       "      <td>73.0</td>\n",
       "      <td>0.002583</td>\n",
       "    </tr>\n",
       "  </tbody>\n",
       "</table>\n",
       "</div>"
      ],
      "text/plain": [
       "         name       map      ndcg  map +  map -  map p-value  ndcg +  ndcg -  \\\n",
       "0  BR(TF_IDF)  0.290905  0.615367    NaN    NaN          NaN     NaN     NaN   \n",
       "1    BR(BM25)  0.296517  0.621197   46.0   45.0     0.237317    45.0    46.0   \n",
       "2     BR(PL2)  0.276264  0.601225   13.0   77.0     0.008827    17.0    73.0   \n",
       "\n",
       "   ndcg p-value  \n",
       "0           NaN  \n",
       "1      0.143493  \n",
       "2      0.002583  "
      ]
     },
     "execution_count": 6,
     "metadata": {},
     "output_type": "execute_result"
    }
   ],
   "source": [
    "pt.Experiment(\n",
    "    [TF_IDF,BM25,PL2],\n",
    "    vaswani.get_topics(),\n",
    "    vaswani.get_qrels(),\n",
    "    ['map','ndcg'],\n",
    "    baseline=0)"
   ]
  },
  {
   "cell_type": "markdown",
   "metadata": {
    "id": "PcdPQHUZGZab"
   },
   "source": [
    "We can also apply correcion for multiple testing. Use the `correction=` kwarg - 'b' is a short hand for 'bonferroni'. The additional columns\n",
    "\"map p-value corrected\" \"map reject\" are added. The former shows what the new, adjusted, p-value is, and the latter shows if the \n",
    "null hypothesis can rejected at $\\alpha=0.05$."
   ]
  },
  {
   "cell_type": "code",
   "execution_count": 7,
   "metadata": {
    "id": "ayO4TBf0GZab",
    "outputId": "88aa315a-9076-44c4-9c21-b854c7993c21"
   },
   "outputs": [
    {
     "data": {
      "text/html": [
       "<div>\n",
       "<style scoped>\n",
       "    .dataframe tbody tr th:only-of-type {\n",
       "        vertical-align: middle;\n",
       "    }\n",
       "\n",
       "    .dataframe tbody tr th {\n",
       "        vertical-align: top;\n",
       "    }\n",
       "\n",
       "    .dataframe thead th {\n",
       "        text-align: right;\n",
       "    }\n",
       "</style>\n",
       "<table border=\"1\" class=\"dataframe\">\n",
       "  <thead>\n",
       "    <tr style=\"text-align: right;\">\n",
       "      <th></th>\n",
       "      <th>name</th>\n",
       "      <th>map</th>\n",
       "      <th>ndcg</th>\n",
       "      <th>map +</th>\n",
       "      <th>map -</th>\n",
       "      <th>map p-value</th>\n",
       "      <th>map reject</th>\n",
       "      <th>map p-value corrected</th>\n",
       "      <th>ndcg +</th>\n",
       "      <th>ndcg -</th>\n",
       "      <th>ndcg p-value</th>\n",
       "      <th>ndcg reject</th>\n",
       "      <th>ndcg p-value corrected</th>\n",
       "    </tr>\n",
       "  </thead>\n",
       "  <tbody>\n",
       "    <tr>\n",
       "      <th>0</th>\n",
       "      <td>BR(TF_IDF)</td>\n",
       "      <td>0.290905</td>\n",
       "      <td>0.615367</td>\n",
       "      <td>NaN</td>\n",
       "      <td>NaN</td>\n",
       "      <td>NaN</td>\n",
       "      <td>False</td>\n",
       "      <td>NaN</td>\n",
       "      <td>NaN</td>\n",
       "      <td>NaN</td>\n",
       "      <td>NaN</td>\n",
       "      <td>False</td>\n",
       "      <td>NaN</td>\n",
       "    </tr>\n",
       "    <tr>\n",
       "      <th>1</th>\n",
       "      <td>BR(BM25)</td>\n",
       "      <td>0.296517</td>\n",
       "      <td>0.621197</td>\n",
       "      <td>46.0</td>\n",
       "      <td>45.0</td>\n",
       "      <td>0.237317</td>\n",
       "      <td>False</td>\n",
       "      <td>0.711951</td>\n",
       "      <td>45.0</td>\n",
       "      <td>46.0</td>\n",
       "      <td>0.143493</td>\n",
       "      <td>False</td>\n",
       "      <td>0.43048</td>\n",
       "    </tr>\n",
       "    <tr>\n",
       "      <th>2</th>\n",
       "      <td>BR(PL2)</td>\n",
       "      <td>0.276264</td>\n",
       "      <td>0.601225</td>\n",
       "      <td>13.0</td>\n",
       "      <td>77.0</td>\n",
       "      <td>0.008827</td>\n",
       "      <td>True</td>\n",
       "      <td>0.026482</td>\n",
       "      <td>17.0</td>\n",
       "      <td>73.0</td>\n",
       "      <td>0.002583</td>\n",
       "      <td>True</td>\n",
       "      <td>0.00775</td>\n",
       "    </tr>\n",
       "  </tbody>\n",
       "</table>\n",
       "</div>"
      ],
      "text/plain": [
       "         name       map      ndcg  map +  map -  map p-value  map reject  \\\n",
       "0  BR(TF_IDF)  0.290905  0.615367    NaN    NaN          NaN       False   \n",
       "1    BR(BM25)  0.296517  0.621197   46.0   45.0     0.237317       False   \n",
       "2     BR(PL2)  0.276264  0.601225   13.0   77.0     0.008827        True   \n",
       "\n",
       "   map p-value corrected  ndcg +  ndcg -  ndcg p-value  ndcg reject  \\\n",
       "0                    NaN     NaN     NaN           NaN        False   \n",
       "1               0.711951    45.0    46.0      0.143493        False   \n",
       "2               0.026482    17.0    73.0      0.002583         True   \n",
       "\n",
       "   ndcg p-value corrected  \n",
       "0                     NaN  \n",
       "1                 0.43048  \n",
       "2                 0.00775  "
      ]
     },
     "execution_count": 7,
     "metadata": {},
     "output_type": "execute_result"
    }
   ],
   "source": [
    "pt.Experiment(\n",
    "    [TF_IDF,BM25,PL2],\n",
    "    vaswani.get_topics(),\n",
    "    vaswani.get_qrels(),\n",
    "    ['map','ndcg'],\n",
    "    baseline=0,\n",
    "    correction='b')"
   ]
  }
 ],
 "metadata": {
  "colab": {
   "collapsed_sections": [],
   "name": "Experiment Example.ipynb",
   "provenance": []
  },
  "kernelspec": {
   "display_name": "Python 3",
   "language": "python",
   "name": "python3"
  },
  "language_info": {
   "codemirror_mode": {
    "name": "ipython",
    "version": 3
   },
   "file_extension": ".py",
   "mimetype": "text/x-python",
   "name": "python",
   "nbconvert_exporter": "python",
   "pygments_lexer": "ipython3",
   "version": "3.8.8"
  }
 },
 "nbformat": 4,
 "nbformat_minor": 1
}
