{
  "nbformat": 4,
  "nbformat_minor": 0,
  "metadata": {
    "colab": {
      "name": "lexical-retrieval.ipynb",
      "provenance": [],
      "collapsed_sections": []
    },
    "kernelspec": {
      "name": "python3",
      "display_name": "Python 3"
    },
    "language_info": {
      "name": "python"
    },
    "accelerator": "GPU"
  },
  "cells": [
    {
      "cell_type": "markdown",
      "metadata": {
        "id": "KbTUYoH4FeAf"
      },
      "source": [
        "BM25"
      ]
    },
    {
      "cell_type": "code",
      "metadata": {
        "colab": {
          "base_uri": "https://localhost:8080/"
        },
        "id": "MMS-ANL3D7vd",
        "outputId": "c21b2cc0-48a3-48a4-c191-20a2a629832e"
      },
      "source": [
        "!pip install -U beir\n",
        "!pip install 'elasticsearch<7.14.0'"
      ],
      "execution_count": 1,
      "outputs": [
        {
          "output_type": "stream",
          "name": "stdout",
          "text": [
            "Collecting beir\n",
            "  Using cached beir-0.2.2-py3-none-any.whl (49 kB)\n",
            "Collecting pytrec-eval\n",
            "  Using cached pytrec_eval-0.5.tar.gz (15 kB)\n",
            "Requirement already satisfied: tensorflow-hub in /usr/local/lib/python3.7/dist-packages (from beir) (0.12.0)\n",
            "Requirement already satisfied: tensorflow>=2.2.0 in /usr/local/lib/python3.7/dist-packages (from beir) (2.6.0)\n",
            "Requirement already satisfied: elasticsearch in /usr/local/lib/python3.7/dist-packages (from beir) (7.13.4)\n",
            "Collecting faiss-cpu\n",
            "  Using cached faiss_cpu-1.7.1.post2-cp37-cp37m-manylinux_2_17_x86_64.manylinux2014_x86_64.whl (8.4 MB)\n",
            "Collecting sentence-transformers\n",
            "  Using cached sentence-transformers-2.1.0.tar.gz (78 kB)\n",
            "Collecting tensorflow-text\n",
            "  Using cached tensorflow_text-2.6.0-cp37-cp37m-manylinux1_x86_64.whl (4.4 MB)\n",
            "Requirement already satisfied: typing-extensions~=3.7.4 in /usr/local/lib/python3.7/dist-packages (from tensorflow>=2.2.0->beir) (3.7.4.3)\n",
            "Requirement already satisfied: numpy~=1.19.2 in /usr/local/lib/python3.7/dist-packages (from tensorflow>=2.2.0->beir) (1.19.5)\n",
            "Requirement already satisfied: keras-preprocessing~=1.1.2 in /usr/local/lib/python3.7/dist-packages (from tensorflow>=2.2.0->beir) (1.1.2)\n",
            "Requirement already satisfied: protobuf>=3.9.2 in /usr/local/lib/python3.7/dist-packages (from tensorflow>=2.2.0->beir) (3.17.3)\n",
            "Requirement already satisfied: opt-einsum~=3.3.0 in /usr/local/lib/python3.7/dist-packages (from tensorflow>=2.2.0->beir) (3.3.0)\n",
            "Requirement already satisfied: google-pasta~=0.2 in /usr/local/lib/python3.7/dist-packages (from tensorflow>=2.2.0->beir) (0.2.0)\n",
            "Requirement already satisfied: wrapt~=1.12.1 in /usr/local/lib/python3.7/dist-packages (from tensorflow>=2.2.0->beir) (1.12.1)\n",
            "Requirement already satisfied: six~=1.15.0 in /usr/local/lib/python3.7/dist-packages (from tensorflow>=2.2.0->beir) (1.15.0)\n",
            "Requirement already satisfied: wheel~=0.35 in /usr/local/lib/python3.7/dist-packages (from tensorflow>=2.2.0->beir) (0.37.0)\n",
            "Requirement already satisfied: absl-py~=0.10 in /usr/local/lib/python3.7/dist-packages (from tensorflow>=2.2.0->beir) (0.12.0)\n",
            "Requirement already satisfied: flatbuffers~=1.12.0 in /usr/local/lib/python3.7/dist-packages (from tensorflow>=2.2.0->beir) (1.12)\n",
            "Requirement already satisfied: astunparse~=1.6.3 in /usr/local/lib/python3.7/dist-packages (from tensorflow>=2.2.0->beir) (1.6.3)\n",
            "Requirement already satisfied: h5py~=3.1.0 in /usr/local/lib/python3.7/dist-packages (from tensorflow>=2.2.0->beir) (3.1.0)\n",
            "Requirement already satisfied: termcolor~=1.1.0 in /usr/local/lib/python3.7/dist-packages (from tensorflow>=2.2.0->beir) (1.1.0)\n",
            "Requirement already satisfied: clang~=5.0 in /usr/local/lib/python3.7/dist-packages (from tensorflow>=2.2.0->beir) (5.0)\n",
            "Requirement already satisfied: keras~=2.6 in /usr/local/lib/python3.7/dist-packages (from tensorflow>=2.2.0->beir) (2.6.0)\n",
            "Requirement already satisfied: tensorflow-estimator~=2.6 in /usr/local/lib/python3.7/dist-packages (from tensorflow>=2.2.0->beir) (2.6.0)\n",
            "Requirement already satisfied: tensorboard~=2.6 in /usr/local/lib/python3.7/dist-packages (from tensorflow>=2.2.0->beir) (2.6.0)\n",
            "Requirement already satisfied: gast==0.4.0 in /usr/local/lib/python3.7/dist-packages (from tensorflow>=2.2.0->beir) (0.4.0)\n",
            "Requirement already satisfied: grpcio<2.0,>=1.37.0 in /usr/local/lib/python3.7/dist-packages (from tensorflow>=2.2.0->beir) (1.41.0)\n",
            "Requirement already satisfied: cached-property in /usr/local/lib/python3.7/dist-packages (from h5py~=3.1.0->tensorflow>=2.2.0->beir) (1.5.2)\n",
            "Requirement already satisfied: tensorboard-plugin-wit>=1.6.0 in /usr/local/lib/python3.7/dist-packages (from tensorboard~=2.6->tensorflow>=2.2.0->beir) (1.8.0)\n",
            "Requirement already satisfied: tensorboard-data-server<0.7.0,>=0.6.0 in /usr/local/lib/python3.7/dist-packages (from tensorboard~=2.6->tensorflow>=2.2.0->beir) (0.6.1)\n",
            "Requirement already satisfied: google-auth<2,>=1.6.3 in /usr/local/lib/python3.7/dist-packages (from tensorboard~=2.6->tensorflow>=2.2.0->beir) (1.35.0)\n",
            "Requirement already satisfied: google-auth-oauthlib<0.5,>=0.4.1 in /usr/local/lib/python3.7/dist-packages (from tensorboard~=2.6->tensorflow>=2.2.0->beir) (0.4.6)\n",
            "Requirement already satisfied: requests<3,>=2.21.0 in /usr/local/lib/python3.7/dist-packages (from tensorboard~=2.6->tensorflow>=2.2.0->beir) (2.23.0)\n",
            "Requirement already satisfied: markdown>=2.6.8 in /usr/local/lib/python3.7/dist-packages (from tensorboard~=2.6->tensorflow>=2.2.0->beir) (3.3.4)\n",
            "Requirement already satisfied: werkzeug>=0.11.15 in /usr/local/lib/python3.7/dist-packages (from tensorboard~=2.6->tensorflow>=2.2.0->beir) (1.0.1)\n",
            "Requirement already satisfied: setuptools>=41.0.0 in /usr/local/lib/python3.7/dist-packages (from tensorboard~=2.6->tensorflow>=2.2.0->beir) (57.4.0)\n",
            "Requirement already satisfied: cachetools<5.0,>=2.0.0 in /usr/local/lib/python3.7/dist-packages (from google-auth<2,>=1.6.3->tensorboard~=2.6->tensorflow>=2.2.0->beir) (4.2.4)\n",
            "Requirement already satisfied: pyasn1-modules>=0.2.1 in /usr/local/lib/python3.7/dist-packages (from google-auth<2,>=1.6.3->tensorboard~=2.6->tensorflow>=2.2.0->beir) (0.2.8)\n",
            "Requirement already satisfied: rsa<5,>=3.1.4 in /usr/local/lib/python3.7/dist-packages (from google-auth<2,>=1.6.3->tensorboard~=2.6->tensorflow>=2.2.0->beir) (4.7.2)\n",
            "Requirement already satisfied: requests-oauthlib>=0.7.0 in /usr/local/lib/python3.7/dist-packages (from google-auth-oauthlib<0.5,>=0.4.1->tensorboard~=2.6->tensorflow>=2.2.0->beir) (1.3.0)\n",
            "Requirement already satisfied: importlib-metadata in /usr/local/lib/python3.7/dist-packages (from markdown>=2.6.8->tensorboard~=2.6->tensorflow>=2.2.0->beir) (4.8.1)\n",
            "Requirement already satisfied: pyasn1<0.5.0,>=0.4.6 in /usr/local/lib/python3.7/dist-packages (from pyasn1-modules>=0.2.1->google-auth<2,>=1.6.3->tensorboard~=2.6->tensorflow>=2.2.0->beir) (0.4.8)\n",
            "Requirement already satisfied: certifi>=2017.4.17 in /usr/local/lib/python3.7/dist-packages (from requests<3,>=2.21.0->tensorboard~=2.6->tensorflow>=2.2.0->beir) (2021.5.30)\n",
            "Requirement already satisfied: chardet<4,>=3.0.2 in /usr/local/lib/python3.7/dist-packages (from requests<3,>=2.21.0->tensorboard~=2.6->tensorflow>=2.2.0->beir) (3.0.4)\n",
            "Requirement already satisfied: urllib3!=1.25.0,!=1.25.1,<1.26,>=1.21.1 in /usr/local/lib/python3.7/dist-packages (from requests<3,>=2.21.0->tensorboard~=2.6->tensorflow>=2.2.0->beir) (1.24.3)\n",
            "Requirement already satisfied: idna<3,>=2.5 in /usr/local/lib/python3.7/dist-packages (from requests<3,>=2.21.0->tensorboard~=2.6->tensorflow>=2.2.0->beir) (2.10)\n",
            "Requirement already satisfied: oauthlib>=3.0.0 in /usr/local/lib/python3.7/dist-packages (from requests-oauthlib>=0.7.0->google-auth-oauthlib<0.5,>=0.4.1->tensorboard~=2.6->tensorflow>=2.2.0->beir) (3.1.1)\n",
            "Requirement already satisfied: zipp>=0.5 in /usr/local/lib/python3.7/dist-packages (from importlib-metadata->markdown>=2.6.8->tensorboard~=2.6->tensorflow>=2.2.0->beir) (3.6.0)\n",
            "Collecting transformers<5.0.0,>=4.6.0\n",
            "  Downloading transformers-4.11.3-py3-none-any.whl (2.9 MB)\n",
            "\u001b[K     |████████████████████████████████| 2.9 MB 6.7 MB/s \n",
            "\u001b[?25hCollecting tokenizers>=0.10.3\n",
            "  Downloading tokenizers-0.10.3-cp37-cp37m-manylinux_2_5_x86_64.manylinux1_x86_64.manylinux_2_12_x86_64.manylinux2010_x86_64.whl (3.3 MB)\n",
            "\u001b[K     |████████████████████████████████| 3.3 MB 59.4 MB/s \n",
            "\u001b[?25hRequirement already satisfied: tqdm in /usr/local/lib/python3.7/dist-packages (from sentence-transformers->beir) (4.62.3)\n",
            "Requirement already satisfied: torch>=1.6.0 in /usr/local/lib/python3.7/dist-packages (from sentence-transformers->beir) (1.9.0+cu111)\n",
            "Requirement already satisfied: torchvision in /usr/local/lib/python3.7/dist-packages (from sentence-transformers->beir) (0.10.0+cu111)\n",
            "Requirement already satisfied: scikit-learn in /usr/local/lib/python3.7/dist-packages (from sentence-transformers->beir) (0.22.2.post1)\n",
            "Requirement already satisfied: scipy in /usr/local/lib/python3.7/dist-packages (from sentence-transformers->beir) (1.4.1)\n",
            "Requirement already satisfied: nltk in /usr/local/lib/python3.7/dist-packages (from sentence-transformers->beir) (3.2.5)\n",
            "Collecting sentencepiece\n",
            "  Downloading sentencepiece-0.1.96-cp37-cp37m-manylinux_2_17_x86_64.manylinux2014_x86_64.whl (1.2 MB)\n",
            "\u001b[K     |████████████████████████████████| 1.2 MB 57.2 MB/s \n",
            "\u001b[?25hCollecting huggingface-hub\n",
            "  Downloading huggingface_hub-0.0.19-py3-none-any.whl (56 kB)\n",
            "\u001b[K     |████████████████████████████████| 56 kB 5.2 MB/s \n",
            "\u001b[?25hRequirement already satisfied: regex!=2019.12.17 in /usr/local/lib/python3.7/dist-packages (from transformers<5.0.0,>=4.6.0->sentence-transformers->beir) (2019.12.20)\n",
            "Requirement already satisfied: filelock in /usr/local/lib/python3.7/dist-packages (from transformers<5.0.0,>=4.6.0->sentence-transformers->beir) (3.3.0)\n",
            "Collecting sacremoses\n",
            "  Downloading sacremoses-0.0.46-py3-none-any.whl (895 kB)\n",
            "\u001b[K     |████████████████████████████████| 895 kB 65.6 MB/s \n",
            "\u001b[?25hRequirement already satisfied: packaging>=20.0 in /usr/local/lib/python3.7/dist-packages (from transformers<5.0.0,>=4.6.0->sentence-transformers->beir) (21.0)\n",
            "Collecting pyyaml>=5.1\n",
            "  Downloading PyYAML-5.4.1-cp37-cp37m-manylinux1_x86_64.whl (636 kB)\n",
            "\u001b[K     |████████████████████████████████| 636 kB 53.7 MB/s \n",
            "\u001b[?25hRequirement already satisfied: pyparsing>=2.0.2 in /usr/local/lib/python3.7/dist-packages (from packaging>=20.0->transformers<5.0.0,>=4.6.0->sentence-transformers->beir) (2.4.7)\n",
            "Requirement already satisfied: click in /usr/local/lib/python3.7/dist-packages (from sacremoses->transformers<5.0.0,>=4.6.0->sentence-transformers->beir) (7.1.2)\n",
            "Requirement already satisfied: joblib in /usr/local/lib/python3.7/dist-packages (from sacremoses->transformers<5.0.0,>=4.6.0->sentence-transformers->beir) (1.0.1)\n",
            "Requirement already satisfied: pillow>=5.3.0 in /usr/local/lib/python3.7/dist-packages (from torchvision->sentence-transformers->beir) (7.1.2)\n",
            "Building wheels for collected packages: pytrec-eval, sentence-transformers\n",
            "  Building wheel for pytrec-eval (setup.py) ... \u001b[?25l\u001b[?25hdone\n",
            "  Created wheel for pytrec-eval: filename=pytrec_eval-0.5-cp37-cp37m-linux_x86_64.whl size=264857 sha256=3d70a5c5a0ee7f9cb08eed9144a391014de4d9e0d1838c7c798720917e6240fd\n",
            "  Stored in directory: /root/.cache/pip/wheels/42/96/77/0829b8b2606f90f61ba10a51277629d2b615604e122ee932f4\n",
            "  Building wheel for sentence-transformers (setup.py) ... \u001b[?25l\u001b[?25hdone\n",
            "  Created wheel for sentence-transformers: filename=sentence_transformers-2.1.0-py3-none-any.whl size=121000 sha256=9cc227ca1cec5cf9b3019f8f0571c5ef0f93d998d61abb3415925fbb4e40e167\n",
            "  Stored in directory: /root/.cache/pip/wheels/90/f0/bb/ed1add84da70092ea526466eadc2bfb197c4bcb8d4fa5f7bad\n",
            "Successfully built pytrec-eval sentence-transformers\n",
            "Installing collected packages: pyyaml, tokenizers, sacremoses, huggingface-hub, transformers, sentencepiece, tensorflow-text, sentence-transformers, pytrec-eval, faiss-cpu, beir\n",
            "  Attempting uninstall: pyyaml\n",
            "    Found existing installation: PyYAML 3.13\n",
            "    Uninstalling PyYAML-3.13:\n",
            "      Successfully uninstalled PyYAML-3.13\n",
            "Successfully installed beir-0.2.2 faiss-cpu-1.7.1.post2 huggingface-hub-0.0.19 pytrec-eval-0.5 pyyaml-5.4.1 sacremoses-0.0.46 sentence-transformers-2.1.0 sentencepiece-0.1.96 tensorflow-text-2.6.0 tokenizers-0.10.3 transformers-4.11.3\n",
            "Requirement already satisfied: elasticsearch<7.14.0 in /usr/local/lib/python3.7/dist-packages (7.13.4)\n",
            "Requirement already satisfied: certifi in /usr/local/lib/python3.7/dist-packages (from elasticsearch<7.14.0) (2021.5.30)\n",
            "Requirement already satisfied: urllib3<2,>=1.21.1 in /usr/local/lib/python3.7/dist-packages (from elasticsearch<7.14.0) (1.24.3)\n"
          ]
        }
      ]
    },
    {
      "cell_type": "code",
      "metadata": {
        "colab": {
          "base_uri": "https://localhost:8080/"
        },
        "id": "KPHS4YFuFoma",
        "outputId": "b0da75e7-d50e-448a-80e3-34a7ca9873a3"
      },
      "source": [
        "import pathlib, os\n",
        "import time\n",
        "import pandas as pd\n",
        "from beir import util\n",
        "from beir.datasets.data_loader import GenericDataLoader\n",
        "from beir.retrieval.search.lexical import BM25Search as BM25\n",
        "from beir.retrieval.evaluation import EvaluateRetrieval"
      ],
      "execution_count": 2,
      "outputs": [
        {
          "output_type": "stream",
          "name": "stderr",
          "text": [
            "/usr/local/lib/python3.7/dist-packages/beir/util.py:2: TqdmExperimentalWarning: Using `tqdm.autonotebook.tqdm` in notebook mode. Use `tqdm.tqdm` instead to force console mode (e.g. in jupyter console)\n",
            "  from tqdm.autonotebook import tqdm\n"
          ]
        }
      ]
    },
    {
      "cell_type": "code",
      "metadata": {
        "colab": {
          "base_uri": "https://localhost:8080/"
        },
        "id": "Kh8g3a0PGSz-",
        "outputId": "78973825-8649-47e6-aa80-b1bd67c4a0be"
      },
      "source": [
        "if not os.path.exists('elasticsearch-oss-7.9.2-linux-x86_64.tar.gz'):\n",
        "  !wget https://artifacts.elastic.co/downloads/elasticsearch/elasticsearch-oss-7.9.2-linux-x86_64.tar.gz\n",
        "  !wget https://artifacts.elastic.co/downloads/elasticsearch/elasticsearch-oss-7.9.2-linux-x86_64.tar.gz.sha512\n",
        "  !tar -xzf elasticsearch-oss-7.9.2-linux-x86_64.tar.gz\n",
        "  !sudo chown -R daemon:daemon elasticsearch-7.9.2/\n",
        "  !shasum -a 512 -c elasticsearch-oss-7.9.2-linux-x86_64.tar.gz.sha512 "
      ],
      "execution_count": 3,
      "outputs": [
        {
          "output_type": "stream",
          "name": "stdout",
          "text": [
            "--2021-10-09 20:27:05--  https://artifacts.elastic.co/downloads/elasticsearch/elasticsearch-oss-7.9.2-linux-x86_64.tar.gz\n",
            "Resolving artifacts.elastic.co (artifacts.elastic.co)... 34.120.127.130, 2600:1901:0:1d7::\n",
            "Connecting to artifacts.elastic.co (artifacts.elastic.co)|34.120.127.130|:443... connected.\n",
            "HTTP request sent, awaiting response... 200 OK\n",
            "Length: 229941304 (219M) [application/x-gzip]\n",
            "Saving to: ‘elasticsearch-oss-7.9.2-linux-x86_64.tar.gz’\n",
            "\n",
            "elasticsearch-oss-7 100%[===================>] 219.29M  22.6MB/s    in 15s     \n",
            "\n",
            "2021-10-09 20:27:20 (14.7 MB/s) - ‘elasticsearch-oss-7.9.2-linux-x86_64.tar.gz’ saved [229941304/229941304]\n",
            "\n",
            "--2021-10-09 20:27:20--  https://artifacts.elastic.co/downloads/elasticsearch/elasticsearch-oss-7.9.2-linux-x86_64.tar.gz.sha512\n",
            "Resolving artifacts.elastic.co (artifacts.elastic.co)... 34.120.127.130, 2600:1901:0:1d7::\n",
            "Connecting to artifacts.elastic.co (artifacts.elastic.co)|34.120.127.130|:443... connected.\n",
            "HTTP request sent, awaiting response... 200 OK\n",
            "Length: 173 [application/octet-stream]\n",
            "Saving to: ‘elasticsearch-oss-7.9.2-linux-x86_64.tar.gz.sha512’\n",
            "\n",
            "elasticsearch-oss-7 100%[===================>]     173  --.-KB/s    in 0s      \n",
            "\n",
            "2021-10-09 20:27:21 (52.5 MB/s) - ‘elasticsearch-oss-7.9.2-linux-x86_64.tar.gz.sha512’ saved [173/173]\n",
            "\n",
            "elasticsearch-oss-7.9.2-linux-x86_64.tar.gz: OK\n"
          ]
        }
      ]
    },
    {
      "cell_type": "code",
      "metadata": {
        "colab": {
          "base_uri": "https://localhost:8080/"
        },
        "id": "8qPjo9Rbl0FU",
        "outputId": "bf862241-1022-4cf4-e992-c7dda947e602"
      },
      "source": [
        "%%bash --bg\n",
        "\n",
        "sudo -H -u daemon elasticsearch-7.9.2/bin/elasticsearch"
      ],
      "execution_count": 4,
      "outputs": [
        {
          "output_type": "stream",
          "name": "stdout",
          "text": [
            "Starting job # 0 in a separate thread.\n"
          ]
        }
      ]
    },
    {
      "cell_type": "code",
      "metadata": {
        "id": "He91N2HJl77m"
      },
      "source": [
        "time.sleep(20)"
      ],
      "execution_count": 5,
      "outputs": []
    },
    {
      "cell_type": "code",
      "metadata": {
        "colab": {
          "base_uri": "https://localhost:8080/"
        },
        "id": "6ys-n3vSmA06",
        "outputId": "5cf7acff-6e35-47c6-c21f-5f3ebc722e30"
      },
      "source": [
        "!ps -ef | grep elasticsearch"
      ],
      "execution_count": 6,
      "outputs": [
        {
          "output_type": "stream",
          "name": "stdout",
          "text": [
            "root         453     451  0 20:27 ?        00:00:00 sudo -H -u daemon elasticsearch-7.9.2/bin/elasticsearch\n",
            "daemon       454     453 99 20:27 ?        00:00:20 /content/elasticsearch-7.9.2/jdk/bin/java -Xshare:auto -Des.networkaddress.cache.ttl=60 -Des.networkaddress.cache.negative.ttl=10 -XX:+AlwaysPreTouch -Xss1m -Djava.awt.headless=true -Dfile.encoding=UTF-8 -Djna.nosys=true -XX:-OmitStackTraceInFastThrow -XX:+ShowCodeDetailsInExceptionMessages -Dio.netty.noUnsafe=true -Dio.netty.noKeySetOptimization=true -Dio.netty.recycler.maxCapacityPerThread=0 -Dio.netty.allocator.numDirectArenas=0 -Dlog4j.shutdownHookEnabled=false -Dlog4j2.disable.jmx=true -Djava.locale.providers=SPI,COMPAT -Xms1g -Xmx1g -XX:+UseG1GC -XX:G1ReservePercent=25 -XX:InitiatingHeapOccupancyPercent=30 -Djava.io.tmpdir=/tmp/elasticsearch-14599886008618856690 -XX:+HeapDumpOnOutOfMemoryError -XX:HeapDumpPath=data -XX:ErrorFile=logs/hs_err_pid%p.log -Xlog:gc*,gc+age=trace,safepoint:file=logs/gc.log:utctime,pid,tags:filecount=32,filesize=64m -XX:MaxDirectMemorySize=536870912 -Des.path.home=/content/elasticsearch-7.9.2 -Des.path.conf=/content/elasticsearch-7.9.2/config -Des.distribution.flavor=oss -Des.distribution.type=tar -Des.bundled_jdk=true -cp /content/elasticsearch-7.9.2/lib/* org.elasticsearch.bootstrap.Elasticsearch\n",
            "root         688     139  0 20:27 ?        00:00:00 /bin/bash -c ps -ef | grep elasticsearch\n",
            "root         690     688  0 20:27 ?        00:00:00 grep elasticsearch\n"
          ]
        }
      ]
    },
    {
      "cell_type": "code",
      "metadata": {
        "colab": {
          "base_uri": "https://localhost:8080/"
        },
        "id": "Fgd-5d6SmFo_",
        "outputId": "aff9b768-f8dd-4168-e9eb-743868b15ff7"
      },
      "source": [
        "!curl -sX GET \"localhost:9200/\""
      ],
      "execution_count": 7,
      "outputs": [
        {
          "output_type": "stream",
          "name": "stdout",
          "text": [
            "{\n",
            "  \"name\" : \"d0b667c9c51d\",\n",
            "  \"cluster_name\" : \"elasticsearch\",\n",
            "  \"cluster_uuid\" : \"rAJ_2nVKSoGZJcDUm2mWSw\",\n",
            "  \"version\" : {\n",
            "    \"number\" : \"7.9.2\",\n",
            "    \"build_flavor\" : \"oss\",\n",
            "    \"build_type\" : \"tar\",\n",
            "    \"build_hash\" : \"d34da0ea4a966c4e49417f2da2f244e3e97b4e6e\",\n",
            "    \"build_date\" : \"2020-09-23T00:45:33.626720Z\",\n",
            "    \"build_snapshot\" : false,\n",
            "    \"lucene_version\" : \"8.6.2\",\n",
            "    \"minimum_wire_compatibility_version\" : \"6.8.0\",\n",
            "    \"minimum_index_compatibility_version\" : \"6.0.0-beta1\"\n",
            "  },\n",
            "  \"tagline\" : \"You Know, for Search\"\n",
            "}\n"
          ]
        }
      ]
    },
    {
      "cell_type": "code",
      "metadata": {
        "id": "Uej16KOhmTCP"
      },
      "source": [
        "def eval_metrics(model_name, ndcg, _map, recall, precision):\n",
        "  c_map = 'MAP@10'\n",
        "  c_map_h = 'MAP@100'\n",
        "  c_map_t = 'MAP@1000'\n",
        "  c_ndcg = 'NDCG@10'\n",
        "  c_ndcg_h = 'NDCG@100'\n",
        "  c_ndcg_t = 'NDCG@1000'\n",
        "  c_pre = 'P@10'\n",
        "  c_pre_h = 'P@100'\n",
        "  c_pre_t = 'P@1000'\n",
        "  c_rec = 'Recall@10'\n",
        "  c_rec_h = 'Recall@100'\n",
        "  c_rec_t = 'Recall@1000'\n",
        "  eval_dict = {\n",
        "      c_map: [_map[c_map]], \n",
        "      c_map_h: [_map[c_map_h]],\n",
        "      c_map_t: [_map[c_map_t]],\n",
        "      c_ndcg: [ndcg[c_ndcg]], \n",
        "      c_ndcg_h: [ndcg[c_ndcg_h]],\n",
        "      c_ndcg_t: [ndcg[c_ndcg_t]],\n",
        "      c_pre: [precision[c_pre]], \n",
        "      c_pre_h: [precision[c_pre_h]],\n",
        "      c_pre_t: [precision[c_pre_t]],\n",
        "      c_rec: [recall[c_rec]],\n",
        "      c_rec_h: [recall[c_rec_h]],\n",
        "      c_rec_t: [recall[c_rec_t]]}\n",
        "  eval_df = pd.DataFrame(data=eval_dict)\n",
        "  eval_df.index = [model_name]\n",
        "  return eval_df"
      ],
      "execution_count": 8,
      "outputs": []
    },
    {
      "cell_type": "code",
      "metadata": {
        "id": "7DOYHL7Dfanq"
      },
      "source": [
        "hostname = 'localhost' \n",
        "url = 'https://public.ukp.informatik.tu-darmstadt.de/thakur/BEIR/datasets/{}.zip'\n",
        "out_dir = os.path.join(os.getcwd(), 'datasets')"
      ],
      "execution_count": 9,
      "outputs": []
    },
    {
      "cell_type": "code",
      "metadata": {
        "colab": {
          "base_uri": "https://localhost:8080/",
          "height": 115
        },
        "id": "ScVeVuJ2mJOb",
        "outputId": "b021de6f-a776-4c8c-b025-43a692e3e63f"
      },
      "source": [
        "dataset_sf = 'scifact'\n",
        "index_sf = dataset_sf\n",
        "data_path_sf = util.download_and_unzip(url.format(dataset_sf), out_dir)\n",
        "corpus_sf, queries_sf, qrels_sf = GenericDataLoader(data_path_sf).load(split='test') # 'test', 'train', 'dev'\n",
        "model_sf = BM25(index_name=index_sf, hostname=hostname, initialize=True) # initialize=True : reindex\n",
        "retriever_sf = EvaluateRetrieval(model_sf)\n",
        "results_sf = retriever_sf.retrieve(corpus_sf, queries_sf)\n",
        "ndcg_sf, _map_sf, recall_sf, precision_sf = retriever_sf.evaluate(qrels_sf, results_sf, retriever_sf.k_values)"
      ],
      "execution_count": 10,
      "outputs": [
        {
          "output_type": "display_data",
          "data": {
            "application/vnd.jupyter.widget-view+json": {
              "model_id": "e211ecdda8c3467fa86c704a695f4fe7",
              "version_minor": 0,
              "version_major": 2
            },
            "text/plain": [
              "/content/datasets/scifact.zip:   0%|          | 0.00/2.69M [00:00<?, ?iB/s]"
            ]
          },
          "metadata": {}
        },
        {
          "output_type": "display_data",
          "data": {
            "application/vnd.jupyter.widget-view+json": {
              "model_id": "bf51350f80014653991f4263ba89170d",
              "version_minor": 0,
              "version_major": 2
            },
            "text/plain": [
              "  0%|          | 0/5183 [00:00<?, ?it/s]"
            ]
          },
          "metadata": {}
        },
        {
          "output_type": "stream",
          "name": "stderr",
          "text": [
            "  0%|          | 0/5183 [00:00<?, ?docs/s]\n",
            "que: 100%|██████████| 3/3 [00:20<00:00,  6.98s/it]\n"
          ]
        }
      ]
    },
    {
      "cell_type": "code",
      "metadata": {
        "colab": {
          "base_uri": "https://localhost:8080/",
          "height": 115
        },
        "id": "6zXCm0AUfd4U",
        "outputId": "33374905-8158-455a-baab-c945ddc92c58"
      },
      "source": [
        "dataset_sd = 'scidocs'\n",
        "index_sd = dataset_sd\n",
        "data_path_sd = util.download_and_unzip(url.format(dataset_sd), out_dir)\n",
        "corpus_sd, queries_sd, qrels_sd = GenericDataLoader(data_path_sd).load(split='test')\n",
        "model_sd = BM25(index_name=index_sd, hostname=hostname, initialize=True)\n",
        "retriever_sd = EvaluateRetrieval(model_sd)\n",
        "results_sd = retriever_sd.retrieve(corpus_sd, queries_sd)\n",
        "ndcg_sd, _map_sd, recall_sd, precision_sd = retriever_sd.evaluate(qrels_sd, results_sd, retriever_sd.k_values)"
      ],
      "execution_count": 11,
      "outputs": [
        {
          "output_type": "display_data",
          "data": {
            "application/vnd.jupyter.widget-view+json": {
              "model_id": "6408592c14894b31980b25b38d570926",
              "version_minor": 0,
              "version_major": 2
            },
            "text/plain": [
              "/content/datasets/scidocs.zip:   0%|          | 0.00/136M [00:00<?, ?iB/s]"
            ]
          },
          "metadata": {}
        },
        {
          "output_type": "display_data",
          "data": {
            "application/vnd.jupyter.widget-view+json": {
              "model_id": "3c7cf8e859644490a4239c0e2f919898",
              "version_minor": 0,
              "version_major": 2
            },
            "text/plain": [
              "  0%|          | 0/25657 [00:00<?, ?it/s]"
            ]
          },
          "metadata": {}
        },
        {
          "output_type": "stream",
          "name": "stderr",
          "text": [
            "  0%|          | 0/25657 [00:00<?, ?docs/s]\n",
            "que: 100%|██████████| 8/8 [00:45<00:00,  5.70s/it]\n"
          ]
        }
      ]
    },
    {
      "cell_type": "code",
      "metadata": {
        "colab": {
          "base_uri": "https://localhost:8080/",
          "height": 115
        },
        "id": "7RlpyNUWfefb",
        "outputId": "387aea46-36a1-4037-b85a-a541e3a29681"
      },
      "source": [
        "dataset_fv = 'fever'\n",
        "index_fv = dataset_fv\n",
        "data_path_fv = util.download_and_unzip(url.format(dataset_fv), out_dir)\n",
        "corpus_fv, queries_fv, qrels_fv = GenericDataLoader(data_path_fv).load(split='test')\n",
        "model_fv = BM25(index_name=index_fv, hostname=hostname, initialize=True)\n",
        "retriever_fv = EvaluateRetrieval(model_fv)\n",
        "results_fv = retriever_fv.retrieve(corpus_fv, queries_fv)\n",
        "ndcg_fv, _map_fv, recall_fv, precision_fv = retriever_fv.evaluate(qrels_fv, results_fv, retriever_fv.k_values)"
      ],
      "execution_count": 12,
      "outputs": [
        {
          "output_type": "display_data",
          "data": {
            "application/vnd.jupyter.widget-view+json": {
              "model_id": "1efd823e9ad540448151d5723034f6de",
              "version_minor": 0,
              "version_major": 2
            },
            "text/plain": [
              "/content/datasets/fever.zip:   0%|          | 0.00/1.15G [00:00<?, ?iB/s]"
            ]
          },
          "metadata": {}
        },
        {
          "output_type": "display_data",
          "data": {
            "application/vnd.jupyter.widget-view+json": {
              "model_id": "262b72c4b14e47cd88fba8711b71e154",
              "version_minor": 0,
              "version_major": 2
            },
            "text/plain": [
              "  0%|          | 0/5416568 [00:00<?, ?it/s]"
            ]
          },
          "metadata": {}
        },
        {
          "output_type": "stream",
          "name": "stderr",
          "text": [
            "  0%|          | 0/5416568 [00:00<?, ?docs/s]\n",
            "que: 100%|██████████| 53/53 [21:09<00:00, 23.95s/it]\n"
          ]
        }
      ]
    },
    {
      "cell_type": "code",
      "metadata": {
        "colab": {
          "base_uri": "https://localhost:8080/",
          "height": 80
        },
        "id": "W_SCKMOXmYTS",
        "outputId": "6972a7de-2015-4e8c-9f9b-a4790ad99e8a"
      },
      "source": [
        "eval_metrics('SCIFACT', ndcg_sf, _map_sf, recall_sf, precision_sf)"
      ],
      "execution_count": 13,
      "outputs": [
        {
          "output_type": "execute_result",
          "data": {
            "text/html": [
              "<div>\n",
              "<style scoped>\n",
              "    .dataframe tbody tr th:only-of-type {\n",
              "        vertical-align: middle;\n",
              "    }\n",
              "\n",
              "    .dataframe tbody tr th {\n",
              "        vertical-align: top;\n",
              "    }\n",
              "\n",
              "    .dataframe thead th {\n",
              "        text-align: right;\n",
              "    }\n",
              "</style>\n",
              "<table border=\"1\" class=\"dataframe\">\n",
              "  <thead>\n",
              "    <tr style=\"text-align: right;\">\n",
              "      <th></th>\n",
              "      <th>MAP@10</th>\n",
              "      <th>MAP@100</th>\n",
              "      <th>MAP@1000</th>\n",
              "      <th>NDCG@10</th>\n",
              "      <th>NDCG@100</th>\n",
              "      <th>NDCG@1000</th>\n",
              "      <th>P@10</th>\n",
              "      <th>P@100</th>\n",
              "      <th>P@1000</th>\n",
              "      <th>Recall@10</th>\n",
              "      <th>Recall@100</th>\n",
              "      <th>Recall@1000</th>\n",
              "    </tr>\n",
              "  </thead>\n",
              "  <tbody>\n",
              "    <tr>\n",
              "      <th>SCIFACT</th>\n",
              "      <td>0.64619</td>\n",
              "      <td>0.65173</td>\n",
              "      <td>0.65202</td>\n",
              "      <td>0.69254</td>\n",
              "      <td>0.71588</td>\n",
              "      <td>0.72322</td>\n",
              "      <td>0.09067</td>\n",
              "      <td>0.01043</td>\n",
              "      <td>0.00111</td>\n",
              "      <td>0.81978</td>\n",
              "      <td>0.92256</td>\n",
              "      <td>0.98</td>\n",
              "    </tr>\n",
              "  </tbody>\n",
              "</table>\n",
              "</div>"
            ],
            "text/plain": [
              "          MAP@10  MAP@100  MAP@1000  ...  Recall@10  Recall@100  Recall@1000\n",
              "SCIFACT  0.64619  0.65173   0.65202  ...    0.81978     0.92256         0.98\n",
              "\n",
              "[1 rows x 12 columns]"
            ]
          },
          "metadata": {},
          "execution_count": 13
        }
      ]
    },
    {
      "cell_type": "code",
      "metadata": {
        "colab": {
          "base_uri": "https://localhost:8080/",
          "height": 80
        },
        "id": "jiibaVjDg9Ba",
        "outputId": "8ee38b89-5d8a-4361-9c42-77ba097ee911"
      },
      "source": [
        "eval_metrics('SCIDOCS', ndcg_sd, _map_sd, recall_sd, precision_sd)"
      ],
      "execution_count": 14,
      "outputs": [
        {
          "output_type": "execute_result",
          "data": {
            "text/html": [
              "<div>\n",
              "<style scoped>\n",
              "    .dataframe tbody tr th:only-of-type {\n",
              "        vertical-align: middle;\n",
              "    }\n",
              "\n",
              "    .dataframe tbody tr th {\n",
              "        vertical-align: top;\n",
              "    }\n",
              "\n",
              "    .dataframe thead th {\n",
              "        text-align: right;\n",
              "    }\n",
              "</style>\n",
              "<table border=\"1\" class=\"dataframe\">\n",
              "  <thead>\n",
              "    <tr style=\"text-align: right;\">\n",
              "      <th></th>\n",
              "      <th>MAP@10</th>\n",
              "      <th>MAP@100</th>\n",
              "      <th>MAP@1000</th>\n",
              "      <th>NDCG@10</th>\n",
              "      <th>NDCG@100</th>\n",
              "      <th>NDCG@1000</th>\n",
              "      <th>P@10</th>\n",
              "      <th>P@100</th>\n",
              "      <th>P@1000</th>\n",
              "      <th>Recall@10</th>\n",
              "      <th>Recall@100</th>\n",
              "      <th>Recall@1000</th>\n",
              "    </tr>\n",
              "  </thead>\n",
              "  <tbody>\n",
              "    <tr>\n",
              "      <th>SCIDOCS</th>\n",
              "      <td>0.09641</td>\n",
              "      <td>0.11193</td>\n",
              "      <td>0.11418</td>\n",
              "      <td>0.16478</td>\n",
              "      <td>0.23043</td>\n",
              "      <td>0.27381</td>\n",
              "      <td>0.0858</td>\n",
              "      <td>0.0181</td>\n",
              "      <td>0.00285</td>\n",
              "      <td>0.17392</td>\n",
              "      <td>0.36757</td>\n",
              "      <td>0.57872</td>\n",
              "    </tr>\n",
              "  </tbody>\n",
              "</table>\n",
              "</div>"
            ],
            "text/plain": [
              "          MAP@10  MAP@100  MAP@1000  ...  Recall@10  Recall@100  Recall@1000\n",
              "SCIDOCS  0.09641  0.11193   0.11418  ...    0.17392     0.36757      0.57872\n",
              "\n",
              "[1 rows x 12 columns]"
            ]
          },
          "metadata": {},
          "execution_count": 14
        }
      ]
    },
    {
      "cell_type": "code",
      "metadata": {
        "colab": {
          "base_uri": "https://localhost:8080/",
          "height": 80
        },
        "id": "MpmravpSg9hT",
        "outputId": "7f7aa8df-26e3-4457-ccbd-3b0f8f8cdbe9"
      },
      "source": [
        "eval_metrics('FEVER', ndcg_fv, _map_fv, recall_fv, precision_fv)"
      ],
      "execution_count": 15,
      "outputs": [
        {
          "output_type": "execute_result",
          "data": {
            "text/html": [
              "<div>\n",
              "<style scoped>\n",
              "    .dataframe tbody tr th:only-of-type {\n",
              "        vertical-align: middle;\n",
              "    }\n",
              "\n",
              "    .dataframe tbody tr th {\n",
              "        vertical-align: top;\n",
              "    }\n",
              "\n",
              "    .dataframe thead th {\n",
              "        text-align: right;\n",
              "    }\n",
              "</style>\n",
              "<table border=\"1\" class=\"dataframe\">\n",
              "  <thead>\n",
              "    <tr style=\"text-align: right;\">\n",
              "      <th></th>\n",
              "      <th>MAP@10</th>\n",
              "      <th>MAP@100</th>\n",
              "      <th>MAP@1000</th>\n",
              "      <th>NDCG@10</th>\n",
              "      <th>NDCG@100</th>\n",
              "      <th>NDCG@1000</th>\n",
              "      <th>P@10</th>\n",
              "      <th>P@100</th>\n",
              "      <th>P@1000</th>\n",
              "      <th>Recall@10</th>\n",
              "      <th>Recall@100</th>\n",
              "      <th>Recall@1000</th>\n",
              "    </tr>\n",
              "  </thead>\n",
              "  <tbody>\n",
              "    <tr>\n",
              "      <th>FEVER</th>\n",
              "      <td>0.58538</td>\n",
              "      <td>0.5909</td>\n",
              "      <td>0.59115</td>\n",
              "      <td>0.64938</td>\n",
              "      <td>0.67394</td>\n",
              "      <td>0.67935</td>\n",
              "      <td>0.08885</td>\n",
              "      <td>0.01029</td>\n",
              "      <td>0.00109</td>\n",
              "      <td>0.81413</td>\n",
              "      <td>0.92151</td>\n",
              "      <td>0.95976</td>\n",
              "    </tr>\n",
              "  </tbody>\n",
              "</table>\n",
              "</div>"
            ],
            "text/plain": [
              "        MAP@10  MAP@100  MAP@1000  ...  Recall@10  Recall@100  Recall@1000\n",
              "FEVER  0.58538   0.5909   0.59115  ...    0.81413     0.92151      0.95976\n",
              "\n",
              "[1 rows x 12 columns]"
            ]
          },
          "metadata": {},
          "execution_count": 15
        }
      ]
    },
    {
      "cell_type": "markdown",
      "metadata": {
        "id": "k21nEMNOxPEM"
      },
      "source": [
        "end of fun."
      ]
    }
  ]
}