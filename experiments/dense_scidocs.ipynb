{
  "nbformat": 4,
  "nbformat_minor": 0,
  "metadata": {
    "colab": {
      "name": "dense-retrieval-scidocs.ipynb",
      "provenance": [],
      "collapsed_sections": []
    },
    "kernelspec": {
      "name": "python3",
      "display_name": "Python 3"
    },
    "language_info": {
      "name": "python"
    },
    "widgets": {
      "application/vnd.jupyter.widget-state+json": {
        "900d331b4fbb4dbd98f37207057daea7": {
          "model_module": "@jupyter-widgets/controls",
          "model_name": "HBoxModel",
          "model_module_version": "1.5.0",
          "state": {
            "_view_name": "HBoxView",
            "_dom_classes": [],
            "_model_name": "HBoxModel",
            "_view_module": "@jupyter-widgets/controls",
            "_model_module_version": "1.5.0",
            "_view_count": null,
            "_view_module_version": "1.5.0",
            "box_style": "",
            "layout": "IPY_MODEL_ca8bbe122a3341e8b2dfb7bcbc9c2d5e",
            "_model_module": "@jupyter-widgets/controls",
            "children": [
              "IPY_MODEL_2cf47ea225c24906b99bd82c619b2593",
              "IPY_MODEL_e5fb5ac57ddb471eb0b9ce7fa8fd8915",
              "IPY_MODEL_addeef06de7a443a846c40730dcde45c"
            ]
          }
        },
        "ca8bbe122a3341e8b2dfb7bcbc9c2d5e": {
          "model_module": "@jupyter-widgets/base",
          "model_name": "LayoutModel",
          "model_module_version": "1.2.0",
          "state": {
            "_view_name": "LayoutView",
            "grid_template_rows": null,
            "right": null,
            "justify_content": null,
            "_view_module": "@jupyter-widgets/base",
            "overflow": null,
            "_model_module_version": "1.2.0",
            "_view_count": null,
            "flex_flow": null,
            "width": null,
            "min_width": null,
            "border": null,
            "align_items": null,
            "bottom": null,
            "_model_module": "@jupyter-widgets/base",
            "top": null,
            "grid_column": null,
            "overflow_y": null,
            "overflow_x": null,
            "grid_auto_flow": null,
            "grid_area": null,
            "grid_template_columns": null,
            "flex": null,
            "_model_name": "LayoutModel",
            "justify_items": null,
            "grid_row": null,
            "max_height": null,
            "align_content": null,
            "visibility": null,
            "align_self": null,
            "height": null,
            "min_height": null,
            "padding": null,
            "grid_auto_rows": null,
            "grid_gap": null,
            "max_width": null,
            "order": null,
            "_view_module_version": "1.2.0",
            "grid_template_areas": null,
            "object_position": null,
            "object_fit": null,
            "grid_auto_columns": null,
            "margin": null,
            "display": null,
            "left": null
          }
        },
        "2cf47ea225c24906b99bd82c619b2593": {
          "model_module": "@jupyter-widgets/controls",
          "model_name": "HTMLModel",
          "model_module_version": "1.5.0",
          "state": {
            "_view_name": "HTMLView",
            "style": "IPY_MODEL_b34e0d03d1fc4852b3e770214879980e",
            "_dom_classes": [],
            "description": "",
            "_model_name": "HTMLModel",
            "placeholder": "​",
            "_view_module": "@jupyter-widgets/controls",
            "_model_module_version": "1.5.0",
            "value": "Downloading: 100%",
            "_view_count": null,
            "_view_module_version": "1.5.0",
            "description_tooltip": null,
            "_model_module": "@jupyter-widgets/controls",
            "layout": "IPY_MODEL_e99c04a59725428fa51cf45049a15ef6"
          }
        },
        "e5fb5ac57ddb471eb0b9ce7fa8fd8915": {
          "model_module": "@jupyter-widgets/controls",
          "model_name": "FloatProgressModel",
          "model_module_version": "1.5.0",
          "state": {
            "_view_name": "ProgressView",
            "style": "IPY_MODEL_f1ea6e6cb1734583ad95654645590714",
            "_dom_classes": [],
            "description": "",
            "_model_name": "FloatProgressModel",
            "bar_style": "success",
            "max": 1175,
            "_view_module": "@jupyter-widgets/controls",
            "_model_module_version": "1.5.0",
            "value": 1175,
            "_view_count": null,
            "_view_module_version": "1.5.0",
            "orientation": "horizontal",
            "min": 0,
            "description_tooltip": null,
            "_model_module": "@jupyter-widgets/controls",
            "layout": "IPY_MODEL_340c14f7a4494a9c8e5a5bbc022edfb9"
          }
        },
        "addeef06de7a443a846c40730dcde45c": {
          "model_module": "@jupyter-widgets/controls",
          "model_name": "HTMLModel",
          "model_module_version": "1.5.0",
          "state": {
            "_view_name": "HTMLView",
            "style": "IPY_MODEL_d6af9618493742ef8310a1d87794ff99",
            "_dom_classes": [],
            "description": "",
            "_model_name": "HTMLModel",
            "placeholder": "​",
            "_view_module": "@jupyter-widgets/controls",
            "_model_module_version": "1.5.0",
            "value": " 1.18k/1.18k [00:00&lt;00:00, 28.5kB/s]",
            "_view_count": null,
            "_view_module_version": "1.5.0",
            "description_tooltip": null,
            "_model_module": "@jupyter-widgets/controls",
            "layout": "IPY_MODEL_42bdc46c75c44b7a8855c6158711ee49"
          }
        },
        "b34e0d03d1fc4852b3e770214879980e": {
          "model_module": "@jupyter-widgets/controls",
          "model_name": "DescriptionStyleModel",
          "model_module_version": "1.5.0",
          "state": {
            "_view_name": "StyleView",
            "_model_name": "DescriptionStyleModel",
            "description_width": "",
            "_view_module": "@jupyter-widgets/base",
            "_model_module_version": "1.5.0",
            "_view_count": null,
            "_view_module_version": "1.2.0",
            "_model_module": "@jupyter-widgets/controls"
          }
        },
        "e99c04a59725428fa51cf45049a15ef6": {
          "model_module": "@jupyter-widgets/base",
          "model_name": "LayoutModel",
          "model_module_version": "1.2.0",
          "state": {
            "_view_name": "LayoutView",
            "grid_template_rows": null,
            "right": null,
            "justify_content": null,
            "_view_module": "@jupyter-widgets/base",
            "overflow": null,
            "_model_module_version": "1.2.0",
            "_view_count": null,
            "flex_flow": null,
            "width": null,
            "min_width": null,
            "border": null,
            "align_items": null,
            "bottom": null,
            "_model_module": "@jupyter-widgets/base",
            "top": null,
            "grid_column": null,
            "overflow_y": null,
            "overflow_x": null,
            "grid_auto_flow": null,
            "grid_area": null,
            "grid_template_columns": null,
            "flex": null,
            "_model_name": "LayoutModel",
            "justify_items": null,
            "grid_row": null,
            "max_height": null,
            "align_content": null,
            "visibility": null,
            "align_self": null,
            "height": null,
            "min_height": null,
            "padding": null,
            "grid_auto_rows": null,
            "grid_gap": null,
            "max_width": null,
            "order": null,
            "_view_module_version": "1.2.0",
            "grid_template_areas": null,
            "object_position": null,
            "object_fit": null,
            "grid_auto_columns": null,
            "margin": null,
            "display": null,
            "left": null
          }
        },
        "f1ea6e6cb1734583ad95654645590714": {
          "model_module": "@jupyter-widgets/controls",
          "model_name": "ProgressStyleModel",
          "model_module_version": "1.5.0",
          "state": {
            "_view_name": "StyleView",
            "_model_name": "ProgressStyleModel",
            "description_width": "",
            "_view_module": "@jupyter-widgets/base",
            "_model_module_version": "1.5.0",
            "_view_count": null,
            "_view_module_version": "1.2.0",
            "bar_color": null,
            "_model_module": "@jupyter-widgets/controls"
          }
        },
        "340c14f7a4494a9c8e5a5bbc022edfb9": {
          "model_module": "@jupyter-widgets/base",
          "model_name": "LayoutModel",
          "model_module_version": "1.2.0",
          "state": {
            "_view_name": "LayoutView",
            "grid_template_rows": null,
            "right": null,
            "justify_content": null,
            "_view_module": "@jupyter-widgets/base",
            "overflow": null,
            "_model_module_version": "1.2.0",
            "_view_count": null,
            "flex_flow": null,
            "width": null,
            "min_width": null,
            "border": null,
            "align_items": null,
            "bottom": null,
            "_model_module": "@jupyter-widgets/base",
            "top": null,
            "grid_column": null,
            "overflow_y": null,
            "overflow_x": null,
            "grid_auto_flow": null,
            "grid_area": null,
            "grid_template_columns": null,
            "flex": null,
            "_model_name": "LayoutModel",
            "justify_items": null,
            "grid_row": null,
            "max_height": null,
            "align_content": null,
            "visibility": null,
            "align_self": null,
            "height": null,
            "min_height": null,
            "padding": null,
            "grid_auto_rows": null,
            "grid_gap": null,
            "max_width": null,
            "order": null,
            "_view_module_version": "1.2.0",
            "grid_template_areas": null,
            "object_position": null,
            "object_fit": null,
            "grid_auto_columns": null,
            "margin": null,
            "display": null,
            "left": null
          }
        },
        "d6af9618493742ef8310a1d87794ff99": {
          "model_module": "@jupyter-widgets/controls",
          "model_name": "DescriptionStyleModel",
          "model_module_version": "1.5.0",
          "state": {
            "_view_name": "StyleView",
            "_model_name": "DescriptionStyleModel",
            "description_width": "",
            "_view_module": "@jupyter-widgets/base",
            "_model_module_version": "1.5.0",
            "_view_count": null,
            "_view_module_version": "1.2.0",
            "_model_module": "@jupyter-widgets/controls"
          }
        },
        "42bdc46c75c44b7a8855c6158711ee49": {
          "model_module": "@jupyter-widgets/base",
          "model_name": "LayoutModel",
          "model_module_version": "1.2.0",
          "state": {
            "_view_name": "LayoutView",
            "grid_template_rows": null,
            "right": null,
            "justify_content": null,
            "_view_module": "@jupyter-widgets/base",
            "overflow": null,
            "_model_module_version": "1.2.0",
            "_view_count": null,
            "flex_flow": null,
            "width": null,
            "min_width": null,
            "border": null,
            "align_items": null,
            "bottom": null,
            "_model_module": "@jupyter-widgets/base",
            "top": null,
            "grid_column": null,
            "overflow_y": null,
            "overflow_x": null,
            "grid_auto_flow": null,
            "grid_area": null,
            "grid_template_columns": null,
            "flex": null,
            "_model_name": "LayoutModel",
            "justify_items": null,
            "grid_row": null,
            "max_height": null,
            "align_content": null,
            "visibility": null,
            "align_self": null,
            "height": null,
            "min_height": null,
            "padding": null,
            "grid_auto_rows": null,
            "grid_gap": null,
            "max_width": null,
            "order": null,
            "_view_module_version": "1.2.0",
            "grid_template_areas": null,
            "object_position": null,
            "object_fit": null,
            "grid_auto_columns": null,
            "margin": null,
            "display": null,
            "left": null
          }
        },
        "04185b378f4348ddb1f503a50d232c43": {
          "model_module": "@jupyter-widgets/controls",
          "model_name": "HBoxModel",
          "model_module_version": "1.5.0",
          "state": {
            "_view_name": "HBoxView",
            "_dom_classes": [],
            "_model_name": "HBoxModel",
            "_view_module": "@jupyter-widgets/controls",
            "_model_module_version": "1.5.0",
            "_view_count": null,
            "_view_module_version": "1.5.0",
            "box_style": "",
            "layout": "IPY_MODEL_2438053946974682b19fa4a15168f3c8",
            "_model_module": "@jupyter-widgets/controls",
            "children": [
              "IPY_MODEL_8adb8652e49e488b9108e290aa3881c5",
              "IPY_MODEL_3dc6b18d49954d33b315115ab470a166",
              "IPY_MODEL_a9e28a12ba1940f2acc52ed04421bc58"
            ]
          }
        },
        "2438053946974682b19fa4a15168f3c8": {
          "model_module": "@jupyter-widgets/base",
          "model_name": "LayoutModel",
          "model_module_version": "1.2.0",
          "state": {
            "_view_name": "LayoutView",
            "grid_template_rows": null,
            "right": null,
            "justify_content": null,
            "_view_module": "@jupyter-widgets/base",
            "overflow": null,
            "_model_module_version": "1.2.0",
            "_view_count": null,
            "flex_flow": null,
            "width": null,
            "min_width": null,
            "border": null,
            "align_items": null,
            "bottom": null,
            "_model_module": "@jupyter-widgets/base",
            "top": null,
            "grid_column": null,
            "overflow_y": null,
            "overflow_x": null,
            "grid_auto_flow": null,
            "grid_area": null,
            "grid_template_columns": null,
            "flex": null,
            "_model_name": "LayoutModel",
            "justify_items": null,
            "grid_row": null,
            "max_height": null,
            "align_content": null,
            "visibility": null,
            "align_self": null,
            "height": null,
            "min_height": null,
            "padding": null,
            "grid_auto_rows": null,
            "grid_gap": null,
            "max_width": null,
            "order": null,
            "_view_module_version": "1.2.0",
            "grid_template_areas": null,
            "object_position": null,
            "object_fit": null,
            "grid_auto_columns": null,
            "margin": null,
            "display": null,
            "left": null
          }
        },
        "8adb8652e49e488b9108e290aa3881c5": {
          "model_module": "@jupyter-widgets/controls",
          "model_name": "HTMLModel",
          "model_module_version": "1.5.0",
          "state": {
            "_view_name": "HTMLView",
            "style": "IPY_MODEL_71d78165a99c46dd9182e45b97ec9807",
            "_dom_classes": [],
            "description": "",
            "_model_name": "HTMLModel",
            "placeholder": "​",
            "_view_module": "@jupyter-widgets/controls",
            "_model_module_version": "1.5.0",
            "value": "Downloading: 100%",
            "_view_count": null,
            "_view_module_version": "1.5.0",
            "description_tooltip": null,
            "_model_module": "@jupyter-widgets/controls",
            "layout": "IPY_MODEL_b19b65075e344ced884a97be2fcaa97c"
          }
        },
        "3dc6b18d49954d33b315115ab470a166": {
          "model_module": "@jupyter-widgets/controls",
          "model_name": "FloatProgressModel",
          "model_module_version": "1.5.0",
          "state": {
            "_view_name": "ProgressView",
            "style": "IPY_MODEL_6a6279b0870540ada79c78e8d79c2cfc",
            "_dom_classes": [],
            "description": "",
            "_model_name": "FloatProgressModel",
            "bar_style": "success",
            "max": 737,
            "_view_module": "@jupyter-widgets/controls",
            "_model_module_version": "1.5.0",
            "value": 737,
            "_view_count": null,
            "_view_module_version": "1.5.0",
            "orientation": "horizontal",
            "min": 0,
            "description_tooltip": null,
            "_model_module": "@jupyter-widgets/controls",
            "layout": "IPY_MODEL_c82990f25f60435798102e30222379a5"
          }
        },
        "a9e28a12ba1940f2acc52ed04421bc58": {
          "model_module": "@jupyter-widgets/controls",
          "model_name": "HTMLModel",
          "model_module_version": "1.5.0",
          "state": {
            "_view_name": "HTMLView",
            "style": "IPY_MODEL_98a7796a490c4f1ea5f78a9b7a253cda",
            "_dom_classes": [],
            "description": "",
            "_model_name": "HTMLModel",
            "placeholder": "​",
            "_view_module": "@jupyter-widgets/controls",
            "_model_module_version": "1.5.0",
            "value": " 737/737 [00:00&lt;00:00, 15.8kB/s]",
            "_view_count": null,
            "_view_module_version": "1.5.0",
            "description_tooltip": null,
            "_model_module": "@jupyter-widgets/controls",
            "layout": "IPY_MODEL_6d36f2cf91404e689c37338f3b6ce56c"
          }
        },
        "71d78165a99c46dd9182e45b97ec9807": {
          "model_module": "@jupyter-widgets/controls",
          "model_name": "DescriptionStyleModel",
          "model_module_version": "1.5.0",
          "state": {
            "_view_name": "StyleView",
            "_model_name": "DescriptionStyleModel",
            "description_width": "",
            "_view_module": "@jupyter-widgets/base",
            "_model_module_version": "1.5.0",
            "_view_count": null,
            "_view_module_version": "1.2.0",
            "_model_module": "@jupyter-widgets/controls"
          }
        },
        "b19b65075e344ced884a97be2fcaa97c": {
          "model_module": "@jupyter-widgets/base",
          "model_name": "LayoutModel",
          "model_module_version": "1.2.0",
          "state": {
            "_view_name": "LayoutView",
            "grid_template_rows": null,
            "right": null,
            "justify_content": null,
            "_view_module": "@jupyter-widgets/base",
            "overflow": null,
            "_model_module_version": "1.2.0",
            "_view_count": null,
            "flex_flow": null,
            "width": null,
            "min_width": null,
            "border": null,
            "align_items": null,
            "bottom": null,
            "_model_module": "@jupyter-widgets/base",
            "top": null,
            "grid_column": null,
            "overflow_y": null,
            "overflow_x": null,
            "grid_auto_flow": null,
            "grid_area": null,
            "grid_template_columns": null,
            "flex": null,
            "_model_name": "LayoutModel",
            "justify_items": null,
            "grid_row": null,
            "max_height": null,
            "align_content": null,
            "visibility": null,
            "align_self": null,
            "height": null,
            "min_height": null,
            "padding": null,
            "grid_auto_rows": null,
            "grid_gap": null,
            "max_width": null,
            "order": null,
            "_view_module_version": "1.2.0",
            "grid_template_areas": null,
            "object_position": null,
            "object_fit": null,
            "grid_auto_columns": null,
            "margin": null,
            "display": null,
            "left": null
          }
        },
        "6a6279b0870540ada79c78e8d79c2cfc": {
          "model_module": "@jupyter-widgets/controls",
          "model_name": "ProgressStyleModel",
          "model_module_version": "1.5.0",
          "state": {
            "_view_name": "StyleView",
            "_model_name": "ProgressStyleModel",
            "description_width": "",
            "_view_module": "@jupyter-widgets/base",
            "_model_module_version": "1.5.0",
            "_view_count": null,
            "_view_module_version": "1.2.0",
            "bar_color": null,
            "_model_module": "@jupyter-widgets/controls"
          }
        },
        "c82990f25f60435798102e30222379a5": {
          "model_module": "@jupyter-widgets/base",
          "model_name": "LayoutModel",
          "model_module_version": "1.2.0",
          "state": {
            "_view_name": "LayoutView",
            "grid_template_rows": null,
            "right": null,
            "justify_content": null,
            "_view_module": "@jupyter-widgets/base",
            "overflow": null,
            "_model_module_version": "1.2.0",
            "_view_count": null,
            "flex_flow": null,
            "width": null,
            "min_width": null,
            "border": null,
            "align_items": null,
            "bottom": null,
            "_model_module": "@jupyter-widgets/base",
            "top": null,
            "grid_column": null,
            "overflow_y": null,
            "overflow_x": null,
            "grid_auto_flow": null,
            "grid_area": null,
            "grid_template_columns": null,
            "flex": null,
            "_model_name": "LayoutModel",
            "justify_items": null,
            "grid_row": null,
            "max_height": null,
            "align_content": null,
            "visibility": null,
            "align_self": null,
            "height": null,
            "min_height": null,
            "padding": null,
            "grid_auto_rows": null,
            "grid_gap": null,
            "max_width": null,
            "order": null,
            "_view_module_version": "1.2.0",
            "grid_template_areas": null,
            "object_position": null,
            "object_fit": null,
            "grid_auto_columns": null,
            "margin": null,
            "display": null,
            "left": null
          }
        },
        "98a7796a490c4f1ea5f78a9b7a253cda": {
          "model_module": "@jupyter-widgets/controls",
          "model_name": "DescriptionStyleModel",
          "model_module_version": "1.5.0",
          "state": {
            "_view_name": "StyleView",
            "_model_name": "DescriptionStyleModel",
            "description_width": "",
            "_view_module": "@jupyter-widgets/base",
            "_model_module_version": "1.5.0",
            "_view_count": null,
            "_view_module_version": "1.2.0",
            "_model_module": "@jupyter-widgets/controls"
          }
        },
        "6d36f2cf91404e689c37338f3b6ce56c": {
          "model_module": "@jupyter-widgets/base",
          "model_name": "LayoutModel",
          "model_module_version": "1.2.0",
          "state": {
            "_view_name": "LayoutView",
            "grid_template_rows": null,
            "right": null,
            "justify_content": null,
            "_view_module": "@jupyter-widgets/base",
            "overflow": null,
            "_model_module_version": "1.2.0",
            "_view_count": null,
            "flex_flow": null,
            "width": null,
            "min_width": null,
            "border": null,
            "align_items": null,
            "bottom": null,
            "_model_module": "@jupyter-widgets/base",
            "top": null,
            "grid_column": null,
            "overflow_y": null,
            "overflow_x": null,
            "grid_auto_flow": null,
            "grid_area": null,
            "grid_template_columns": null,
            "flex": null,
            "_model_name": "LayoutModel",
            "justify_items": null,
            "grid_row": null,
            "max_height": null,
            "align_content": null,
            "visibility": null,
            "align_self": null,
            "height": null,
            "min_height": null,
            "padding": null,
            "grid_auto_rows": null,
            "grid_gap": null,
            "max_width": null,
            "order": null,
            "_view_module_version": "1.2.0",
            "grid_template_areas": null,
            "object_position": null,
            "object_fit": null,
            "grid_auto_columns": null,
            "margin": null,
            "display": null,
            "left": null
          }
        },
        "9e794d202e10442d828ecaff30e4c35f": {
          "model_module": "@jupyter-widgets/controls",
          "model_name": "HBoxModel",
          "model_module_version": "1.5.0",
          "state": {
            "_view_name": "HBoxView",
            "_dom_classes": [],
            "_model_name": "HBoxModel",
            "_view_module": "@jupyter-widgets/controls",
            "_model_module_version": "1.5.0",
            "_view_count": null,
            "_view_module_version": "1.5.0",
            "box_style": "",
            "layout": "IPY_MODEL_907cc7afc385487b9c35327ee1c900cd",
            "_model_module": "@jupyter-widgets/controls",
            "children": [
              "IPY_MODEL_cda8aac7f3ac46b8b5e929eef58fa096",
              "IPY_MODEL_9c36db31dc6b4a82941312b2fff00b44",
              "IPY_MODEL_843c9811556f46b0b1406c189880cb9e"
            ]
          }
        },
        "907cc7afc385487b9c35327ee1c900cd": {
          "model_module": "@jupyter-widgets/base",
          "model_name": "LayoutModel",
          "model_module_version": "1.2.0",
          "state": {
            "_view_name": "LayoutView",
            "grid_template_rows": null,
            "right": null,
            "justify_content": null,
            "_view_module": "@jupyter-widgets/base",
            "overflow": null,
            "_model_module_version": "1.2.0",
            "_view_count": null,
            "flex_flow": null,
            "width": null,
            "min_width": null,
            "border": null,
            "align_items": null,
            "bottom": null,
            "_model_module": "@jupyter-widgets/base",
            "top": null,
            "grid_column": null,
            "overflow_y": null,
            "overflow_x": null,
            "grid_auto_flow": null,
            "grid_area": null,
            "grid_template_columns": null,
            "flex": null,
            "_model_name": "LayoutModel",
            "justify_items": null,
            "grid_row": null,
            "max_height": null,
            "align_content": null,
            "visibility": null,
            "align_self": null,
            "height": null,
            "min_height": null,
            "padding": null,
            "grid_auto_rows": null,
            "grid_gap": null,
            "max_width": null,
            "order": null,
            "_view_module_version": "1.2.0",
            "grid_template_areas": null,
            "object_position": null,
            "object_fit": null,
            "grid_auto_columns": null,
            "margin": null,
            "display": null,
            "left": null
          }
        },
        "cda8aac7f3ac46b8b5e929eef58fa096": {
          "model_module": "@jupyter-widgets/controls",
          "model_name": "HTMLModel",
          "model_module_version": "1.5.0",
          "state": {
            "_view_name": "HTMLView",
            "style": "IPY_MODEL_d2c0f40b14f44a1db6f8d232f50c62e1",
            "_dom_classes": [],
            "description": "",
            "_model_name": "HTMLModel",
            "placeholder": "​",
            "_view_module": "@jupyter-widgets/controls",
            "_model_module_version": "1.5.0",
            "value": "Downloading: 100%",
            "_view_count": null,
            "_view_module_version": "1.5.0",
            "description_tooltip": null,
            "_model_module": "@jupyter-widgets/controls",
            "layout": "IPY_MODEL_dd3a8804570b46f1b940abcc06b09a9d"
          }
        },
        "9c36db31dc6b4a82941312b2fff00b44": {
          "model_module": "@jupyter-widgets/controls",
          "model_name": "FloatProgressModel",
          "model_module_version": "1.5.0",
          "state": {
            "_view_name": "ProgressView",
            "style": "IPY_MODEL_7562154cd847430bba3bd1cee04c9a9f",
            "_dom_classes": [],
            "description": "",
            "_model_name": "FloatProgressModel",
            "bar_style": "success",
            "max": 690,
            "_view_module": "@jupyter-widgets/controls",
            "_model_module_version": "1.5.0",
            "value": 690,
            "_view_count": null,
            "_view_module_version": "1.5.0",
            "orientation": "horizontal",
            "min": 0,
            "description_tooltip": null,
            "_model_module": "@jupyter-widgets/controls",
            "layout": "IPY_MODEL_d429a44e9b2b48d7b27aa720516f753d"
          }
        },
        "843c9811556f46b0b1406c189880cb9e": {
          "model_module": "@jupyter-widgets/controls",
          "model_name": "HTMLModel",
          "model_module_version": "1.5.0",
          "state": {
            "_view_name": "HTMLView",
            "style": "IPY_MODEL_db59be95beb04658ad3c5bd8cd1d64d3",
            "_dom_classes": [],
            "description": "",
            "_model_name": "HTMLModel",
            "placeholder": "​",
            "_view_module": "@jupyter-widgets/controls",
            "_model_module_version": "1.5.0",
            "value": " 690/690 [00:00&lt;00:00, 14.8kB/s]",
            "_view_count": null,
            "_view_module_version": "1.5.0",
            "description_tooltip": null,
            "_model_module": "@jupyter-widgets/controls",
            "layout": "IPY_MODEL_fe5001b93a6a45be955a76d772ef6663"
          }
        },
        "d2c0f40b14f44a1db6f8d232f50c62e1": {
          "model_module": "@jupyter-widgets/controls",
          "model_name": "DescriptionStyleModel",
          "model_module_version": "1.5.0",
          "state": {
            "_view_name": "StyleView",
            "_model_name": "DescriptionStyleModel",
            "description_width": "",
            "_view_module": "@jupyter-widgets/base",
            "_model_module_version": "1.5.0",
            "_view_count": null,
            "_view_module_version": "1.2.0",
            "_model_module": "@jupyter-widgets/controls"
          }
        },
        "dd3a8804570b46f1b940abcc06b09a9d": {
          "model_module": "@jupyter-widgets/base",
          "model_name": "LayoutModel",
          "model_module_version": "1.2.0",
          "state": {
            "_view_name": "LayoutView",
            "grid_template_rows": null,
            "right": null,
            "justify_content": null,
            "_view_module": "@jupyter-widgets/base",
            "overflow": null,
            "_model_module_version": "1.2.0",
            "_view_count": null,
            "flex_flow": null,
            "width": null,
            "min_width": null,
            "border": null,
            "align_items": null,
            "bottom": null,
            "_model_module": "@jupyter-widgets/base",
            "top": null,
            "grid_column": null,
            "overflow_y": null,
            "overflow_x": null,
            "grid_auto_flow": null,
            "grid_area": null,
            "grid_template_columns": null,
            "flex": null,
            "_model_name": "LayoutModel",
            "justify_items": null,
            "grid_row": null,
            "max_height": null,
            "align_content": null,
            "visibility": null,
            "align_self": null,
            "height": null,
            "min_height": null,
            "padding": null,
            "grid_auto_rows": null,
            "grid_gap": null,
            "max_width": null,
            "order": null,
            "_view_module_version": "1.2.0",
            "grid_template_areas": null,
            "object_position": null,
            "object_fit": null,
            "grid_auto_columns": null,
            "margin": null,
            "display": null,
            "left": null
          }
        },
        "7562154cd847430bba3bd1cee04c9a9f": {
          "model_module": "@jupyter-widgets/controls",
          "model_name": "ProgressStyleModel",
          "model_module_version": "1.5.0",
          "state": {
            "_view_name": "StyleView",
            "_model_name": "ProgressStyleModel",
            "description_width": "",
            "_view_module": "@jupyter-widgets/base",
            "_model_module_version": "1.5.0",
            "_view_count": null,
            "_view_module_version": "1.2.0",
            "bar_color": null,
            "_model_module": "@jupyter-widgets/controls"
          }
        },
        "d429a44e9b2b48d7b27aa720516f753d": {
          "model_module": "@jupyter-widgets/base",
          "model_name": "LayoutModel",
          "model_module_version": "1.2.0",
          "state": {
            "_view_name": "LayoutView",
            "grid_template_rows": null,
            "right": null,
            "justify_content": null,
            "_view_module": "@jupyter-widgets/base",
            "overflow": null,
            "_model_module_version": "1.2.0",
            "_view_count": null,
            "flex_flow": null,
            "width": null,
            "min_width": null,
            "border": null,
            "align_items": null,
            "bottom": null,
            "_model_module": "@jupyter-widgets/base",
            "top": null,
            "grid_column": null,
            "overflow_y": null,
            "overflow_x": null,
            "grid_auto_flow": null,
            "grid_area": null,
            "grid_template_columns": null,
            "flex": null,
            "_model_name": "LayoutModel",
            "justify_items": null,
            "grid_row": null,
            "max_height": null,
            "align_content": null,
            "visibility": null,
            "align_self": null,
            "height": null,
            "min_height": null,
            "padding": null,
            "grid_auto_rows": null,
            "grid_gap": null,
            "max_width": null,
            "order": null,
            "_view_module_version": "1.2.0",
            "grid_template_areas": null,
            "object_position": null,
            "object_fit": null,
            "grid_auto_columns": null,
            "margin": null,
            "display": null,
            "left": null
          }
        },
        "db59be95beb04658ad3c5bd8cd1d64d3": {
          "model_module": "@jupyter-widgets/controls",
          "model_name": "DescriptionStyleModel",
          "model_module_version": "1.5.0",
          "state": {
            "_view_name": "StyleView",
            "_model_name": "DescriptionStyleModel",
            "description_width": "",
            "_view_module": "@jupyter-widgets/base",
            "_model_module_version": "1.5.0",
            "_view_count": null,
            "_view_module_version": "1.2.0",
            "_model_module": "@jupyter-widgets/controls"
          }
        },
        "fe5001b93a6a45be955a76d772ef6663": {
          "model_module": "@jupyter-widgets/base",
          "model_name": "LayoutModel",
          "model_module_version": "1.2.0",
          "state": {
            "_view_name": "LayoutView",
            "grid_template_rows": null,
            "right": null,
            "justify_content": null,
            "_view_module": "@jupyter-widgets/base",
            "overflow": null,
            "_model_module_version": "1.2.0",
            "_view_count": null,
            "flex_flow": null,
            "width": null,
            "min_width": null,
            "border": null,
            "align_items": null,
            "bottom": null,
            "_model_module": "@jupyter-widgets/base",
            "top": null,
            "grid_column": null,
            "overflow_y": null,
            "overflow_x": null,
            "grid_auto_flow": null,
            "grid_area": null,
            "grid_template_columns": null,
            "flex": null,
            "_model_name": "LayoutModel",
            "justify_items": null,
            "grid_row": null,
            "max_height": null,
            "align_content": null,
            "visibility": null,
            "align_self": null,
            "height": null,
            "min_height": null,
            "padding": null,
            "grid_auto_rows": null,
            "grid_gap": null,
            "max_width": null,
            "order": null,
            "_view_module_version": "1.2.0",
            "grid_template_areas": null,
            "object_position": null,
            "object_fit": null,
            "grid_auto_columns": null,
            "margin": null,
            "display": null,
            "left": null
          }
        }
      }
    },
    "accelerator": "GPU"
  },
  "cells": [
    {
      "cell_type": "markdown",
      "metadata": {
        "id": "wfUvgXiHWVbn"
      },
      "source": [
        "DENSE RETRIEVAL"
      ]
    },
    {
      "cell_type": "code",
      "metadata": {
        "colab": {
          "base_uri": "https://localhost:8080/"
        },
        "id": "DWcgnyJ-QBMP",
        "outputId": "9c339657-1aed-46dd-9673-2cc0748aef65"
      },
      "source": [
        "!pip install -U beir"
      ],
      "execution_count": null,
      "outputs": [
        {
          "output_type": "stream",
          "name": "stdout",
          "text": [
            "Collecting beir\n",
            "  Downloading beir-0.2.2-py3-none-any.whl (49 kB)\n",
            "\u001b[?25l\r\u001b[K     |██████▋                         | 10 kB 26.2 MB/s eta 0:00:01\r\u001b[K     |█████████████▏                  | 20 kB 9.2 MB/s eta 0:00:01\r\u001b[K     |███████████████████▊            | 30 kB 7.8 MB/s eta 0:00:01\r\u001b[K     |██████████████████████████▍     | 40 kB 7.4 MB/s eta 0:00:01\r\u001b[K     |████████████████████████████████| 49 kB 2.5 MB/s \n",
            "\u001b[?25hRequirement already satisfied: tensorflow>=2.2.0 in /usr/local/lib/python3.7/dist-packages (from beir) (2.6.0)\n",
            "Collecting faiss-cpu\n",
            "  Downloading faiss_cpu-1.7.1.post2-cp37-cp37m-manylinux_2_17_x86_64.manylinux2014_x86_64.whl (8.4 MB)\n",
            "\u001b[K     |████████████████████████████████| 8.4 MB 5.2 MB/s \n",
            "\u001b[?25hRequirement already satisfied: tensorflow-hub in /usr/local/lib/python3.7/dist-packages (from beir) (0.12.0)\n",
            "Collecting tensorflow-text\n",
            "  Downloading tensorflow_text-2.6.0-cp37-cp37m-manylinux1_x86_64.whl (4.4 MB)\n",
            "\u001b[K     |████████████████████████████████| 4.4 MB 39.7 MB/s \n",
            "\u001b[?25hCollecting sentence-transformers\n",
            "  Downloading sentence-transformers-2.1.0.tar.gz (78 kB)\n",
            "\u001b[K     |████████████████████████████████| 78 kB 8.0 MB/s \n",
            "\u001b[?25hCollecting elasticsearch\n",
            "  Downloading elasticsearch-7.15.0-py2.py3-none-any.whl (378 kB)\n",
            "\u001b[K     |████████████████████████████████| 378 kB 44.2 MB/s \n",
            "\u001b[?25hCollecting pytrec-eval\n",
            "  Downloading pytrec_eval-0.5.tar.gz (15 kB)\n",
            "Requirement already satisfied: google-pasta~=0.2 in /usr/local/lib/python3.7/dist-packages (from tensorflow>=2.2.0->beir) (0.2.0)\n",
            "Requirement already satisfied: six~=1.15.0 in /usr/local/lib/python3.7/dist-packages (from tensorflow>=2.2.0->beir) (1.15.0)\n",
            "Requirement already satisfied: gast==0.4.0 in /usr/local/lib/python3.7/dist-packages (from tensorflow>=2.2.0->beir) (0.4.0)\n",
            "Requirement already satisfied: typing-extensions~=3.7.4 in /usr/local/lib/python3.7/dist-packages (from tensorflow>=2.2.0->beir) (3.7.4.3)\n",
            "Requirement already satisfied: clang~=5.0 in /usr/local/lib/python3.7/dist-packages (from tensorflow>=2.2.0->beir) (5.0)\n",
            "Requirement already satisfied: termcolor~=1.1.0 in /usr/local/lib/python3.7/dist-packages (from tensorflow>=2.2.0->beir) (1.1.0)\n",
            "Requirement already satisfied: absl-py~=0.10 in /usr/local/lib/python3.7/dist-packages (from tensorflow>=2.2.0->beir) (0.12.0)\n",
            "Requirement already satisfied: h5py~=3.1.0 in /usr/local/lib/python3.7/dist-packages (from tensorflow>=2.2.0->beir) (3.1.0)\n",
            "Requirement already satisfied: tensorflow-estimator~=2.6 in /usr/local/lib/python3.7/dist-packages (from tensorflow>=2.2.0->beir) (2.6.0)\n",
            "Requirement already satisfied: astunparse~=1.6.3 in /usr/local/lib/python3.7/dist-packages (from tensorflow>=2.2.0->beir) (1.6.3)\n",
            "Requirement already satisfied: wheel~=0.35 in /usr/local/lib/python3.7/dist-packages (from tensorflow>=2.2.0->beir) (0.37.0)\n",
            "Requirement already satisfied: opt-einsum~=3.3.0 in /usr/local/lib/python3.7/dist-packages (from tensorflow>=2.2.0->beir) (3.3.0)\n",
            "Requirement already satisfied: keras~=2.6 in /usr/local/lib/python3.7/dist-packages (from tensorflow>=2.2.0->beir) (2.6.0)\n",
            "Requirement already satisfied: keras-preprocessing~=1.1.2 in /usr/local/lib/python3.7/dist-packages (from tensorflow>=2.2.0->beir) (1.1.2)\n",
            "Requirement already satisfied: flatbuffers~=1.12.0 in /usr/local/lib/python3.7/dist-packages (from tensorflow>=2.2.0->beir) (1.12)\n",
            "Requirement already satisfied: tensorboard~=2.6 in /usr/local/lib/python3.7/dist-packages (from tensorflow>=2.2.0->beir) (2.6.0)\n",
            "Requirement already satisfied: numpy~=1.19.2 in /usr/local/lib/python3.7/dist-packages (from tensorflow>=2.2.0->beir) (1.19.5)\n",
            "Requirement already satisfied: protobuf>=3.9.2 in /usr/local/lib/python3.7/dist-packages (from tensorflow>=2.2.0->beir) (3.17.3)\n",
            "Requirement already satisfied: grpcio<2.0,>=1.37.0 in /usr/local/lib/python3.7/dist-packages (from tensorflow>=2.2.0->beir) (1.41.0)\n",
            "Requirement already satisfied: wrapt~=1.12.1 in /usr/local/lib/python3.7/dist-packages (from tensorflow>=2.2.0->beir) (1.12.1)\n",
            "Requirement already satisfied: cached-property in /usr/local/lib/python3.7/dist-packages (from h5py~=3.1.0->tensorflow>=2.2.0->beir) (1.5.2)\n",
            "Requirement already satisfied: werkzeug>=0.11.15 in /usr/local/lib/python3.7/dist-packages (from tensorboard~=2.6->tensorflow>=2.2.0->beir) (1.0.1)\n",
            "Requirement already satisfied: setuptools>=41.0.0 in /usr/local/lib/python3.7/dist-packages (from tensorboard~=2.6->tensorflow>=2.2.0->beir) (57.4.0)\n",
            "Requirement already satisfied: tensorboard-data-server<0.7.0,>=0.6.0 in /usr/local/lib/python3.7/dist-packages (from tensorboard~=2.6->tensorflow>=2.2.0->beir) (0.6.1)\n",
            "Requirement already satisfied: google-auth-oauthlib<0.5,>=0.4.1 in /usr/local/lib/python3.7/dist-packages (from tensorboard~=2.6->tensorflow>=2.2.0->beir) (0.4.6)\n",
            "Requirement already satisfied: requests<3,>=2.21.0 in /usr/local/lib/python3.7/dist-packages (from tensorboard~=2.6->tensorflow>=2.2.0->beir) (2.23.0)\n",
            "Requirement already satisfied: google-auth<2,>=1.6.3 in /usr/local/lib/python3.7/dist-packages (from tensorboard~=2.6->tensorflow>=2.2.0->beir) (1.35.0)\n",
            "Requirement already satisfied: markdown>=2.6.8 in /usr/local/lib/python3.7/dist-packages (from tensorboard~=2.6->tensorflow>=2.2.0->beir) (3.3.4)\n",
            "Requirement already satisfied: tensorboard-plugin-wit>=1.6.0 in /usr/local/lib/python3.7/dist-packages (from tensorboard~=2.6->tensorflow>=2.2.0->beir) (1.8.0)\n",
            "Requirement already satisfied: rsa<5,>=3.1.4 in /usr/local/lib/python3.7/dist-packages (from google-auth<2,>=1.6.3->tensorboard~=2.6->tensorflow>=2.2.0->beir) (4.7.2)\n",
            "Requirement already satisfied: cachetools<5.0,>=2.0.0 in /usr/local/lib/python3.7/dist-packages (from google-auth<2,>=1.6.3->tensorboard~=2.6->tensorflow>=2.2.0->beir) (4.2.4)\n",
            "Requirement already satisfied: pyasn1-modules>=0.2.1 in /usr/local/lib/python3.7/dist-packages (from google-auth<2,>=1.6.3->tensorboard~=2.6->tensorflow>=2.2.0->beir) (0.2.8)\n",
            "Requirement already satisfied: requests-oauthlib>=0.7.0 in /usr/local/lib/python3.7/dist-packages (from google-auth-oauthlib<0.5,>=0.4.1->tensorboard~=2.6->tensorflow>=2.2.0->beir) (1.3.0)\n",
            "Requirement already satisfied: importlib-metadata in /usr/local/lib/python3.7/dist-packages (from markdown>=2.6.8->tensorboard~=2.6->tensorflow>=2.2.0->beir) (4.8.1)\n",
            "Requirement already satisfied: pyasn1<0.5.0,>=0.4.6 in /usr/local/lib/python3.7/dist-packages (from pyasn1-modules>=0.2.1->google-auth<2,>=1.6.3->tensorboard~=2.6->tensorflow>=2.2.0->beir) (0.4.8)\n",
            "Requirement already satisfied: chardet<4,>=3.0.2 in /usr/local/lib/python3.7/dist-packages (from requests<3,>=2.21.0->tensorboard~=2.6->tensorflow>=2.2.0->beir) (3.0.4)\n",
            "Requirement already satisfied: idna<3,>=2.5 in /usr/local/lib/python3.7/dist-packages (from requests<3,>=2.21.0->tensorboard~=2.6->tensorflow>=2.2.0->beir) (2.10)\n",
            "Requirement already satisfied: certifi>=2017.4.17 in /usr/local/lib/python3.7/dist-packages (from requests<3,>=2.21.0->tensorboard~=2.6->tensorflow>=2.2.0->beir) (2021.5.30)\n",
            "Requirement already satisfied: urllib3!=1.25.0,!=1.25.1,<1.26,>=1.21.1 in /usr/local/lib/python3.7/dist-packages (from requests<3,>=2.21.0->tensorboard~=2.6->tensorflow>=2.2.0->beir) (1.24.3)\n",
            "Requirement already satisfied: oauthlib>=3.0.0 in /usr/local/lib/python3.7/dist-packages (from requests-oauthlib>=0.7.0->google-auth-oauthlib<0.5,>=0.4.1->tensorboard~=2.6->tensorflow>=2.2.0->beir) (3.1.1)\n",
            "Requirement already satisfied: zipp>=0.5 in /usr/local/lib/python3.7/dist-packages (from importlib-metadata->markdown>=2.6.8->tensorboard~=2.6->tensorflow>=2.2.0->beir) (3.6.0)\n",
            "Collecting transformers<5.0.0,>=4.6.0\n",
            "  Downloading transformers-4.11.3-py3-none-any.whl (2.9 MB)\n",
            "\u001b[K     |████████████████████████████████| 2.9 MB 35.7 MB/s \n",
            "\u001b[?25hCollecting tokenizers>=0.10.3\n",
            "  Downloading tokenizers-0.10.3-cp37-cp37m-manylinux_2_5_x86_64.manylinux1_x86_64.manylinux_2_12_x86_64.manylinux2010_x86_64.whl (3.3 MB)\n",
            "\u001b[K     |████████████████████████████████| 3.3 MB 34.8 MB/s \n",
            "\u001b[?25hRequirement already satisfied: tqdm in /usr/local/lib/python3.7/dist-packages (from sentence-transformers->beir) (4.62.3)\n",
            "Requirement already satisfied: torch>=1.6.0 in /usr/local/lib/python3.7/dist-packages (from sentence-transformers->beir) (1.9.0+cu111)\n",
            "Requirement already satisfied: torchvision in /usr/local/lib/python3.7/dist-packages (from sentence-transformers->beir) (0.10.0+cu111)\n",
            "Requirement already satisfied: scikit-learn in /usr/local/lib/python3.7/dist-packages (from sentence-transformers->beir) (0.22.2.post1)\n",
            "Requirement already satisfied: scipy in /usr/local/lib/python3.7/dist-packages (from sentence-transformers->beir) (1.4.1)\n",
            "Requirement already satisfied: nltk in /usr/local/lib/python3.7/dist-packages (from sentence-transformers->beir) (3.2.5)\n",
            "Collecting sentencepiece\n",
            "  Downloading sentencepiece-0.1.96-cp37-cp37m-manylinux_2_17_x86_64.manylinux2014_x86_64.whl (1.2 MB)\n",
            "\u001b[K     |████████████████████████████████| 1.2 MB 50.8 MB/s \n",
            "\u001b[?25hCollecting huggingface-hub\n",
            "  Downloading huggingface_hub-0.0.19-py3-none-any.whl (56 kB)\n",
            "\u001b[K     |████████████████████████████████| 56 kB 5.0 MB/s \n",
            "\u001b[?25hCollecting sacremoses\n",
            "  Downloading sacremoses-0.0.46-py3-none-any.whl (895 kB)\n",
            "\u001b[K     |████████████████████████████████| 895 kB 48.9 MB/s \n",
            "\u001b[?25hRequirement already satisfied: regex!=2019.12.17 in /usr/local/lib/python3.7/dist-packages (from transformers<5.0.0,>=4.6.0->sentence-transformers->beir) (2019.12.20)\n",
            "Requirement already satisfied: filelock in /usr/local/lib/python3.7/dist-packages (from transformers<5.0.0,>=4.6.0->sentence-transformers->beir) (3.3.0)\n",
            "Collecting pyyaml>=5.1\n",
            "  Downloading PyYAML-5.4.1-cp37-cp37m-manylinux1_x86_64.whl (636 kB)\n",
            "\u001b[K     |████████████████████████████████| 636 kB 45.7 MB/s \n",
            "\u001b[?25hRequirement already satisfied: packaging>=20.0 in /usr/local/lib/python3.7/dist-packages (from transformers<5.0.0,>=4.6.0->sentence-transformers->beir) (21.0)\n",
            "Requirement already satisfied: pyparsing>=2.0.2 in /usr/local/lib/python3.7/dist-packages (from packaging>=20.0->transformers<5.0.0,>=4.6.0->sentence-transformers->beir) (2.4.7)\n",
            "Requirement already satisfied: joblib in /usr/local/lib/python3.7/dist-packages (from sacremoses->transformers<5.0.0,>=4.6.0->sentence-transformers->beir) (1.0.1)\n",
            "Requirement already satisfied: click in /usr/local/lib/python3.7/dist-packages (from sacremoses->transformers<5.0.0,>=4.6.0->sentence-transformers->beir) (7.1.2)\n",
            "Requirement already satisfied: pillow>=5.3.0 in /usr/local/lib/python3.7/dist-packages (from torchvision->sentence-transformers->beir) (7.1.2)\n",
            "Building wheels for collected packages: pytrec-eval, sentence-transformers\n",
            "  Building wheel for pytrec-eval (setup.py) ... \u001b[?25l\u001b[?25hdone\n",
            "  Created wheel for pytrec-eval: filename=pytrec_eval-0.5-cp37-cp37m-linux_x86_64.whl size=266574 sha256=50bed722b48df4473d4e66b663bcc9c696c86d2b32a3bfa48164a9ba926624b0\n",
            "  Stored in directory: /root/.cache/pip/wheels/42/96/77/0829b8b2606f90f61ba10a51277629d2b615604e122ee932f4\n",
            "  Building wheel for sentence-transformers (setup.py) ... \u001b[?25l\u001b[?25hdone\n",
            "  Created wheel for sentence-transformers: filename=sentence_transformers-2.1.0-py3-none-any.whl size=121000 sha256=d4ab9cc02ef2a22271f4e4bf8806c23d6d6ebf3930b28aa7f854eed554fe6e20\n",
            "  Stored in directory: /root/.cache/pip/wheels/90/f0/bb/ed1add84da70092ea526466eadc2bfb197c4bcb8d4fa5f7bad\n",
            "Successfully built pytrec-eval sentence-transformers\n",
            "Installing collected packages: pyyaml, tokenizers, sacremoses, huggingface-hub, transformers, sentencepiece, tensorflow-text, sentence-transformers, pytrec-eval, faiss-cpu, elasticsearch, beir\n",
            "  Attempting uninstall: pyyaml\n",
            "    Found existing installation: PyYAML 3.13\n",
            "    Uninstalling PyYAML-3.13:\n",
            "      Successfully uninstalled PyYAML-3.13\n",
            "Successfully installed beir-0.2.2 elasticsearch-7.15.0 faiss-cpu-1.7.1.post2 huggingface-hub-0.0.19 pytrec-eval-0.5 pyyaml-5.4.1 sacremoses-0.0.46 sentence-transformers-2.1.0 sentencepiece-0.1.96 tensorflow-text-2.6.0 tokenizers-0.10.3 transformers-4.11.3\n"
          ]
        }
      ]
    },
    {
      "cell_type": "code",
      "metadata": {
        "colab": {
          "base_uri": "https://localhost:8080/",
          "height": 81,
          "referenced_widgets": [
            "cc2b1daca9554846b99bf389bf79a3b1",
            "c25287092bae4c7b85aa7816ce294501"
          ]
        },
        "id": "gvjsRYw5WvcQ",
        "outputId": "9ca4222a-9d03-4433-c9a9-aee882e2c54d"
      },
      "source": [
        "import pathlib, os\n",
        "import time\n",
        "import pandas as pd\n",
        "import random\n",
        "import requests\n",
        "import json\n",
        "import torch\n",
        "import torch.multiprocessing as mp\n",
        "from tqdm.notebook import tqdm\n",
        "from tqdm.autonotebook import trange\n",
        "from beir import util, LoggingHandler\n",
        "from beir.retrieval.evaluation import EvaluateRetrieval\n",
        "from beir.retrieval import models\n",
        "from beir.retrieval.search.dense import DenseRetrievalExactSearch as DRES\n",
        "from beir.datasets.data_loader import GenericDataLoader\n",
        "\n",
        "hostname = 'localhost' \n",
        "dataset = 'scidocs'\n",
        "index_name = dataset\n",
        "url = 'https://public.ukp.informatik.tu-darmstadt.de/thakur/BEIR/datasets/{}.zip'.format(dataset)\n",
        "out_dir = os.path.join(os.getcwd(), 'datasets')\n",
        "data_path = util.download_and_unzip(url, out_dir)\n",
        "corpus, queries, qrels = GenericDataLoader(data_path).load(split='test') # 'test', 'train', 'dev'\n",
        "corpus_ids = list(corpus.keys())\n",
        "corpus_list = [corpus[doc_id] for doc_id in corpus_ids]"
      ],
      "execution_count": null,
      "outputs": [
        {
          "output_type": "display_data",
          "data": {
            "application/vnd.jupyter.widget-view+json": {
              "model_id": "cc2b1daca9554846b99bf389bf79a3b1",
              "version_minor": 0,
              "version_major": 2
            },
            "text/plain": [
              "/content/datasets/scidocs.zip:   0%|          | 0.00/136M [00:00<?, ?iB/s]"
            ]
          },
          "metadata": {}
        },
        {
          "output_type": "display_data",
          "data": {
            "application/vnd.jupyter.widget-view+json": {
              "model_id": "c25287092bae4c7b85aa7816ce294501",
              "version_minor": 0,
              "version_major": 2
            },
            "text/plain": [
              "  0%|          | 0/25657 [00:00<?, ?it/s]"
            ]
          },
          "metadata": {}
        }
      ]
    },
    {
      "cell_type": "code",
      "metadata": {
        "id": "RUR_aS3xXojY"
      },
      "source": [
        "def eval_metrics(model_name, ndcg, _map, recall, precision):\n",
        "  c_map = 'MAP@10'\n",
        "  c_map_h = 'MAP@100'\n",
        "  c_map_t = 'MAP@1000'\n",
        "  c_ndcg = 'NDCG@10'\n",
        "  c_ndcg_h = 'NDCG@100'\n",
        "  c_ndcg_t = 'NDCG@1000'\n",
        "  c_pre = 'P@10'\n",
        "  c_pre_h = 'P@100'\n",
        "  c_pre_t = 'P@1000'\n",
        "  c_rec = 'Recall@10'\n",
        "  c_rec_h = 'Recall@100'\n",
        "  c_rec_t = 'Recall@1000'\n",
        "  eval_dict = {\n",
        "      c_map: [_map[c_map]], \n",
        "      c_map_h: [_map[c_map_h]],\n",
        "      c_map_t: [_map[c_map_t]],\n",
        "      c_ndcg: [ndcg[c_ndcg]], \n",
        "      c_ndcg_h: [ndcg[c_ndcg_h]],\n",
        "      c_ndcg_t: [ndcg[c_ndcg_t]],\n",
        "      c_pre: [precision[c_pre]], \n",
        "      c_pre_h: [precision[c_pre_h]],\n",
        "      c_pre_t: [precision[c_pre_t]],\n",
        "      c_rec: [recall[c_rec]],\n",
        "      c_rec_h: [recall[c_rec_h]],\n",
        "      c_rec_t: [recall[c_rec_t]]}\n",
        "  eval_df = pd.DataFrame(data=eval_dict)\n",
        "  eval_df.index = [model_name]\n",
        "  return eval_df"
      ],
      "execution_count": null,
      "outputs": []
    },
    {
      "cell_type": "code",
      "metadata": {
        "colab": {
          "base_uri": "https://localhost:8080/",
          "height": 1000,
          "referenced_widgets": [
            "900d331b4fbb4dbd98f37207057daea7",
            "ca8bbe122a3341e8b2dfb7bcbc9c2d5e",
            "2cf47ea225c24906b99bd82c619b2593",
            "e5fb5ac57ddb471eb0b9ce7fa8fd8915",
            "addeef06de7a443a846c40730dcde45c",
            "b34e0d03d1fc4852b3e770214879980e",
            "e99c04a59725428fa51cf45049a15ef6",
            "f1ea6e6cb1734583ad95654645590714",
            "340c14f7a4494a9c8e5a5bbc022edfb9",
            "d6af9618493742ef8310a1d87794ff99",
            "42bdc46c75c44b7a8855c6158711ee49",
            "85010bbafb82475a9c736e2ea59a11ef",
            "89834317b4cd4aebbfa8e828dcdddf4f",
            "bb4d3db6e3f44f15acf031f3ec01ad0f",
            "b0271be21dc0409ab4f158fb06c02a5b",
            "ff3a27f3695c482bb41e4b94556cf083",
            "7b4dbd454a6e446f9058023dfecd02a3",
            "de9de5d5d0494dc490ed8f38e2c57846",
            "555295f6c10a4b308f699775f749f322",
            "d5dde1ad1ab14eeb85db37429bd5241e",
            "965429554b89457d846318fb4c892b77",
            "26b8efc898c24bb693684970698b0ab9",
            "8cdabe2332084525bef8bd252320b786",
            "4ee33670b98d438eb8211e16ce677f30",
            "009babf00f5744d594656a0c5826a653",
            "a9025f48acc643cba5d0933a3dab6c6c",
            "6f5b158dfe154ab4a7c5a1a57f6e3674",
            "c0fd47d92b1047e3a77304a69c13005d",
            "3fd858a4fc8f4bf39a53dfd51beec7f5",
            "ad40ea2ba1194d08b3bb0678f57b790a",
            "bb9573f3a7b441cd965e395ce9f72734",
            "b98ea7c639614a69b8ddce71769f0c9c",
            "cb0cc8a608594ca9b6cd11ad3334ac5f",
            "41a94833f7ad46039463140e8eda263f",
            "40a1679152df4c92a5b8417ce1546812",
            "6ed1a4a2156442e8be36be19d21fb37f",
            "16f388af07bf420082faa0fa2b6491f7",
            "a4183fe8634e43519875efece2e8a7e8",
            "ab1fb78beece4349bcae48ba81c8224d",
            "3c931f1e3062495d935b1ce6ca901a26",
            "c393ef7e1ff649d79e4ab198b1e4705c",
            "35be1c30335640888dda6813ad37e1a2",
            "9bc557e2e1424267a207c93c949701f6",
            "2878b7f9fc6140e7afcfb4afe6f76eeb",
            "bccd83a916d8451babbf4bf6c1ae2c87",
            "7e00af8c5b084da7a8a8c7471964aa24",
            "79103723d58441fb83b033e94a4a0b78",
            "c185491ec3744fb8b0d3d859bc655025",
            "6b62e8e9ed2a43caa50d0cbee0abd04e",
            "0bd342ceb40a4908a4efe7b4bc745774",
            "051c954acec14469878073b92d18dc99",
            "e78b9a7fe349457db46034137f088408",
            "0dc4d41c63694e39b735b79877b3d9f5",
            "2c2a8d959b134810b40cbd7cfae73a53",
            "7063bb63cddd4015bc903300935a46fc",
            "741f05d3693d45f8819ff612ded43934",
            "ff6f3535772e49a8b6065bd266901a57",
            "b576d0f3065545e0aaaad0996ffaa14b",
            "1ae6b36ebfed4eb7acfc4cb00ef56d83"
          ]
        },
        "id": "uDjSTKz9XXdx",
        "outputId": "5f1a2813-e877-4df2-a2cd-bdcbf99b7e5b"
      },
      "source": [
        "dr_all_mpnet_dot = EvaluateRetrieval(\n",
        "    DRES(models.SentenceBERT('all-mpnet-base-v2'), batch_size=128), score_function='dot')\n",
        "dr_all_drob_dot = EvaluateRetrieval(\n",
        "    DRES(models.SentenceBERT('all-distilroberta-v1'), batch_size=128), score_function='dot')\n",
        "dr_all_minilm_dot = EvaluateRetrieval(\n",
        "    DRES(models.SentenceBERT('all-MiniLM-L12-v2'), batch_size=128), score_function='dot')\n",
        "\n",
        "res_all_mpnet_dot = dr_all_mpnet_dot.retrieve(corpus, queries)\n",
        "res_all_drob_dot = dr_all_drob_dot.retrieve(corpus, queries)\n",
        "res_all_minilm_dot = dr_all_minilm_dot.retrieve(corpus, queries)\n",
        "\n",
        "ndcg_d_amd, _map_d_amd, recall_d_amd, precision_d_amd = dr_all_mpnet_dot.evaluate(\n",
        "    qrels, res_all_mpnet_dot, dr_all_mpnet_dot.k_values)\n",
        "ndcg_d_add, _map_d_add, recall_d_add, precision_d_add = dr_all_drob_dot.evaluate(\n",
        "    qrels, res_all_drob_dot, dr_all_drob_dot.k_values)\n",
        "ndcg_d_amld, _map_d_amld, recall_d_amld, precision_d_amld = dr_all_minilm_dot.evaluate(\n",
        "    qrels, res_all_minilm_dot, dr_all_minilm_dot.k_values)"
      ],
      "execution_count": null,
      "outputs": [
        {
          "output_type": "display_data",
          "data": {
            "application/vnd.jupyter.widget-view+json": {
              "model_id": "900d331b4fbb4dbd98f37207057daea7",
              "version_minor": 0,
              "version_major": 2
            },
            "text/plain": [
              "Downloading:   0%|          | 0.00/1.18k [00:00<?, ?B/s]"
            ]
          },
          "metadata": {}
        },
        {
          "output_type": "display_data",
          "data": {
            "application/vnd.jupyter.widget-view+json": {
              "model_id": "85010bbafb82475a9c736e2ea59a11ef",
              "version_minor": 0,
              "version_major": 2
            },
            "text/plain": [
              "Downloading:   0%|          | 0.00/10.1k [00:00<?, ?B/s]"
            ]
          },
          "metadata": {}
        },
        {
          "output_type": "display_data",
          "data": {
            "application/vnd.jupyter.widget-view+json": {
              "model_id": "89834317b4cd4aebbfa8e828dcdddf4f",
              "version_minor": 0,
              "version_major": 2
            },
            "text/plain": [
              "Downloading:   0%|          | 0.00/571 [00:00<?, ?B/s]"
            ]
          },
          "metadata": {}
        },
        {
          "output_type": "display_data",
          "data": {
            "application/vnd.jupyter.widget-view+json": {
              "model_id": "bb4d3db6e3f44f15acf031f3ec01ad0f",
              "version_minor": 0,
              "version_major": 2
            },
            "text/plain": [
              "Downloading:   0%|          | 0.00/116 [00:00<?, ?B/s]"
            ]
          },
          "metadata": {}
        },
        {
          "output_type": "display_data",
          "data": {
            "application/vnd.jupyter.widget-view+json": {
              "model_id": "b0271be21dc0409ab4f158fb06c02a5b",
              "version_minor": 0,
              "version_major": 2
            },
            "text/plain": [
              "Downloading:   0%|          | 0.00/39.3k [00:00<?, ?B/s]"
            ]
          },
          "metadata": {}
        },
        {
          "output_type": "display_data",
          "data": {
            "application/vnd.jupyter.widget-view+json": {
              "model_id": "ff3a27f3695c482bb41e4b94556cf083",
              "version_minor": 0,
              "version_major": 2
            },
            "text/plain": [
              "Downloading:   0%|          | 0.00/349 [00:00<?, ?B/s]"
            ]
          },
          "metadata": {}
        },
        {
          "output_type": "display_data",
          "data": {
            "application/vnd.jupyter.widget-view+json": {
              "model_id": "7b4dbd454a6e446f9058023dfecd02a3",
              "version_minor": 0,
              "version_major": 2
            },
            "text/plain": [
              "Downloading:   0%|          | 0.00/438M [00:00<?, ?B/s]"
            ]
          },
          "metadata": {}
        },
        {
          "output_type": "display_data",
          "data": {
            "application/vnd.jupyter.widget-view+json": {
              "model_id": "de9de5d5d0494dc490ed8f38e2c57846",
              "version_minor": 0,
              "version_major": 2
            },
            "text/plain": [
              "Downloading:   0%|          | 0.00/53.0 [00:00<?, ?B/s]"
            ]
          },
          "metadata": {}
        },
        {
          "output_type": "display_data",
          "data": {
            "application/vnd.jupyter.widget-view+json": {
              "model_id": "555295f6c10a4b308f699775f749f322",
              "version_minor": 0,
              "version_major": 2
            },
            "text/plain": [
              "Downloading:   0%|          | 0.00/239 [00:00<?, ?B/s]"
            ]
          },
          "metadata": {}
        },
        {
          "output_type": "display_data",
          "data": {
            "application/vnd.jupyter.widget-view+json": {
              "model_id": "d5dde1ad1ab14eeb85db37429bd5241e",
              "version_minor": 0,
              "version_major": 2
            },
            "text/plain": [
              "Downloading:   0%|          | 0.00/466k [00:00<?, ?B/s]"
            ]
          },
          "metadata": {}
        },
        {
          "output_type": "display_data",
          "data": {
            "application/vnd.jupyter.widget-view+json": {
              "model_id": "965429554b89457d846318fb4c892b77",
              "version_minor": 0,
              "version_major": 2
            },
            "text/plain": [
              "Downloading:   0%|          | 0.00/363 [00:00<?, ?B/s]"
            ]
          },
          "metadata": {}
        },
        {
          "output_type": "display_data",
          "data": {
            "application/vnd.jupyter.widget-view+json": {
              "model_id": "26b8efc898c24bb693684970698b0ab9",
              "version_minor": 0,
              "version_major": 2
            },
            "text/plain": [
              "Downloading:   0%|          | 0.00/13.1k [00:00<?, ?B/s]"
            ]
          },
          "metadata": {}
        },
        {
          "output_type": "display_data",
          "data": {
            "application/vnd.jupyter.widget-view+json": {
              "model_id": "8cdabe2332084525bef8bd252320b786",
              "version_minor": 0,
              "version_major": 2
            },
            "text/plain": [
              "Downloading:   0%|          | 0.00/232k [00:00<?, ?B/s]"
            ]
          },
          "metadata": {}
        },
        {
          "output_type": "display_data",
          "data": {
            "application/vnd.jupyter.widget-view+json": {
              "model_id": "4ee33670b98d438eb8211e16ce677f30",
              "version_minor": 0,
              "version_major": 2
            },
            "text/plain": [
              "Downloading:   0%|          | 0.00/190 [00:00<?, ?B/s]"
            ]
          },
          "metadata": {}
        },
        {
          "output_type": "display_data",
          "data": {
            "application/vnd.jupyter.widget-view+json": {
              "model_id": "009babf00f5744d594656a0c5826a653",
              "version_minor": 0,
              "version_major": 2
            },
            "text/plain": [
              "Downloading:   0%|          | 0.00/737 [00:00<?, ?B/s]"
            ]
          },
          "metadata": {}
        },
        {
          "output_type": "display_data",
          "data": {
            "application/vnd.jupyter.widget-view+json": {
              "model_id": "a9025f48acc643cba5d0933a3dab6c6c",
              "version_minor": 0,
              "version_major": 2
            },
            "text/plain": [
              "Downloading:   0%|          | 0.00/9.86k [00:00<?, ?B/s]"
            ]
          },
          "metadata": {}
        },
        {
          "output_type": "display_data",
          "data": {
            "application/vnd.jupyter.widget-view+json": {
              "model_id": "6f5b158dfe154ab4a7c5a1a57f6e3674",
              "version_minor": 0,
              "version_major": 2
            },
            "text/plain": [
              "Downloading:   0%|          | 0.00/653 [00:00<?, ?B/s]"
            ]
          },
          "metadata": {}
        },
        {
          "output_type": "display_data",
          "data": {
            "application/vnd.jupyter.widget-view+json": {
              "model_id": "c0fd47d92b1047e3a77304a69c13005d",
              "version_minor": 0,
              "version_major": 2
            },
            "text/plain": [
              "Downloading:   0%|          | 0.00/116 [00:00<?, ?B/s]"
            ]
          },
          "metadata": {}
        },
        {
          "output_type": "display_data",
          "data": {
            "application/vnd.jupyter.widget-view+json": {
              "model_id": "3fd858a4fc8f4bf39a53dfd51beec7f5",
              "version_minor": 0,
              "version_major": 2
            },
            "text/plain": [
              "Downloading:   0%|          | 0.00/15.7k [00:00<?, ?B/s]"
            ]
          },
          "metadata": {}
        },
        {
          "output_type": "display_data",
          "data": {
            "application/vnd.jupyter.widget-view+json": {
              "model_id": "ad40ea2ba1194d08b3bb0678f57b790a",
              "version_minor": 0,
              "version_major": 2
            },
            "text/plain": [
              "Downloading:   0%|          | 0.00/456k [00:00<?, ?B/s]"
            ]
          },
          "metadata": {}
        },
        {
          "output_type": "display_data",
          "data": {
            "application/vnd.jupyter.widget-view+json": {
              "model_id": "bb9573f3a7b441cd965e395ce9f72734",
              "version_minor": 0,
              "version_major": 2
            },
            "text/plain": [
              "Downloading:   0%|          | 0.00/349 [00:00<?, ?B/s]"
            ]
          },
          "metadata": {}
        },
        {
          "output_type": "display_data",
          "data": {
            "application/vnd.jupyter.widget-view+json": {
              "model_id": "b98ea7c639614a69b8ddce71769f0c9c",
              "version_minor": 0,
              "version_major": 2
            },
            "text/plain": [
              "Downloading:   0%|          | 0.00/329M [00:00<?, ?B/s]"
            ]
          },
          "metadata": {}
        },
        {
          "output_type": "display_data",
          "data": {
            "application/vnd.jupyter.widget-view+json": {
              "model_id": "cb0cc8a608594ca9b6cd11ad3334ac5f",
              "version_minor": 0,
              "version_major": 2
            },
            "text/plain": [
              "Downloading:   0%|          | 0.00/53.0 [00:00<?, ?B/s]"
            ]
          },
          "metadata": {}
        },
        {
          "output_type": "display_data",
          "data": {
            "application/vnd.jupyter.widget-view+json": {
              "model_id": "41a94833f7ad46039463140e8eda263f",
              "version_minor": 0,
              "version_major": 2
            },
            "text/plain": [
              "Downloading:   0%|          | 0.00/239 [00:00<?, ?B/s]"
            ]
          },
          "metadata": {}
        },
        {
          "output_type": "display_data",
          "data": {
            "application/vnd.jupyter.widget-view+json": {
              "model_id": "40a1679152df4c92a5b8417ce1546812",
              "version_minor": 0,
              "version_major": 2
            },
            "text/plain": [
              "Downloading:   0%|          | 0.00/1.36M [00:00<?, ?B/s]"
            ]
          },
          "metadata": {}
        },
        {
          "output_type": "display_data",
          "data": {
            "application/vnd.jupyter.widget-view+json": {
              "model_id": "6ed1a4a2156442e8be36be19d21fb37f",
              "version_minor": 0,
              "version_major": 2
            },
            "text/plain": [
              "Downloading:   0%|          | 0.00/333 [00:00<?, ?B/s]"
            ]
          },
          "metadata": {}
        },
        {
          "output_type": "display_data",
          "data": {
            "application/vnd.jupyter.widget-view+json": {
              "model_id": "16f388af07bf420082faa0fa2b6491f7",
              "version_minor": 0,
              "version_major": 2
            },
            "text/plain": [
              "Downloading:   0%|          | 0.00/13.1k [00:00<?, ?B/s]"
            ]
          },
          "metadata": {}
        },
        {
          "output_type": "display_data",
          "data": {
            "application/vnd.jupyter.widget-view+json": {
              "model_id": "a4183fe8634e43519875efece2e8a7e8",
              "version_minor": 0,
              "version_major": 2
            },
            "text/plain": [
              "Downloading:   0%|          | 0.00/798k [00:00<?, ?B/s]"
            ]
          },
          "metadata": {}
        },
        {
          "output_type": "display_data",
          "data": {
            "application/vnd.jupyter.widget-view+json": {
              "model_id": "ab1fb78beece4349bcae48ba81c8224d",
              "version_minor": 0,
              "version_major": 2
            },
            "text/plain": [
              "Downloading:   0%|          | 0.00/190 [00:00<?, ?B/s]"
            ]
          },
          "metadata": {}
        },
        {
          "output_type": "display_data",
          "data": {
            "application/vnd.jupyter.widget-view+json": {
              "model_id": "3c931f1e3062495d935b1ce6ca901a26",
              "version_minor": 0,
              "version_major": 2
            },
            "text/plain": [
              "Downloading:   0%|          | 0.00/1.18k [00:00<?, ?B/s]"
            ]
          },
          "metadata": {}
        },
        {
          "output_type": "display_data",
          "data": {
            "application/vnd.jupyter.widget-view+json": {
              "model_id": "c393ef7e1ff649d79e4ab198b1e4705c",
              "version_minor": 0,
              "version_major": 2
            },
            "text/plain": [
              "Downloading:   0%|          | 0.00/10.2k [00:00<?, ?B/s]"
            ]
          },
          "metadata": {}
        },
        {
          "output_type": "display_data",
          "data": {
            "application/vnd.jupyter.widget-view+json": {
              "model_id": "35be1c30335640888dda6813ad37e1a2",
              "version_minor": 0,
              "version_major": 2
            },
            "text/plain": [
              "Downloading:   0%|          | 0.00/573 [00:00<?, ?B/s]"
            ]
          },
          "metadata": {}
        },
        {
          "output_type": "display_data",
          "data": {
            "application/vnd.jupyter.widget-view+json": {
              "model_id": "9bc557e2e1424267a207c93c949701f6",
              "version_minor": 0,
              "version_major": 2
            },
            "text/plain": [
              "Downloading:   0%|          | 0.00/116 [00:00<?, ?B/s]"
            ]
          },
          "metadata": {}
        },
        {
          "output_type": "display_data",
          "data": {
            "application/vnd.jupyter.widget-view+json": {
              "model_id": "2878b7f9fc6140e7afcfb4afe6f76eeb",
              "version_minor": 0,
              "version_major": 2
            },
            "text/plain": [
              "Downloading:   0%|          | 0.00/39.3k [00:00<?, ?B/s]"
            ]
          },
          "metadata": {}
        },
        {
          "output_type": "display_data",
          "data": {
            "application/vnd.jupyter.widget-view+json": {
              "model_id": "bccd83a916d8451babbf4bf6c1ae2c87",
              "version_minor": 0,
              "version_major": 2
            },
            "text/plain": [
              "Downloading:   0%|          | 0.00/349 [00:00<?, ?B/s]"
            ]
          },
          "metadata": {}
        },
        {
          "output_type": "display_data",
          "data": {
            "application/vnd.jupyter.widget-view+json": {
              "model_id": "7e00af8c5b084da7a8a8c7471964aa24",
              "version_minor": 0,
              "version_major": 2
            },
            "text/plain": [
              "Downloading:   0%|          | 0.00/134M [00:00<?, ?B/s]"
            ]
          },
          "metadata": {}
        },
        {
          "output_type": "display_data",
          "data": {
            "application/vnd.jupyter.widget-view+json": {
              "model_id": "79103723d58441fb83b033e94a4a0b78",
              "version_minor": 0,
              "version_major": 2
            },
            "text/plain": [
              "Downloading:   0%|          | 0.00/53.0 [00:00<?, ?B/s]"
            ]
          },
          "metadata": {}
        },
        {
          "output_type": "display_data",
          "data": {
            "application/vnd.jupyter.widget-view+json": {
              "model_id": "c185491ec3744fb8b0d3d859bc655025",
              "version_minor": 0,
              "version_major": 2
            },
            "text/plain": [
              "Downloading:   0%|          | 0.00/112 [00:00<?, ?B/s]"
            ]
          },
          "metadata": {}
        },
        {
          "output_type": "display_data",
          "data": {
            "application/vnd.jupyter.widget-view+json": {
              "model_id": "6b62e8e9ed2a43caa50d0cbee0abd04e",
              "version_minor": 0,
              "version_major": 2
            },
            "text/plain": [
              "Downloading:   0%|          | 0.00/466k [00:00<?, ?B/s]"
            ]
          },
          "metadata": {}
        },
        {
          "output_type": "display_data",
          "data": {
            "application/vnd.jupyter.widget-view+json": {
              "model_id": "0bd342ceb40a4908a4efe7b4bc745774",
              "version_minor": 0,
              "version_major": 2
            },
            "text/plain": [
              "Downloading:   0%|          | 0.00/352 [00:00<?, ?B/s]"
            ]
          },
          "metadata": {}
        },
        {
          "output_type": "display_data",
          "data": {
            "application/vnd.jupyter.widget-view+json": {
              "model_id": "051c954acec14469878073b92d18dc99",
              "version_minor": 0,
              "version_major": 2
            },
            "text/plain": [
              "Downloading:   0%|          | 0.00/13.2k [00:00<?, ?B/s]"
            ]
          },
          "metadata": {}
        },
        {
          "output_type": "display_data",
          "data": {
            "application/vnd.jupyter.widget-view+json": {
              "model_id": "e78b9a7fe349457db46034137f088408",
              "version_minor": 0,
              "version_major": 2
            },
            "text/plain": [
              "Downloading:   0%|          | 0.00/232k [00:00<?, ?B/s]"
            ]
          },
          "metadata": {}
        },
        {
          "output_type": "display_data",
          "data": {
            "application/vnd.jupyter.widget-view+json": {
              "model_id": "0dc4d41c63694e39b735b79877b3d9f5",
              "version_minor": 0,
              "version_major": 2
            },
            "text/plain": [
              "Downloading:   0%|          | 0.00/190 [00:00<?, ?B/s]"
            ]
          },
          "metadata": {}
        },
        {
          "output_type": "display_data",
          "data": {
            "application/vnd.jupyter.widget-view+json": {
              "model_id": "2c2a8d959b134810b40cbd7cfae73a53",
              "version_minor": 0,
              "version_major": 2
            },
            "text/plain": [
              "Batches:   0%|          | 0/8 [00:00<?, ?it/s]"
            ]
          },
          "metadata": {}
        },
        {
          "output_type": "display_data",
          "data": {
            "application/vnd.jupyter.widget-view+json": {
              "model_id": "7063bb63cddd4015bc903300935a46fc",
              "version_minor": 0,
              "version_major": 2
            },
            "text/plain": [
              "Batches:   0%|          | 0/201 [00:00<?, ?it/s]"
            ]
          },
          "metadata": {}
        },
        {
          "output_type": "display_data",
          "data": {
            "application/vnd.jupyter.widget-view+json": {
              "model_id": "741f05d3693d45f8819ff612ded43934",
              "version_minor": 0,
              "version_major": 2
            },
            "text/plain": [
              "Batches:   0%|          | 0/8 [00:00<?, ?it/s]"
            ]
          },
          "metadata": {}
        },
        {
          "output_type": "display_data",
          "data": {
            "application/vnd.jupyter.widget-view+json": {
              "model_id": "ff6f3535772e49a8b6065bd266901a57",
              "version_minor": 0,
              "version_major": 2
            },
            "text/plain": [
              "Batches:   0%|          | 0/201 [00:00<?, ?it/s]"
            ]
          },
          "metadata": {}
        },
        {
          "output_type": "display_data",
          "data": {
            "application/vnd.jupyter.widget-view+json": {
              "model_id": "b576d0f3065545e0aaaad0996ffaa14b",
              "version_minor": 0,
              "version_major": 2
            },
            "text/plain": [
              "Batches:   0%|          | 0/8 [00:00<?, ?it/s]"
            ]
          },
          "metadata": {}
        },
        {
          "output_type": "display_data",
          "data": {
            "application/vnd.jupyter.widget-view+json": {
              "model_id": "1ae6b36ebfed4eb7acfc4cb00ef56d83",
              "version_minor": 0,
              "version_major": 2
            },
            "text/plain": [
              "Batches:   0%|          | 0/201 [00:00<?, ?it/s]"
            ]
          },
          "metadata": {}
        }
      ]
    },
    {
      "cell_type": "code",
      "metadata": {
        "colab": {
          "base_uri": "https://localhost:8080/",
          "height": 1000,
          "referenced_widgets": [
            "04185b378f4348ddb1f503a50d232c43",
            "2438053946974682b19fa4a15168f3c8",
            "8adb8652e49e488b9108e290aa3881c5",
            "3dc6b18d49954d33b315115ab470a166",
            "a9e28a12ba1940f2acc52ed04421bc58",
            "71d78165a99c46dd9182e45b97ec9807",
            "b19b65075e344ced884a97be2fcaa97c",
            "6a6279b0870540ada79c78e8d79c2cfc",
            "c82990f25f60435798102e30222379a5",
            "98a7796a490c4f1ea5f78a9b7a253cda",
            "6d36f2cf91404e689c37338f3b6ce56c",
            "84fe731e8da44df4b45297346b586ecb",
            "7c6be96f04dc4ef289536d41f7d246c7",
            "331494f1ea4143f18e08d1de29e378b9",
            "d553dd71b9d04445a97f25c1458e255c",
            "ddaf3ad665b14f97b6544de945a0a9af",
            "81ae9e0e1cd1448cb07c866aa15dccce",
            "3c083c6e2d774fa585cb807398191a75",
            "ea8ec852291a4790a2dc3584f40bc4ac",
            "79ac63eb4d9f4f7c8c0c0b06aee16f9d",
            "68ec24bfcb8d42c386403dd73086a567",
            "ceb09acf934849ba88cc490d85e9123a",
            "fcd529d0e1104cf1825c98f4b53a4044",
            "b03236a39c59449db626c7092627a6fa",
            "b111eb190a17464bae1c9c1291e82542",
            "6fa5777e8f8e43bc9a90c46b17b988c9",
            "10cb018f4d814f76b002866065757dae",
            "7956a7bcb9cf40f59e11c9bb430fefb8",
            "bf711960ad3a43a3bef3f45573c61f19",
            "0593e9d2943f4d8ea7538aa7963eaec2",
            "fa24cdfd7959470cb9a4426b0d741235",
            "52210ef7c9894217858bb619dead0e6d",
            "a4c4189d4a104940b6aaf7f6d02688eb",
            "d98ca5337a0f444393747d360f6f9ccd",
            "8053cba33ce34f159613f0cfb9c2295f",
            "8df6ef6fe38046ed8469404e92bbd8d7",
            "bc36d881c24a41e4bfd78b881654d74f",
            "05dfd715c4a14309a0e445e0b77d0ac3",
            "48adfc7dc87c457c9bc2daa6e0642a9a",
            "5f61ac141b91415f8ae0c378a7ae0c0a",
            "cd1088792ec44503b66bf2bf9708be66",
            "9d07b3acaf3b4a5eb01500a9cfe46090",
            "226c2024682d4f98b7ddba4cb8f2543f",
            "628d8044d24d49e997d27b79a8c6c122",
            "794f435c9f3945bd8fb5306f506f61b7",
            "b9f2adcb10d94922b7ccf63ad4e44144",
            "0e82105e67dc496d9d4b2cbaeb0921ef",
            "89b7751ab763485ba55ca4d5058bafd1",
            "6e4716afeba44cd5ae39e8563b854550",
            "de245ac40282468a95988612b24ceb4d",
            "edf86c4b59574cf38b805938992e1459",
            "08d29f933b074e69892e374d2faa3519",
            "a230738d18394d999e8c7a967b04c349",
            "c34acf62a715427c9382780d8ad4800a",
            "4a158ec370824584b0d43dfece258a54",
            "7d5f663e87a14be3bb7ee94b70add191",
            "b7906262dfae4c1e9e565040be56391d",
            "e0e53cf8833f4f7696f68f6529988a0a",
            "f32ca8352fb04dc08aa7e2684cd95c64",
            "f48371d2f440418d838f065c947463a5",
            "644a33ecf8af47c6a6d7cf8ffd306513",
            "4532a4c9e4d54a3ca04a1393a065632d",
            "13cbf75cfd8b4b71b44237d58d2aedb6",
            "a6bf86e8c38a40768ff70774f100a696",
            "cbb4e13fe13242d68d6db97d2cf622c6",
            "e7e756bc3949497ea5cfe964f3f7ecd3",
            "5cae596edee24bd9ad1408031c2b6ba9",
            "755a02059a4841f78b5bd2738a8278ee",
            "c7f7c4ab6b5e429cab6fab2513fee081",
            "778d1e5a607540fc8a541ab449eccbbd",
            "89e979e19e3f4a249cbf0c769c9a046b",
            "a5fb2da5e9e34f9abb608b016ead6683",
            "7408081c37ad4bd0a643c3715f9c1ccf",
            "bde7910838f14941ac1361a5396e0d1b"
          ]
        },
        "id": "KbrLhESB17zn",
        "outputId": "711f7cbb-b8af-45dd-da74-73f2d571fffa"
      },
      "source": [
        "dr_mqa_mpnet_dot = EvaluateRetrieval(\n",
        "    DRES(models.SentenceBERT('multi-qa-mpnet-base-dot-v1'), batch_size=128), score_function='dot')\n",
        "dr_mqa_minilm_cos = EvaluateRetrieval(\n",
        "    DRES(models.SentenceBERT('multi-qa-MiniLM-L6-cos-v1'), batch_size=128), score_function='cos_sim')\n",
        "dr_mqa_dist_dot = EvaluateRetrieval(\n",
        "    DRES(models.SentenceBERT('multi-qa-distilbert-dot-v1'), batch_size=128), score_function='dot')\n",
        "dr_mqa_dist_cos = EvaluateRetrieval(\n",
        "    DRES(models.SentenceBERT('multi-qa-distilbert-cos-v1'), batch_size=128), score_function='cos_sim')\n",
        "\n",
        "res_mqa_mpnet_dot = dr_mqa_mpnet_dot.retrieve(corpus, queries)\n",
        "res_mqa_minilm_cos = dr_mqa_minilm_cos.retrieve(corpus, queries)\n",
        "res_mqa_dist_dot = dr_mqa_dist_dot.retrieve(corpus, queries)\n",
        "res_mqa_dist_cos = dr_mqa_dist_cos.retrieve(corpus, queries)\n",
        "\n",
        "ndcg_d_mmd, _map_d_mmd, recall_d_mmd, precision_d_mmd = dr_mqa_mpnet_dot.evaluate(\n",
        "    qrels, res_mqa_mpnet_dot, dr_mqa_mpnet_dot.k_values)\n",
        "ndcg_d_mlc, _map_d_mlc, recall_d_mlc, precision_d_mlc = dr_mqa_minilm_cos.evaluate(\n",
        "    qrels, res_mqa_minilm_cos, dr_mqa_minilm_cos.k_values)\n",
        "ndcg_d_mdd, _map_d_mdd, recall_d_mdd, precision_d_mdd = dr_mqa_dist_dot.evaluate(\n",
        "    qrels, res_mqa_dist_dot, dr_mqa_dist_dot.k_values)\n",
        "ndcg_d_mdc, _map_d_mdc, recall_d_mdc, precision_d_mdc = dr_mqa_dist_cos.evaluate(\n",
        "    qrels, res_mqa_dist_cos, dr_mqa_dist_cos.k_values)"
      ],
      "execution_count": null,
      "outputs": [
        {
          "output_type": "stream",
          "name": "stderr",
          "text": [
            "DEBUG:filelock:Attempting to acquire lock 139766561680016 on /root/.cache/torch/sentence_transformers/sentence-transformers_multi-qa-mpnet-base-dot-v1/.gitattributes.lock\n",
            "DEBUG:filelock:Lock 139766561680016 acquired on /root/.cache/torch/sentence_transformers/sentence-transformers_multi-qa-mpnet-base-dot-v1/.gitattributes.lock\n"
          ]
        },
        {
          "output_type": "display_data",
          "data": {
            "application/vnd.jupyter.widget-view+json": {
              "model_id": "04185b378f4348ddb1f503a50d232c43",
              "version_minor": 0,
              "version_major": 2
            },
            "text/plain": [
              "Downloading:   0%|          | 0.00/737 [00:00<?, ?B/s]"
            ]
          },
          "metadata": {}
        },
        {
          "output_type": "stream",
          "name": "stderr",
          "text": [
            "DEBUG:filelock:Attempting to release lock 139766561680016 on /root/.cache/torch/sentence_transformers/sentence-transformers_multi-qa-mpnet-base-dot-v1/.gitattributes.lock\n",
            "DEBUG:filelock:Lock 139766561680016 released on /root/.cache/torch/sentence_transformers/sentence-transformers_multi-qa-mpnet-base-dot-v1/.gitattributes.lock\n",
            "DEBUG:filelock:Attempting to acquire lock 139766561667728 on /root/.cache/torch/sentence_transformers/sentence-transformers_multi-qa-mpnet-base-dot-v1/README.md.lock\n",
            "DEBUG:filelock:Lock 139766561667728 acquired on /root/.cache/torch/sentence_transformers/sentence-transformers_multi-qa-mpnet-base-dot-v1/README.md.lock\n"
          ]
        },
        {
          "output_type": "display_data",
          "data": {
            "application/vnd.jupyter.widget-view+json": {
              "model_id": "84fe731e8da44df4b45297346b586ecb",
              "version_minor": 0,
              "version_major": 2
            },
            "text/plain": [
              "Downloading:   0%|          | 0.00/8.40k [00:00<?, ?B/s]"
            ]
          },
          "metadata": {}
        },
        {
          "output_type": "stream",
          "name": "stderr",
          "text": [
            "DEBUG:filelock:Attempting to release lock 139766561667728 on /root/.cache/torch/sentence_transformers/sentence-transformers_multi-qa-mpnet-base-dot-v1/README.md.lock\n",
            "DEBUG:filelock:Lock 139766561667728 released on /root/.cache/torch/sentence_transformers/sentence-transformers_multi-qa-mpnet-base-dot-v1/README.md.lock\n",
            "DEBUG:filelock:Attempting to acquire lock 139766744243216 on /root/.cache/torch/sentence_transformers/sentence-transformers_multi-qa-mpnet-base-dot-v1/config.json.lock\n",
            "DEBUG:filelock:Lock 139766744243216 acquired on /root/.cache/torch/sentence_transformers/sentence-transformers_multi-qa-mpnet-base-dot-v1/config.json.lock\n"
          ]
        },
        {
          "output_type": "display_data",
          "data": {
            "application/vnd.jupyter.widget-view+json": {
              "model_id": "7c6be96f04dc4ef289536d41f7d246c7",
              "version_minor": 0,
              "version_major": 2
            },
            "text/plain": [
              "Downloading:   0%|          | 0.00/571 [00:00<?, ?B/s]"
            ]
          },
          "metadata": {}
        },
        {
          "output_type": "stream",
          "name": "stderr",
          "text": [
            "DEBUG:filelock:Attempting to release lock 139766744243216 on /root/.cache/torch/sentence_transformers/sentence-transformers_multi-qa-mpnet-base-dot-v1/config.json.lock\n",
            "DEBUG:filelock:Lock 139766744243216 released on /root/.cache/torch/sentence_transformers/sentence-transformers_multi-qa-mpnet-base-dot-v1/config.json.lock\n",
            "DEBUG:filelock:Attempting to acquire lock 139766744242896 on /root/.cache/torch/sentence_transformers/sentence-transformers_multi-qa-mpnet-base-dot-v1/config_sentence_transformers.json.lock\n",
            "DEBUG:filelock:Lock 139766744242896 acquired on /root/.cache/torch/sentence_transformers/sentence-transformers_multi-qa-mpnet-base-dot-v1/config_sentence_transformers.json.lock\n"
          ]
        },
        {
          "output_type": "display_data",
          "data": {
            "application/vnd.jupyter.widget-view+json": {
              "model_id": "331494f1ea4143f18e08d1de29e378b9",
              "version_minor": 0,
              "version_major": 2
            },
            "text/plain": [
              "Downloading:   0%|          | 0.00/116 [00:00<?, ?B/s]"
            ]
          },
          "metadata": {}
        },
        {
          "output_type": "stream",
          "name": "stderr",
          "text": [
            "DEBUG:filelock:Attempting to release lock 139766744242896 on /root/.cache/torch/sentence_transformers/sentence-transformers_multi-qa-mpnet-base-dot-v1/config_sentence_transformers.json.lock\n",
            "DEBUG:filelock:Lock 139766744242896 released on /root/.cache/torch/sentence_transformers/sentence-transformers_multi-qa-mpnet-base-dot-v1/config_sentence_transformers.json.lock\n",
            "DEBUG:filelock:Attempting to acquire lock 139766744243216 on /root/.cache/torch/sentence_transformers/sentence-transformers_multi-qa-mpnet-base-dot-v1/data_config.json.lock\n",
            "DEBUG:filelock:Lock 139766744243216 acquired on /root/.cache/torch/sentence_transformers/sentence-transformers_multi-qa-mpnet-base-dot-v1/data_config.json.lock\n"
          ]
        },
        {
          "output_type": "display_data",
          "data": {
            "application/vnd.jupyter.widget-view+json": {
              "model_id": "d553dd71b9d04445a97f25c1458e255c",
              "version_minor": 0,
              "version_major": 2
            },
            "text/plain": [
              "Downloading:   0%|          | 0.00/25.5k [00:00<?, ?B/s]"
            ]
          },
          "metadata": {}
        },
        {
          "output_type": "stream",
          "name": "stderr",
          "text": [
            "DEBUG:filelock:Attempting to release lock 139766744243216 on /root/.cache/torch/sentence_transformers/sentence-transformers_multi-qa-mpnet-base-dot-v1/data_config.json.lock\n",
            "DEBUG:filelock:Lock 139766744243216 released on /root/.cache/torch/sentence_transformers/sentence-transformers_multi-qa-mpnet-base-dot-v1/data_config.json.lock\n",
            "DEBUG:filelock:Attempting to acquire lock 139766561705552 on /root/.cache/torch/sentence_transformers/sentence-transformers_multi-qa-mpnet-base-dot-v1/modules.json.lock\n",
            "DEBUG:filelock:Lock 139766561705552 acquired on /root/.cache/torch/sentence_transformers/sentence-transformers_multi-qa-mpnet-base-dot-v1/modules.json.lock\n"
          ]
        },
        {
          "output_type": "display_data",
          "data": {
            "application/vnd.jupyter.widget-view+json": {
              "model_id": "ddaf3ad665b14f97b6544de945a0a9af",
              "version_minor": 0,
              "version_major": 2
            },
            "text/plain": [
              "Downloading:   0%|          | 0.00/229 [00:00<?, ?B/s]"
            ]
          },
          "metadata": {}
        },
        {
          "output_type": "stream",
          "name": "stderr",
          "text": [
            "DEBUG:filelock:Attempting to release lock 139766561705552 on /root/.cache/torch/sentence_transformers/sentence-transformers_multi-qa-mpnet-base-dot-v1/modules.json.lock\n",
            "DEBUG:filelock:Lock 139766561705552 released on /root/.cache/torch/sentence_transformers/sentence-transformers_multi-qa-mpnet-base-dot-v1/modules.json.lock\n",
            "DEBUG:filelock:Attempting to acquire lock 139766559680080 on /root/.cache/torch/sentence_transformers/sentence-transformers_multi-qa-mpnet-base-dot-v1/pytorch_model.bin.lock\n",
            "DEBUG:filelock:Lock 139766559680080 acquired on /root/.cache/torch/sentence_transformers/sentence-transformers_multi-qa-mpnet-base-dot-v1/pytorch_model.bin.lock\n"
          ]
        },
        {
          "output_type": "display_data",
          "data": {
            "application/vnd.jupyter.widget-view+json": {
              "model_id": "81ae9e0e1cd1448cb07c866aa15dccce",
              "version_minor": 0,
              "version_major": 2
            },
            "text/plain": [
              "Downloading:   0%|          | 0.00/438M [00:00<?, ?B/s]"
            ]
          },
          "metadata": {}
        },
        {
          "output_type": "stream",
          "name": "stderr",
          "text": [
            "DEBUG:filelock:Attempting to release lock 139766559680080 on /root/.cache/torch/sentence_transformers/sentence-transformers_multi-qa-mpnet-base-dot-v1/pytorch_model.bin.lock\n",
            "DEBUG:filelock:Lock 139766559680080 released on /root/.cache/torch/sentence_transformers/sentence-transformers_multi-qa-mpnet-base-dot-v1/pytorch_model.bin.lock\n",
            "DEBUG:filelock:Attempting to acquire lock 139766674914128 on /root/.cache/torch/sentence_transformers/sentence-transformers_multi-qa-mpnet-base-dot-v1/sentence_bert_config.json.lock\n",
            "DEBUG:filelock:Lock 139766674914128 acquired on /root/.cache/torch/sentence_transformers/sentence-transformers_multi-qa-mpnet-base-dot-v1/sentence_bert_config.json.lock\n"
          ]
        },
        {
          "output_type": "display_data",
          "data": {
            "application/vnd.jupyter.widget-view+json": {
              "model_id": "3c083c6e2d774fa585cb807398191a75",
              "version_minor": 0,
              "version_major": 2
            },
            "text/plain": [
              "Downloading:   0%|          | 0.00/53.0 [00:00<?, ?B/s]"
            ]
          },
          "metadata": {}
        },
        {
          "output_type": "stream",
          "name": "stderr",
          "text": [
            "DEBUG:filelock:Attempting to release lock 139766674914128 on /root/.cache/torch/sentence_transformers/sentence-transformers_multi-qa-mpnet-base-dot-v1/sentence_bert_config.json.lock\n",
            "DEBUG:filelock:Lock 139766674914128 released on /root/.cache/torch/sentence_transformers/sentence-transformers_multi-qa-mpnet-base-dot-v1/sentence_bert_config.json.lock\n",
            "DEBUG:filelock:Attempting to acquire lock 139766710989968 on /root/.cache/torch/sentence_transformers/sentence-transformers_multi-qa-mpnet-base-dot-v1/special_tokens_map.json.lock\n",
            "DEBUG:filelock:Lock 139766710989968 acquired on /root/.cache/torch/sentence_transformers/sentence-transformers_multi-qa-mpnet-base-dot-v1/special_tokens_map.json.lock\n"
          ]
        },
        {
          "output_type": "display_data",
          "data": {
            "application/vnd.jupyter.widget-view+json": {
              "model_id": "ea8ec852291a4790a2dc3584f40bc4ac",
              "version_minor": 0,
              "version_major": 2
            },
            "text/plain": [
              "Downloading:   0%|          | 0.00/239 [00:00<?, ?B/s]"
            ]
          },
          "metadata": {}
        },
        {
          "output_type": "stream",
          "name": "stderr",
          "text": [
            "DEBUG:filelock:Attempting to release lock 139766710989968 on /root/.cache/torch/sentence_transformers/sentence-transformers_multi-qa-mpnet-base-dot-v1/special_tokens_map.json.lock\n",
            "DEBUG:filelock:Lock 139766710989968 released on /root/.cache/torch/sentence_transformers/sentence-transformers_multi-qa-mpnet-base-dot-v1/special_tokens_map.json.lock\n",
            "DEBUG:filelock:Attempting to acquire lock 139766674607056 on /root/.cache/torch/sentence_transformers/sentence-transformers_multi-qa-mpnet-base-dot-v1/tokenizer.json.lock\n",
            "DEBUG:filelock:Lock 139766674607056 acquired on /root/.cache/torch/sentence_transformers/sentence-transformers_multi-qa-mpnet-base-dot-v1/tokenizer.json.lock\n"
          ]
        },
        {
          "output_type": "display_data",
          "data": {
            "application/vnd.jupyter.widget-view+json": {
              "model_id": "79ac63eb4d9f4f7c8c0c0b06aee16f9d",
              "version_minor": 0,
              "version_major": 2
            },
            "text/plain": [
              "Downloading:   0%|          | 0.00/466k [00:00<?, ?B/s]"
            ]
          },
          "metadata": {}
        },
        {
          "output_type": "stream",
          "name": "stderr",
          "text": [
            "DEBUG:filelock:Attempting to release lock 139766674607056 on /root/.cache/torch/sentence_transformers/sentence-transformers_multi-qa-mpnet-base-dot-v1/tokenizer.json.lock\n",
            "DEBUG:filelock:Lock 139766674607056 released on /root/.cache/torch/sentence_transformers/sentence-transformers_multi-qa-mpnet-base-dot-v1/tokenizer.json.lock\n",
            "DEBUG:filelock:Attempting to acquire lock 139766674913872 on /root/.cache/torch/sentence_transformers/sentence-transformers_multi-qa-mpnet-base-dot-v1/tokenizer_config.json.lock\n",
            "DEBUG:filelock:Lock 139766674913872 acquired on /root/.cache/torch/sentence_transformers/sentence-transformers_multi-qa-mpnet-base-dot-v1/tokenizer_config.json.lock\n"
          ]
        },
        {
          "output_type": "display_data",
          "data": {
            "application/vnd.jupyter.widget-view+json": {
              "model_id": "68ec24bfcb8d42c386403dd73086a567",
              "version_minor": 0,
              "version_major": 2
            },
            "text/plain": [
              "Downloading:   0%|          | 0.00/363 [00:00<?, ?B/s]"
            ]
          },
          "metadata": {}
        },
        {
          "output_type": "stream",
          "name": "stderr",
          "text": [
            "DEBUG:filelock:Attempting to release lock 139766674913872 on /root/.cache/torch/sentence_transformers/sentence-transformers_multi-qa-mpnet-base-dot-v1/tokenizer_config.json.lock\n",
            "DEBUG:filelock:Lock 139766674913872 released on /root/.cache/torch/sentence_transformers/sentence-transformers_multi-qa-mpnet-base-dot-v1/tokenizer_config.json.lock\n",
            "DEBUG:filelock:Attempting to acquire lock 139766674947856 on /root/.cache/torch/sentence_transformers/sentence-transformers_multi-qa-mpnet-base-dot-v1/train_script.py.lock\n",
            "DEBUG:filelock:Lock 139766674947856 acquired on /root/.cache/torch/sentence_transformers/sentence-transformers_multi-qa-mpnet-base-dot-v1/train_script.py.lock\n"
          ]
        },
        {
          "output_type": "display_data",
          "data": {
            "application/vnd.jupyter.widget-view+json": {
              "model_id": "ceb09acf934849ba88cc490d85e9123a",
              "version_minor": 0,
              "version_major": 2
            },
            "text/plain": [
              "Downloading:   0%|          | 0.00/13.9k [00:00<?, ?B/s]"
            ]
          },
          "metadata": {}
        },
        {
          "output_type": "stream",
          "name": "stderr",
          "text": [
            "DEBUG:filelock:Attempting to release lock 139766674947856 on /root/.cache/torch/sentence_transformers/sentence-transformers_multi-qa-mpnet-base-dot-v1/train_script.py.lock\n",
            "DEBUG:filelock:Lock 139766674947856 released on /root/.cache/torch/sentence_transformers/sentence-transformers_multi-qa-mpnet-base-dot-v1/train_script.py.lock\n",
            "DEBUG:filelock:Attempting to acquire lock 139766708882384 on /root/.cache/torch/sentence_transformers/sentence-transformers_multi-qa-mpnet-base-dot-v1/vocab.txt.lock\n",
            "DEBUG:filelock:Lock 139766708882384 acquired on /root/.cache/torch/sentence_transformers/sentence-transformers_multi-qa-mpnet-base-dot-v1/vocab.txt.lock\n"
          ]
        },
        {
          "output_type": "display_data",
          "data": {
            "application/vnd.jupyter.widget-view+json": {
              "model_id": "fcd529d0e1104cf1825c98f4b53a4044",
              "version_minor": 0,
              "version_major": 2
            },
            "text/plain": [
              "Downloading:   0%|          | 0.00/232k [00:00<?, ?B/s]"
            ]
          },
          "metadata": {}
        },
        {
          "output_type": "stream",
          "name": "stderr",
          "text": [
            "DEBUG:filelock:Attempting to release lock 139766708882384 on /root/.cache/torch/sentence_transformers/sentence-transformers_multi-qa-mpnet-base-dot-v1/vocab.txt.lock\n",
            "DEBUG:filelock:Lock 139766708882384 released on /root/.cache/torch/sentence_transformers/sentence-transformers_multi-qa-mpnet-base-dot-v1/vocab.txt.lock\n",
            "DEBUG:filelock:Attempting to acquire lock 139766708664208 on /root/.cache/torch/sentence_transformers/sentence-transformers_multi-qa-mpnet-base-dot-v1/1_Pooling/config.json.lock\n",
            "DEBUG:filelock:Lock 139766708664208 acquired on /root/.cache/torch/sentence_transformers/sentence-transformers_multi-qa-mpnet-base-dot-v1/1_Pooling/config.json.lock\n"
          ]
        },
        {
          "output_type": "display_data",
          "data": {
            "application/vnd.jupyter.widget-view+json": {
              "model_id": "b03236a39c59449db626c7092627a6fa",
              "version_minor": 0,
              "version_major": 2
            },
            "text/plain": [
              "Downloading:   0%|          | 0.00/190 [00:00<?, ?B/s]"
            ]
          },
          "metadata": {}
        },
        {
          "output_type": "stream",
          "name": "stderr",
          "text": [
            "DEBUG:filelock:Attempting to release lock 139766708664208 on /root/.cache/torch/sentence_transformers/sentence-transformers_multi-qa-mpnet-base-dot-v1/1_Pooling/config.json.lock\n",
            "DEBUG:filelock:Lock 139766708664208 released on /root/.cache/torch/sentence_transformers/sentence-transformers_multi-qa-mpnet-base-dot-v1/1_Pooling/config.json.lock\n",
            "DEBUG:filelock:Attempting to acquire lock 139766559679952 on /root/.cache/torch/sentence_transformers/sentence-transformers_multi-qa-MiniLM-L6-cos-v1/.gitattributes.lock\n",
            "DEBUG:filelock:Lock 139766559679952 acquired on /root/.cache/torch/sentence_transformers/sentence-transformers_multi-qa-MiniLM-L6-cos-v1/.gitattributes.lock\n"
          ]
        },
        {
          "output_type": "display_data",
          "data": {
            "application/vnd.jupyter.widget-view+json": {
              "model_id": "b111eb190a17464bae1c9c1291e82542",
              "version_minor": 0,
              "version_major": 2
            },
            "text/plain": [
              "Downloading:   0%|          | 0.00/737 [00:00<?, ?B/s]"
            ]
          },
          "metadata": {}
        },
        {
          "output_type": "stream",
          "name": "stderr",
          "text": [
            "DEBUG:filelock:Attempting to release lock 139766559679952 on /root/.cache/torch/sentence_transformers/sentence-transformers_multi-qa-MiniLM-L6-cos-v1/.gitattributes.lock\n",
            "DEBUG:filelock:Lock 139766559679952 released on /root/.cache/torch/sentence_transformers/sentence-transformers_multi-qa-MiniLM-L6-cos-v1/.gitattributes.lock\n",
            "DEBUG:filelock:Attempting to acquire lock 139766561623184 on /root/.cache/torch/sentence_transformers/sentence-transformers_multi-qa-MiniLM-L6-cos-v1/README.md.lock\n",
            "DEBUG:filelock:Lock 139766561623184 acquired on /root/.cache/torch/sentence_transformers/sentence-transformers_multi-qa-MiniLM-L6-cos-v1/README.md.lock\n"
          ]
        },
        {
          "output_type": "display_data",
          "data": {
            "application/vnd.jupyter.widget-view+json": {
              "model_id": "6fa5777e8f8e43bc9a90c46b17b988c9",
              "version_minor": 0,
              "version_major": 2
            },
            "text/plain": [
              "Downloading:   0%|          | 0.00/9.22k [00:00<?, ?B/s]"
            ]
          },
          "metadata": {}
        },
        {
          "output_type": "stream",
          "name": "stderr",
          "text": [
            "DEBUG:filelock:Attempting to release lock 139766561623184 on /root/.cache/torch/sentence_transformers/sentence-transformers_multi-qa-MiniLM-L6-cos-v1/README.md.lock\n",
            "DEBUG:filelock:Lock 139766561623184 released on /root/.cache/torch/sentence_transformers/sentence-transformers_multi-qa-MiniLM-L6-cos-v1/README.md.lock\n",
            "DEBUG:filelock:Attempting to acquire lock 139766674913616 on /root/.cache/torch/sentence_transformers/sentence-transformers_multi-qa-MiniLM-L6-cos-v1/config.json.lock\n",
            "DEBUG:filelock:Lock 139766674913616 acquired on /root/.cache/torch/sentence_transformers/sentence-transformers_multi-qa-MiniLM-L6-cos-v1/config.json.lock\n"
          ]
        },
        {
          "output_type": "display_data",
          "data": {
            "application/vnd.jupyter.widget-view+json": {
              "model_id": "10cb018f4d814f76b002866065757dae",
              "version_minor": 0,
              "version_major": 2
            },
            "text/plain": [
              "Downloading:   0%|          | 0.00/612 [00:00<?, ?B/s]"
            ]
          },
          "metadata": {}
        },
        {
          "output_type": "stream",
          "name": "stderr",
          "text": [
            "DEBUG:filelock:Attempting to release lock 139766674913616 on /root/.cache/torch/sentence_transformers/sentence-transformers_multi-qa-MiniLM-L6-cos-v1/config.json.lock\n",
            "DEBUG:filelock:Lock 139766674913616 released on /root/.cache/torch/sentence_transformers/sentence-transformers_multi-qa-MiniLM-L6-cos-v1/config.json.lock\n",
            "DEBUG:filelock:Attempting to acquire lock 139766561463184 on /root/.cache/torch/sentence_transformers/sentence-transformers_multi-qa-MiniLM-L6-cos-v1/config_sentence_transformers.json.lock\n",
            "DEBUG:filelock:Lock 139766561463184 acquired on /root/.cache/torch/sentence_transformers/sentence-transformers_multi-qa-MiniLM-L6-cos-v1/config_sentence_transformers.json.lock\n"
          ]
        },
        {
          "output_type": "display_data",
          "data": {
            "application/vnd.jupyter.widget-view+json": {
              "model_id": "7956a7bcb9cf40f59e11c9bb430fefb8",
              "version_minor": 0,
              "version_major": 2
            },
            "text/plain": [
              "Downloading:   0%|          | 0.00/116 [00:00<?, ?B/s]"
            ]
          },
          "metadata": {}
        },
        {
          "output_type": "stream",
          "name": "stderr",
          "text": [
            "DEBUG:filelock:Attempting to release lock 139766561463184 on /root/.cache/torch/sentence_transformers/sentence-transformers_multi-qa-MiniLM-L6-cos-v1/config_sentence_transformers.json.lock\n",
            "DEBUG:filelock:Lock 139766561463184 released on /root/.cache/torch/sentence_transformers/sentence-transformers_multi-qa-MiniLM-L6-cos-v1/config_sentence_transformers.json.lock\n",
            "DEBUG:filelock:Attempting to acquire lock 139766710902608 on /root/.cache/torch/sentence_transformers/sentence-transformers_multi-qa-MiniLM-L6-cos-v1/data_config.json.lock\n",
            "DEBUG:filelock:Lock 139766710902608 acquired on /root/.cache/torch/sentence_transformers/sentence-transformers_multi-qa-MiniLM-L6-cos-v1/data_config.json.lock\n"
          ]
        },
        {
          "output_type": "display_data",
          "data": {
            "application/vnd.jupyter.widget-view+json": {
              "model_id": "bf711960ad3a43a3bef3f45573c61f19",
              "version_minor": 0,
              "version_major": 2
            },
            "text/plain": [
              "Downloading:   0%|          | 0.00/25.5k [00:00<?, ?B/s]"
            ]
          },
          "metadata": {}
        },
        {
          "output_type": "stream",
          "name": "stderr",
          "text": [
            "DEBUG:filelock:Attempting to release lock 139766710902608 on /root/.cache/torch/sentence_transformers/sentence-transformers_multi-qa-MiniLM-L6-cos-v1/data_config.json.lock\n",
            "DEBUG:filelock:Lock 139766710902608 released on /root/.cache/torch/sentence_transformers/sentence-transformers_multi-qa-MiniLM-L6-cos-v1/data_config.json.lock\n",
            "DEBUG:filelock:Attempting to acquire lock 139766561631504 on /root/.cache/torch/sentence_transformers/sentence-transformers_multi-qa-MiniLM-L6-cos-v1/modules.json.lock\n",
            "DEBUG:filelock:Lock 139766561631504 acquired on /root/.cache/torch/sentence_transformers/sentence-transformers_multi-qa-MiniLM-L6-cos-v1/modules.json.lock\n"
          ]
        },
        {
          "output_type": "display_data",
          "data": {
            "application/vnd.jupyter.widget-view+json": {
              "model_id": "0593e9d2943f4d8ea7538aa7963eaec2",
              "version_minor": 0,
              "version_major": 2
            },
            "text/plain": [
              "Downloading:   0%|          | 0.00/349 [00:00<?, ?B/s]"
            ]
          },
          "metadata": {}
        },
        {
          "output_type": "stream",
          "name": "stderr",
          "text": [
            "DEBUG:filelock:Attempting to release lock 139766561631504 on /root/.cache/torch/sentence_transformers/sentence-transformers_multi-qa-MiniLM-L6-cos-v1/modules.json.lock\n",
            "DEBUG:filelock:Lock 139766561631504 released on /root/.cache/torch/sentence_transformers/sentence-transformers_multi-qa-MiniLM-L6-cos-v1/modules.json.lock\n",
            "DEBUG:filelock:Attempting to acquire lock 139766559901264 on /root/.cache/torch/sentence_transformers/sentence-transformers_multi-qa-MiniLM-L6-cos-v1/pytorch_model.bin.lock\n",
            "DEBUG:filelock:Lock 139766559901264 acquired on /root/.cache/torch/sentence_transformers/sentence-transformers_multi-qa-MiniLM-L6-cos-v1/pytorch_model.bin.lock\n"
          ]
        },
        {
          "output_type": "display_data",
          "data": {
            "application/vnd.jupyter.widget-view+json": {
              "model_id": "fa24cdfd7959470cb9a4426b0d741235",
              "version_minor": 0,
              "version_major": 2
            },
            "text/plain": [
              "Downloading:   0%|          | 0.00/90.9M [00:00<?, ?B/s]"
            ]
          },
          "metadata": {}
        },
        {
          "output_type": "stream",
          "name": "stderr",
          "text": [
            "DEBUG:filelock:Attempting to release lock 139766559901264 on /root/.cache/torch/sentence_transformers/sentence-transformers_multi-qa-MiniLM-L6-cos-v1/pytorch_model.bin.lock\n",
            "DEBUG:filelock:Lock 139766559901264 released on /root/.cache/torch/sentence_transformers/sentence-transformers_multi-qa-MiniLM-L6-cos-v1/pytorch_model.bin.lock\n",
            "DEBUG:filelock:Attempting to acquire lock 139766561629520 on /root/.cache/torch/sentence_transformers/sentence-transformers_multi-qa-MiniLM-L6-cos-v1/sentence_bert_config.json.lock\n",
            "DEBUG:filelock:Lock 139766561629520 acquired on /root/.cache/torch/sentence_transformers/sentence-transformers_multi-qa-MiniLM-L6-cos-v1/sentence_bert_config.json.lock\n"
          ]
        },
        {
          "output_type": "display_data",
          "data": {
            "application/vnd.jupyter.widget-view+json": {
              "model_id": "52210ef7c9894217858bb619dead0e6d",
              "version_minor": 0,
              "version_major": 2
            },
            "text/plain": [
              "Downloading:   0%|          | 0.00/53.0 [00:00<?, ?B/s]"
            ]
          },
          "metadata": {}
        },
        {
          "output_type": "stream",
          "name": "stderr",
          "text": [
            "DEBUG:filelock:Attempting to release lock 139766561629520 on /root/.cache/torch/sentence_transformers/sentence-transformers_multi-qa-MiniLM-L6-cos-v1/sentence_bert_config.json.lock\n",
            "DEBUG:filelock:Lock 139766561629520 released on /root/.cache/torch/sentence_transformers/sentence-transformers_multi-qa-MiniLM-L6-cos-v1/sentence_bert_config.json.lock\n",
            "DEBUG:filelock:Attempting to acquire lock 139766674668752 on /root/.cache/torch/sentence_transformers/sentence-transformers_multi-qa-MiniLM-L6-cos-v1/special_tokens_map.json.lock\n",
            "DEBUG:filelock:Lock 139766674668752 acquired on /root/.cache/torch/sentence_transformers/sentence-transformers_multi-qa-MiniLM-L6-cos-v1/special_tokens_map.json.lock\n"
          ]
        },
        {
          "output_type": "display_data",
          "data": {
            "application/vnd.jupyter.widget-view+json": {
              "model_id": "a4c4189d4a104940b6aaf7f6d02688eb",
              "version_minor": 0,
              "version_major": 2
            },
            "text/plain": [
              "Downloading:   0%|          | 0.00/112 [00:00<?, ?B/s]"
            ]
          },
          "metadata": {}
        },
        {
          "output_type": "stream",
          "name": "stderr",
          "text": [
            "DEBUG:filelock:Attempting to release lock 139766674668752 on /root/.cache/torch/sentence_transformers/sentence-transformers_multi-qa-MiniLM-L6-cos-v1/special_tokens_map.json.lock\n",
            "DEBUG:filelock:Lock 139766674668752 released on /root/.cache/torch/sentence_transformers/sentence-transformers_multi-qa-MiniLM-L6-cos-v1/special_tokens_map.json.lock\n",
            "DEBUG:filelock:Attempting to acquire lock 139766559679952 on /root/.cache/torch/sentence_transformers/sentence-transformers_multi-qa-MiniLM-L6-cos-v1/tokenizer.json.lock\n",
            "DEBUG:filelock:Lock 139766559679952 acquired on /root/.cache/torch/sentence_transformers/sentence-transformers_multi-qa-MiniLM-L6-cos-v1/tokenizer.json.lock\n"
          ]
        },
        {
          "output_type": "display_data",
          "data": {
            "application/vnd.jupyter.widget-view+json": {
              "model_id": "d98ca5337a0f444393747d360f6f9ccd",
              "version_minor": 0,
              "version_major": 2
            },
            "text/plain": [
              "Downloading:   0%|          | 0.00/466k [00:00<?, ?B/s]"
            ]
          },
          "metadata": {}
        },
        {
          "output_type": "stream",
          "name": "stderr",
          "text": [
            "DEBUG:filelock:Attempting to release lock 139766559679952 on /root/.cache/torch/sentence_transformers/sentence-transformers_multi-qa-MiniLM-L6-cos-v1/tokenizer.json.lock\n",
            "DEBUG:filelock:Lock 139766559679952 released on /root/.cache/torch/sentence_transformers/sentence-transformers_multi-qa-MiniLM-L6-cos-v1/tokenizer.json.lock\n",
            "DEBUG:filelock:Attempting to acquire lock 139766674668752 on /root/.cache/torch/sentence_transformers/sentence-transformers_multi-qa-MiniLM-L6-cos-v1/tokenizer_config.json.lock\n",
            "DEBUG:filelock:Lock 139766674668752 acquired on /root/.cache/torch/sentence_transformers/sentence-transformers_multi-qa-MiniLM-L6-cos-v1/tokenizer_config.json.lock\n"
          ]
        },
        {
          "output_type": "display_data",
          "data": {
            "application/vnd.jupyter.widget-view+json": {
              "model_id": "8053cba33ce34f159613f0cfb9c2295f",
              "version_minor": 0,
              "version_major": 2
            },
            "text/plain": [
              "Downloading:   0%|          | 0.00/383 [00:00<?, ?B/s]"
            ]
          },
          "metadata": {}
        },
        {
          "output_type": "stream",
          "name": "stderr",
          "text": [
            "DEBUG:filelock:Attempting to release lock 139766674668752 on /root/.cache/torch/sentence_transformers/sentence-transformers_multi-qa-MiniLM-L6-cos-v1/tokenizer_config.json.lock\n",
            "DEBUG:filelock:Lock 139766674668752 released on /root/.cache/torch/sentence_transformers/sentence-transformers_multi-qa-MiniLM-L6-cos-v1/tokenizer_config.json.lock\n",
            "DEBUG:filelock:Attempting to acquire lock 139766561629520 on /root/.cache/torch/sentence_transformers/sentence-transformers_multi-qa-MiniLM-L6-cos-v1/train_script.py.lock\n",
            "DEBUG:filelock:Lock 139766561629520 acquired on /root/.cache/torch/sentence_transformers/sentence-transformers_multi-qa-MiniLM-L6-cos-v1/train_script.py.lock\n"
          ]
        },
        {
          "output_type": "display_data",
          "data": {
            "application/vnd.jupyter.widget-view+json": {
              "model_id": "8df6ef6fe38046ed8469404e92bbd8d7",
              "version_minor": 0,
              "version_major": 2
            },
            "text/plain": [
              "Downloading:   0%|          | 0.00/13.8k [00:00<?, ?B/s]"
            ]
          },
          "metadata": {}
        },
        {
          "output_type": "stream",
          "name": "stderr",
          "text": [
            "DEBUG:filelock:Attempting to release lock 139766561629520 on /root/.cache/torch/sentence_transformers/sentence-transformers_multi-qa-MiniLM-L6-cos-v1/train_script.py.lock\n",
            "DEBUG:filelock:Lock 139766561629520 released on /root/.cache/torch/sentence_transformers/sentence-transformers_multi-qa-MiniLM-L6-cos-v1/train_script.py.lock\n",
            "DEBUG:filelock:Attempting to acquire lock 139766708882832 on /root/.cache/torch/sentence_transformers/sentence-transformers_multi-qa-MiniLM-L6-cos-v1/vocab.txt.lock\n",
            "DEBUG:filelock:Lock 139766708882832 acquired on /root/.cache/torch/sentence_transformers/sentence-transformers_multi-qa-MiniLM-L6-cos-v1/vocab.txt.lock\n"
          ]
        },
        {
          "output_type": "display_data",
          "data": {
            "application/vnd.jupyter.widget-view+json": {
              "model_id": "bc36d881c24a41e4bfd78b881654d74f",
              "version_minor": 0,
              "version_major": 2
            },
            "text/plain": [
              "Downloading:   0%|          | 0.00/232k [00:00<?, ?B/s]"
            ]
          },
          "metadata": {}
        },
        {
          "output_type": "stream",
          "name": "stderr",
          "text": [
            "DEBUG:filelock:Attempting to release lock 139766708882832 on /root/.cache/torch/sentence_transformers/sentence-transformers_multi-qa-MiniLM-L6-cos-v1/vocab.txt.lock\n",
            "DEBUG:filelock:Lock 139766708882832 released on /root/.cache/torch/sentence_transformers/sentence-transformers_multi-qa-MiniLM-L6-cos-v1/vocab.txt.lock\n",
            "DEBUG:filelock:Attempting to acquire lock 139766674944848 on /root/.cache/torch/sentence_transformers/sentence-transformers_multi-qa-MiniLM-L6-cos-v1/1_Pooling/config.json.lock\n",
            "DEBUG:filelock:Lock 139766674944848 acquired on /root/.cache/torch/sentence_transformers/sentence-transformers_multi-qa-MiniLM-L6-cos-v1/1_Pooling/config.json.lock\n"
          ]
        },
        {
          "output_type": "display_data",
          "data": {
            "application/vnd.jupyter.widget-view+json": {
              "model_id": "05dfd715c4a14309a0e445e0b77d0ac3",
              "version_minor": 0,
              "version_major": 2
            },
            "text/plain": [
              "Downloading:   0%|          | 0.00/190 [00:00<?, ?B/s]"
            ]
          },
          "metadata": {}
        },
        {
          "output_type": "stream",
          "name": "stderr",
          "text": [
            "DEBUG:filelock:Attempting to release lock 139766674944848 on /root/.cache/torch/sentence_transformers/sentence-transformers_multi-qa-MiniLM-L6-cos-v1/1_Pooling/config.json.lock\n",
            "DEBUG:filelock:Lock 139766674944848 released on /root/.cache/torch/sentence_transformers/sentence-transformers_multi-qa-MiniLM-L6-cos-v1/1_Pooling/config.json.lock\n",
            "DEBUG:filelock:Attempting to acquire lock 139766673382864 on /root/.cache/torch/sentence_transformers/sentence-transformers_multi-qa-distilbert-dot-v1/.gitattributes.lock\n",
            "DEBUG:filelock:Lock 139766673382864 acquired on /root/.cache/torch/sentence_transformers/sentence-transformers_multi-qa-distilbert-dot-v1/.gitattributes.lock\n"
          ]
        },
        {
          "output_type": "display_data",
          "data": {
            "application/vnd.jupyter.widget-view+json": {
              "model_id": "48adfc7dc87c457c9bc2daa6e0642a9a",
              "version_minor": 0,
              "version_major": 2
            },
            "text/plain": [
              "Downloading:   0%|          | 0.00/737 [00:00<?, ?B/s]"
            ]
          },
          "metadata": {}
        },
        {
          "output_type": "stream",
          "name": "stderr",
          "text": [
            "DEBUG:filelock:Attempting to release lock 139766673382864 on /root/.cache/torch/sentence_transformers/sentence-transformers_multi-qa-distilbert-dot-v1/.gitattributes.lock\n",
            "DEBUG:filelock:Lock 139766673382864 released on /root/.cache/torch/sentence_transformers/sentence-transformers_multi-qa-distilbert-dot-v1/.gitattributes.lock\n",
            "DEBUG:filelock:Attempting to acquire lock 139766560730320 on /root/.cache/torch/sentence_transformers/sentence-transformers_multi-qa-distilbert-dot-v1/README.md.lock\n",
            "DEBUG:filelock:Lock 139766560730320 acquired on /root/.cache/torch/sentence_transformers/sentence-transformers_multi-qa-distilbert-dot-v1/README.md.lock\n"
          ]
        },
        {
          "output_type": "display_data",
          "data": {
            "application/vnd.jupyter.widget-view+json": {
              "model_id": "5f61ac141b91415f8ae0c378a7ae0c0a",
              "version_minor": 0,
              "version_major": 2
            },
            "text/plain": [
              "Downloading:   0%|          | 0.00/8.41k [00:00<?, ?B/s]"
            ]
          },
          "metadata": {}
        },
        {
          "output_type": "stream",
          "name": "stderr",
          "text": [
            "DEBUG:filelock:Attempting to release lock 139766560730320 on /root/.cache/torch/sentence_transformers/sentence-transformers_multi-qa-distilbert-dot-v1/README.md.lock\n",
            "DEBUG:filelock:Lock 139766560730320 released on /root/.cache/torch/sentence_transformers/sentence-transformers_multi-qa-distilbert-dot-v1/README.md.lock\n",
            "DEBUG:filelock:Attempting to acquire lock 139766561451408 on /root/.cache/torch/sentence_transformers/sentence-transformers_multi-qa-distilbert-dot-v1/config.json.lock\n",
            "DEBUG:filelock:Lock 139766561451408 acquired on /root/.cache/torch/sentence_transformers/sentence-transformers_multi-qa-distilbert-dot-v1/config.json.lock\n"
          ]
        },
        {
          "output_type": "display_data",
          "data": {
            "application/vnd.jupyter.widget-view+json": {
              "model_id": "cd1088792ec44503b66bf2bf9708be66",
              "version_minor": 0,
              "version_major": 2
            },
            "text/plain": [
              "Downloading:   0%|          | 0.00/523 [00:00<?, ?B/s]"
            ]
          },
          "metadata": {}
        },
        {
          "output_type": "stream",
          "name": "stderr",
          "text": [
            "DEBUG:filelock:Attempting to release lock 139766561451408 on /root/.cache/torch/sentence_transformers/sentence-transformers_multi-qa-distilbert-dot-v1/config.json.lock\n",
            "DEBUG:filelock:Lock 139766561451408 released on /root/.cache/torch/sentence_transformers/sentence-transformers_multi-qa-distilbert-dot-v1/config.json.lock\n",
            "DEBUG:filelock:Attempting to acquire lock 139766674606096 on /root/.cache/torch/sentence_transformers/sentence-transformers_multi-qa-distilbert-dot-v1/config_sentence_transformers.json.lock\n",
            "DEBUG:filelock:Lock 139766674606096 acquired on /root/.cache/torch/sentence_transformers/sentence-transformers_multi-qa-distilbert-dot-v1/config_sentence_transformers.json.lock\n"
          ]
        },
        {
          "output_type": "display_data",
          "data": {
            "application/vnd.jupyter.widget-view+json": {
              "model_id": "9d07b3acaf3b4a5eb01500a9cfe46090",
              "version_minor": 0,
              "version_major": 2
            },
            "text/plain": [
              "Downloading:   0%|          | 0.00/116 [00:00<?, ?B/s]"
            ]
          },
          "metadata": {}
        },
        {
          "output_type": "stream",
          "name": "stderr",
          "text": [
            "DEBUG:filelock:Attempting to release lock 139766674606096 on /root/.cache/torch/sentence_transformers/sentence-transformers_multi-qa-distilbert-dot-v1/config_sentence_transformers.json.lock\n",
            "DEBUG:filelock:Lock 139766674606096 released on /root/.cache/torch/sentence_transformers/sentence-transformers_multi-qa-distilbert-dot-v1/config_sentence_transformers.json.lock\n",
            "DEBUG:filelock:Attempting to acquire lock 139766560730320 on /root/.cache/torch/sentence_transformers/sentence-transformers_multi-qa-distilbert-dot-v1/data_config.json.lock\n",
            "DEBUG:filelock:Lock 139766560730320 acquired on /root/.cache/torch/sentence_transformers/sentence-transformers_multi-qa-distilbert-dot-v1/data_config.json.lock\n"
          ]
        },
        {
          "output_type": "display_data",
          "data": {
            "application/vnd.jupyter.widget-view+json": {
              "model_id": "226c2024682d4f98b7ddba4cb8f2543f",
              "version_minor": 0,
              "version_major": 2
            },
            "text/plain": [
              "Downloading:   0%|          | 0.00/25.5k [00:00<?, ?B/s]"
            ]
          },
          "metadata": {}
        },
        {
          "output_type": "stream",
          "name": "stderr",
          "text": [
            "DEBUG:filelock:Attempting to release lock 139766560730320 on /root/.cache/torch/sentence_transformers/sentence-transformers_multi-qa-distilbert-dot-v1/data_config.json.lock\n",
            "DEBUG:filelock:Lock 139766560730320 released on /root/.cache/torch/sentence_transformers/sentence-transformers_multi-qa-distilbert-dot-v1/data_config.json.lock\n",
            "DEBUG:filelock:Attempting to acquire lock 139766561451408 on /root/.cache/torch/sentence_transformers/sentence-transformers_multi-qa-distilbert-dot-v1/modules.json.lock\n",
            "DEBUG:filelock:Lock 139766561451408 acquired on /root/.cache/torch/sentence_transformers/sentence-transformers_multi-qa-distilbert-dot-v1/modules.json.lock\n"
          ]
        },
        {
          "output_type": "display_data",
          "data": {
            "application/vnd.jupyter.widget-view+json": {
              "model_id": "628d8044d24d49e997d27b79a8c6c122",
              "version_minor": 0,
              "version_major": 2
            },
            "text/plain": [
              "Downloading:   0%|          | 0.00/229 [00:00<?, ?B/s]"
            ]
          },
          "metadata": {}
        },
        {
          "output_type": "stream",
          "name": "stderr",
          "text": [
            "DEBUG:filelock:Attempting to release lock 139766561451408 on /root/.cache/torch/sentence_transformers/sentence-transformers_multi-qa-distilbert-dot-v1/modules.json.lock\n",
            "DEBUG:filelock:Lock 139766561451408 released on /root/.cache/torch/sentence_transformers/sentence-transformers_multi-qa-distilbert-dot-v1/modules.json.lock\n",
            "DEBUG:filelock:Attempting to acquire lock 139766674606096 on /root/.cache/torch/sentence_transformers/sentence-transformers_multi-qa-distilbert-dot-v1/pytorch_model.bin.lock\n",
            "DEBUG:filelock:Lock 139766674606096 acquired on /root/.cache/torch/sentence_transformers/sentence-transformers_multi-qa-distilbert-dot-v1/pytorch_model.bin.lock\n"
          ]
        },
        {
          "output_type": "display_data",
          "data": {
            "application/vnd.jupyter.widget-view+json": {
              "model_id": "794f435c9f3945bd8fb5306f506f61b7",
              "version_minor": 0,
              "version_major": 2
            },
            "text/plain": [
              "Downloading:   0%|          | 0.00/265M [00:00<?, ?B/s]"
            ]
          },
          "metadata": {}
        },
        {
          "output_type": "stream",
          "name": "stderr",
          "text": [
            "DEBUG:filelock:Attempting to release lock 139766674606096 on /root/.cache/torch/sentence_transformers/sentence-transformers_multi-qa-distilbert-dot-v1/pytorch_model.bin.lock\n",
            "DEBUG:filelock:Lock 139766674606096 released on /root/.cache/torch/sentence_transformers/sentence-transformers_multi-qa-distilbert-dot-v1/pytorch_model.bin.lock\n",
            "DEBUG:filelock:Attempting to acquire lock 139766561115536 on /root/.cache/torch/sentence_transformers/sentence-transformers_multi-qa-distilbert-dot-v1/sentence_bert_config.json.lock\n",
            "DEBUG:filelock:Lock 139766561115536 acquired on /root/.cache/torch/sentence_transformers/sentence-transformers_multi-qa-distilbert-dot-v1/sentence_bert_config.json.lock\n"
          ]
        },
        {
          "output_type": "display_data",
          "data": {
            "application/vnd.jupyter.widget-view+json": {
              "model_id": "b9f2adcb10d94922b7ccf63ad4e44144",
              "version_minor": 0,
              "version_major": 2
            },
            "text/plain": [
              "Downloading:   0%|          | 0.00/53.0 [00:00<?, ?B/s]"
            ]
          },
          "metadata": {}
        },
        {
          "output_type": "stream",
          "name": "stderr",
          "text": [
            "DEBUG:filelock:Attempting to release lock 139766561115536 on /root/.cache/torch/sentence_transformers/sentence-transformers_multi-qa-distilbert-dot-v1/sentence_bert_config.json.lock\n",
            "DEBUG:filelock:Lock 139766561115536 released on /root/.cache/torch/sentence_transformers/sentence-transformers_multi-qa-distilbert-dot-v1/sentence_bert_config.json.lock\n",
            "DEBUG:filelock:Attempting to acquire lock 139766560542288 on /root/.cache/torch/sentence_transformers/sentence-transformers_multi-qa-distilbert-dot-v1/special_tokens_map.json.lock\n",
            "DEBUG:filelock:Lock 139766560542288 acquired on /root/.cache/torch/sentence_transformers/sentence-transformers_multi-qa-distilbert-dot-v1/special_tokens_map.json.lock\n"
          ]
        },
        {
          "output_type": "display_data",
          "data": {
            "application/vnd.jupyter.widget-view+json": {
              "model_id": "0e82105e67dc496d9d4b2cbaeb0921ef",
              "version_minor": 0,
              "version_major": 2
            },
            "text/plain": [
              "Downloading:   0%|          | 0.00/112 [00:00<?, ?B/s]"
            ]
          },
          "metadata": {}
        },
        {
          "output_type": "stream",
          "name": "stderr",
          "text": [
            "DEBUG:filelock:Attempting to release lock 139766560542288 on /root/.cache/torch/sentence_transformers/sentence-transformers_multi-qa-distilbert-dot-v1/special_tokens_map.json.lock\n",
            "DEBUG:filelock:Lock 139766560542288 released on /root/.cache/torch/sentence_transformers/sentence-transformers_multi-qa-distilbert-dot-v1/special_tokens_map.json.lock\n",
            "DEBUG:filelock:Attempting to acquire lock 139766674606096 on /root/.cache/torch/sentence_transformers/sentence-transformers_multi-qa-distilbert-dot-v1/tokenizer.json.lock\n",
            "DEBUG:filelock:Lock 139766674606096 acquired on /root/.cache/torch/sentence_transformers/sentence-transformers_multi-qa-distilbert-dot-v1/tokenizer.json.lock\n"
          ]
        },
        {
          "output_type": "display_data",
          "data": {
            "application/vnd.jupyter.widget-view+json": {
              "model_id": "89b7751ab763485ba55ca4d5058bafd1",
              "version_minor": 0,
              "version_major": 2
            },
            "text/plain": [
              "Downloading:   0%|          | 0.00/466k [00:00<?, ?B/s]"
            ]
          },
          "metadata": {}
        },
        {
          "output_type": "stream",
          "name": "stderr",
          "text": [
            "DEBUG:filelock:Attempting to release lock 139766674606096 on /root/.cache/torch/sentence_transformers/sentence-transformers_multi-qa-distilbert-dot-v1/tokenizer.json.lock\n",
            "DEBUG:filelock:Lock 139766674606096 released on /root/.cache/torch/sentence_transformers/sentence-transformers_multi-qa-distilbert-dot-v1/tokenizer.json.lock\n",
            "DEBUG:filelock:Attempting to acquire lock 139766674668752 on /root/.cache/torch/sentence_transformers/sentence-transformers_multi-qa-distilbert-dot-v1/tokenizer_config.json.lock\n",
            "DEBUG:filelock:Lock 139766674668752 acquired on /root/.cache/torch/sentence_transformers/sentence-transformers_multi-qa-distilbert-dot-v1/tokenizer_config.json.lock\n"
          ]
        },
        {
          "output_type": "display_data",
          "data": {
            "application/vnd.jupyter.widget-view+json": {
              "model_id": "6e4716afeba44cd5ae39e8563b854550",
              "version_minor": 0,
              "version_major": 2
            },
            "text/plain": [
              "Downloading:   0%|          | 0.00/333 [00:00<?, ?B/s]"
            ]
          },
          "metadata": {}
        },
        {
          "output_type": "stream",
          "name": "stderr",
          "text": [
            "DEBUG:filelock:Attempting to release lock 139766674668752 on /root/.cache/torch/sentence_transformers/sentence-transformers_multi-qa-distilbert-dot-v1/tokenizer_config.json.lock\n",
            "DEBUG:filelock:Lock 139766674668752 released on /root/.cache/torch/sentence_transformers/sentence-transformers_multi-qa-distilbert-dot-v1/tokenizer_config.json.lock\n",
            "DEBUG:filelock:Attempting to acquire lock 139766561451408 on /root/.cache/torch/sentence_transformers/sentence-transformers_multi-qa-distilbert-dot-v1/train_script.py.lock\n",
            "DEBUG:filelock:Lock 139766561451408 acquired on /root/.cache/torch/sentence_transformers/sentence-transformers_multi-qa-distilbert-dot-v1/train_script.py.lock\n"
          ]
        },
        {
          "output_type": "display_data",
          "data": {
            "application/vnd.jupyter.widget-view+json": {
              "model_id": "de245ac40282468a95988612b24ceb4d",
              "version_minor": 0,
              "version_major": 2
            },
            "text/plain": [
              "Downloading:   0%|          | 0.00/13.8k [00:00<?, ?B/s]"
            ]
          },
          "metadata": {}
        },
        {
          "output_type": "stream",
          "name": "stderr",
          "text": [
            "DEBUG:filelock:Attempting to release lock 139766561451408 on /root/.cache/torch/sentence_transformers/sentence-transformers_multi-qa-distilbert-dot-v1/train_script.py.lock\n",
            "DEBUG:filelock:Lock 139766561451408 released on /root/.cache/torch/sentence_transformers/sentence-transformers_multi-qa-distilbert-dot-v1/train_script.py.lock\n",
            "DEBUG:filelock:Attempting to acquire lock 139766561401040 on /root/.cache/torch/sentence_transformers/sentence-transformers_multi-qa-distilbert-dot-v1/vocab.txt.lock\n",
            "DEBUG:filelock:Lock 139766561401040 acquired on /root/.cache/torch/sentence_transformers/sentence-transformers_multi-qa-distilbert-dot-v1/vocab.txt.lock\n"
          ]
        },
        {
          "output_type": "display_data",
          "data": {
            "application/vnd.jupyter.widget-view+json": {
              "model_id": "edf86c4b59574cf38b805938992e1459",
              "version_minor": 0,
              "version_major": 2
            },
            "text/plain": [
              "Downloading:   0%|          | 0.00/232k [00:00<?, ?B/s]"
            ]
          },
          "metadata": {}
        },
        {
          "output_type": "stream",
          "name": "stderr",
          "text": [
            "DEBUG:filelock:Attempting to release lock 139766561401040 on /root/.cache/torch/sentence_transformers/sentence-transformers_multi-qa-distilbert-dot-v1/vocab.txt.lock\n",
            "DEBUG:filelock:Lock 139766561401040 released on /root/.cache/torch/sentence_transformers/sentence-transformers_multi-qa-distilbert-dot-v1/vocab.txt.lock\n",
            "DEBUG:filelock:Attempting to acquire lock 139766560542608 on /root/.cache/torch/sentence_transformers/sentence-transformers_multi-qa-distilbert-dot-v1/1_Pooling/config.json.lock\n",
            "DEBUG:filelock:Lock 139766560542608 acquired on /root/.cache/torch/sentence_transformers/sentence-transformers_multi-qa-distilbert-dot-v1/1_Pooling/config.json.lock\n"
          ]
        },
        {
          "output_type": "display_data",
          "data": {
            "application/vnd.jupyter.widget-view+json": {
              "model_id": "08d29f933b074e69892e374d2faa3519",
              "version_minor": 0,
              "version_major": 2
            },
            "text/plain": [
              "Downloading:   0%|          | 0.00/190 [00:00<?, ?B/s]"
            ]
          },
          "metadata": {}
        },
        {
          "output_type": "stream",
          "name": "stderr",
          "text": [
            "DEBUG:filelock:Attempting to release lock 139766560542608 on /root/.cache/torch/sentence_transformers/sentence-transformers_multi-qa-distilbert-dot-v1/1_Pooling/config.json.lock\n",
            "DEBUG:filelock:Lock 139766560542608 released on /root/.cache/torch/sentence_transformers/sentence-transformers_multi-qa-distilbert-dot-v1/1_Pooling/config.json.lock\n",
            "DEBUG:filelock:Attempting to acquire lock 139766559309392 on /root/.cache/torch/sentence_transformers/sentence-transformers_multi-qa-distilbert-cos-v1/.gitattributes.lock\n",
            "DEBUG:filelock:Lock 139766559309392 acquired on /root/.cache/torch/sentence_transformers/sentence-transformers_multi-qa-distilbert-cos-v1/.gitattributes.lock\n"
          ]
        },
        {
          "output_type": "display_data",
          "data": {
            "application/vnd.jupyter.widget-view+json": {
              "model_id": "a230738d18394d999e8c7a967b04c349",
              "version_minor": 0,
              "version_major": 2
            },
            "text/plain": [
              "Downloading:   0%|          | 0.00/737 [00:00<?, ?B/s]"
            ]
          },
          "metadata": {}
        },
        {
          "output_type": "stream",
          "name": "stderr",
          "text": [
            "DEBUG:filelock:Attempting to release lock 139766559309392 on /root/.cache/torch/sentence_transformers/sentence-transformers_multi-qa-distilbert-cos-v1/.gitattributes.lock\n",
            "DEBUG:filelock:Lock 139766559309392 released on /root/.cache/torch/sentence_transformers/sentence-transformers_multi-qa-distilbert-cos-v1/.gitattributes.lock\n",
            "DEBUG:filelock:Attempting to acquire lock 139766558375376 on /root/.cache/torch/sentence_transformers/sentence-transformers_multi-qa-distilbert-cos-v1/README.md.lock\n",
            "DEBUG:filelock:Lock 139766558375376 acquired on /root/.cache/torch/sentence_transformers/sentence-transformers_multi-qa-distilbert-cos-v1/README.md.lock\n"
          ]
        },
        {
          "output_type": "display_data",
          "data": {
            "application/vnd.jupyter.widget-view+json": {
              "model_id": "c34acf62a715427c9382780d8ad4800a",
              "version_minor": 0,
              "version_major": 2
            },
            "text/plain": [
              "Downloading:   0%|          | 0.00/9.20k [00:00<?, ?B/s]"
            ]
          },
          "metadata": {}
        },
        {
          "output_type": "stream",
          "name": "stderr",
          "text": [
            "DEBUG:filelock:Attempting to release lock 139766558375376 on /root/.cache/torch/sentence_transformers/sentence-transformers_multi-qa-distilbert-cos-v1/README.md.lock\n",
            "DEBUG:filelock:Lock 139766558375376 released on /root/.cache/torch/sentence_transformers/sentence-transformers_multi-qa-distilbert-cos-v1/README.md.lock\n",
            "DEBUG:filelock:Attempting to acquire lock 139766673795984 on /root/.cache/torch/sentence_transformers/sentence-transformers_multi-qa-distilbert-cos-v1/config.json.lock\n",
            "DEBUG:filelock:Lock 139766673795984 acquired on /root/.cache/torch/sentence_transformers/sentence-transformers_multi-qa-distilbert-cos-v1/config.json.lock\n"
          ]
        },
        {
          "output_type": "display_data",
          "data": {
            "application/vnd.jupyter.widget-view+json": {
              "model_id": "4a158ec370824584b0d43dfece258a54",
              "version_minor": 0,
              "version_major": 2
            },
            "text/plain": [
              "Downloading:   0%|          | 0.00/523 [00:00<?, ?B/s]"
            ]
          },
          "metadata": {}
        },
        {
          "output_type": "stream",
          "name": "stderr",
          "text": [
            "DEBUG:filelock:Attempting to release lock 139766673795984 on /root/.cache/torch/sentence_transformers/sentence-transformers_multi-qa-distilbert-cos-v1/config.json.lock\n",
            "DEBUG:filelock:Lock 139766673795984 released on /root/.cache/torch/sentence_transformers/sentence-transformers_multi-qa-distilbert-cos-v1/config.json.lock\n",
            "DEBUG:filelock:Attempting to acquire lock 139766560184912 on /root/.cache/torch/sentence_transformers/sentence-transformers_multi-qa-distilbert-cos-v1/config_sentence_transformers.json.lock\n",
            "DEBUG:filelock:Lock 139766560184912 acquired on /root/.cache/torch/sentence_transformers/sentence-transformers_multi-qa-distilbert-cos-v1/config_sentence_transformers.json.lock\n"
          ]
        },
        {
          "output_type": "display_data",
          "data": {
            "application/vnd.jupyter.widget-view+json": {
              "model_id": "7d5f663e87a14be3bb7ee94b70add191",
              "version_minor": 0,
              "version_major": 2
            },
            "text/plain": [
              "Downloading:   0%|          | 0.00/116 [00:00<?, ?B/s]"
            ]
          },
          "metadata": {}
        },
        {
          "output_type": "stream",
          "name": "stderr",
          "text": [
            "DEBUG:filelock:Attempting to release lock 139766560184912 on /root/.cache/torch/sentence_transformers/sentence-transformers_multi-qa-distilbert-cos-v1/config_sentence_transformers.json.lock\n",
            "DEBUG:filelock:Lock 139766560184912 released on /root/.cache/torch/sentence_transformers/sentence-transformers_multi-qa-distilbert-cos-v1/config_sentence_transformers.json.lock\n",
            "DEBUG:filelock:Attempting to acquire lock 139766560191760 on /root/.cache/torch/sentence_transformers/sentence-transformers_multi-qa-distilbert-cos-v1/data_config.json.lock\n",
            "DEBUG:filelock:Lock 139766560191760 acquired on /root/.cache/torch/sentence_transformers/sentence-transformers_multi-qa-distilbert-cos-v1/data_config.json.lock\n"
          ]
        },
        {
          "output_type": "display_data",
          "data": {
            "application/vnd.jupyter.widget-view+json": {
              "model_id": "b7906262dfae4c1e9e565040be56391d",
              "version_minor": 0,
              "version_major": 2
            },
            "text/plain": [
              "Downloading:   0%|          | 0.00/25.5k [00:00<?, ?B/s]"
            ]
          },
          "metadata": {}
        },
        {
          "output_type": "stream",
          "name": "stderr",
          "text": [
            "DEBUG:filelock:Attempting to release lock 139766560191760 on /root/.cache/torch/sentence_transformers/sentence-transformers_multi-qa-distilbert-cos-v1/data_config.json.lock\n",
            "DEBUG:filelock:Lock 139766560191760 released on /root/.cache/torch/sentence_transformers/sentence-transformers_multi-qa-distilbert-cos-v1/data_config.json.lock\n",
            "DEBUG:filelock:Attempting to acquire lock 139766560195408 on /root/.cache/torch/sentence_transformers/sentence-transformers_multi-qa-distilbert-cos-v1/modules.json.lock\n",
            "DEBUG:filelock:Lock 139766560195408 acquired on /root/.cache/torch/sentence_transformers/sentence-transformers_multi-qa-distilbert-cos-v1/modules.json.lock\n"
          ]
        },
        {
          "output_type": "display_data",
          "data": {
            "application/vnd.jupyter.widget-view+json": {
              "model_id": "e0e53cf8833f4f7696f68f6529988a0a",
              "version_minor": 0,
              "version_major": 2
            },
            "text/plain": [
              "Downloading:   0%|          | 0.00/349 [00:00<?, ?B/s]"
            ]
          },
          "metadata": {}
        },
        {
          "output_type": "stream",
          "name": "stderr",
          "text": [
            "DEBUG:filelock:Attempting to release lock 139766560195408 on /root/.cache/torch/sentence_transformers/sentence-transformers_multi-qa-distilbert-cos-v1/modules.json.lock\n",
            "DEBUG:filelock:Lock 139766560195408 released on /root/.cache/torch/sentence_transformers/sentence-transformers_multi-qa-distilbert-cos-v1/modules.json.lock\n",
            "DEBUG:filelock:Attempting to acquire lock 139766626285200 on /root/.cache/torch/sentence_transformers/sentence-transformers_multi-qa-distilbert-cos-v1/pytorch_model.bin.lock\n",
            "DEBUG:filelock:Lock 139766626285200 acquired on /root/.cache/torch/sentence_transformers/sentence-transformers_multi-qa-distilbert-cos-v1/pytorch_model.bin.lock\n"
          ]
        },
        {
          "output_type": "display_data",
          "data": {
            "application/vnd.jupyter.widget-view+json": {
              "model_id": "f32ca8352fb04dc08aa7e2684cd95c64",
              "version_minor": 0,
              "version_major": 2
            },
            "text/plain": [
              "Downloading:   0%|          | 0.00/265M [00:00<?, ?B/s]"
            ]
          },
          "metadata": {}
        },
        {
          "output_type": "stream",
          "name": "stderr",
          "text": [
            "DEBUG:filelock:Attempting to release lock 139766626285200 on /root/.cache/torch/sentence_transformers/sentence-transformers_multi-qa-distilbert-cos-v1/pytorch_model.bin.lock\n",
            "DEBUG:filelock:Lock 139766626285200 released on /root/.cache/torch/sentence_transformers/sentence-transformers_multi-qa-distilbert-cos-v1/pytorch_model.bin.lock\n",
            "DEBUG:filelock:Attempting to acquire lock 139766559366416 on /root/.cache/torch/sentence_transformers/sentence-transformers_multi-qa-distilbert-cos-v1/sentence_bert_config.json.lock\n",
            "DEBUG:filelock:Lock 139766559366416 acquired on /root/.cache/torch/sentence_transformers/sentence-transformers_multi-qa-distilbert-cos-v1/sentence_bert_config.json.lock\n"
          ]
        },
        {
          "output_type": "display_data",
          "data": {
            "application/vnd.jupyter.widget-view+json": {
              "model_id": "f48371d2f440418d838f065c947463a5",
              "version_minor": 0,
              "version_major": 2
            },
            "text/plain": [
              "Downloading:   0%|          | 0.00/53.0 [00:00<?, ?B/s]"
            ]
          },
          "metadata": {}
        },
        {
          "output_type": "stream",
          "name": "stderr",
          "text": [
            "DEBUG:filelock:Attempting to release lock 139766559366416 on /root/.cache/torch/sentence_transformers/sentence-transformers_multi-qa-distilbert-cos-v1/sentence_bert_config.json.lock\n",
            "DEBUG:filelock:Lock 139766559366416 released on /root/.cache/torch/sentence_transformers/sentence-transformers_multi-qa-distilbert-cos-v1/sentence_bert_config.json.lock\n",
            "DEBUG:filelock:Attempting to acquire lock 139766560728848 on /root/.cache/torch/sentence_transformers/sentence-transformers_multi-qa-distilbert-cos-v1/special_tokens_map.json.lock\n",
            "DEBUG:filelock:Lock 139766560728848 acquired on /root/.cache/torch/sentence_transformers/sentence-transformers_multi-qa-distilbert-cos-v1/special_tokens_map.json.lock\n"
          ]
        },
        {
          "output_type": "display_data",
          "data": {
            "application/vnd.jupyter.widget-view+json": {
              "model_id": "644a33ecf8af47c6a6d7cf8ffd306513",
              "version_minor": 0,
              "version_major": 2
            },
            "text/plain": [
              "Downloading:   0%|          | 0.00/112 [00:00<?, ?B/s]"
            ]
          },
          "metadata": {}
        },
        {
          "output_type": "stream",
          "name": "stderr",
          "text": [
            "DEBUG:filelock:Attempting to release lock 139766560728848 on /root/.cache/torch/sentence_transformers/sentence-transformers_multi-qa-distilbert-cos-v1/special_tokens_map.json.lock\n",
            "DEBUG:filelock:Lock 139766560728848 released on /root/.cache/torch/sentence_transformers/sentence-transformers_multi-qa-distilbert-cos-v1/special_tokens_map.json.lock\n",
            "DEBUG:filelock:Attempting to acquire lock 139766626285200 on /root/.cache/torch/sentence_transformers/sentence-transformers_multi-qa-distilbert-cos-v1/tokenizer.json.lock\n",
            "DEBUG:filelock:Lock 139766626285200 acquired on /root/.cache/torch/sentence_transformers/sentence-transformers_multi-qa-distilbert-cos-v1/tokenizer.json.lock\n"
          ]
        },
        {
          "output_type": "display_data",
          "data": {
            "application/vnd.jupyter.widget-view+json": {
              "model_id": "4532a4c9e4d54a3ca04a1393a065632d",
              "version_minor": 0,
              "version_major": 2
            },
            "text/plain": [
              "Downloading:   0%|          | 0.00/466k [00:00<?, ?B/s]"
            ]
          },
          "metadata": {}
        },
        {
          "output_type": "stream",
          "name": "stderr",
          "text": [
            "DEBUG:filelock:Attempting to release lock 139766626285200 on /root/.cache/torch/sentence_transformers/sentence-transformers_multi-qa-distilbert-cos-v1/tokenizer.json.lock\n",
            "DEBUG:filelock:Lock 139766626285200 released on /root/.cache/torch/sentence_transformers/sentence-transformers_multi-qa-distilbert-cos-v1/tokenizer.json.lock\n",
            "DEBUG:filelock:Attempting to acquire lock 139766558373648 on /root/.cache/torch/sentence_transformers/sentence-transformers_multi-qa-distilbert-cos-v1/tokenizer_config.json.lock\n",
            "DEBUG:filelock:Lock 139766558373648 acquired on /root/.cache/torch/sentence_transformers/sentence-transformers_multi-qa-distilbert-cos-v1/tokenizer_config.json.lock\n"
          ]
        },
        {
          "output_type": "display_data",
          "data": {
            "application/vnd.jupyter.widget-view+json": {
              "model_id": "13cbf75cfd8b4b71b44237d58d2aedb6",
              "version_minor": 0,
              "version_major": 2
            },
            "text/plain": [
              "Downloading:   0%|          | 0.00/333 [00:00<?, ?B/s]"
            ]
          },
          "metadata": {}
        },
        {
          "output_type": "stream",
          "name": "stderr",
          "text": [
            "DEBUG:filelock:Attempting to release lock 139766558373648 on /root/.cache/torch/sentence_transformers/sentence-transformers_multi-qa-distilbert-cos-v1/tokenizer_config.json.lock\n",
            "DEBUG:filelock:Lock 139766558373648 released on /root/.cache/torch/sentence_transformers/sentence-transformers_multi-qa-distilbert-cos-v1/tokenizer_config.json.lock\n",
            "DEBUG:filelock:Attempting to acquire lock 139766560728848 on /root/.cache/torch/sentence_transformers/sentence-transformers_multi-qa-distilbert-cos-v1/train_script.py.lock\n",
            "DEBUG:filelock:Lock 139766560728848 acquired on /root/.cache/torch/sentence_transformers/sentence-transformers_multi-qa-distilbert-cos-v1/train_script.py.lock\n"
          ]
        },
        {
          "output_type": "display_data",
          "data": {
            "application/vnd.jupyter.widget-view+json": {
              "model_id": "a6bf86e8c38a40768ff70774f100a696",
              "version_minor": 0,
              "version_major": 2
            },
            "text/plain": [
              "Downloading:   0%|          | 0.00/13.8k [00:00<?, ?B/s]"
            ]
          },
          "metadata": {}
        },
        {
          "output_type": "stream",
          "name": "stderr",
          "text": [
            "DEBUG:filelock:Attempting to release lock 139766560728848 on /root/.cache/torch/sentence_transformers/sentence-transformers_multi-qa-distilbert-cos-v1/train_script.py.lock\n",
            "DEBUG:filelock:Lock 139766560728848 released on /root/.cache/torch/sentence_transformers/sentence-transformers_multi-qa-distilbert-cos-v1/train_script.py.lock\n",
            "DEBUG:filelock:Attempting to acquire lock 139766558307600 on /root/.cache/torch/sentence_transformers/sentence-transformers_multi-qa-distilbert-cos-v1/vocab.txt.lock\n",
            "DEBUG:filelock:Lock 139766558307600 acquired on /root/.cache/torch/sentence_transformers/sentence-transformers_multi-qa-distilbert-cos-v1/vocab.txt.lock\n"
          ]
        },
        {
          "output_type": "display_data",
          "data": {
            "application/vnd.jupyter.widget-view+json": {
              "model_id": "cbb4e13fe13242d68d6db97d2cf622c6",
              "version_minor": 0,
              "version_major": 2
            },
            "text/plain": [
              "Downloading:   0%|          | 0.00/232k [00:00<?, ?B/s]"
            ]
          },
          "metadata": {}
        },
        {
          "output_type": "stream",
          "name": "stderr",
          "text": [
            "DEBUG:filelock:Attempting to release lock 139766558307600 on /root/.cache/torch/sentence_transformers/sentence-transformers_multi-qa-distilbert-cos-v1/vocab.txt.lock\n",
            "DEBUG:filelock:Lock 139766558307600 released on /root/.cache/torch/sentence_transformers/sentence-transformers_multi-qa-distilbert-cos-v1/vocab.txt.lock\n",
            "DEBUG:filelock:Attempting to acquire lock 139766559234064 on /root/.cache/torch/sentence_transformers/sentence-transformers_multi-qa-distilbert-cos-v1/1_Pooling/config.json.lock\n",
            "DEBUG:filelock:Lock 139766559234064 acquired on /root/.cache/torch/sentence_transformers/sentence-transformers_multi-qa-distilbert-cos-v1/1_Pooling/config.json.lock\n"
          ]
        },
        {
          "output_type": "display_data",
          "data": {
            "application/vnd.jupyter.widget-view+json": {
              "model_id": "e7e756bc3949497ea5cfe964f3f7ecd3",
              "version_minor": 0,
              "version_major": 2
            },
            "text/plain": [
              "Downloading:   0%|          | 0.00/190 [00:00<?, ?B/s]"
            ]
          },
          "metadata": {}
        },
        {
          "output_type": "stream",
          "name": "stderr",
          "text": [
            "DEBUG:filelock:Attempting to release lock 139766559234064 on /root/.cache/torch/sentence_transformers/sentence-transformers_multi-qa-distilbert-cos-v1/1_Pooling/config.json.lock\n",
            "DEBUG:filelock:Lock 139766559234064 released on /root/.cache/torch/sentence_transformers/sentence-transformers_multi-qa-distilbert-cos-v1/1_Pooling/config.json.lock\n"
          ]
        },
        {
          "output_type": "display_data",
          "data": {
            "application/vnd.jupyter.widget-view+json": {
              "model_id": "5cae596edee24bd9ad1408031c2b6ba9",
              "version_minor": 0,
              "version_major": 2
            },
            "text/plain": [
              "Batches:   0%|          | 0/8 [00:00<?, ?it/s]"
            ]
          },
          "metadata": {}
        },
        {
          "output_type": "display_data",
          "data": {
            "application/vnd.jupyter.widget-view+json": {
              "model_id": "755a02059a4841f78b5bd2738a8278ee",
              "version_minor": 0,
              "version_major": 2
            },
            "text/plain": [
              "Batches:   0%|          | 0/201 [00:00<?, ?it/s]"
            ]
          },
          "metadata": {}
        },
        {
          "output_type": "display_data",
          "data": {
            "application/vnd.jupyter.widget-view+json": {
              "model_id": "c7f7c4ab6b5e429cab6fab2513fee081",
              "version_minor": 0,
              "version_major": 2
            },
            "text/plain": [
              "Batches:   0%|          | 0/8 [00:00<?, ?it/s]"
            ]
          },
          "metadata": {}
        },
        {
          "output_type": "display_data",
          "data": {
            "application/vnd.jupyter.widget-view+json": {
              "model_id": "778d1e5a607540fc8a541ab449eccbbd",
              "version_minor": 0,
              "version_major": 2
            },
            "text/plain": [
              "Batches:   0%|          | 0/201 [00:00<?, ?it/s]"
            ]
          },
          "metadata": {}
        },
        {
          "output_type": "display_data",
          "data": {
            "application/vnd.jupyter.widget-view+json": {
              "model_id": "89e979e19e3f4a249cbf0c769c9a046b",
              "version_minor": 0,
              "version_major": 2
            },
            "text/plain": [
              "Batches:   0%|          | 0/8 [00:00<?, ?it/s]"
            ]
          },
          "metadata": {}
        },
        {
          "output_type": "display_data",
          "data": {
            "application/vnd.jupyter.widget-view+json": {
              "model_id": "a5fb2da5e9e34f9abb608b016ead6683",
              "version_minor": 0,
              "version_major": 2
            },
            "text/plain": [
              "Batches:   0%|          | 0/201 [00:00<?, ?it/s]"
            ]
          },
          "metadata": {}
        },
        {
          "output_type": "display_data",
          "data": {
            "application/vnd.jupyter.widget-view+json": {
              "model_id": "7408081c37ad4bd0a643c3715f9c1ccf",
              "version_minor": 0,
              "version_major": 2
            },
            "text/plain": [
              "Batches:   0%|          | 0/8 [00:00<?, ?it/s]"
            ]
          },
          "metadata": {}
        },
        {
          "output_type": "display_data",
          "data": {
            "application/vnd.jupyter.widget-view+json": {
              "model_id": "bde7910838f14941ac1361a5396e0d1b",
              "version_minor": 0,
              "version_major": 2
            },
            "text/plain": [
              "Batches:   0%|          | 0/201 [00:00<?, ?it/s]"
            ]
          },
          "metadata": {}
        }
      ]
    },
    {
      "cell_type": "code",
      "metadata": {
        "colab": {
          "base_uri": "https://localhost:8080/",
          "height": 1000,
          "referenced_widgets": [
            "9e794d202e10442d828ecaff30e4c35f",
            "907cc7afc385487b9c35327ee1c900cd",
            "cda8aac7f3ac46b8b5e929eef58fa096",
            "9c36db31dc6b4a82941312b2fff00b44",
            "843c9811556f46b0b1406c189880cb9e",
            "d2c0f40b14f44a1db6f8d232f50c62e1",
            "dd3a8804570b46f1b940abcc06b09a9d",
            "7562154cd847430bba3bd1cee04c9a9f",
            "d429a44e9b2b48d7b27aa720516f753d",
            "db59be95beb04658ad3c5bd8cd1d64d3",
            "fe5001b93a6a45be955a76d772ef6663",
            "99c4c0b8fa4247a3b9e573fee8946dbc",
            "08b1f85218684a7c9978097cb97300f2",
            "873e8f9242684d8faab3db5c79b0a761",
            "76cc003754b14274852c568a37163e03",
            "e948bc478da9486e8544ca96ff253fe4",
            "3b72f7335194474fb85290d1540fae27",
            "562f8d0b62694523adb777aa2fe4c543",
            "6e9365d02012485186b64e08b0efcc6e",
            "9a2ea2bd7ca8469eb7e68078dbdebd48",
            "90ab4f4eca964d508e66280220eac624",
            "b4cf9eccc76e44bbb4366f96e9b0c775",
            "e44a0de7e8214aaa9f00ec0b24dfaa2b",
            "c53ee07c0711413c916ef91f160fb030",
            "3543f00392fe4fe5b0cc779eab48d4e1",
            "ffd44608fd7949f782747841ceefc7da",
            "df6082c47ef44ef792ba30d8e7374e5b",
            "7f0894ffc71a4be6a7e1c460e14cc51e",
            "31e66e93354645e5b6361c30229adbf4",
            "042ee4379ec34e7eb892063553b62015",
            "8106e6ed3b36446f96842dd19ae30305",
            "29741fa3314144659df38fb23e9ecc3b",
            "8c23467f77194d919d93c28eec202d31",
            "8b5c7b34551c4400b6df245b515046ba",
            "4dadf520c8db4c7da930a3784ec5ee66",
            "8d192c30feaa48d39b9a6af1d465b4d2",
            "02714d3cbf8e46e1b75a48d1472c0688",
            "fb4f56db97974bbab0b70d1470abfb64",
            "8e79d1ed86bd4bb997941521fd8188b1",
            "cadf11af611944ee8da6b17dae1f3d4a",
            "71a1212fb9564127ac4fe6ced48354b3",
            "d163ad7737464750b14cc4fc7311b3f5",
            "05e747c8961d401599c34c73a00df47a",
            "b2173644f1e742a0ae5a51771c539581",
            "812107d525804f58b09c76d33aa3a503",
            "0255d7c71eb94d19add379b11510e9c8",
            "83f375273be441daa4f8003b0a7310de",
            "3a23aa226ed844a08ef5706384bd1710",
            "1e914090677f420f9063d48751b66f92",
            "fe907e00d2e34d94becbb6a371af675f",
            "2d60fa5334724cd9a11ddc2a82750674",
            "f11ca74816c24a578e30704f1e4c2dd4",
            "6466f18a60e44f9e878150fbc2e8d389",
            "4121f6a6047d4966b011f6ea3eb71f39",
            "9ca3ac589f8d4725856ac04e5efdfbf9",
            "e151da990a72410e9c355b78820b0c38",
            "7ab1869fb92740e0bbe9663835cabb45",
            "e3dbff187a334e4f8d47708d1d93e2f5",
            "2026211ba5ce46a683590d7abce56dcb",
            "071ee31b166d45a8bba7e1b39066b1e6",
            "9b498e94b28140868d2b9011c09f7996",
            "8f1a562195904634928238dd37493d63",
            "84fe0676395a4afc89b24f919416845c",
            "4c825528d26c4d3783e8b95fad75a7de",
            "35717b9f749e4713bff1e870e275be1d",
            "e34e8d0417564df3a0728f172f98925b",
            "93abb50f6ac7437ab5342a2c7ee87250",
            "0d18d728c1d947be839ca4d424744da8",
            "42a986cdc69345b8b19ccaa75ef4f4c7",
            "401c5a0e347c401db416406a69e6dd27",
            "4541a115f2304749bec99bc80311d930",
            "cd6a837b65ec480b84ab032921406c1f"
          ]
        },
        "id": "oYwdsyik196U",
        "outputId": "21b1fffa-4cb7-4ba4-d37a-0548376110c8"
      },
      "source": [
        "dr_msm_dist_cls = EvaluateRetrieval(\n",
        "    DRES(models.SentenceBERT('msmarco-distilbert-base-tas-b'), batch_size=128), score_function='dot')\n",
        "dr_msm_dist_dot = EvaluateRetrieval(\n",
        "    DRES(models.SentenceBERT('msmarco-distilbert-dot-v5'), batch_size=128), score_function='dot')\n",
        "dr_msm_con_dot = EvaluateRetrieval(\n",
        "    DRES(models.SentenceBERT('msmarco-bert-co-condensor'), batch_size=128), score_function='dot')\n",
        "dr_msm_ance_dot = EvaluateRetrieval(\n",
        "    DRES(models.SentenceBERT('msmarco-roberta-base-ance-firstp')), score_function='dot')\n",
        "\n",
        "res_msm_dist_cls = dr_msm_dist_cls.retrieve(corpus, queries)\n",
        "res_msm_dist_dot = dr_msm_dist_dot.retrieve(corpus, queries)\n",
        "res_msm_con_dot = dr_msm_con_dot.retrieve(corpus, queries)\n",
        "res_msm_ance_dot = dr_msm_ance_dot.retrieve(corpus, queries)\n",
        "\n",
        "ndcg_d_sdc, _map_d_sdc, recall_d_sdc, precision_d_sdc = dr_msm_dist_cls.evaluate(\n",
        "    qrels, res_msm_dist_cls, dr_msm_dist_cls.k_values)\n",
        "ndcg_d_sdd, _map_d_sdd, recall_d_sdd, precision_d_sdd = dr_msm_dist_dot.evaluate(\n",
        "    qrels, res_msm_dist_dot, dr_msm_dist_dot.k_values)\n",
        "ndcg_d_scd, _map_d_scd, recall_d_scd, precision_d_scd = dr_msm_con_dot.evaluate(\n",
        "    qrels, res_msm_con_dot, dr_msm_con_dot.k_values)\n",
        "ndcg_d_sad, _map_d_sad, recall_d_sad, precision_d_sad = dr_msm_ance_dot.evaluate(\n",
        "    qrels, res_msm_ance_dot, dr_msm_ance_dot.k_values)"
      ],
      "execution_count": null,
      "outputs": [
        {
          "output_type": "stream",
          "name": "stderr",
          "text": [
            "DEBUG:filelock:Attempting to acquire lock 139766154719504 on /root/.cache/torch/sentence_transformers/sentence-transformers_msmarco-distilbert-base-tas-b/.gitattributes.lock\n",
            "DEBUG:filelock:Lock 139766154719504 acquired on /root/.cache/torch/sentence_transformers/sentence-transformers_msmarco-distilbert-base-tas-b/.gitattributes.lock\n"
          ]
        },
        {
          "output_type": "display_data",
          "data": {
            "application/vnd.jupyter.widget-view+json": {
              "model_id": "9e794d202e10442d828ecaff30e4c35f",
              "version_minor": 0,
              "version_major": 2
            },
            "text/plain": [
              "Downloading:   0%|          | 0.00/690 [00:00<?, ?B/s]"
            ]
          },
          "metadata": {}
        },
        {
          "output_type": "stream",
          "name": "stderr",
          "text": [
            "DEBUG:filelock:Attempting to release lock 139766154719504 on /root/.cache/torch/sentence_transformers/sentence-transformers_msmarco-distilbert-base-tas-b/.gitattributes.lock\n",
            "DEBUG:filelock:Lock 139766154719504 released on /root/.cache/torch/sentence_transformers/sentence-transformers_msmarco-distilbert-base-tas-b/.gitattributes.lock\n",
            "DEBUG:filelock:Attempting to acquire lock 139766901327760 on /root/.cache/torch/sentence_transformers/sentence-transformers_msmarco-distilbert-base-tas-b/README.md.lock\n",
            "DEBUG:filelock:Lock 139766901327760 acquired on /root/.cache/torch/sentence_transformers/sentence-transformers_msmarco-distilbert-base-tas-b/README.md.lock\n"
          ]
        },
        {
          "output_type": "display_data",
          "data": {
            "application/vnd.jupyter.widget-view+json": {
              "model_id": "99c4c0b8fa4247a3b9e573fee8946dbc",
              "version_minor": 0,
              "version_major": 2
            },
            "text/plain": [
              "Downloading:   0%|          | 0.00/3.95k [00:00<?, ?B/s]"
            ]
          },
          "metadata": {}
        },
        {
          "output_type": "stream",
          "name": "stderr",
          "text": [
            "DEBUG:filelock:Attempting to release lock 139766901327760 on /root/.cache/torch/sentence_transformers/sentence-transformers_msmarco-distilbert-base-tas-b/README.md.lock\n",
            "DEBUG:filelock:Lock 139766901327760 released on /root/.cache/torch/sentence_transformers/sentence-transformers_msmarco-distilbert-base-tas-b/README.md.lock\n",
            "DEBUG:filelock:Attempting to acquire lock 139766561681360 on /root/.cache/torch/sentence_transformers/sentence-transformers_msmarco-distilbert-base-tas-b/config.json.lock\n",
            "DEBUG:filelock:Lock 139766561681360 acquired on /root/.cache/torch/sentence_transformers/sentence-transformers_msmarco-distilbert-base-tas-b/config.json.lock\n"
          ]
        },
        {
          "output_type": "display_data",
          "data": {
            "application/vnd.jupyter.widget-view+json": {
              "model_id": "08b1f85218684a7c9978097cb97300f2",
              "version_minor": 0,
              "version_major": 2
            },
            "text/plain": [
              "Downloading:   0%|          | 0.00/548 [00:00<?, ?B/s]"
            ]
          },
          "metadata": {}
        },
        {
          "output_type": "stream",
          "name": "stderr",
          "text": [
            "DEBUG:filelock:Attempting to release lock 139766561681360 on /root/.cache/torch/sentence_transformers/sentence-transformers_msmarco-distilbert-base-tas-b/config.json.lock\n",
            "DEBUG:filelock:Lock 139766561681360 released on /root/.cache/torch/sentence_transformers/sentence-transformers_msmarco-distilbert-base-tas-b/config.json.lock\n",
            "DEBUG:filelock:Attempting to acquire lock 139766288423952 on /root/.cache/torch/sentence_transformers/sentence-transformers_msmarco-distilbert-base-tas-b/config_sentence_transformers.json.lock\n",
            "DEBUG:filelock:Lock 139766288423952 acquired on /root/.cache/torch/sentence_transformers/sentence-transformers_msmarco-distilbert-base-tas-b/config_sentence_transformers.json.lock\n"
          ]
        },
        {
          "output_type": "display_data",
          "data": {
            "application/vnd.jupyter.widget-view+json": {
              "model_id": "873e8f9242684d8faab3db5c79b0a761",
              "version_minor": 0,
              "version_major": 2
            },
            "text/plain": [
              "Downloading:   0%|          | 0.00/122 [00:00<?, ?B/s]"
            ]
          },
          "metadata": {}
        },
        {
          "output_type": "stream",
          "name": "stderr",
          "text": [
            "DEBUG:filelock:Attempting to release lock 139766288423952 on /root/.cache/torch/sentence_transformers/sentence-transformers_msmarco-distilbert-base-tas-b/config_sentence_transformers.json.lock\n",
            "DEBUG:filelock:Lock 139766288423952 released on /root/.cache/torch/sentence_transformers/sentence-transformers_msmarco-distilbert-base-tas-b/config_sentence_transformers.json.lock\n",
            "DEBUG:filelock:Attempting to acquire lock 139766288423952 on /root/.cache/torch/sentence_transformers/sentence-transformers_msmarco-distilbert-base-tas-b/modules.json.lock\n",
            "DEBUG:filelock:Lock 139766288423952 acquired on /root/.cache/torch/sentence_transformers/sentence-transformers_msmarco-distilbert-base-tas-b/modules.json.lock\n"
          ]
        },
        {
          "output_type": "display_data",
          "data": {
            "application/vnd.jupyter.widget-view+json": {
              "model_id": "76cc003754b14274852c568a37163e03",
              "version_minor": 0,
              "version_major": 2
            },
            "text/plain": [
              "Downloading:   0%|          | 0.00/229 [00:00<?, ?B/s]"
            ]
          },
          "metadata": {}
        },
        {
          "output_type": "stream",
          "name": "stderr",
          "text": [
            "DEBUG:filelock:Attempting to release lock 139766288423952 on /root/.cache/torch/sentence_transformers/sentence-transformers_msmarco-distilbert-base-tas-b/modules.json.lock\n",
            "DEBUG:filelock:Lock 139766288423952 released on /root/.cache/torch/sentence_transformers/sentence-transformers_msmarco-distilbert-base-tas-b/modules.json.lock\n",
            "DEBUG:filelock:Attempting to acquire lock 139766288423952 on /root/.cache/torch/sentence_transformers/sentence-transformers_msmarco-distilbert-base-tas-b/pytorch_model.bin.lock\n",
            "DEBUG:filelock:Lock 139766288423952 acquired on /root/.cache/torch/sentence_transformers/sentence-transformers_msmarco-distilbert-base-tas-b/pytorch_model.bin.lock\n"
          ]
        },
        {
          "output_type": "display_data",
          "data": {
            "application/vnd.jupyter.widget-view+json": {
              "model_id": "e948bc478da9486e8544ca96ff253fe4",
              "version_minor": 0,
              "version_major": 2
            },
            "text/plain": [
              "Downloading:   0%|          | 0.00/265M [00:00<?, ?B/s]"
            ]
          },
          "metadata": {}
        },
        {
          "output_type": "stream",
          "name": "stderr",
          "text": [
            "DEBUG:filelock:Attempting to release lock 139766288423952 on /root/.cache/torch/sentence_transformers/sentence-transformers_msmarco-distilbert-base-tas-b/pytorch_model.bin.lock\n",
            "DEBUG:filelock:Lock 139766288423952 released on /root/.cache/torch/sentence_transformers/sentence-transformers_msmarco-distilbert-base-tas-b/pytorch_model.bin.lock\n",
            "DEBUG:filelock:Attempting to acquire lock 139766154731280 on /root/.cache/torch/sentence_transformers/sentence-transformers_msmarco-distilbert-base-tas-b/sentence_bert_config.json.lock\n",
            "DEBUG:filelock:Lock 139766154731280 acquired on /root/.cache/torch/sentence_transformers/sentence-transformers_msmarco-distilbert-base-tas-b/sentence_bert_config.json.lock\n"
          ]
        },
        {
          "output_type": "display_data",
          "data": {
            "application/vnd.jupyter.widget-view+json": {
              "model_id": "3b72f7335194474fb85290d1540fae27",
              "version_minor": 0,
              "version_major": 2
            },
            "text/plain": [
              "Downloading:   0%|          | 0.00/53.0 [00:00<?, ?B/s]"
            ]
          },
          "metadata": {}
        },
        {
          "output_type": "stream",
          "name": "stderr",
          "text": [
            "DEBUG:filelock:Attempting to release lock 139766154731280 on /root/.cache/torch/sentence_transformers/sentence-transformers_msmarco-distilbert-base-tas-b/sentence_bert_config.json.lock\n",
            "DEBUG:filelock:Lock 139766154731280 released on /root/.cache/torch/sentence_transformers/sentence-transformers_msmarco-distilbert-base-tas-b/sentence_bert_config.json.lock\n",
            "DEBUG:filelock:Attempting to acquire lock 139766901327760 on /root/.cache/torch/sentence_transformers/sentence-transformers_msmarco-distilbert-base-tas-b/special_tokens_map.json.lock\n",
            "DEBUG:filelock:Lock 139766901327760 acquired on /root/.cache/torch/sentence_transformers/sentence-transformers_msmarco-distilbert-base-tas-b/special_tokens_map.json.lock\n"
          ]
        },
        {
          "output_type": "display_data",
          "data": {
            "application/vnd.jupyter.widget-view+json": {
              "model_id": "562f8d0b62694523adb777aa2fe4c543",
              "version_minor": 0,
              "version_major": 2
            },
            "text/plain": [
              "Downloading:   0%|          | 0.00/112 [00:00<?, ?B/s]"
            ]
          },
          "metadata": {}
        },
        {
          "output_type": "stream",
          "name": "stderr",
          "text": [
            "DEBUG:filelock:Attempting to release lock 139766901327760 on /root/.cache/torch/sentence_transformers/sentence-transformers_msmarco-distilbert-base-tas-b/special_tokens_map.json.lock\n",
            "DEBUG:filelock:Lock 139766901327760 released on /root/.cache/torch/sentence_transformers/sentence-transformers_msmarco-distilbert-base-tas-b/special_tokens_map.json.lock\n",
            "DEBUG:filelock:Attempting to acquire lock 139766561681360 on /root/.cache/torch/sentence_transformers/sentence-transformers_msmarco-distilbert-base-tas-b/tokenizer.json.lock\n",
            "DEBUG:filelock:Lock 139766561681360 acquired on /root/.cache/torch/sentence_transformers/sentence-transformers_msmarco-distilbert-base-tas-b/tokenizer.json.lock\n"
          ]
        },
        {
          "output_type": "display_data",
          "data": {
            "application/vnd.jupyter.widget-view+json": {
              "model_id": "6e9365d02012485186b64e08b0efcc6e",
              "version_minor": 0,
              "version_major": 2
            },
            "text/plain": [
              "Downloading:   0%|          | 0.00/466k [00:00<?, ?B/s]"
            ]
          },
          "metadata": {}
        },
        {
          "output_type": "stream",
          "name": "stderr",
          "text": [
            "DEBUG:filelock:Attempting to release lock 139766561681360 on /root/.cache/torch/sentence_transformers/sentence-transformers_msmarco-distilbert-base-tas-b/tokenizer.json.lock\n",
            "DEBUG:filelock:Lock 139766561681360 released on /root/.cache/torch/sentence_transformers/sentence-transformers_msmarco-distilbert-base-tas-b/tokenizer.json.lock\n",
            "DEBUG:filelock:Attempting to acquire lock 139766901327760 on /root/.cache/torch/sentence_transformers/sentence-transformers_msmarco-distilbert-base-tas-b/tokenizer_config.json.lock\n",
            "DEBUG:filelock:Lock 139766901327760 acquired on /root/.cache/torch/sentence_transformers/sentence-transformers_msmarco-distilbert-base-tas-b/tokenizer_config.json.lock\n"
          ]
        },
        {
          "output_type": "display_data",
          "data": {
            "application/vnd.jupyter.widget-view+json": {
              "model_id": "9a2ea2bd7ca8469eb7e68078dbdebd48",
              "version_minor": 0,
              "version_major": 2
            },
            "text/plain": [
              "Downloading:   0%|          | 0.00/547 [00:00<?, ?B/s]"
            ]
          },
          "metadata": {}
        },
        {
          "output_type": "stream",
          "name": "stderr",
          "text": [
            "DEBUG:filelock:Attempting to release lock 139766901327760 on /root/.cache/torch/sentence_transformers/sentence-transformers_msmarco-distilbert-base-tas-b/tokenizer_config.json.lock\n",
            "DEBUG:filelock:Lock 139766901327760 released on /root/.cache/torch/sentence_transformers/sentence-transformers_msmarco-distilbert-base-tas-b/tokenizer_config.json.lock\n",
            "DEBUG:filelock:Attempting to acquire lock 139766287779472 on /root/.cache/torch/sentence_transformers/sentence-transformers_msmarco-distilbert-base-tas-b/vocab.txt.lock\n",
            "DEBUG:filelock:Lock 139766287779472 acquired on /root/.cache/torch/sentence_transformers/sentence-transformers_msmarco-distilbert-base-tas-b/vocab.txt.lock\n"
          ]
        },
        {
          "output_type": "display_data",
          "data": {
            "application/vnd.jupyter.widget-view+json": {
              "model_id": "90ab4f4eca964d508e66280220eac624",
              "version_minor": 0,
              "version_major": 2
            },
            "text/plain": [
              "Downloading:   0%|          | 0.00/232k [00:00<?, ?B/s]"
            ]
          },
          "metadata": {}
        },
        {
          "output_type": "stream",
          "name": "stderr",
          "text": [
            "DEBUG:filelock:Attempting to release lock 139766287779472 on /root/.cache/torch/sentence_transformers/sentence-transformers_msmarco-distilbert-base-tas-b/vocab.txt.lock\n",
            "DEBUG:filelock:Lock 139766287779472 released on /root/.cache/torch/sentence_transformers/sentence-transformers_msmarco-distilbert-base-tas-b/vocab.txt.lock\n",
            "DEBUG:filelock:Attempting to acquire lock 139766154731280 on /root/.cache/torch/sentence_transformers/sentence-transformers_msmarco-distilbert-base-tas-b/1_Pooling/config.json.lock\n",
            "DEBUG:filelock:Lock 139766154731280 acquired on /root/.cache/torch/sentence_transformers/sentence-transformers_msmarco-distilbert-base-tas-b/1_Pooling/config.json.lock\n"
          ]
        },
        {
          "output_type": "display_data",
          "data": {
            "application/vnd.jupyter.widget-view+json": {
              "model_id": "b4cf9eccc76e44bbb4366f96e9b0c775",
              "version_minor": 0,
              "version_major": 2
            },
            "text/plain": [
              "Downloading:   0%|          | 0.00/190 [00:00<?, ?B/s]"
            ]
          },
          "metadata": {}
        },
        {
          "output_type": "stream",
          "name": "stderr",
          "text": [
            "DEBUG:filelock:Attempting to release lock 139766154731280 on /root/.cache/torch/sentence_transformers/sentence-transformers_msmarco-distilbert-base-tas-b/1_Pooling/config.json.lock\n",
            "DEBUG:filelock:Lock 139766154731280 released on /root/.cache/torch/sentence_transformers/sentence-transformers_msmarco-distilbert-base-tas-b/1_Pooling/config.json.lock\n",
            "DEBUG:filelock:Attempting to acquire lock 139766287779472 on /root/.cache/torch/sentence_transformers/sentence-transformers_msmarco-distilbert-dot-v5/.gitattributes.lock\n",
            "DEBUG:filelock:Lock 139766287779472 acquired on /root/.cache/torch/sentence_transformers/sentence-transformers_msmarco-distilbert-dot-v5/.gitattributes.lock\n"
          ]
        },
        {
          "output_type": "display_data",
          "data": {
            "application/vnd.jupyter.widget-view+json": {
              "model_id": "e44a0de7e8214aaa9f00ec0b24dfaa2b",
              "version_minor": 0,
              "version_major": 2
            },
            "text/plain": [
              "Downloading:   0%|          | 0.00/1.18k [00:00<?, ?B/s]"
            ]
          },
          "metadata": {}
        },
        {
          "output_type": "stream",
          "name": "stderr",
          "text": [
            "DEBUG:filelock:Attempting to release lock 139766287779472 on /root/.cache/torch/sentence_transformers/sentence-transformers_msmarco-distilbert-dot-v5/.gitattributes.lock\n",
            "DEBUG:filelock:Lock 139766287779472 released on /root/.cache/torch/sentence_transformers/sentence-transformers_msmarco-distilbert-dot-v5/.gitattributes.lock\n",
            "DEBUG:filelock:Attempting to acquire lock 139766187210192 on /root/.cache/torch/sentence_transformers/sentence-transformers_msmarco-distilbert-dot-v5/README.md.lock\n",
            "DEBUG:filelock:Lock 139766187210192 acquired on /root/.cache/torch/sentence_transformers/sentence-transformers_msmarco-distilbert-dot-v5/README.md.lock\n"
          ]
        },
        {
          "output_type": "display_data",
          "data": {
            "application/vnd.jupyter.widget-view+json": {
              "model_id": "c53ee07c0711413c916ef91f160fb030",
              "version_minor": 0,
              "version_major": 2
            },
            "text/plain": [
              "Downloading:   0%|          | 0.00/6.14k [00:00<?, ?B/s]"
            ]
          },
          "metadata": {}
        },
        {
          "output_type": "stream",
          "name": "stderr",
          "text": [
            "DEBUG:filelock:Attempting to release lock 139766187210192 on /root/.cache/torch/sentence_transformers/sentence-transformers_msmarco-distilbert-dot-v5/README.md.lock\n",
            "DEBUG:filelock:Lock 139766187210192 released on /root/.cache/torch/sentence_transformers/sentence-transformers_msmarco-distilbert-dot-v5/README.md.lock\n",
            "DEBUG:filelock:Attempting to acquire lock 139766187210192 on /root/.cache/torch/sentence_transformers/sentence-transformers_msmarco-distilbert-dot-v5/config.json.lock\n",
            "DEBUG:filelock:Lock 139766187210192 acquired on /root/.cache/torch/sentence_transformers/sentence-transformers_msmarco-distilbert-dot-v5/config.json.lock\n"
          ]
        },
        {
          "output_type": "display_data",
          "data": {
            "application/vnd.jupyter.widget-view+json": {
              "model_id": "3543f00392fe4fe5b0cc779eab48d4e1",
              "version_minor": 0,
              "version_major": 2
            },
            "text/plain": [
              "Downloading:   0%|          | 0.00/546 [00:00<?, ?B/s]"
            ]
          },
          "metadata": {}
        },
        {
          "output_type": "stream",
          "name": "stderr",
          "text": [
            "DEBUG:filelock:Attempting to release lock 139766187210192 on /root/.cache/torch/sentence_transformers/sentence-transformers_msmarco-distilbert-dot-v5/config.json.lock\n",
            "DEBUG:filelock:Lock 139766187210192 released on /root/.cache/torch/sentence_transformers/sentence-transformers_msmarco-distilbert-dot-v5/config.json.lock\n",
            "DEBUG:filelock:Attempting to acquire lock 139766187210192 on /root/.cache/torch/sentence_transformers/sentence-transformers_msmarco-distilbert-dot-v5/config_sentence_transformers.json.lock\n",
            "DEBUG:filelock:Lock 139766187210192 acquired on /root/.cache/torch/sentence_transformers/sentence-transformers_msmarco-distilbert-dot-v5/config_sentence_transformers.json.lock\n"
          ]
        },
        {
          "output_type": "display_data",
          "data": {
            "application/vnd.jupyter.widget-view+json": {
              "model_id": "ffd44608fd7949f782747841ceefc7da",
              "version_minor": 0,
              "version_major": 2
            },
            "text/plain": [
              "Downloading:   0%|          | 0.00/116 [00:00<?, ?B/s]"
            ]
          },
          "metadata": {}
        },
        {
          "output_type": "stream",
          "name": "stderr",
          "text": [
            "DEBUG:filelock:Attempting to release lock 139766187210192 on /root/.cache/torch/sentence_transformers/sentence-transformers_msmarco-distilbert-dot-v5/config_sentence_transformers.json.lock\n",
            "DEBUG:filelock:Lock 139766187210192 released on /root/.cache/torch/sentence_transformers/sentence-transformers_msmarco-distilbert-dot-v5/config_sentence_transformers.json.lock\n",
            "DEBUG:filelock:Attempting to acquire lock 139766154721488 on /root/.cache/torch/sentence_transformers/sentence-transformers_msmarco-distilbert-dot-v5/modules.json.lock\n",
            "DEBUG:filelock:Lock 139766154721488 acquired on /root/.cache/torch/sentence_transformers/sentence-transformers_msmarco-distilbert-dot-v5/modules.json.lock\n"
          ]
        },
        {
          "output_type": "display_data",
          "data": {
            "application/vnd.jupyter.widget-view+json": {
              "model_id": "df6082c47ef44ef792ba30d8e7374e5b",
              "version_minor": 0,
              "version_major": 2
            },
            "text/plain": [
              "Downloading:   0%|          | 0.00/229 [00:00<?, ?B/s]"
            ]
          },
          "metadata": {}
        },
        {
          "output_type": "stream",
          "name": "stderr",
          "text": [
            "DEBUG:filelock:Attempting to release lock 139766154721488 on /root/.cache/torch/sentence_transformers/sentence-transformers_msmarco-distilbert-dot-v5/modules.json.lock\n",
            "DEBUG:filelock:Lock 139766154721488 released on /root/.cache/torch/sentence_transformers/sentence-transformers_msmarco-distilbert-dot-v5/modules.json.lock\n",
            "DEBUG:filelock:Attempting to acquire lock 139766286290384 on /root/.cache/torch/sentence_transformers/sentence-transformers_msmarco-distilbert-dot-v5/pytorch_model.bin.lock\n",
            "DEBUG:filelock:Lock 139766286290384 acquired on /root/.cache/torch/sentence_transformers/sentence-transformers_msmarco-distilbert-dot-v5/pytorch_model.bin.lock\n"
          ]
        },
        {
          "output_type": "display_data",
          "data": {
            "application/vnd.jupyter.widget-view+json": {
              "model_id": "7f0894ffc71a4be6a7e1c460e14cc51e",
              "version_minor": 0,
              "version_major": 2
            },
            "text/plain": [
              "Downloading:   0%|          | 0.00/265M [00:00<?, ?B/s]"
            ]
          },
          "metadata": {}
        },
        {
          "output_type": "stream",
          "name": "stderr",
          "text": [
            "DEBUG:filelock:Attempting to release lock 139766286290384 on /root/.cache/torch/sentence_transformers/sentence-transformers_msmarco-distilbert-dot-v5/pytorch_model.bin.lock\n",
            "DEBUG:filelock:Lock 139766286290384 released on /root/.cache/torch/sentence_transformers/sentence-transformers_msmarco-distilbert-dot-v5/pytorch_model.bin.lock\n",
            "DEBUG:filelock:Attempting to acquire lock 139766189478928 on /root/.cache/torch/sentence_transformers/sentence-transformers_msmarco-distilbert-dot-v5/sentence_bert_config.json.lock\n",
            "DEBUG:filelock:Lock 139766189478928 acquired on /root/.cache/torch/sentence_transformers/sentence-transformers_msmarco-distilbert-dot-v5/sentence_bert_config.json.lock\n"
          ]
        },
        {
          "output_type": "display_data",
          "data": {
            "application/vnd.jupyter.widget-view+json": {
              "model_id": "31e66e93354645e5b6361c30229adbf4",
              "version_minor": 0,
              "version_major": 2
            },
            "text/plain": [
              "Downloading:   0%|          | 0.00/53.0 [00:00<?, ?B/s]"
            ]
          },
          "metadata": {}
        },
        {
          "output_type": "stream",
          "name": "stderr",
          "text": [
            "DEBUG:filelock:Attempting to release lock 139766189478928 on /root/.cache/torch/sentence_transformers/sentence-transformers_msmarco-distilbert-dot-v5/sentence_bert_config.json.lock\n",
            "DEBUG:filelock:Lock 139766189478928 released on /root/.cache/torch/sentence_transformers/sentence-transformers_msmarco-distilbert-dot-v5/sentence_bert_config.json.lock\n",
            "DEBUG:filelock:Attempting to acquire lock 139766255229008 on /root/.cache/torch/sentence_transformers/sentence-transformers_msmarco-distilbert-dot-v5/special_tokens_map.json.lock\n",
            "DEBUG:filelock:Lock 139766255229008 acquired on /root/.cache/torch/sentence_transformers/sentence-transformers_msmarco-distilbert-dot-v5/special_tokens_map.json.lock\n"
          ]
        },
        {
          "output_type": "display_data",
          "data": {
            "application/vnd.jupyter.widget-view+json": {
              "model_id": "042ee4379ec34e7eb892063553b62015",
              "version_minor": 0,
              "version_major": 2
            },
            "text/plain": [
              "Downloading:   0%|          | 0.00/112 [00:00<?, ?B/s]"
            ]
          },
          "metadata": {}
        },
        {
          "output_type": "stream",
          "name": "stderr",
          "text": [
            "DEBUG:filelock:Attempting to release lock 139766255229008 on /root/.cache/torch/sentence_transformers/sentence-transformers_msmarco-distilbert-dot-v5/special_tokens_map.json.lock\n",
            "DEBUG:filelock:Lock 139766255229008 released on /root/.cache/torch/sentence_transformers/sentence-transformers_msmarco-distilbert-dot-v5/special_tokens_map.json.lock\n",
            "DEBUG:filelock:Attempting to acquire lock 139766187210192 on /root/.cache/torch/sentence_transformers/sentence-transformers_msmarco-distilbert-dot-v5/tokenizer.json.lock\n",
            "DEBUG:filelock:Lock 139766187210192 acquired on /root/.cache/torch/sentence_transformers/sentence-transformers_msmarco-distilbert-dot-v5/tokenizer.json.lock\n"
          ]
        },
        {
          "output_type": "display_data",
          "data": {
            "application/vnd.jupyter.widget-view+json": {
              "model_id": "8106e6ed3b36446f96842dd19ae30305",
              "version_minor": 0,
              "version_major": 2
            },
            "text/plain": [
              "Downloading:   0%|          | 0.00/466k [00:00<?, ?B/s]"
            ]
          },
          "metadata": {}
        },
        {
          "output_type": "stream",
          "name": "stderr",
          "text": [
            "DEBUG:filelock:Attempting to release lock 139766187210192 on /root/.cache/torch/sentence_transformers/sentence-transformers_msmarco-distilbert-dot-v5/tokenizer.json.lock\n",
            "DEBUG:filelock:Lock 139766187210192 released on /root/.cache/torch/sentence_transformers/sentence-transformers_msmarco-distilbert-dot-v5/tokenizer.json.lock\n",
            "DEBUG:filelock:Attempting to acquire lock 139766255229008 on /root/.cache/torch/sentence_transformers/sentence-transformers_msmarco-distilbert-dot-v5/tokenizer_config.json.lock\n",
            "DEBUG:filelock:Lock 139766255229008 acquired on /root/.cache/torch/sentence_transformers/sentence-transformers_msmarco-distilbert-dot-v5/tokenizer_config.json.lock\n"
          ]
        },
        {
          "output_type": "display_data",
          "data": {
            "application/vnd.jupyter.widget-view+json": {
              "model_id": "29741fa3314144659df38fb23e9ecc3b",
              "version_minor": 0,
              "version_major": 2
            },
            "text/plain": [
              "Downloading:   0%|          | 0.00/320 [00:00<?, ?B/s]"
            ]
          },
          "metadata": {}
        },
        {
          "output_type": "stream",
          "name": "stderr",
          "text": [
            "DEBUG:filelock:Attempting to release lock 139766255229008 on /root/.cache/torch/sentence_transformers/sentence-transformers_msmarco-distilbert-dot-v5/tokenizer_config.json.lock\n",
            "DEBUG:filelock:Lock 139766255229008 released on /root/.cache/torch/sentence_transformers/sentence-transformers_msmarco-distilbert-dot-v5/tokenizer_config.json.lock\n",
            "DEBUG:filelock:Attempting to acquire lock 139766155526224 on /root/.cache/torch/sentence_transformers/sentence-transformers_msmarco-distilbert-dot-v5/train_script.py.lock\n",
            "DEBUG:filelock:Lock 139766155526224 acquired on /root/.cache/torch/sentence_transformers/sentence-transformers_msmarco-distilbert-dot-v5/train_script.py.lock\n"
          ]
        },
        {
          "output_type": "display_data",
          "data": {
            "application/vnd.jupyter.widget-view+json": {
              "model_id": "8c23467f77194d919d93c28eec202d31",
              "version_minor": 0,
              "version_major": 2
            },
            "text/plain": [
              "Downloading:   0%|          | 0.00/10.3k [00:00<?, ?B/s]"
            ]
          },
          "metadata": {}
        },
        {
          "output_type": "stream",
          "name": "stderr",
          "text": [
            "DEBUG:filelock:Attempting to release lock 139766155526224 on /root/.cache/torch/sentence_transformers/sentence-transformers_msmarco-distilbert-dot-v5/train_script.py.lock\n",
            "DEBUG:filelock:Lock 139766155526224 released on /root/.cache/torch/sentence_transformers/sentence-transformers_msmarco-distilbert-dot-v5/train_script.py.lock\n",
            "DEBUG:filelock:Attempting to acquire lock 139766255229008 on /root/.cache/torch/sentence_transformers/sentence-transformers_msmarco-distilbert-dot-v5/vocab.txt.lock\n",
            "DEBUG:filelock:Lock 139766255229008 acquired on /root/.cache/torch/sentence_transformers/sentence-transformers_msmarco-distilbert-dot-v5/vocab.txt.lock\n"
          ]
        },
        {
          "output_type": "display_data",
          "data": {
            "application/vnd.jupyter.widget-view+json": {
              "model_id": "8b5c7b34551c4400b6df245b515046ba",
              "version_minor": 0,
              "version_major": 2
            },
            "text/plain": [
              "Downloading:   0%|          | 0.00/232k [00:00<?, ?B/s]"
            ]
          },
          "metadata": {}
        },
        {
          "output_type": "stream",
          "name": "stderr",
          "text": [
            "DEBUG:filelock:Attempting to release lock 139766255229008 on /root/.cache/torch/sentence_transformers/sentence-transformers_msmarco-distilbert-dot-v5/vocab.txt.lock\n",
            "DEBUG:filelock:Lock 139766255229008 released on /root/.cache/torch/sentence_transformers/sentence-transformers_msmarco-distilbert-dot-v5/vocab.txt.lock\n",
            "DEBUG:filelock:Attempting to acquire lock 139766152332176 on /root/.cache/torch/sentence_transformers/sentence-transformers_msmarco-distilbert-dot-v5/1_Pooling/config.json.lock\n",
            "DEBUG:filelock:Lock 139766152332176 acquired on /root/.cache/torch/sentence_transformers/sentence-transformers_msmarco-distilbert-dot-v5/1_Pooling/config.json.lock\n"
          ]
        },
        {
          "output_type": "display_data",
          "data": {
            "application/vnd.jupyter.widget-view+json": {
              "model_id": "4dadf520c8db4c7da930a3784ec5ee66",
              "version_minor": 0,
              "version_major": 2
            },
            "text/plain": [
              "Downloading:   0%|          | 0.00/190 [00:00<?, ?B/s]"
            ]
          },
          "metadata": {}
        },
        {
          "output_type": "stream",
          "name": "stderr",
          "text": [
            "DEBUG:filelock:Attempting to release lock 139766152332176 on /root/.cache/torch/sentence_transformers/sentence-transformers_msmarco-distilbert-dot-v5/1_Pooling/config.json.lock\n",
            "DEBUG:filelock:Lock 139766152332176 released on /root/.cache/torch/sentence_transformers/sentence-transformers_msmarco-distilbert-dot-v5/1_Pooling/config.json.lock\n",
            "DEBUG:filelock:Attempting to acquire lock 139766124589392 on /root/.cache/torch/sentence_transformers/sentence-transformers_msmarco-bert-co-condensor/.gitattributes.lock\n",
            "DEBUG:filelock:Lock 139766124589392 acquired on /root/.cache/torch/sentence_transformers/sentence-transformers_msmarco-bert-co-condensor/.gitattributes.lock\n"
          ]
        },
        {
          "output_type": "display_data",
          "data": {
            "application/vnd.jupyter.widget-view+json": {
              "model_id": "8d192c30feaa48d39b9a6af1d465b4d2",
              "version_minor": 0,
              "version_major": 2
            },
            "text/plain": [
              "Downloading:   0%|          | 0.00/1.18k [00:00<?, ?B/s]"
            ]
          },
          "metadata": {}
        },
        {
          "output_type": "stream",
          "name": "stderr",
          "text": [
            "DEBUG:filelock:Attempting to release lock 139766124589392 on /root/.cache/torch/sentence_transformers/sentence-transformers_msmarco-bert-co-condensor/.gitattributes.lock\n",
            "DEBUG:filelock:Lock 139766124589392 released on /root/.cache/torch/sentence_transformers/sentence-transformers_msmarco-bert-co-condensor/.gitattributes.lock\n",
            "DEBUG:filelock:Attempting to acquire lock 139766152794384 on /root/.cache/torch/sentence_transformers/sentence-transformers_msmarco-bert-co-condensor/README.md.lock\n",
            "DEBUG:filelock:Lock 139766152794384 acquired on /root/.cache/torch/sentence_transformers/sentence-transformers_msmarco-bert-co-condensor/README.md.lock\n"
          ]
        },
        {
          "output_type": "display_data",
          "data": {
            "application/vnd.jupyter.widget-view+json": {
              "model_id": "02714d3cbf8e46e1b75a48d1472c0688",
              "version_minor": 0,
              "version_major": 2
            },
            "text/plain": [
              "Downloading:   0%|          | 0.00/6.98k [00:00<?, ?B/s]"
            ]
          },
          "metadata": {}
        },
        {
          "output_type": "stream",
          "name": "stderr",
          "text": [
            "DEBUG:filelock:Attempting to release lock 139766152794384 on /root/.cache/torch/sentence_transformers/sentence-transformers_msmarco-bert-co-condensor/README.md.lock\n",
            "DEBUG:filelock:Lock 139766152794384 released on /root/.cache/torch/sentence_transformers/sentence-transformers_msmarco-bert-co-condensor/README.md.lock\n",
            "DEBUG:filelock:Attempting to acquire lock 139766220406928 on /root/.cache/torch/sentence_transformers/sentence-transformers_msmarco-bert-co-condensor/config.json.lock\n",
            "DEBUG:filelock:Lock 139766220406928 acquired on /root/.cache/torch/sentence_transformers/sentence-transformers_msmarco-bert-co-condensor/config.json.lock\n"
          ]
        },
        {
          "output_type": "display_data",
          "data": {
            "application/vnd.jupyter.widget-view+json": {
              "model_id": "fb4f56db97974bbab0b70d1470abfb64",
              "version_minor": 0,
              "version_major": 2
            },
            "text/plain": [
              "Downloading:   0%|          | 0.00/693 [00:00<?, ?B/s]"
            ]
          },
          "metadata": {}
        },
        {
          "output_type": "stream",
          "name": "stderr",
          "text": [
            "DEBUG:filelock:Attempting to release lock 139766220406928 on /root/.cache/torch/sentence_transformers/sentence-transformers_msmarco-bert-co-condensor/config.json.lock\n",
            "DEBUG:filelock:Lock 139766220406928 released on /root/.cache/torch/sentence_transformers/sentence-transformers_msmarco-bert-co-condensor/config.json.lock\n",
            "DEBUG:filelock:Attempting to acquire lock 139766220410256 on /root/.cache/torch/sentence_transformers/sentence-transformers_msmarco-bert-co-condensor/config_sentence_transformers.json.lock\n",
            "DEBUG:filelock:Lock 139766220410256 acquired on /root/.cache/torch/sentence_transformers/sentence-transformers_msmarco-bert-co-condensor/config_sentence_transformers.json.lock\n"
          ]
        },
        {
          "output_type": "display_data",
          "data": {
            "application/vnd.jupyter.widget-view+json": {
              "model_id": "8e79d1ed86bd4bb997941521fd8188b1",
              "version_minor": 0,
              "version_major": 2
            },
            "text/plain": [
              "Downloading:   0%|          | 0.00/116 [00:00<?, ?B/s]"
            ]
          },
          "metadata": {}
        },
        {
          "output_type": "stream",
          "name": "stderr",
          "text": [
            "DEBUG:filelock:Attempting to release lock 139766220410256 on /root/.cache/torch/sentence_transformers/sentence-transformers_msmarco-bert-co-condensor/config_sentence_transformers.json.lock\n",
            "DEBUG:filelock:Lock 139766220410256 released on /root/.cache/torch/sentence_transformers/sentence-transformers_msmarco-bert-co-condensor/config_sentence_transformers.json.lock\n",
            "DEBUG:filelock:Attempting to acquire lock 139766152347472 on /root/.cache/torch/sentence_transformers/sentence-transformers_msmarco-bert-co-condensor/modules.json.lock\n",
            "DEBUG:filelock:Lock 139766152347472 acquired on /root/.cache/torch/sentence_transformers/sentence-transformers_msmarco-bert-co-condensor/modules.json.lock\n"
          ]
        },
        {
          "output_type": "display_data",
          "data": {
            "application/vnd.jupyter.widget-view+json": {
              "model_id": "cadf11af611944ee8da6b17dae1f3d4a",
              "version_minor": 0,
              "version_major": 2
            },
            "text/plain": [
              "Downloading:   0%|          | 0.00/229 [00:00<?, ?B/s]"
            ]
          },
          "metadata": {}
        },
        {
          "output_type": "stream",
          "name": "stderr",
          "text": [
            "DEBUG:filelock:Attempting to release lock 139766152347472 on /root/.cache/torch/sentence_transformers/sentence-transformers_msmarco-bert-co-condensor/modules.json.lock\n",
            "DEBUG:filelock:Lock 139766152347472 released on /root/.cache/torch/sentence_transformers/sentence-transformers_msmarco-bert-co-condensor/modules.json.lock\n",
            "DEBUG:filelock:Attempting to acquire lock 139766220406928 on /root/.cache/torch/sentence_transformers/sentence-transformers_msmarco-bert-co-condensor/pytorch_model.bin.lock\n",
            "DEBUG:filelock:Lock 139766220406928 acquired on /root/.cache/torch/sentence_transformers/sentence-transformers_msmarco-bert-co-condensor/pytorch_model.bin.lock\n"
          ]
        },
        {
          "output_type": "display_data",
          "data": {
            "application/vnd.jupyter.widget-view+json": {
              "model_id": "71a1212fb9564127ac4fe6ced48354b3",
              "version_minor": 0,
              "version_major": 2
            },
            "text/plain": [
              "Downloading:   0%|          | 0.00/438M [00:00<?, ?B/s]"
            ]
          },
          "metadata": {}
        },
        {
          "output_type": "stream",
          "name": "stderr",
          "text": [
            "DEBUG:filelock:Attempting to release lock 139766220406928 on /root/.cache/torch/sentence_transformers/sentence-transformers_msmarco-bert-co-condensor/pytorch_model.bin.lock\n",
            "DEBUG:filelock:Lock 139766220406928 released on /root/.cache/torch/sentence_transformers/sentence-transformers_msmarco-bert-co-condensor/pytorch_model.bin.lock\n",
            "DEBUG:filelock:Attempting to acquire lock 139766152332176 on /root/.cache/torch/sentence_transformers/sentence-transformers_msmarco-bert-co-condensor/sentence_bert_config.json.lock\n",
            "DEBUG:filelock:Lock 139766152332176 acquired on /root/.cache/torch/sentence_transformers/sentence-transformers_msmarco-bert-co-condensor/sentence_bert_config.json.lock\n"
          ]
        },
        {
          "output_type": "display_data",
          "data": {
            "application/vnd.jupyter.widget-view+json": {
              "model_id": "d163ad7737464750b14cc4fc7311b3f5",
              "version_minor": 0,
              "version_major": 2
            },
            "text/plain": [
              "Downloading:   0%|          | 0.00/53.0 [00:00<?, ?B/s]"
            ]
          },
          "metadata": {}
        },
        {
          "output_type": "stream",
          "name": "stderr",
          "text": [
            "DEBUG:filelock:Attempting to release lock 139766152332176 on /root/.cache/torch/sentence_transformers/sentence-transformers_msmarco-bert-co-condensor/sentence_bert_config.json.lock\n",
            "DEBUG:filelock:Lock 139766152332176 released on /root/.cache/torch/sentence_transformers/sentence-transformers_msmarco-bert-co-condensor/sentence_bert_config.json.lock\n",
            "DEBUG:filelock:Attempting to acquire lock 139766152347472 on /root/.cache/torch/sentence_transformers/sentence-transformers_msmarco-bert-co-condensor/special_tokens_map.json.lock\n",
            "DEBUG:filelock:Lock 139766152347472 acquired on /root/.cache/torch/sentence_transformers/sentence-transformers_msmarco-bert-co-condensor/special_tokens_map.json.lock\n"
          ]
        },
        {
          "output_type": "display_data",
          "data": {
            "application/vnd.jupyter.widget-view+json": {
              "model_id": "05e747c8961d401599c34c73a00df47a",
              "version_minor": 0,
              "version_major": 2
            },
            "text/plain": [
              "Downloading:   0%|          | 0.00/112 [00:00<?, ?B/s]"
            ]
          },
          "metadata": {}
        },
        {
          "output_type": "stream",
          "name": "stderr",
          "text": [
            "DEBUG:filelock:Attempting to release lock 139766152347472 on /root/.cache/torch/sentence_transformers/sentence-transformers_msmarco-bert-co-condensor/special_tokens_map.json.lock\n",
            "DEBUG:filelock:Lock 139766152347472 released on /root/.cache/torch/sentence_transformers/sentence-transformers_msmarco-bert-co-condensor/special_tokens_map.json.lock\n",
            "DEBUG:filelock:Attempting to acquire lock 139766152794384 on /root/.cache/torch/sentence_transformers/sentence-transformers_msmarco-bert-co-condensor/tokenizer.json.lock\n",
            "DEBUG:filelock:Lock 139766152794384 acquired on /root/.cache/torch/sentence_transformers/sentence-transformers_msmarco-bert-co-condensor/tokenizer.json.lock\n"
          ]
        },
        {
          "output_type": "display_data",
          "data": {
            "application/vnd.jupyter.widget-view+json": {
              "model_id": "b2173644f1e742a0ae5a51771c539581",
              "version_minor": 0,
              "version_major": 2
            },
            "text/plain": [
              "Downloading:   0%|          | 0.00/466k [00:00<?, ?B/s]"
            ]
          },
          "metadata": {}
        },
        {
          "output_type": "stream",
          "name": "stderr",
          "text": [
            "DEBUG:filelock:Attempting to release lock 139766152794384 on /root/.cache/torch/sentence_transformers/sentence-transformers_msmarco-bert-co-condensor/tokenizer.json.lock\n",
            "DEBUG:filelock:Lock 139766152794384 released on /root/.cache/torch/sentence_transformers/sentence-transformers_msmarco-bert-co-condensor/tokenizer.json.lock\n",
            "DEBUG:filelock:Attempting to acquire lock 139766152696336 on /root/.cache/torch/sentence_transformers/sentence-transformers_msmarco-bert-co-condensor/tokenizer_config.json.lock\n",
            "DEBUG:filelock:Lock 139766152696336 acquired on /root/.cache/torch/sentence_transformers/sentence-transformers_msmarco-bert-co-condensor/tokenizer_config.json.lock\n"
          ]
        },
        {
          "output_type": "display_data",
          "data": {
            "application/vnd.jupyter.widget-view+json": {
              "model_id": "812107d525804f58b09c76d33aa3a503",
              "version_minor": 0,
              "version_major": 2
            },
            "text/plain": [
              "Downloading:   0%|          | 0.00/440 [00:00<?, ?B/s]"
            ]
          },
          "metadata": {}
        },
        {
          "output_type": "stream",
          "name": "stderr",
          "text": [
            "DEBUG:filelock:Attempting to release lock 139766152696336 on /root/.cache/torch/sentence_transformers/sentence-transformers_msmarco-bert-co-condensor/tokenizer_config.json.lock\n",
            "DEBUG:filelock:Lock 139766152696336 released on /root/.cache/torch/sentence_transformers/sentence-transformers_msmarco-bert-co-condensor/tokenizer_config.json.lock\n",
            "DEBUG:filelock:Attempting to acquire lock 139766156700240 on /root/.cache/torch/sentence_transformers/sentence-transformers_msmarco-bert-co-condensor/vocab.txt.lock\n",
            "DEBUG:filelock:Lock 139766156700240 acquired on /root/.cache/torch/sentence_transformers/sentence-transformers_msmarco-bert-co-condensor/vocab.txt.lock\n"
          ]
        },
        {
          "output_type": "display_data",
          "data": {
            "application/vnd.jupyter.widget-view+json": {
              "model_id": "0255d7c71eb94d19add379b11510e9c8",
              "version_minor": 0,
              "version_major": 2
            },
            "text/plain": [
              "Downloading:   0%|          | 0.00/232k [00:00<?, ?B/s]"
            ]
          },
          "metadata": {}
        },
        {
          "output_type": "stream",
          "name": "stderr",
          "text": [
            "DEBUG:filelock:Attempting to release lock 139766156700240 on /root/.cache/torch/sentence_transformers/sentence-transformers_msmarco-bert-co-condensor/vocab.txt.lock\n",
            "DEBUG:filelock:Lock 139766156700240 released on /root/.cache/torch/sentence_transformers/sentence-transformers_msmarco-bert-co-condensor/vocab.txt.lock\n",
            "DEBUG:filelock:Attempting to acquire lock 139766152332816 on /root/.cache/torch/sentence_transformers/sentence-transformers_msmarco-bert-co-condensor/1_Pooling/config.json.lock\n",
            "DEBUG:filelock:Lock 139766152332816 acquired on /root/.cache/torch/sentence_transformers/sentence-transformers_msmarco-bert-co-condensor/1_Pooling/config.json.lock\n"
          ]
        },
        {
          "output_type": "display_data",
          "data": {
            "application/vnd.jupyter.widget-view+json": {
              "model_id": "83f375273be441daa4f8003b0a7310de",
              "version_minor": 0,
              "version_major": 2
            },
            "text/plain": [
              "Downloading:   0%|          | 0.00/191 [00:00<?, ?B/s]"
            ]
          },
          "metadata": {}
        },
        {
          "output_type": "stream",
          "name": "stderr",
          "text": [
            "DEBUG:filelock:Attempting to release lock 139766152332816 on /root/.cache/torch/sentence_transformers/sentence-transformers_msmarco-bert-co-condensor/1_Pooling/config.json.lock\n",
            "DEBUG:filelock:Lock 139766152332816 released on /root/.cache/torch/sentence_transformers/sentence-transformers_msmarco-bert-co-condensor/1_Pooling/config.json.lock\n",
            "DEBUG:filelock:Attempting to acquire lock 139766152456336 on /root/.cache/torch/sentence_transformers/sentence-transformers_msmarco-roberta-base-ance-firstp/.gitattributes.lock\n",
            "DEBUG:filelock:Lock 139766152456336 acquired on /root/.cache/torch/sentence_transformers/sentence-transformers_msmarco-roberta-base-ance-firstp/.gitattributes.lock\n"
          ]
        },
        {
          "output_type": "display_data",
          "data": {
            "application/vnd.jupyter.widget-view+json": {
              "model_id": "3a23aa226ed844a08ef5706384bd1710",
              "version_minor": 0,
              "version_major": 2
            },
            "text/plain": [
              "Downloading:   0%|          | 0.00/690 [00:00<?, ?B/s]"
            ]
          },
          "metadata": {}
        },
        {
          "output_type": "stream",
          "name": "stderr",
          "text": [
            "DEBUG:filelock:Attempting to release lock 139766152456336 on /root/.cache/torch/sentence_transformers/sentence-transformers_msmarco-roberta-base-ance-firstp/.gitattributes.lock\n",
            "DEBUG:filelock:Lock 139766152456336 released on /root/.cache/torch/sentence_transformers/sentence-transformers_msmarco-roberta-base-ance-firstp/.gitattributes.lock\n",
            "DEBUG:filelock:Attempting to acquire lock 139766152455952 on /root/.cache/torch/sentence_transformers/sentence-transformers_msmarco-roberta-base-ance-firstp/README.md.lock\n",
            "DEBUG:filelock:Lock 139766152455952 acquired on /root/.cache/torch/sentence_transformers/sentence-transformers_msmarco-roberta-base-ance-firstp/README.md.lock\n"
          ]
        },
        {
          "output_type": "display_data",
          "data": {
            "application/vnd.jupyter.widget-view+json": {
              "model_id": "1e914090677f420f9063d48751b66f92",
              "version_minor": 0,
              "version_major": 2
            },
            "text/plain": [
              "Downloading:   0%|          | 0.00/1.86k [00:00<?, ?B/s]"
            ]
          },
          "metadata": {}
        },
        {
          "output_type": "stream",
          "name": "stderr",
          "text": [
            "DEBUG:filelock:Attempting to release lock 139766152455952 on /root/.cache/torch/sentence_transformers/sentence-transformers_msmarco-roberta-base-ance-firstp/README.md.lock\n",
            "DEBUG:filelock:Lock 139766152455952 released on /root/.cache/torch/sentence_transformers/sentence-transformers_msmarco-roberta-base-ance-firstp/README.md.lock\n",
            "DEBUG:filelock:Attempting to acquire lock 139766152455952 on /root/.cache/torch/sentence_transformers/sentence-transformers_msmarco-roberta-base-ance-firstp/config.json.lock\n",
            "DEBUG:filelock:Lock 139766152455952 acquired on /root/.cache/torch/sentence_transformers/sentence-transformers_msmarco-roberta-base-ance-firstp/config.json.lock\n"
          ]
        },
        {
          "output_type": "display_data",
          "data": {
            "application/vnd.jupyter.widget-view+json": {
              "model_id": "fe907e00d2e34d94becbb6a371af675f",
              "version_minor": 0,
              "version_major": 2
            },
            "text/plain": [
              "Downloading:   0%|          | 0.00/787 [00:00<?, ?B/s]"
            ]
          },
          "metadata": {}
        },
        {
          "output_type": "stream",
          "name": "stderr",
          "text": [
            "DEBUG:filelock:Attempting to release lock 139766152455952 on /root/.cache/torch/sentence_transformers/sentence-transformers_msmarco-roberta-base-ance-firstp/config.json.lock\n",
            "DEBUG:filelock:Lock 139766152455952 released on /root/.cache/torch/sentence_transformers/sentence-transformers_msmarco-roberta-base-ance-firstp/config.json.lock\n",
            "DEBUG:filelock:Attempting to acquire lock 139766152794384 on /root/.cache/torch/sentence_transformers/sentence-transformers_msmarco-roberta-base-ance-firstp/config_sentence_transformers.json.lock\n",
            "DEBUG:filelock:Lock 139766152794384 acquired on /root/.cache/torch/sentence_transformers/sentence-transformers_msmarco-roberta-base-ance-firstp/config_sentence_transformers.json.lock\n"
          ]
        },
        {
          "output_type": "display_data",
          "data": {
            "application/vnd.jupyter.widget-view+json": {
              "model_id": "2d60fa5334724cd9a11ddc2a82750674",
              "version_minor": 0,
              "version_major": 2
            },
            "text/plain": [
              "Downloading:   0%|          | 0.00/122 [00:00<?, ?B/s]"
            ]
          },
          "metadata": {}
        },
        {
          "output_type": "stream",
          "name": "stderr",
          "text": [
            "DEBUG:filelock:Attempting to release lock 139766152794384 on /root/.cache/torch/sentence_transformers/sentence-transformers_msmarco-roberta-base-ance-firstp/config_sentence_transformers.json.lock\n",
            "DEBUG:filelock:Lock 139766152794384 released on /root/.cache/torch/sentence_transformers/sentence-transformers_msmarco-roberta-base-ance-firstp/config_sentence_transformers.json.lock\n",
            "DEBUG:filelock:Attempting to acquire lock 139766155971728 on /root/.cache/torch/sentence_transformers/sentence-transformers_msmarco-roberta-base-ance-firstp/merges.txt.lock\n",
            "DEBUG:filelock:Lock 139766155971728 acquired on /root/.cache/torch/sentence_transformers/sentence-transformers_msmarco-roberta-base-ance-firstp/merges.txt.lock\n"
          ]
        },
        {
          "output_type": "display_data",
          "data": {
            "application/vnd.jupyter.widget-view+json": {
              "model_id": "f11ca74816c24a578e30704f1e4c2dd4",
              "version_minor": 0,
              "version_major": 2
            },
            "text/plain": [
              "Downloading:   0%|          | 0.00/456k [00:00<?, ?B/s]"
            ]
          },
          "metadata": {}
        },
        {
          "output_type": "stream",
          "name": "stderr",
          "text": [
            "DEBUG:filelock:Attempting to release lock 139766155971728 on /root/.cache/torch/sentence_transformers/sentence-transformers_msmarco-roberta-base-ance-firstp/merges.txt.lock\n",
            "DEBUG:filelock:Lock 139766155971728 released on /root/.cache/torch/sentence_transformers/sentence-transformers_msmarco-roberta-base-ance-firstp/merges.txt.lock\n",
            "DEBUG:filelock:Attempting to acquire lock 139766152455952 on /root/.cache/torch/sentence_transformers/sentence-transformers_msmarco-roberta-base-ance-firstp/modules.json.lock\n",
            "DEBUG:filelock:Lock 139766152455952 acquired on /root/.cache/torch/sentence_transformers/sentence-transformers_msmarco-roberta-base-ance-firstp/modules.json.lock\n"
          ]
        },
        {
          "output_type": "display_data",
          "data": {
            "application/vnd.jupyter.widget-view+json": {
              "model_id": "6466f18a60e44f9e878150fbc2e8d389",
              "version_minor": 0,
              "version_major": 2
            },
            "text/plain": [
              "Downloading:   0%|          | 0.00/461 [00:00<?, ?B/s]"
            ]
          },
          "metadata": {}
        },
        {
          "output_type": "stream",
          "name": "stderr",
          "text": [
            "DEBUG:filelock:Attempting to release lock 139766152455952 on /root/.cache/torch/sentence_transformers/sentence-transformers_msmarco-roberta-base-ance-firstp/modules.json.lock\n",
            "DEBUG:filelock:Lock 139766152455952 released on /root/.cache/torch/sentence_transformers/sentence-transformers_msmarco-roberta-base-ance-firstp/modules.json.lock\n",
            "DEBUG:filelock:Attempting to acquire lock 139766155971728 on /root/.cache/torch/sentence_transformers/sentence-transformers_msmarco-roberta-base-ance-firstp/pytorch_model.bin.lock\n",
            "DEBUG:filelock:Lock 139766155971728 acquired on /root/.cache/torch/sentence_transformers/sentence-transformers_msmarco-roberta-base-ance-firstp/pytorch_model.bin.lock\n"
          ]
        },
        {
          "output_type": "display_data",
          "data": {
            "application/vnd.jupyter.widget-view+json": {
              "model_id": "4121f6a6047d4966b011f6ea3eb71f39",
              "version_minor": 0,
              "version_major": 2
            },
            "text/plain": [
              "Downloading:   0%|          | 0.00/499M [00:00<?, ?B/s]"
            ]
          },
          "metadata": {}
        },
        {
          "output_type": "stream",
          "name": "stderr",
          "text": [
            "DEBUG:filelock:Attempting to release lock 139766155971728 on /root/.cache/torch/sentence_transformers/sentence-transformers_msmarco-roberta-base-ance-firstp/pytorch_model.bin.lock\n",
            "DEBUG:filelock:Lock 139766155971728 released on /root/.cache/torch/sentence_transformers/sentence-transformers_msmarco-roberta-base-ance-firstp/pytorch_model.bin.lock\n",
            "DEBUG:filelock:Attempting to acquire lock 139766152456336 on /root/.cache/torch/sentence_transformers/sentence-transformers_msmarco-roberta-base-ance-firstp/sentence_bert_config.json.lock\n",
            "DEBUG:filelock:Lock 139766152456336 acquired on /root/.cache/torch/sentence_transformers/sentence-transformers_msmarco-roberta-base-ance-firstp/sentence_bert_config.json.lock\n"
          ]
        },
        {
          "output_type": "display_data",
          "data": {
            "application/vnd.jupyter.widget-view+json": {
              "model_id": "9ca3ac589f8d4725856ac04e5efdfbf9",
              "version_minor": 0,
              "version_major": 2
            },
            "text/plain": [
              "Downloading:   0%|          | 0.00/52.0 [00:00<?, ?B/s]"
            ]
          },
          "metadata": {}
        },
        {
          "output_type": "stream",
          "name": "stderr",
          "text": [
            "DEBUG:filelock:Attempting to release lock 139766152456336 on /root/.cache/torch/sentence_transformers/sentence-transformers_msmarco-roberta-base-ance-firstp/sentence_bert_config.json.lock\n",
            "DEBUG:filelock:Lock 139766152456336 released on /root/.cache/torch/sentence_transformers/sentence-transformers_msmarco-roberta-base-ance-firstp/sentence_bert_config.json.lock\n",
            "DEBUG:filelock:Attempting to acquire lock 139766155971728 on /root/.cache/torch/sentence_transformers/sentence-transformers_msmarco-roberta-base-ance-firstp/special_tokens_map.json.lock\n",
            "DEBUG:filelock:Lock 139766155971728 acquired on /root/.cache/torch/sentence_transformers/sentence-transformers_msmarco-roberta-base-ance-firstp/special_tokens_map.json.lock\n"
          ]
        },
        {
          "output_type": "display_data",
          "data": {
            "application/vnd.jupyter.widget-view+json": {
              "model_id": "e151da990a72410e9c355b78820b0c38",
              "version_minor": 0,
              "version_major": 2
            },
            "text/plain": [
              "Downloading:   0%|          | 0.00/239 [00:00<?, ?B/s]"
            ]
          },
          "metadata": {}
        },
        {
          "output_type": "stream",
          "name": "stderr",
          "text": [
            "DEBUG:filelock:Attempting to release lock 139766155971728 on /root/.cache/torch/sentence_transformers/sentence-transformers_msmarco-roberta-base-ance-firstp/special_tokens_map.json.lock\n",
            "DEBUG:filelock:Lock 139766155971728 released on /root/.cache/torch/sentence_transformers/sentence-transformers_msmarco-roberta-base-ance-firstp/special_tokens_map.json.lock\n",
            "DEBUG:filelock:Attempting to acquire lock 139766156681680 on /root/.cache/torch/sentence_transformers/sentence-transformers_msmarco-roberta-base-ance-firstp/tokenizer.json.lock\n",
            "DEBUG:filelock:Lock 139766156681680 acquired on /root/.cache/torch/sentence_transformers/sentence-transformers_msmarco-roberta-base-ance-firstp/tokenizer.json.lock\n"
          ]
        },
        {
          "output_type": "display_data",
          "data": {
            "application/vnd.jupyter.widget-view+json": {
              "model_id": "7ab1869fb92740e0bbe9663835cabb45",
              "version_minor": 0,
              "version_major": 2
            },
            "text/plain": [
              "Downloading:   0%|          | 0.00/1.36M [00:00<?, ?B/s]"
            ]
          },
          "metadata": {}
        },
        {
          "output_type": "stream",
          "name": "stderr",
          "text": [
            "DEBUG:filelock:Attempting to release lock 139766156681680 on /root/.cache/torch/sentence_transformers/sentence-transformers_msmarco-roberta-base-ance-firstp/tokenizer.json.lock\n",
            "DEBUG:filelock:Lock 139766156681680 released on /root/.cache/torch/sentence_transformers/sentence-transformers_msmarco-roberta-base-ance-firstp/tokenizer.json.lock\n",
            "DEBUG:filelock:Attempting to acquire lock 139766156681680 on /root/.cache/torch/sentence_transformers/sentence-transformers_msmarco-roberta-base-ance-firstp/tokenizer_config.json.lock\n",
            "DEBUG:filelock:Lock 139766156681680 acquired on /root/.cache/torch/sentence_transformers/sentence-transformers_msmarco-roberta-base-ance-firstp/tokenizer_config.json.lock\n"
          ]
        },
        {
          "output_type": "display_data",
          "data": {
            "application/vnd.jupyter.widget-view+json": {
              "model_id": "e3dbff187a334e4f8d47708d1d93e2f5",
              "version_minor": 0,
              "version_major": 2
            },
            "text/plain": [
              "Downloading:   0%|          | 0.00/1.21k [00:00<?, ?B/s]"
            ]
          },
          "metadata": {}
        },
        {
          "output_type": "stream",
          "name": "stderr",
          "text": [
            "DEBUG:filelock:Attempting to release lock 139766156681680 on /root/.cache/torch/sentence_transformers/sentence-transformers_msmarco-roberta-base-ance-firstp/tokenizer_config.json.lock\n",
            "DEBUG:filelock:Lock 139766156681680 released on /root/.cache/torch/sentence_transformers/sentence-transformers_msmarco-roberta-base-ance-firstp/tokenizer_config.json.lock\n",
            "DEBUG:filelock:Attempting to acquire lock 139766156392912 on /root/.cache/torch/sentence_transformers/sentence-transformers_msmarco-roberta-base-ance-firstp/vocab.json.lock\n",
            "DEBUG:filelock:Lock 139766156392912 acquired on /root/.cache/torch/sentence_transformers/sentence-transformers_msmarco-roberta-base-ance-firstp/vocab.json.lock\n"
          ]
        },
        {
          "output_type": "display_data",
          "data": {
            "application/vnd.jupyter.widget-view+json": {
              "model_id": "2026211ba5ce46a683590d7abce56dcb",
              "version_minor": 0,
              "version_major": 2
            },
            "text/plain": [
              "Downloading:   0%|          | 0.00/798k [00:00<?, ?B/s]"
            ]
          },
          "metadata": {}
        },
        {
          "output_type": "stream",
          "name": "stderr",
          "text": [
            "DEBUG:filelock:Attempting to release lock 139766156392912 on /root/.cache/torch/sentence_transformers/sentence-transformers_msmarco-roberta-base-ance-firstp/vocab.json.lock\n",
            "DEBUG:filelock:Lock 139766156392912 released on /root/.cache/torch/sentence_transformers/sentence-transformers_msmarco-roberta-base-ance-firstp/vocab.json.lock\n",
            "DEBUG:filelock:Attempting to acquire lock 139766154229520 on /root/.cache/torch/sentence_transformers/sentence-transformers_msmarco-roberta-base-ance-firstp/1_Pooling/config.json.lock\n",
            "DEBUG:filelock:Lock 139766154229520 acquired on /root/.cache/torch/sentence_transformers/sentence-transformers_msmarco-roberta-base-ance-firstp/1_Pooling/config.json.lock\n"
          ]
        },
        {
          "output_type": "display_data",
          "data": {
            "application/vnd.jupyter.widget-view+json": {
              "model_id": "071ee31b166d45a8bba7e1b39066b1e6",
              "version_minor": 0,
              "version_major": 2
            },
            "text/plain": [
              "Downloading:   0%|          | 0.00/190 [00:00<?, ?B/s]"
            ]
          },
          "metadata": {}
        },
        {
          "output_type": "stream",
          "name": "stderr",
          "text": [
            "DEBUG:filelock:Attempting to release lock 139766154229520 on /root/.cache/torch/sentence_transformers/sentence-transformers_msmarco-roberta-base-ance-firstp/1_Pooling/config.json.lock\n",
            "DEBUG:filelock:Lock 139766154229520 released on /root/.cache/torch/sentence_transformers/sentence-transformers_msmarco-roberta-base-ance-firstp/1_Pooling/config.json.lock\n",
            "DEBUG:filelock:Attempting to acquire lock 139766152333392 on /root/.cache/torch/sentence_transformers/sentence-transformers_msmarco-roberta-base-ance-firstp/2_Dense/config.json.lock\n",
            "DEBUG:filelock:Lock 139766152333392 acquired on /root/.cache/torch/sentence_transformers/sentence-transformers_msmarco-roberta-base-ance-firstp/2_Dense/config.json.lock\n"
          ]
        },
        {
          "output_type": "display_data",
          "data": {
            "application/vnd.jupyter.widget-view+json": {
              "model_id": "9b498e94b28140868d2b9011c09f7996",
              "version_minor": 0,
              "version_major": 2
            },
            "text/plain": [
              "Downloading:   0%|          | 0.00/114 [00:00<?, ?B/s]"
            ]
          },
          "metadata": {}
        },
        {
          "output_type": "stream",
          "name": "stderr",
          "text": [
            "DEBUG:filelock:Attempting to release lock 139766152333392 on /root/.cache/torch/sentence_transformers/sentence-transformers_msmarco-roberta-base-ance-firstp/2_Dense/config.json.lock\n",
            "DEBUG:filelock:Lock 139766152333392 released on /root/.cache/torch/sentence_transformers/sentence-transformers_msmarco-roberta-base-ance-firstp/2_Dense/config.json.lock\n",
            "DEBUG:filelock:Attempting to acquire lock 139766156392784 on /root/.cache/torch/sentence_transformers/sentence-transformers_msmarco-roberta-base-ance-firstp/2_Dense/pytorch_model.bin.lock\n",
            "DEBUG:filelock:Lock 139766156392784 acquired on /root/.cache/torch/sentence_transformers/sentence-transformers_msmarco-roberta-base-ance-firstp/2_Dense/pytorch_model.bin.lock\n"
          ]
        },
        {
          "output_type": "display_data",
          "data": {
            "application/vnd.jupyter.widget-view+json": {
              "model_id": "8f1a562195904634928238dd37493d63",
              "version_minor": 0,
              "version_major": 2
            },
            "text/plain": [
              "Downloading:   0%|          | 0.00/2.36M [00:00<?, ?B/s]"
            ]
          },
          "metadata": {}
        },
        {
          "output_type": "stream",
          "name": "stderr",
          "text": [
            "DEBUG:filelock:Attempting to release lock 139766156392784 on /root/.cache/torch/sentence_transformers/sentence-transformers_msmarco-roberta-base-ance-firstp/2_Dense/pytorch_model.bin.lock\n",
            "DEBUG:filelock:Lock 139766156392784 released on /root/.cache/torch/sentence_transformers/sentence-transformers_msmarco-roberta-base-ance-firstp/2_Dense/pytorch_model.bin.lock\n",
            "DEBUG:filelock:Attempting to acquire lock 139766154562448 on /root/.cache/torch/sentence_transformers/sentence-transformers_msmarco-roberta-base-ance-firstp/3_LayerNorm/config.json.lock\n",
            "DEBUG:filelock:Lock 139766154562448 acquired on /root/.cache/torch/sentence_transformers/sentence-transformers_msmarco-roberta-base-ance-firstp/3_LayerNorm/config.json.lock\n"
          ]
        },
        {
          "output_type": "display_data",
          "data": {
            "application/vnd.jupyter.widget-view+json": {
              "model_id": "84fe0676395a4afc89b24f919416845c",
              "version_minor": 0,
              "version_major": 2
            },
            "text/plain": [
              "Downloading:   0%|          | 0.00/22.0 [00:00<?, ?B/s]"
            ]
          },
          "metadata": {}
        },
        {
          "output_type": "stream",
          "name": "stderr",
          "text": [
            "DEBUG:filelock:Attempting to release lock 139766154562448 on /root/.cache/torch/sentence_transformers/sentence-transformers_msmarco-roberta-base-ance-firstp/3_LayerNorm/config.json.lock\n",
            "DEBUG:filelock:Lock 139766154562448 released on /root/.cache/torch/sentence_transformers/sentence-transformers_msmarco-roberta-base-ance-firstp/3_LayerNorm/config.json.lock\n",
            "DEBUG:filelock:Attempting to acquire lock 139766154590992 on /root/.cache/torch/sentence_transformers/sentence-transformers_msmarco-roberta-base-ance-firstp/3_LayerNorm/pytorch_model.bin.lock\n",
            "DEBUG:filelock:Lock 139766154590992 acquired on /root/.cache/torch/sentence_transformers/sentence-transformers_msmarco-roberta-base-ance-firstp/3_LayerNorm/pytorch_model.bin.lock\n"
          ]
        },
        {
          "output_type": "display_data",
          "data": {
            "application/vnd.jupyter.widget-view+json": {
              "model_id": "4c825528d26c4d3783e8b95fad75a7de",
              "version_minor": 0,
              "version_major": 2
            },
            "text/plain": [
              "Downloading:   0%|          | 0.00/7.14k [00:00<?, ?B/s]"
            ]
          },
          "metadata": {}
        },
        {
          "output_type": "stream",
          "name": "stderr",
          "text": [
            "DEBUG:filelock:Attempting to release lock 139766154590992 on /root/.cache/torch/sentence_transformers/sentence-transformers_msmarco-roberta-base-ance-firstp/3_LayerNorm/pytorch_model.bin.lock\n",
            "DEBUG:filelock:Lock 139766154590992 released on /root/.cache/torch/sentence_transformers/sentence-transformers_msmarco-roberta-base-ance-firstp/3_LayerNorm/pytorch_model.bin.lock\n"
          ]
        },
        {
          "output_type": "display_data",
          "data": {
            "application/vnd.jupyter.widget-view+json": {
              "model_id": "35717b9f749e4713bff1e870e275be1d",
              "version_minor": 0,
              "version_major": 2
            },
            "text/plain": [
              "Batches:   0%|          | 0/8 [00:00<?, ?it/s]"
            ]
          },
          "metadata": {}
        },
        {
          "output_type": "display_data",
          "data": {
            "application/vnd.jupyter.widget-view+json": {
              "model_id": "e34e8d0417564df3a0728f172f98925b",
              "version_minor": 0,
              "version_major": 2
            },
            "text/plain": [
              "Batches:   0%|          | 0/201 [00:00<?, ?it/s]"
            ]
          },
          "metadata": {}
        },
        {
          "output_type": "display_data",
          "data": {
            "application/vnd.jupyter.widget-view+json": {
              "model_id": "93abb50f6ac7437ab5342a2c7ee87250",
              "version_minor": 0,
              "version_major": 2
            },
            "text/plain": [
              "Batches:   0%|          | 0/8 [00:00<?, ?it/s]"
            ]
          },
          "metadata": {}
        },
        {
          "output_type": "display_data",
          "data": {
            "application/vnd.jupyter.widget-view+json": {
              "model_id": "0d18d728c1d947be839ca4d424744da8",
              "version_minor": 0,
              "version_major": 2
            },
            "text/plain": [
              "Batches:   0%|          | 0/201 [00:00<?, ?it/s]"
            ]
          },
          "metadata": {}
        },
        {
          "output_type": "display_data",
          "data": {
            "application/vnd.jupyter.widget-view+json": {
              "model_id": "42a986cdc69345b8b19ccaa75ef4f4c7",
              "version_minor": 0,
              "version_major": 2
            },
            "text/plain": [
              "Batches:   0%|          | 0/8 [00:00<?, ?it/s]"
            ]
          },
          "metadata": {}
        },
        {
          "output_type": "display_data",
          "data": {
            "application/vnd.jupyter.widget-view+json": {
              "model_id": "401c5a0e347c401db416406a69e6dd27",
              "version_minor": 0,
              "version_major": 2
            },
            "text/plain": [
              "Batches:   0%|          | 0/201 [00:00<?, ?it/s]"
            ]
          },
          "metadata": {}
        },
        {
          "output_type": "display_data",
          "data": {
            "application/vnd.jupyter.widget-view+json": {
              "model_id": "4541a115f2304749bec99bc80311d930",
              "version_minor": 0,
              "version_major": 2
            },
            "text/plain": [
              "Batches:   0%|          | 0/8 [00:00<?, ?it/s]"
            ]
          },
          "metadata": {}
        },
        {
          "output_type": "display_data",
          "data": {
            "application/vnd.jupyter.widget-view+json": {
              "model_id": "cd6a837b65ec480b84ab032921406c1f",
              "version_minor": 0,
              "version_major": 2
            },
            "text/plain": [
              "Batches:   0%|          | 0/201 [00:00<?, ?it/s]"
            ]
          },
          "metadata": {}
        }
      ]
    },
    {
      "cell_type": "code",
      "metadata": {
        "colab": {
          "base_uri": "https://localhost:8080/",
          "height": 80
        },
        "id": "ch3slI1_1_fw",
        "outputId": "a3946f24-524f-40a0-9071-eecec5e70543"
      },
      "source": [
        "eval_metrics('all-mpnet-base-v2', ndcg_d_amd, _map_d_amd, recall_d_amd, precision_d_amd)"
      ],
      "execution_count": null,
      "outputs": [
        {
          "output_type": "execute_result",
          "data": {
            "text/html": [
              "<div>\n",
              "<style scoped>\n",
              "    .dataframe tbody tr th:only-of-type {\n",
              "        vertical-align: middle;\n",
              "    }\n",
              "\n",
              "    .dataframe tbody tr th {\n",
              "        vertical-align: top;\n",
              "    }\n",
              "\n",
              "    .dataframe thead th {\n",
              "        text-align: right;\n",
              "    }\n",
              "</style>\n",
              "<table border=\"1\" class=\"dataframe\">\n",
              "  <thead>\n",
              "    <tr style=\"text-align: right;\">\n",
              "      <th></th>\n",
              "      <th>MAP@10</th>\n",
              "      <th>MAP@100</th>\n",
              "      <th>MAP@1000</th>\n",
              "      <th>NDCG@10</th>\n",
              "      <th>NDCG@100</th>\n",
              "      <th>NDCG@1000</th>\n",
              "      <th>P@10</th>\n",
              "      <th>P@100</th>\n",
              "      <th>P@1000</th>\n",
              "      <th>Recall@10</th>\n",
              "      <th>Recall@100</th>\n",
              "      <th>Recall@1000</th>\n",
              "    </tr>\n",
              "  </thead>\n",
              "  <tbody>\n",
              "    <tr>\n",
              "      <th>all-mpnet-base-v2</th>\n",
              "      <td>0.14426</td>\n",
              "      <td>0.1718</td>\n",
              "      <td>0.1758</td>\n",
              "      <td>0.23765</td>\n",
              "      <td>0.33664</td>\n",
              "      <td>0.39481</td>\n",
              "      <td>0.1269</td>\n",
              "      <td>0.0271</td>\n",
              "      <td>0.00409</td>\n",
              "      <td>0.25712</td>\n",
              "      <td>0.54997</td>\n",
              "      <td>0.82972</td>\n",
              "    </tr>\n",
              "  </tbody>\n",
              "</table>\n",
              "</div>"
            ],
            "text/plain": [
              "                    MAP@10  MAP@100  ...  Recall@100  Recall@1000\n",
              "all-mpnet-base-v2  0.14426   0.1718  ...     0.54997      0.82972\n",
              "\n",
              "[1 rows x 12 columns]"
            ]
          },
          "metadata": {},
          "execution_count": 5
        }
      ]
    },
    {
      "cell_type": "code",
      "metadata": {
        "colab": {
          "base_uri": "https://localhost:8080/",
          "height": 80
        },
        "id": "9qgPzo4u3efw",
        "outputId": "ae113f69-7ef6-4ff4-e825-27604fc9b5e9"
      },
      "source": [
        "eval_metrics('all-distilroberta-v1', ndcg_d_add, _map_d_add, recall_d_add, precision_d_add)"
      ],
      "execution_count": null,
      "outputs": [
        {
          "output_type": "execute_result",
          "data": {
            "text/html": [
              "<div>\n",
              "<style scoped>\n",
              "    .dataframe tbody tr th:only-of-type {\n",
              "        vertical-align: middle;\n",
              "    }\n",
              "\n",
              "    .dataframe tbody tr th {\n",
              "        vertical-align: top;\n",
              "    }\n",
              "\n",
              "    .dataframe thead th {\n",
              "        text-align: right;\n",
              "    }\n",
              "</style>\n",
              "<table border=\"1\" class=\"dataframe\">\n",
              "  <thead>\n",
              "    <tr style=\"text-align: right;\">\n",
              "      <th></th>\n",
              "      <th>MAP@10</th>\n",
              "      <th>MAP@100</th>\n",
              "      <th>MAP@1000</th>\n",
              "      <th>NDCG@10</th>\n",
              "      <th>NDCG@100</th>\n",
              "      <th>NDCG@1000</th>\n",
              "      <th>P@10</th>\n",
              "      <th>P@100</th>\n",
              "      <th>P@1000</th>\n",
              "      <th>Recall@10</th>\n",
              "      <th>Recall@100</th>\n",
              "      <th>Recall@1000</th>\n",
              "    </tr>\n",
              "  </thead>\n",
              "  <tbody>\n",
              "    <tr>\n",
              "      <th>all-distilroberta-v1</th>\n",
              "      <td>0.1303</td>\n",
              "      <td>0.15713</td>\n",
              "      <td>0.16093</td>\n",
              "      <td>0.21694</td>\n",
              "      <td>0.31561</td>\n",
              "      <td>0.37487</td>\n",
              "      <td>0.1144</td>\n",
              "      <td>0.02564</td>\n",
              "      <td>0.00398</td>\n",
              "      <td>0.23192</td>\n",
              "      <td>0.52075</td>\n",
              "      <td>0.80807</td>\n",
              "    </tr>\n",
              "  </tbody>\n",
              "</table>\n",
              "</div>"
            ],
            "text/plain": [
              "                      MAP@10  MAP@100  ...  Recall@100  Recall@1000\n",
              "all-distilroberta-v1  0.1303  0.15713  ...     0.52075      0.80807\n",
              "\n",
              "[1 rows x 12 columns]"
            ]
          },
          "metadata": {},
          "execution_count": 6
        }
      ]
    },
    {
      "cell_type": "code",
      "metadata": {
        "colab": {
          "base_uri": "https://localhost:8080/",
          "height": 80
        },
        "id": "fct0YBb43epQ",
        "outputId": "e691ae8f-cfdd-4cfb-fd97-5971cdbfdf40"
      },
      "source": [
        "eval_metrics('all-MiniLM-L12-v2', ndcg_d_amld, _map_d_amld, recall_d_amld, precision_d_amld)"
      ],
      "execution_count": null,
      "outputs": [
        {
          "output_type": "execute_result",
          "data": {
            "text/html": [
              "<div>\n",
              "<style scoped>\n",
              "    .dataframe tbody tr th:only-of-type {\n",
              "        vertical-align: middle;\n",
              "    }\n",
              "\n",
              "    .dataframe tbody tr th {\n",
              "        vertical-align: top;\n",
              "    }\n",
              "\n",
              "    .dataframe thead th {\n",
              "        text-align: right;\n",
              "    }\n",
              "</style>\n",
              "<table border=\"1\" class=\"dataframe\">\n",
              "  <thead>\n",
              "    <tr style=\"text-align: right;\">\n",
              "      <th></th>\n",
              "      <th>MAP@10</th>\n",
              "      <th>MAP@100</th>\n",
              "      <th>MAP@1000</th>\n",
              "      <th>NDCG@10</th>\n",
              "      <th>NDCG@100</th>\n",
              "      <th>NDCG@1000</th>\n",
              "      <th>P@10</th>\n",
              "      <th>P@100</th>\n",
              "      <th>P@1000</th>\n",
              "      <th>Recall@10</th>\n",
              "      <th>Recall@100</th>\n",
              "      <th>Recall@1000</th>\n",
              "    </tr>\n",
              "  </thead>\n",
              "  <tbody>\n",
              "    <tr>\n",
              "      <th>all-MiniLM-L12-v2</th>\n",
              "      <td>0.13168</td>\n",
              "      <td>0.15766</td>\n",
              "      <td>0.16136</td>\n",
              "      <td>0.21818</td>\n",
              "      <td>0.31303</td>\n",
              "      <td>0.37175</td>\n",
              "      <td>0.1132</td>\n",
              "      <td>0.02495</td>\n",
              "      <td>0.00389</td>\n",
              "      <td>0.22932</td>\n",
              "      <td>0.50598</td>\n",
              "      <td>0.79053</td>\n",
              "    </tr>\n",
              "  </tbody>\n",
              "</table>\n",
              "</div>"
            ],
            "text/plain": [
              "                    MAP@10  MAP@100  ...  Recall@100  Recall@1000\n",
              "all-MiniLM-L12-v2  0.13168  0.15766  ...     0.50598      0.79053\n",
              "\n",
              "[1 rows x 12 columns]"
            ]
          },
          "metadata": {},
          "execution_count": 7
        }
      ]
    },
    {
      "cell_type": "code",
      "metadata": {
        "colab": {
          "base_uri": "https://localhost:8080/",
          "height": 80
        },
        "id": "zFiu1Xnm39Y5",
        "outputId": "cde4fec3-de34-4c41-8ce3-2006664f705e"
      },
      "source": [
        "eval_metrics('multi-qa-mpnet-base-dot-v1', ndcg_d_mmd, _map_d_mmd, recall_d_mmd, precision_d_mmd)"
      ],
      "execution_count": null,
      "outputs": [
        {
          "output_type": "execute_result",
          "data": {
            "text/html": [
              "<div>\n",
              "<style scoped>\n",
              "    .dataframe tbody tr th:only-of-type {\n",
              "        vertical-align: middle;\n",
              "    }\n",
              "\n",
              "    .dataframe tbody tr th {\n",
              "        vertical-align: top;\n",
              "    }\n",
              "\n",
              "    .dataframe thead th {\n",
              "        text-align: right;\n",
              "    }\n",
              "</style>\n",
              "<table border=\"1\" class=\"dataframe\">\n",
              "  <thead>\n",
              "    <tr style=\"text-align: right;\">\n",
              "      <th></th>\n",
              "      <th>MAP@10</th>\n",
              "      <th>MAP@100</th>\n",
              "      <th>MAP@1000</th>\n",
              "      <th>NDCG@10</th>\n",
              "      <th>NDCG@100</th>\n",
              "      <th>NDCG@1000</th>\n",
              "      <th>P@10</th>\n",
              "      <th>P@100</th>\n",
              "      <th>P@1000</th>\n",
              "      <th>Recall@10</th>\n",
              "      <th>Recall@100</th>\n",
              "      <th>Recall@1000</th>\n",
              "    </tr>\n",
              "  </thead>\n",
              "  <tbody>\n",
              "    <tr>\n",
              "      <th>multi-qa-mpnet-base-dot-v1</th>\n",
              "      <td>0.09721</td>\n",
              "      <td>0.11263</td>\n",
              "      <td>0.11523</td>\n",
              "      <td>0.16627</td>\n",
              "      <td>0.22982</td>\n",
              "      <td>0.28038</td>\n",
              "      <td>0.0839</td>\n",
              "      <td>0.0175</td>\n",
              "      <td>0.00297</td>\n",
              "      <td>0.17047</td>\n",
              "      <td>0.35492</td>\n",
              "      <td>0.60205</td>\n",
              "    </tr>\n",
              "  </tbody>\n",
              "</table>\n",
              "</div>"
            ],
            "text/plain": [
              "                             MAP@10  MAP@100  ...  Recall@100  Recall@1000\n",
              "multi-qa-mpnet-base-dot-v1  0.09721  0.11263  ...     0.35492      0.60205\n",
              "\n",
              "[1 rows x 12 columns]"
            ]
          },
          "metadata": {},
          "execution_count": 9
        }
      ]
    },
    {
      "cell_type": "code",
      "metadata": {
        "colab": {
          "base_uri": "https://localhost:8080/",
          "height": 80
        },
        "id": "UkSZyCkF39eY",
        "outputId": "bde0dd67-889d-46ce-c68f-941c32fd3ae4"
      },
      "source": [
        "eval_metrics('multi-qa-MiniLM-L6-cos-v1', ndcg_d_mlc, _map_d_mlc, recall_d_mlc, precision_d_mlc)"
      ],
      "execution_count": null,
      "outputs": [
        {
          "output_type": "execute_result",
          "data": {
            "text/html": [
              "<div>\n",
              "<style scoped>\n",
              "    .dataframe tbody tr th:only-of-type {\n",
              "        vertical-align: middle;\n",
              "    }\n",
              "\n",
              "    .dataframe tbody tr th {\n",
              "        vertical-align: top;\n",
              "    }\n",
              "\n",
              "    .dataframe thead th {\n",
              "        text-align: right;\n",
              "    }\n",
              "</style>\n",
              "<table border=\"1\" class=\"dataframe\">\n",
              "  <thead>\n",
              "    <tr style=\"text-align: right;\">\n",
              "      <th></th>\n",
              "      <th>MAP@10</th>\n",
              "      <th>MAP@100</th>\n",
              "      <th>MAP@1000</th>\n",
              "      <th>NDCG@10</th>\n",
              "      <th>NDCG@100</th>\n",
              "      <th>NDCG@1000</th>\n",
              "      <th>P@10</th>\n",
              "      <th>P@100</th>\n",
              "      <th>P@1000</th>\n",
              "      <th>Recall@10</th>\n",
              "      <th>Recall@100</th>\n",
              "      <th>Recall@1000</th>\n",
              "    </tr>\n",
              "  </thead>\n",
              "  <tbody>\n",
              "    <tr>\n",
              "      <th>multi-qa-MiniLM-L6-cos-v1</th>\n",
              "      <td>0.0921</td>\n",
              "      <td>0.10629</td>\n",
              "      <td>0.10859</td>\n",
              "      <td>0.1578</td>\n",
              "      <td>0.21807</td>\n",
              "      <td>0.26593</td>\n",
              "      <td>0.0798</td>\n",
              "      <td>0.01667</td>\n",
              "      <td>0.00283</td>\n",
              "      <td>0.1617</td>\n",
              "      <td>0.33848</td>\n",
              "      <td>0.57345</td>\n",
              "    </tr>\n",
              "  </tbody>\n",
              "</table>\n",
              "</div>"
            ],
            "text/plain": [
              "                           MAP@10  MAP@100  ...  Recall@100  Recall@1000\n",
              "multi-qa-MiniLM-L6-cos-v1  0.0921  0.10629  ...     0.33848      0.57345\n",
              "\n",
              "[1 rows x 12 columns]"
            ]
          },
          "metadata": {},
          "execution_count": 10
        }
      ]
    },
    {
      "cell_type": "code",
      "metadata": {
        "colab": {
          "base_uri": "https://localhost:8080/",
          "height": 80
        },
        "id": "b_tG4Kix39ju",
        "outputId": "b9828f60-c525-4869-e894-96eb9f19f3bf"
      },
      "source": [
        "eval_metrics('multi-qa-distilbert-dot-v1', ndcg_d_mdd, _map_d_mdd, recall_d_mdd, precision_d_mdd)"
      ],
      "execution_count": null,
      "outputs": [
        {
          "output_type": "execute_result",
          "data": {
            "text/html": [
              "<div>\n",
              "<style scoped>\n",
              "    .dataframe tbody tr th:only-of-type {\n",
              "        vertical-align: middle;\n",
              "    }\n",
              "\n",
              "    .dataframe tbody tr th {\n",
              "        vertical-align: top;\n",
              "    }\n",
              "\n",
              "    .dataframe thead th {\n",
              "        text-align: right;\n",
              "    }\n",
              "</style>\n",
              "<table border=\"1\" class=\"dataframe\">\n",
              "  <thead>\n",
              "    <tr style=\"text-align: right;\">\n",
              "      <th></th>\n",
              "      <th>MAP@10</th>\n",
              "      <th>MAP@100</th>\n",
              "      <th>MAP@1000</th>\n",
              "      <th>NDCG@10</th>\n",
              "      <th>NDCG@100</th>\n",
              "      <th>NDCG@1000</th>\n",
              "      <th>P@10</th>\n",
              "      <th>P@100</th>\n",
              "      <th>P@1000</th>\n",
              "      <th>Recall@10</th>\n",
              "      <th>Recall@100</th>\n",
              "      <th>Recall@1000</th>\n",
              "    </tr>\n",
              "  </thead>\n",
              "  <tbody>\n",
              "    <tr>\n",
              "      <th>multi-qa-distilbert-dot-v1</th>\n",
              "      <td>0.09098</td>\n",
              "      <td>0.10745</td>\n",
              "      <td>0.10991</td>\n",
              "      <td>0.15781</td>\n",
              "      <td>0.22602</td>\n",
              "      <td>0.27463</td>\n",
              "      <td>0.0804</td>\n",
              "      <td>0.01784</td>\n",
              "      <td>0.00296</td>\n",
              "      <td>0.16287</td>\n",
              "      <td>0.36245</td>\n",
              "      <td>0.60043</td>\n",
              "    </tr>\n",
              "  </tbody>\n",
              "</table>\n",
              "</div>"
            ],
            "text/plain": [
              "                             MAP@10  MAP@100  ...  Recall@100  Recall@1000\n",
              "multi-qa-distilbert-dot-v1  0.09098  0.10745  ...     0.36245      0.60043\n",
              "\n",
              "[1 rows x 12 columns]"
            ]
          },
          "metadata": {},
          "execution_count": 11
        }
      ]
    },
    {
      "cell_type": "code",
      "metadata": {
        "colab": {
          "base_uri": "https://localhost:8080/",
          "height": 80
        },
        "id": "sPFRpjHH39o9",
        "outputId": "12e9a1d6-20e2-471c-ca73-f87a12e3afc7"
      },
      "source": [
        "eval_metrics('multi-qa-distilbert-cos-v1', ndcg_d_mdc, _map_d_mdc, recall_d_mdc, precision_d_mdc)"
      ],
      "execution_count": null,
      "outputs": [
        {
          "output_type": "execute_result",
          "data": {
            "text/html": [
              "<div>\n",
              "<style scoped>\n",
              "    .dataframe tbody tr th:only-of-type {\n",
              "        vertical-align: middle;\n",
              "    }\n",
              "\n",
              "    .dataframe tbody tr th {\n",
              "        vertical-align: top;\n",
              "    }\n",
              "\n",
              "    .dataframe thead th {\n",
              "        text-align: right;\n",
              "    }\n",
              "</style>\n",
              "<table border=\"1\" class=\"dataframe\">\n",
              "  <thead>\n",
              "    <tr style=\"text-align: right;\">\n",
              "      <th></th>\n",
              "      <th>MAP@10</th>\n",
              "      <th>MAP@100</th>\n",
              "      <th>MAP@1000</th>\n",
              "      <th>NDCG@10</th>\n",
              "      <th>NDCG@100</th>\n",
              "      <th>NDCG@1000</th>\n",
              "      <th>P@10</th>\n",
              "      <th>P@100</th>\n",
              "      <th>P@1000</th>\n",
              "      <th>Recall@10</th>\n",
              "      <th>Recall@100</th>\n",
              "      <th>Recall@1000</th>\n",
              "    </tr>\n",
              "  </thead>\n",
              "  <tbody>\n",
              "    <tr>\n",
              "      <th>multi-qa-distilbert-cos-v1</th>\n",
              "      <td>0.09239</td>\n",
              "      <td>0.1091</td>\n",
              "      <td>0.11162</td>\n",
              "      <td>0.16004</td>\n",
              "      <td>0.2277</td>\n",
              "      <td>0.27644</td>\n",
              "      <td>0.0822</td>\n",
              "      <td>0.01796</td>\n",
              "      <td>0.00296</td>\n",
              "      <td>0.1669</td>\n",
              "      <td>0.36423</td>\n",
              "      <td>0.60232</td>\n",
              "    </tr>\n",
              "  </tbody>\n",
              "</table>\n",
              "</div>"
            ],
            "text/plain": [
              "                             MAP@10  MAP@100  ...  Recall@100  Recall@1000\n",
              "multi-qa-distilbert-cos-v1  0.09239   0.1091  ...     0.36423      0.60232\n",
              "\n",
              "[1 rows x 12 columns]"
            ]
          },
          "metadata": {},
          "execution_count": 12
        }
      ]
    },
    {
      "cell_type": "code",
      "metadata": {
        "colab": {
          "base_uri": "https://localhost:8080/",
          "height": 97
        },
        "id": "HaHT1K404dM6",
        "outputId": "7744b69f-6706-40bf-fa27-8ca99a2c15ed"
      },
      "source": [
        "eval_metrics('msmarco-distilbert-base-tas-b', ndcg_d_sdc, _map_d_sdc, recall_d_sdc, precision_d_sdc)"
      ],
      "execution_count": null,
      "outputs": [
        {
          "output_type": "execute_result",
          "data": {
            "text/html": [
              "<div>\n",
              "<style scoped>\n",
              "    .dataframe tbody tr th:only-of-type {\n",
              "        vertical-align: middle;\n",
              "    }\n",
              "\n",
              "    .dataframe tbody tr th {\n",
              "        vertical-align: top;\n",
              "    }\n",
              "\n",
              "    .dataframe thead th {\n",
              "        text-align: right;\n",
              "    }\n",
              "</style>\n",
              "<table border=\"1\" class=\"dataframe\">\n",
              "  <thead>\n",
              "    <tr style=\"text-align: right;\">\n",
              "      <th></th>\n",
              "      <th>MAP@10</th>\n",
              "      <th>MAP@100</th>\n",
              "      <th>MAP@1000</th>\n",
              "      <th>NDCG@10</th>\n",
              "      <th>NDCG@100</th>\n",
              "      <th>NDCG@1000</th>\n",
              "      <th>P@10</th>\n",
              "      <th>P@100</th>\n",
              "      <th>P@1000</th>\n",
              "      <th>Recall@10</th>\n",
              "      <th>Recall@100</th>\n",
              "      <th>Recall@1000</th>\n",
              "    </tr>\n",
              "  </thead>\n",
              "  <tbody>\n",
              "    <tr>\n",
              "      <th>msmarco-distilbert-base-tas-b</th>\n",
              "      <td>0.08543</td>\n",
              "      <td>0.10013</td>\n",
              "      <td>0.10248</td>\n",
              "      <td>0.14859</td>\n",
              "      <td>0.21063</td>\n",
              "      <td>0.25835</td>\n",
              "      <td>0.0748</td>\n",
              "      <td>0.01646</td>\n",
              "      <td>0.0028</td>\n",
              "      <td>0.15185</td>\n",
              "      <td>0.33462</td>\n",
              "      <td>0.56763</td>\n",
              "    </tr>\n",
              "  </tbody>\n",
              "</table>\n",
              "</div>"
            ],
            "text/plain": [
              "                                MAP@10  MAP@100  ...  Recall@100  Recall@1000\n",
              "msmarco-distilbert-base-tas-b  0.08543  0.10013  ...     0.33462      0.56763\n",
              "\n",
              "[1 rows x 12 columns]"
            ]
          },
          "metadata": {},
          "execution_count": 14
        }
      ]
    },
    {
      "cell_type": "code",
      "metadata": {
        "colab": {
          "base_uri": "https://localhost:8080/",
          "height": 80
        },
        "id": "0SAMGAIY4dS4",
        "outputId": "4b572155-bdb5-473d-a99a-4b1be96d5a61"
      },
      "source": [
        "eval_metrics('msmarco-distilbert-dot-v5', ndcg_d_sdd, _map_d_sdd, recall_d_sdd, precision_d_sdd)"
      ],
      "execution_count": null,
      "outputs": [
        {
          "output_type": "execute_result",
          "data": {
            "text/html": [
              "<div>\n",
              "<style scoped>\n",
              "    .dataframe tbody tr th:only-of-type {\n",
              "        vertical-align: middle;\n",
              "    }\n",
              "\n",
              "    .dataframe tbody tr th {\n",
              "        vertical-align: top;\n",
              "    }\n",
              "\n",
              "    .dataframe thead th {\n",
              "        text-align: right;\n",
              "    }\n",
              "</style>\n",
              "<table border=\"1\" class=\"dataframe\">\n",
              "  <thead>\n",
              "    <tr style=\"text-align: right;\">\n",
              "      <th></th>\n",
              "      <th>MAP@10</th>\n",
              "      <th>MAP@100</th>\n",
              "      <th>MAP@1000</th>\n",
              "      <th>NDCG@10</th>\n",
              "      <th>NDCG@100</th>\n",
              "      <th>NDCG@1000</th>\n",
              "      <th>P@10</th>\n",
              "      <th>P@100</th>\n",
              "      <th>P@1000</th>\n",
              "      <th>Recall@10</th>\n",
              "      <th>Recall@100</th>\n",
              "      <th>Recall@1000</th>\n",
              "    </tr>\n",
              "  </thead>\n",
              "  <tbody>\n",
              "    <tr>\n",
              "      <th>msmarco-distilbert-dot-v5</th>\n",
              "      <td>0.08077</td>\n",
              "      <td>0.09356</td>\n",
              "      <td>0.09566</td>\n",
              "      <td>0.14048</td>\n",
              "      <td>0.19639</td>\n",
              "      <td>0.24117</td>\n",
              "      <td>0.071</td>\n",
              "      <td>0.01522</td>\n",
              "      <td>0.0026</td>\n",
              "      <td>0.14425</td>\n",
              "      <td>0.30865</td>\n",
              "      <td>0.5281</td>\n",
              "    </tr>\n",
              "  </tbody>\n",
              "</table>\n",
              "</div>"
            ],
            "text/plain": [
              "                            MAP@10  MAP@100  ...  Recall@100  Recall@1000\n",
              "msmarco-distilbert-dot-v5  0.08077  0.09356  ...     0.30865       0.5281\n",
              "\n",
              "[1 rows x 12 columns]"
            ]
          },
          "metadata": {},
          "execution_count": 15
        }
      ]
    },
    {
      "cell_type": "code",
      "metadata": {
        "id": "iYhnEdIgUhb9",
        "colab": {
          "base_uri": "https://localhost:8080/",
          "height": 97
        },
        "outputId": "81182325-7c4e-4ea2-c4af-5c3e30e5e4ba"
      },
      "source": [
        "eval_metrics('msmarco-bert-co-condensor', ndcg_d_scd, _map_d_scd, recall_d_scd, precision_d_scd)"
      ],
      "execution_count": null,
      "outputs": [
        {
          "output_type": "execute_result",
          "data": {
            "text/html": [
              "<div>\n",
              "<style scoped>\n",
              "    .dataframe tbody tr th:only-of-type {\n",
              "        vertical-align: middle;\n",
              "    }\n",
              "\n",
              "    .dataframe tbody tr th {\n",
              "        vertical-align: top;\n",
              "    }\n",
              "\n",
              "    .dataframe thead th {\n",
              "        text-align: right;\n",
              "    }\n",
              "</style>\n",
              "<table border=\"1\" class=\"dataframe\">\n",
              "  <thead>\n",
              "    <tr style=\"text-align: right;\">\n",
              "      <th></th>\n",
              "      <th>MAP@10</th>\n",
              "      <th>MAP@100</th>\n",
              "      <th>MAP@1000</th>\n",
              "      <th>NDCG@10</th>\n",
              "      <th>NDCG@100</th>\n",
              "      <th>NDCG@1000</th>\n",
              "      <th>P@10</th>\n",
              "      <th>P@100</th>\n",
              "      <th>P@1000</th>\n",
              "      <th>Recall@10</th>\n",
              "      <th>Recall@100</th>\n",
              "      <th>Recall@1000</th>\n",
              "    </tr>\n",
              "  </thead>\n",
              "  <tbody>\n",
              "    <tr>\n",
              "      <th>msmarco-bert-co-condensor</th>\n",
              "      <td>0.08013</td>\n",
              "      <td>0.09277</td>\n",
              "      <td>0.09489</td>\n",
              "      <td>0.13946</td>\n",
              "      <td>0.19551</td>\n",
              "      <td>0.24079</td>\n",
              "      <td>0.0718</td>\n",
              "      <td>0.01535</td>\n",
              "      <td>0.00263</td>\n",
              "      <td>0.14543</td>\n",
              "      <td>0.31172</td>\n",
              "      <td>0.53407</td>\n",
              "    </tr>\n",
              "  </tbody>\n",
              "</table>\n",
              "</div>"
            ],
            "text/plain": [
              "                            MAP@10  MAP@100  ...  Recall@100  Recall@1000\n",
              "msmarco-bert-co-condensor  0.08013  0.09277  ...     0.31172      0.53407\n",
              "\n",
              "[1 rows x 12 columns]"
            ]
          },
          "metadata": {},
          "execution_count": 16
        }
      ]
    },
    {
      "cell_type": "code",
      "metadata": {
        "id": "ddSLzzhXdvKB",
        "colab": {
          "base_uri": "https://localhost:8080/",
          "height": 97
        },
        "outputId": "767b6e90-90c4-41ea-81b6-0bedb19fe103"
      },
      "source": [
        "eval_metrics('msmarco-roberta-base-ance-firstp', ndcg_d_sad, _map_d_sad, recall_d_sad, precision_d_sad)"
      ],
      "execution_count": null,
      "outputs": [
        {
          "output_type": "execute_result",
          "data": {
            "text/html": [
              "<div>\n",
              "<style scoped>\n",
              "    .dataframe tbody tr th:only-of-type {\n",
              "        vertical-align: middle;\n",
              "    }\n",
              "\n",
              "    .dataframe tbody tr th {\n",
              "        vertical-align: top;\n",
              "    }\n",
              "\n",
              "    .dataframe thead th {\n",
              "        text-align: right;\n",
              "    }\n",
              "</style>\n",
              "<table border=\"1\" class=\"dataframe\">\n",
              "  <thead>\n",
              "    <tr style=\"text-align: right;\">\n",
              "      <th></th>\n",
              "      <th>MAP@10</th>\n",
              "      <th>MAP@100</th>\n",
              "      <th>MAP@1000</th>\n",
              "      <th>NDCG@10</th>\n",
              "      <th>NDCG@100</th>\n",
              "      <th>NDCG@1000</th>\n",
              "      <th>P@10</th>\n",
              "      <th>P@100</th>\n",
              "      <th>P@1000</th>\n",
              "      <th>Recall@10</th>\n",
              "      <th>Recall@100</th>\n",
              "      <th>Recall@1000</th>\n",
              "    </tr>\n",
              "  </thead>\n",
              "  <tbody>\n",
              "    <tr>\n",
              "      <th>msmarco-roberta-base-ance-firstp</th>\n",
              "      <td>0.06951</td>\n",
              "      <td>0.08045</td>\n",
              "      <td>0.08233</td>\n",
              "      <td>0.12187</td>\n",
              "      <td>0.17146</td>\n",
              "      <td>0.21404</td>\n",
              "      <td>0.0609</td>\n",
              "      <td>0.01324</td>\n",
              "      <td>0.00236</td>\n",
              "      <td>0.1236</td>\n",
              "      <td>0.26928</td>\n",
              "      <td>0.479</td>\n",
              "    </tr>\n",
              "  </tbody>\n",
              "</table>\n",
              "</div>"
            ],
            "text/plain": [
              "                                   MAP@10  MAP@100  ...  Recall@100  Recall@1000\n",
              "msmarco-roberta-base-ance-firstp  0.06951  0.08045  ...     0.26928        0.479\n",
              "\n",
              "[1 rows x 12 columns]"
            ]
          },
          "metadata": {},
          "execution_count": 17
        }
      ]
    },
    {
      "cell_type": "markdown",
      "metadata": {
        "id": "a15i-54bdU5K"
      },
      "source": [
        "end of fun."
      ]
    }
  ]
}